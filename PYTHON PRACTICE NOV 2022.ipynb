{
 "cells": [
  {
   "cell_type": "code",
   "execution_count": 3,
   "id": "1352cd2f",
   "metadata": {},
   "outputs": [
    {
     "name": "stdout",
     "output_type": "stream",
     "text": [
      "damilola\n"
     ]
    }
   ],
   "source": [
    "name = (\"damilola\")\n",
    "print(name)"
   ]
  },
  {
   "cell_type": "code",
   "execution_count": 4,
   "id": "af53b446",
   "metadata": {},
   "outputs": [
    {
     "name": "stdout",
     "output_type": "stream",
     "text": [
      "**********\n"
     ]
    }
   ],
   "source": [
    "print(\"*\" * 10)"
   ]
  },
  {
   "cell_type": "code",
   "execution_count": 1,
   "id": "4885651d",
   "metadata": {},
   "outputs": [
    {
     "data": {
      "text/plain": [
       "2"
      ]
     },
     "execution_count": 1,
     "metadata": {},
     "output_type": "execute_result"
    }
   ],
   "source": [
    "1+1"
   ]
  },
  {
   "cell_type": "code",
   "execution_count": 2,
   "id": "09447daa",
   "metadata": {},
   "outputs": [
    {
     "name": "stdout",
     "output_type": "stream",
     "text": [
      "6\n"
     ]
    }
   ],
   "source": [
    "print(2*3)"
   ]
  },
  {
   "cell_type": "code",
   "execution_count": 3,
   "id": "d3cb5426",
   "metadata": {},
   "outputs": [
    {
     "name": "stdout",
     "output_type": "stream",
     "text": [
      "0\n",
      "1\n",
      "2\n",
      "3\n",
      "4\n",
      "5\n"
     ]
    }
   ],
   "source": [
    "for i in range(6):\n",
    "    print(i)"
   ]
  },
  {
   "cell_type": "code",
   "execution_count": 4,
   "id": "38aa71c9",
   "metadata": {},
   "outputs": [
    {
     "data": {
      "text/plain": [
       "101"
      ]
     },
     "execution_count": 4,
     "metadata": {},
     "output_type": "execute_result"
    }
   ],
   "source": [
    "ages =[20,30,23,28]\n",
    "sum(ages)"
   ]
  },
  {
   "cell_type": "code",
   "execution_count": 6,
   "id": "ee2cbdd3",
   "metadata": {},
   "outputs": [
    {
     "name": "stdout",
     "output_type": "stream",
     "text": [
      "101\n"
     ]
    }
   ],
   "source": [
    "print(sum(ages))"
   ]
  },
  {
   "cell_type": "code",
   "execution_count": 7,
   "id": "c0e6be47",
   "metadata": {},
   "outputs": [
    {
     "name": "stdout",
     "output_type": "stream",
     "text": [
      "how are you?\n"
     ]
    }
   ],
   "source": [
    "print(\"how are you?\")"
   ]
  },
  {
   "cell_type": "code",
   "execution_count": 8,
   "id": "13062f1d",
   "metadata": {},
   "outputs": [
    {
     "name": "stdout",
     "output_type": "stream",
     "text": [
      "8\n"
     ]
    }
   ],
   "source": [
    "print(40-32)"
   ]
  },
  {
   "cell_type": "code",
   "execution_count": 9,
   "id": "85b8b71c",
   "metadata": {},
   "outputs": [
    {
     "name": "stdout",
     "output_type": "stream",
     "text": [
      "welcome\n"
     ]
    }
   ],
   "source": [
    "message =\"welcome\"\n",
    "print(message)"
   ]
  },
  {
   "cell_type": "code",
   "execution_count": 10,
   "id": "b6206ded",
   "metadata": {},
   "outputs": [],
   "source": [
    "age = 45"
   ]
  },
  {
   "cell_type": "code",
   "execution_count": 14,
   "id": "fca660c0",
   "metadata": {},
   "outputs": [
    {
     "name": "stdout",
     "output_type": "stream",
     "text": [
      "135\n"
     ]
    }
   ],
   "source": [
    "new_age=age*3\n",
    "print(new_age)"
   ]
  },
  {
   "cell_type": "markdown",
   "id": "b5c28cfa",
   "metadata": {},
   "source": [
    "### 1 Numbers"
   ]
  },
  {
   "cell_type": "code",
   "execution_count": 15,
   "id": "ae6cd111",
   "metadata": {},
   "outputs": [
    {
     "data": {
      "text/plain": [
       "25"
      ]
     },
     "execution_count": 15,
     "metadata": {},
     "output_type": "execute_result"
    }
   ],
   "source": [
    "5*5"
   ]
  },
  {
   "cell_type": "code",
   "execution_count": 16,
   "id": "0583c2c7",
   "metadata": {},
   "outputs": [
    {
     "data": {
      "text/plain": [
       "113"
      ]
     },
     "execution_count": 16,
     "metadata": {},
     "output_type": "execute_result"
    }
   ],
   "source": [
    "70+43"
   ]
  },
  {
   "cell_type": "code",
   "execution_count": 17,
   "id": "9e5af0be",
   "metadata": {},
   "outputs": [
    {
     "data": {
      "text/plain": [
       "-69"
      ]
     },
     "execution_count": 17,
     "metadata": {},
     "output_type": "execute_result"
    }
   ],
   "source": [
    "9-78"
   ]
  },
  {
   "cell_type": "code",
   "execution_count": 18,
   "id": "7807d15f",
   "metadata": {},
   "outputs": [
    {
     "data": {
      "text/plain": [
       "1.2000000000000002"
      ]
     },
     "execution_count": 18,
     "metadata": {},
     "output_type": "execute_result"
    }
   ],
   "source": [
    "5.2 - 4"
   ]
  },
  {
   "cell_type": "code",
   "execution_count": 19,
   "id": "0012e218",
   "metadata": {},
   "outputs": [
    {
     "data": {
      "text/plain": [
       "3.0"
      ]
     },
     "execution_count": 19,
     "metadata": {},
     "output_type": "execute_result"
    }
   ],
   "source": [
    "9/3"
   ]
  },
  {
   "cell_type": "code",
   "execution_count": 20,
   "id": "986e0e5d",
   "metadata": {},
   "outputs": [
    {
     "data": {
      "text/plain": [
       "-13"
      ]
     },
     "execution_count": 20,
     "metadata": {},
     "output_type": "execute_result"
    }
   ],
   "source": [
    "5-6*3"
   ]
  },
  {
   "cell_type": "markdown",
   "id": "ac0c7540",
   "metadata": {},
   "source": [
    "### MODULO %"
   ]
  },
  {
   "cell_type": "markdown",
   "id": "e83283d1",
   "metadata": {},
   "source": [
    "modulo is defined as the remainder "
   ]
  },
  {
   "cell_type": "code",
   "execution_count": 21,
   "id": "5f4ef8a8",
   "metadata": {},
   "outputs": [
    {
     "data": {
      "text/plain": [
       "2"
      ]
     },
     "execution_count": 21,
     "metadata": {},
     "output_type": "execute_result"
    }
   ],
   "source": [
    "5%3"
   ]
  },
  {
   "cell_type": "code",
   "execution_count": 22,
   "id": "ec7a0da2",
   "metadata": {},
   "outputs": [
    {
     "data": {
      "text/plain": [
       "3"
      ]
     },
     "execution_count": 22,
     "metadata": {},
     "output_type": "execute_result"
    }
   ],
   "source": [
    "7%4"
   ]
  },
  {
   "cell_type": "code",
   "execution_count": 23,
   "id": "7e8f75ed",
   "metadata": {},
   "outputs": [
    {
     "data": {
      "text/plain": [
       "0"
      ]
     },
     "execution_count": 23,
     "metadata": {},
     "output_type": "execute_result"
    }
   ],
   "source": [
    "10%5"
   ]
  },
  {
   "cell_type": "code",
   "execution_count": 24,
   "id": "a4b70249",
   "metadata": {},
   "outputs": [
    {
     "data": {
      "text/plain": [
       "3"
      ]
     },
     "execution_count": 24,
     "metadata": {},
     "output_type": "execute_result"
    }
   ],
   "source": [
    "13%5"
   ]
  },
  {
   "cell_type": "code",
   "execution_count": 25,
   "id": "1b2efedd",
   "metadata": {},
   "outputs": [
    {
     "data": {
      "text/plain": [
       "0"
      ]
     },
     "execution_count": 25,
     "metadata": {},
     "output_type": "execute_result"
    }
   ],
   "source": [
    "60%30"
   ]
  },
  {
   "cell_type": "code",
   "execution_count": null,
   "id": "bc36962c",
   "metadata": {},
   "outputs": [],
   "source": []
  }
 ],
 "metadata": {
  "kernelspec": {
   "display_name": "Python 3 (ipykernel)",
   "language": "python",
   "name": "python3"
  },
  "language_info": {
   "codemirror_mode": {
    "name": "ipython",
    "version": 3
   },
   "file_extension": ".py",
   "mimetype": "text/x-python",
   "name": "python",
   "nbconvert_exporter": "python",
   "pygments_lexer": "ipython3",
   "version": "3.9.12"
  }
 },
 "nbformat": 4,
 "nbformat_minor": 5
}
