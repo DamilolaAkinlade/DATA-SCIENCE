{
 "cells": [
  {
   "cell_type": "markdown",
   "id": "9be70239",
   "metadata": {},
   "source": [
    "# Please find herein the attached dataset for your assignment.\n",
    "\n",
    "\n",
    "Details: \n",
    "\n",
    "IT Salary Survey for EU region(2018-2020)\n",
    "\n",
    "Task:  Perform EDA & Data Visualization on the dataset.\n",
    "\n",
    "--a-- State the question you are asking your data clearly for each EDA/Visualization, then followed by writing the necessary code to get the answer from your data.\n",
    "\n",
    "Example (From our last class)\n",
    " How many male passengers survived the Titanic crash? \n",
    "What's the mean age of passengers who boarded the ship?\n",
    "What is the age distribution of the passengers, are they normally distributed? etc.\n",
    "\n",
    "\n",
    "--b-- Ensure your observation/inference is properly captured for each visualization.\n",
    "\n",
    "--c-- Communicating your findings and explaining your work clearly to others is a great skill every data scientist should possess; hence you'll be graded on the quality of your data-story telling skill as well.\n",
    "\n",
    "\n",
    "Dataset:  https://drive.google.com/file/d/1nJLDFSdIbkNxcqY7NBtJZfcgLW1wpsUZ/view?usp=sharing\n",
    "\n",
    "\n",
    "Note: There's no limit to the number of questions you could ask your data. Your only inhibition here is your imagination.\n",
    "\n",
    "More importantly,  be creative, have fun with the task, and wow us on Tuesday!"
   ]
  },
  {
   "cell_type": "markdown",
   "id": "d370e16a",
   "metadata": {},
   "source": [
    "### A salary survey for Eu region (2018-2020) EDA and Data Visualization"
   ]
  },
  {
   "cell_type": "code",
   "execution_count": 1,
   "id": "222a98e4",
   "metadata": {},
   "outputs": [],
   "source": [
    "import seaborn as sns\n",
    "import numpy as np\n",
    "import pandas as pd\n",
    "import matplotlib.pyplot as plt\n"
   ]
  },
  {
   "cell_type": "code",
   "execution_count": 2,
   "id": "ba6ec670",
   "metadata": {},
   "outputs": [],
   "source": [
    "data_infos=pd.read_csv('SA_SUR')"
   ]
  },
  {
   "cell_type": "code",
   "execution_count": 3,
   "id": "ae2b84bc",
   "metadata": {},
   "outputs": [
    {
     "data": {
      "text/html": [
       "<div>\n",
       "<style scoped>\n",
       "    .dataframe tbody tr th:only-of-type {\n",
       "        vertical-align: middle;\n",
       "    }\n",
       "\n",
       "    .dataframe tbody tr th {\n",
       "        vertical-align: top;\n",
       "    }\n",
       "\n",
       "    .dataframe thead th {\n",
       "        text-align: right;\n",
       "    }\n",
       "</style>\n",
       "<table border=\"1\" class=\"dataframe\">\n",
       "  <thead>\n",
       "    <tr style=\"text-align: right;\">\n",
       "      <th></th>\n",
       "      <th>Timestamp</th>\n",
       "      <th>Age</th>\n",
       "      <th>Gender</th>\n",
       "      <th>City</th>\n",
       "      <th>Position</th>\n",
       "      <th>Total years of experience</th>\n",
       "      <th>Years of experience in Germany</th>\n",
       "      <th>Seniority level</th>\n",
       "      <th>Your main technology / programming language</th>\n",
       "      <th>Other technologies/programming languages you use often</th>\n",
       "      <th>...</th>\n",
       "      <th>Annual bonus+stocks one year ago. Only answer if staying in same country</th>\n",
       "      <th>Number of vacation days</th>\n",
       "      <th>Employment status</th>\n",
       "      <th>Сontract duration</th>\n",
       "      <th>Main language at work</th>\n",
       "      <th>Company size</th>\n",
       "      <th>Company type</th>\n",
       "      <th>Have you lost your job due to the coronavirus outbreak?</th>\n",
       "      <th>Have you been forced to have a shorter working week (Kurzarbeit)? If yes, how many hours per week</th>\n",
       "      <th>Have you received additional monetary support from your employer due to Work From Home? If yes, how much in 2020 in EUR</th>\n",
       "    </tr>\n",
       "  </thead>\n",
       "  <tbody>\n",
       "    <tr>\n",
       "      <th>0</th>\n",
       "      <td>24/11/2020 11:14:15</td>\n",
       "      <td>26.0</td>\n",
       "      <td>Male</td>\n",
       "      <td>Munich</td>\n",
       "      <td>Software Engineer</td>\n",
       "      <td>5</td>\n",
       "      <td>3</td>\n",
       "      <td>Senior</td>\n",
       "      <td>TypeScript</td>\n",
       "      <td>Kotlin, Javascript / Typescript</td>\n",
       "      <td>...</td>\n",
       "      <td>10000</td>\n",
       "      <td>30</td>\n",
       "      <td>Full-time employee</td>\n",
       "      <td>Unlimited contract</td>\n",
       "      <td>English</td>\n",
       "      <td>51-100</td>\n",
       "      <td>Product</td>\n",
       "      <td>No</td>\n",
       "      <td>NaN</td>\n",
       "      <td>NaN</td>\n",
       "    </tr>\n",
       "    <tr>\n",
       "      <th>1</th>\n",
       "      <td>24/11/2020 11:14:16</td>\n",
       "      <td>26.0</td>\n",
       "      <td>Male</td>\n",
       "      <td>Berlin</td>\n",
       "      <td>Backend Developer</td>\n",
       "      <td>7</td>\n",
       "      <td>4</td>\n",
       "      <td>Senior</td>\n",
       "      <td>Ruby</td>\n",
       "      <td>NaN</td>\n",
       "      <td>...</td>\n",
       "      <td>5000</td>\n",
       "      <td>28</td>\n",
       "      <td>Full-time employee</td>\n",
       "      <td>Unlimited contract</td>\n",
       "      <td>English</td>\n",
       "      <td>101-1000</td>\n",
       "      <td>Product</td>\n",
       "      <td>No</td>\n",
       "      <td>NaN</td>\n",
       "      <td>NaN</td>\n",
       "    </tr>\n",
       "    <tr>\n",
       "      <th>2</th>\n",
       "      <td>24/11/2020 11:14:21</td>\n",
       "      <td>29.0</td>\n",
       "      <td>Male</td>\n",
       "      <td>Berlin</td>\n",
       "      <td>Software Engineer</td>\n",
       "      <td>12</td>\n",
       "      <td>6</td>\n",
       "      <td>Lead</td>\n",
       "      <td>Javascript / Typescript</td>\n",
       "      <td>Javascript / Typescript, Docker</td>\n",
       "      <td>...</td>\n",
       "      <td>100000</td>\n",
       "      <td>30</td>\n",
       "      <td>Self-employed (freelancer)</td>\n",
       "      <td>Temporary contract</td>\n",
       "      <td>English</td>\n",
       "      <td>101-1000</td>\n",
       "      <td>Product</td>\n",
       "      <td>Yes</td>\n",
       "      <td>NaN</td>\n",
       "      <td>NaN</td>\n",
       "    </tr>\n",
       "    <tr>\n",
       "      <th>3</th>\n",
       "      <td>24/11/2020 11:15:24</td>\n",
       "      <td>28.0</td>\n",
       "      <td>Male</td>\n",
       "      <td>Berlin</td>\n",
       "      <td>Frontend Developer</td>\n",
       "      <td>4</td>\n",
       "      <td>1</td>\n",
       "      <td>Junior</td>\n",
       "      <td>Javascript</td>\n",
       "      <td>NaN</td>\n",
       "      <td>...</td>\n",
       "      <td>NaN</td>\n",
       "      <td>24</td>\n",
       "      <td>Full-time employee</td>\n",
       "      <td>Unlimited contract</td>\n",
       "      <td>English</td>\n",
       "      <td>51-100</td>\n",
       "      <td>Startup</td>\n",
       "      <td>No</td>\n",
       "      <td>NaN</td>\n",
       "      <td>NaN</td>\n",
       "    </tr>\n",
       "    <tr>\n",
       "      <th>4</th>\n",
       "      <td>24/11/2020 11:15:46</td>\n",
       "      <td>37.0</td>\n",
       "      <td>Male</td>\n",
       "      <td>Berlin</td>\n",
       "      <td>Backend Developer</td>\n",
       "      <td>17</td>\n",
       "      <td>6</td>\n",
       "      <td>Senior</td>\n",
       "      <td>C# .NET</td>\n",
       "      <td>.NET, SQL, AWS, Docker</td>\n",
       "      <td>...</td>\n",
       "      <td>NaN</td>\n",
       "      <td>29</td>\n",
       "      <td>Full-time employee</td>\n",
       "      <td>Unlimited contract</td>\n",
       "      <td>English</td>\n",
       "      <td>101-1000</td>\n",
       "      <td>Product</td>\n",
       "      <td>No</td>\n",
       "      <td>NaN</td>\n",
       "      <td>NaN</td>\n",
       "    </tr>\n",
       "    <tr>\n",
       "      <th>5</th>\n",
       "      <td>24/11/2020 11:15:53</td>\n",
       "      <td>32.0</td>\n",
       "      <td>Male</td>\n",
       "      <td>Berlin</td>\n",
       "      <td>DevOps</td>\n",
       "      <td>5</td>\n",
       "      <td>1</td>\n",
       "      <td>Senior</td>\n",
       "      <td>AWS, GCP, Python,K8s</td>\n",
       "      <td>Python, AWS, Google Cloud, Kubernetes, Docker</td>\n",
       "      <td>...</td>\n",
       "      <td>5000</td>\n",
       "      <td>30</td>\n",
       "      <td>Full-time employee</td>\n",
       "      <td>Unlimited contract</td>\n",
       "      <td>English</td>\n",
       "      <td>11-50</td>\n",
       "      <td>Startup</td>\n",
       "      <td>No</td>\n",
       "      <td>NaN</td>\n",
       "      <td>NaN</td>\n",
       "    </tr>\n",
       "  </tbody>\n",
       "</table>\n",
       "<p>6 rows × 23 columns</p>\n",
       "</div>"
      ],
      "text/plain": [
       "             Timestamp   Age Gender    City           Position   \\\n",
       "0  24/11/2020 11:14:15  26.0   Male  Munich   Software Engineer   \n",
       "1  24/11/2020 11:14:16  26.0   Male  Berlin   Backend Developer   \n",
       "2  24/11/2020 11:14:21  29.0   Male  Berlin   Software Engineer   \n",
       "3  24/11/2020 11:15:24  28.0   Male  Berlin  Frontend Developer   \n",
       "4  24/11/2020 11:15:46  37.0   Male  Berlin   Backend Developer   \n",
       "5  24/11/2020 11:15:53  32.0   Male  Berlin              DevOps   \n",
       "\n",
       "  Total years of experience Years of experience in Germany Seniority level  \\\n",
       "0                         5                              3          Senior   \n",
       "1                         7                              4          Senior   \n",
       "2                        12                              6            Lead   \n",
       "3                         4                              1          Junior   \n",
       "4                        17                              6          Senior   \n",
       "5                         5                              1          Senior   \n",
       "\n",
       "  Your main technology / programming language  \\\n",
       "0                                  TypeScript   \n",
       "1                                        Ruby   \n",
       "2                     Javascript / Typescript   \n",
       "3                                  Javascript   \n",
       "4                                     C# .NET   \n",
       "5                        AWS, GCP, Python,K8s   \n",
       "\n",
       "  Other technologies/programming languages you use often  ...  \\\n",
       "0                    Kotlin, Javascript / Typescript      ...   \n",
       "1                                                NaN      ...   \n",
       "2                    Javascript / Typescript, Docker      ...   \n",
       "3                                                NaN      ...   \n",
       "4                             .NET, SQL, AWS, Docker      ...   \n",
       "5      Python, AWS, Google Cloud, Kubernetes, Docker      ...   \n",
       "\n",
       "   Annual bonus+stocks one year ago. Only answer if staying in same country  \\\n",
       "0                                              10000                          \n",
       "1                                               5000                          \n",
       "2                                             100000                          \n",
       "3                                                NaN                          \n",
       "4                                                NaN                          \n",
       "5                                               5000                          \n",
       "\n",
       "  Number of vacation days           Employment status   Сontract duration  \\\n",
       "0                      30          Full-time employee  Unlimited contract   \n",
       "1                      28          Full-time employee  Unlimited contract   \n",
       "2                      30  Self-employed (freelancer)  Temporary contract   \n",
       "3                      24          Full-time employee  Unlimited contract   \n",
       "4                      29          Full-time employee  Unlimited contract   \n",
       "5                      30          Full-time employee  Unlimited contract   \n",
       "\n",
       "  Main language at work Company size Company type  \\\n",
       "0               English       51-100      Product   \n",
       "1               English     101-1000      Product   \n",
       "2               English     101-1000      Product   \n",
       "3               English       51-100      Startup   \n",
       "4               English     101-1000      Product   \n",
       "5               English        11-50      Startup   \n",
       "\n",
       "  Have you lost your job due to the coronavirus outbreak?  \\\n",
       "0                                                 No        \n",
       "1                                                 No        \n",
       "2                                                Yes        \n",
       "3                                                 No        \n",
       "4                                                 No        \n",
       "5                                                 No        \n",
       "\n",
       "  Have you been forced to have a shorter working week (Kurzarbeit)? If yes, how many hours per week  \\\n",
       "0                                                NaN                                                  \n",
       "1                                                NaN                                                  \n",
       "2                                                NaN                                                  \n",
       "3                                                NaN                                                  \n",
       "4                                                NaN                                                  \n",
       "5                                                NaN                                                  \n",
       "\n",
       "  Have you received additional monetary support from your employer due to Work From Home? If yes, how much in 2020 in EUR  \n",
       "0                                                NaN                                                                       \n",
       "1                                                NaN                                                                       \n",
       "2                                                NaN                                                                       \n",
       "3                                                NaN                                                                       \n",
       "4                                                NaN                                                                       \n",
       "5                                                NaN                                                                       \n",
       "\n",
       "[6 rows x 23 columns]"
      ]
     },
     "execution_count": 3,
     "metadata": {},
     "output_type": "execute_result"
    }
   ],
   "source": [
    "data_infos.head(6)"
   ]
  },
  {
   "cell_type": "code",
   "execution_count": 4,
   "id": "080721fa",
   "metadata": {},
   "outputs": [
    {
     "data": {
      "text/html": [
       "<div>\n",
       "<style scoped>\n",
       "    .dataframe tbody tr th:only-of-type {\n",
       "        vertical-align: middle;\n",
       "    }\n",
       "\n",
       "    .dataframe tbody tr th {\n",
       "        vertical-align: top;\n",
       "    }\n",
       "\n",
       "    .dataframe thead th {\n",
       "        text-align: right;\n",
       "    }\n",
       "</style>\n",
       "<table border=\"1\" class=\"dataframe\">\n",
       "  <thead>\n",
       "    <tr style=\"text-align: right;\">\n",
       "      <th></th>\n",
       "      <th>count</th>\n",
       "      <th>mean</th>\n",
       "      <th>std</th>\n",
       "      <th>min</th>\n",
       "      <th>25%</th>\n",
       "      <th>50%</th>\n",
       "      <th>75%</th>\n",
       "      <th>max</th>\n",
       "    </tr>\n",
       "  </thead>\n",
       "  <tbody>\n",
       "    <tr>\n",
       "      <th>Age</th>\n",
       "      <td>1226.0</td>\n",
       "      <td>3.250979e+01</td>\n",
       "      <td>5.663804e+00</td>\n",
       "      <td>20.0</td>\n",
       "      <td>29.0</td>\n",
       "      <td>32.0</td>\n",
       "      <td>35.0</td>\n",
       "      <td>6.900000e+01</td>\n",
       "    </tr>\n",
       "    <tr>\n",
       "      <th>Yearly brutto salary (without bonus and stocks) in EUR</th>\n",
       "      <td>1253.0</td>\n",
       "      <td>8.027904e+07</td>\n",
       "      <td>2.825061e+09</td>\n",
       "      <td>10001.0</td>\n",
       "      <td>58800.0</td>\n",
       "      <td>70000.0</td>\n",
       "      <td>80000.0</td>\n",
       "      <td>1.000000e+11</td>\n",
       "    </tr>\n",
       "    <tr>\n",
       "      <th>Annual brutto salary (without bonus and stocks) one year ago. Only answer if staying in the same country</th>\n",
       "      <td>885.0</td>\n",
       "      <td>6.322459e+05</td>\n",
       "      <td>1.680508e+07</td>\n",
       "      <td>11000.0</td>\n",
       "      <td>55000.0</td>\n",
       "      <td>65000.0</td>\n",
       "      <td>75000.0</td>\n",
       "      <td>5.000000e+08</td>\n",
       "    </tr>\n",
       "    <tr>\n",
       "      <th>Have you been forced to have a shorter working week (Kurzarbeit)? If yes, how many hours per week</th>\n",
       "      <td>373.0</td>\n",
       "      <td>1.296783e+01</td>\n",
       "      <td>1.527517e+01</td>\n",
       "      <td>0.0</td>\n",
       "      <td>0.0</td>\n",
       "      <td>0.0</td>\n",
       "      <td>30.0</td>\n",
       "      <td>4.000000e+01</td>\n",
       "    </tr>\n",
       "  </tbody>\n",
       "</table>\n",
       "</div>"
      ],
      "text/plain": [
       "                                                     count          mean  \\\n",
       "Age                                                 1226.0  3.250979e+01   \n",
       "Yearly brutto salary (without bonus and stocks)...  1253.0  8.027904e+07   \n",
       "Annual brutto salary (without bonus and stocks)...   885.0  6.322459e+05   \n",
       "Have you been forced to have a shorter working ...   373.0  1.296783e+01   \n",
       "\n",
       "                                                             std      min  \\\n",
       "Age                                                 5.663804e+00     20.0   \n",
       "Yearly brutto salary (without bonus and stocks)...  2.825061e+09  10001.0   \n",
       "Annual brutto salary (without bonus and stocks)...  1.680508e+07  11000.0   \n",
       "Have you been forced to have a shorter working ...  1.527517e+01      0.0   \n",
       "\n",
       "                                                        25%      50%      75%  \\\n",
       "Age                                                    29.0     32.0     35.0   \n",
       "Yearly brutto salary (without bonus and stocks)...  58800.0  70000.0  80000.0   \n",
       "Annual brutto salary (without bonus and stocks)...  55000.0  65000.0  75000.0   \n",
       "Have you been forced to have a shorter working ...      0.0      0.0     30.0   \n",
       "\n",
       "                                                             max  \n",
       "Age                                                 6.900000e+01  \n",
       "Yearly brutto salary (without bonus and stocks)...  1.000000e+11  \n",
       "Annual brutto salary (without bonus and stocks)...  5.000000e+08  \n",
       "Have you been forced to have a shorter working ...  4.000000e+01  "
      ]
     },
     "execution_count": 4,
     "metadata": {},
     "output_type": "execute_result"
    }
   ],
   "source": [
    "data_infos.describe().transpose()"
   ]
  },
  {
   "cell_type": "code",
   "execution_count": 5,
   "id": "3da733bf",
   "metadata": {},
   "outputs": [
    {
     "data": {
      "text/plain": [
       "(1253, 23)"
      ]
     },
     "execution_count": 5,
     "metadata": {},
     "output_type": "execute_result"
    }
   ],
   "source": [
    "# Dimension of the Data\n",
    "data_infos.shape "
   ]
  },
  {
   "cell_type": "code",
   "execution_count": 6,
   "id": "9a2ba292",
   "metadata": {},
   "outputs": [
    {
     "data": {
      "text/plain": [
       "count    1226.000000\n",
       "mean       32.509788\n",
       "std         5.663804\n",
       "min        20.000000\n",
       "25%        29.000000\n",
       "50%        32.000000\n",
       "75%        35.000000\n",
       "max        69.000000\n",
       "Name: Age, dtype: float64"
      ]
     },
     "execution_count": 6,
     "metadata": {},
     "output_type": "execute_result"
    }
   ],
   "source": [
    "data_infos['Age'].describe()"
   ]
  },
  {
   "cell_type": "markdown",
   "id": "b8d17086",
   "metadata": {},
   "source": [
    "### 1. The average age of participants"
   ]
  },
  {
   "cell_type": "code",
   "execution_count": 7,
   "id": "fdcc3b28",
   "metadata": {},
   "outputs": [
    {
     "data": {
      "image/png": "[encoded data removed]",
      "text/plain": [
       "<Figure size 720x576 with 1 Axes>"
      ]
     },
     "metadata": {
      "needs_background": "light"
     },
     "output_type": "display_data"
    }
   ],
   "source": [
    "plt.figure(figsize=(10,8))\n",
    "ax = sns.countplot(data=data_infos,x='Age',hue ='Gender')\n",
    "plt.xticks(fontsize=10,rotation=90)\n",
    "plt.xlabel(\"Age of survey participants\",fontsize=10)\n",
    "plt.yticks(fontsize=10)\n",
    "plt.ylabel(\"mean\",fontsize=10)\n",
    "plt.show()"
   ]
  },
  {
   "cell_type": "markdown",
   "id": "45a477d0",
   "metadata": {},
   "source": [
    "#### from my observation the average age of participants increased drastically in the male gender in relation to their ages"
   ]
  },
  {
   "cell_type": "markdown",
   "id": "de492927",
   "metadata": {},
   "source": [
    "### 2).10 top techskills in EUR"
   ]
  },
  {
   "cell_type": "code",
   "execution_count": 8,
   "id": "75174400",
   "metadata": {},
   "outputs": [
    {
     "data": {
      "image/png": "[encoded data removed]",
      "text/plain": [
       "<Figure size 720x576 with 1 Axes>"
      ]
     },
     "metadata": {
      "needs_background": "light"
     },
     "output_type": "display_data"
    }
   ],
   "source": [
    "plt.figure(figsize=(10,8))\n",
    "sns.scatterplot(data= data_infos, x='Your main technology / programming language', y='Age', hue='Gender')\n",
    "plt.xticks(fontsize=10)\n",
    "\n",
    "plt.show()\n"
   ]
  },
  {
   "cell_type": "markdown",
   "id": "8b94675d",
   "metadata": {},
   "source": [
    "### 3)top 10 programming languages and technologies:\n",
    "\n"
   ]
  },
  {
   "cell_type": "code",
   "execution_count": 9,
   "id": "2a66e44b",
   "metadata": {},
   "outputs": [
    {
     "ename": "KeyError",
     "evalue": "'Main technology'",
     "output_type": "error",
     "traceback": [
      "\u001b[0;31m---------------------------------------------------------------------------\u001b[0m",
      "\u001b[0;31mKeyError\u001b[0m                                  Traceback (most recent call last)",
      "File \u001b[0;32m/Applications/anaconda3/lib/python3.9/site-packages/pandas/core/indexes/base.py:3621\u001b[0m, in \u001b[0;36mIndex.get_loc\u001b[0;34m(self, key, method, tolerance)\u001b[0m\n\u001b[1;32m   3620\u001b[0m \u001b[38;5;28;01mtry\u001b[39;00m:\n\u001b[0;32m-> 3621\u001b[0m     \u001b[38;5;28;01mreturn\u001b[39;00m \u001b[38;5;28;43mself\u001b[39;49m\u001b[38;5;241;43m.\u001b[39;49m\u001b[43m_engine\u001b[49m\u001b[38;5;241;43m.\u001b[39;49m\u001b[43mget_loc\u001b[49m\u001b[43m(\u001b[49m\u001b[43mcasted_key\u001b[49m\u001b[43m)\u001b[49m\n\u001b[1;32m   3622\u001b[0m \u001b[38;5;28;01mexcept\u001b[39;00m \u001b[38;5;167;01mKeyError\u001b[39;00m \u001b[38;5;28;01mas\u001b[39;00m err:\n",
      "File \u001b[0;32m/Applications/anaconda3/lib/python3.9/site-packages/pandas/_libs/index.pyx:136\u001b[0m, in \u001b[0;36mpandas._libs.index.IndexEngine.get_loc\u001b[0;34m()\u001b[0m\n",
      "File \u001b[0;32m/Applications/anaconda3/lib/python3.9/site-packages/pandas/_libs/index.pyx:163\u001b[0m, in \u001b[0;36mpandas._libs.index.IndexEngine.get_loc\u001b[0;34m()\u001b[0m\n",
      "File \u001b[0;32mpandas/_libs/hashtable_class_helper.pxi:5198\u001b[0m, in \u001b[0;36mpandas._libs.hashtable.PyObjectHashTable.get_item\u001b[0;34m()\u001b[0m\n",
      "File \u001b[0;32mpandas/_libs/hashtable_class_helper.pxi:5206\u001b[0m, in \u001b[0;36mpandas._libs.hashtable.PyObjectHashTable.get_item\u001b[0;34m()\u001b[0m\n",
      "\u001b[0;31mKeyError\u001b[0m: 'Main technology'",
      "\nThe above exception was the direct cause of the following exception:\n",
      "\u001b[0;31mKeyError\u001b[0m                                  Traceback (most recent call last)",
      "Input \u001b[0;32mIn [9]\u001b[0m, in \u001b[0;36m<cell line: 2>\u001b[0;34m()\u001b[0m\n\u001b[1;32m      1\u001b[0m plt\u001b[38;5;241m.\u001b[39mfigure(figsize\u001b[38;5;241m=\u001b[39m(\u001b[38;5;241m12\u001b[39m, \u001b[38;5;241m6\u001b[39m))\n\u001b[0;32m----> 2\u001b[0m ax \u001b[38;5;241m=\u001b[39m \u001b[43mdata_infos\u001b[49m\u001b[43m[\u001b[49m\u001b[38;5;124;43m'\u001b[39;49m\u001b[38;5;124;43mMain technology\u001b[39;49m\u001b[38;5;124;43m'\u001b[39;49m\u001b[43m]\u001b[49m\u001b[38;5;241m.\u001b[39mvalue_counts()\u001b[38;5;241m.\u001b[39mhead(\u001b[38;5;241m10\u001b[39m)\u001b[38;5;241m.\u001b[39mplot(kind \u001b[38;5;241m=\u001b[39m \u001b[38;5;124m'\u001b[39m\u001b[38;5;124mbar\u001b[39m\u001b[38;5;124m'\u001b[39m, color \u001b[38;5;241m=\u001b[39m \u001b[38;5;124m'\u001b[39m\u001b[38;5;124morange\u001b[39m\u001b[38;5;124m'\u001b[39m)\n\u001b[1;32m      3\u001b[0m plt\u001b[38;5;241m.\u001b[39mtitle(\u001b[38;5;124m'\u001b[39m\u001b[38;5;124mTop 10 used programming languages and technologies:\u001b[39m\u001b[38;5;124m'\u001b[39m, fontsize \u001b[38;5;241m=\u001b[39m \u001b[38;5;241m20\u001b[39m)\n\u001b[1;32m      4\u001b[0m plt\u001b[38;5;241m.\u001b[39mylabel(\u001b[38;5;124m'\u001b[39m\u001b[38;5;124mCount\u001b[39m\u001b[38;5;124m'\u001b[39m, fontsize \u001b[38;5;241m=\u001b[39m \u001b[38;5;241m16\u001b[39m)\n",
      "File \u001b[0;32m/Applications/anaconda3/lib/python3.9/site-packages/pandas/core/frame.py:3505\u001b[0m, in \u001b[0;36mDataFrame.__getitem__\u001b[0;34m(self, key)\u001b[0m\n\u001b[1;32m   3503\u001b[0m \u001b[38;5;28;01mif\u001b[39;00m \u001b[38;5;28mself\u001b[39m\u001b[38;5;241m.\u001b[39mcolumns\u001b[38;5;241m.\u001b[39mnlevels \u001b[38;5;241m>\u001b[39m \u001b[38;5;241m1\u001b[39m:\n\u001b[1;32m   3504\u001b[0m     \u001b[38;5;28;01mreturn\u001b[39;00m \u001b[38;5;28mself\u001b[39m\u001b[38;5;241m.\u001b[39m_getitem_multilevel(key)\n\u001b[0;32m-> 3505\u001b[0m indexer \u001b[38;5;241m=\u001b[39m \u001b[38;5;28;43mself\u001b[39;49m\u001b[38;5;241;43m.\u001b[39;49m\u001b[43mcolumns\u001b[49m\u001b[38;5;241;43m.\u001b[39;49m\u001b[43mget_loc\u001b[49m\u001b[43m(\u001b[49m\u001b[43mkey\u001b[49m\u001b[43m)\u001b[49m\n\u001b[1;32m   3506\u001b[0m \u001b[38;5;28;01mif\u001b[39;00m is_integer(indexer):\n\u001b[1;32m   3507\u001b[0m     indexer \u001b[38;5;241m=\u001b[39m [indexer]\n",
      "File \u001b[0;32m/Applications/anaconda3/lib/python3.9/site-packages/pandas/core/indexes/base.py:3623\u001b[0m, in \u001b[0;36mIndex.get_loc\u001b[0;34m(self, key, method, tolerance)\u001b[0m\n\u001b[1;32m   3621\u001b[0m     \u001b[38;5;28;01mreturn\u001b[39;00m \u001b[38;5;28mself\u001b[39m\u001b[38;5;241m.\u001b[39m_engine\u001b[38;5;241m.\u001b[39mget_loc(casted_key)\n\u001b[1;32m   3622\u001b[0m \u001b[38;5;28;01mexcept\u001b[39;00m \u001b[38;5;167;01mKeyError\u001b[39;00m \u001b[38;5;28;01mas\u001b[39;00m err:\n\u001b[0;32m-> 3623\u001b[0m     \u001b[38;5;28;01mraise\u001b[39;00m \u001b[38;5;167;01mKeyError\u001b[39;00m(key) \u001b[38;5;28;01mfrom\u001b[39;00m \u001b[38;5;21;01merr\u001b[39;00m\n\u001b[1;32m   3624\u001b[0m \u001b[38;5;28;01mexcept\u001b[39;00m \u001b[38;5;167;01mTypeError\u001b[39;00m:\n\u001b[1;32m   3625\u001b[0m     \u001b[38;5;66;03m# If we have a listlike key, _check_indexing_error will raise\u001b[39;00m\n\u001b[1;32m   3626\u001b[0m     \u001b[38;5;66;03m#  InvalidIndexError. Otherwise we fall through and re-raise\u001b[39;00m\n\u001b[1;32m   3627\u001b[0m     \u001b[38;5;66;03m#  the TypeError.\u001b[39;00m\n\u001b[1;32m   3628\u001b[0m     \u001b[38;5;28mself\u001b[39m\u001b[38;5;241m.\u001b[39m_check_indexing_error(key)\n",
      "\u001b[0;31mKeyError\u001b[0m: 'Main technology'"
     ]
    },
    {
     "data": {
      "text/plain": [
       "<Figure size 864x432 with 0 Axes>"
      ]
     },
     "metadata": {},
     "output_type": "display_data"
    }
   ],
   "source": [
    "plt.figure(figsize=(12, 6))\n",
    "ax = data_infos['Main technology'].value_counts().head(10).plot(kind = 'bar', color = 'orange')\n",
    "plt.title('Top 10 used programming languages and technologies:', fontsize = 20)\n",
    "plt.ylabel('Count', fontsize = 16)\n",
    "plt.xticks(fontsize = 14, rotation = 45)\n",
    "plt.bar_label(ax.containers[0], label_type = 'center',fontsize = 16, rotation = 90, color = 'Red')\n",
    "plt.show()"
   ]
  },
  {
   "cell_type": "markdown",
   "id": "8bf52760",
   "metadata": {},
   "source": [
    "#### this is interesting to know that the main ten top programming languages in the eu as at 2020 were java,python,php,c++,javascript,c#,python ,scala and swift with java topping the chat with (184 counts) while python almost meeting  java with just a difference of 20 counts! and the least swift having as low as 24 counts. it is interesting to know that people are mostly interested in using tools such as java and python in the eu. i guess those tools are explicit"
   ]
  },
  {
   "cell_type": "markdown",
   "id": "01090240",
   "metadata": {},
   "source": [
    "### 4)The distribution of values,age,years of experience and vacation days"
   ]
  },
  {
   "cell_type": "code",
   "execution_count": null,
   "id": "87143503",
   "metadata": {},
   "outputs": [],
   "source": [
    "#rename columns:\n",
    "\n",
    "data_infos.rename(columns = {'Your main technology / programming language': 'Main technology', \n",
    "                             'Position ': 'Position',\n",
    "                            'Other technologies/programming languages you use often': 'Other technologies', \n",
    "                            'Yearly brutto salary (without bonus and stocks) in EUR': 'Yearly salary', \n",
    "                            'Number of vacation days': 'Vacation days',\n",
    "                            'Main language at work' : 'Language at work',\n",
    "                            'Yearly bonus + stocks in EUR':'Yearly bonus',\n",
    "                            'Total years of experience': 'Years of experience' }, inplace = True)"
   ]
  },
  {
   "cell_type": "code",
   "execution_count": null,
   "id": "aa82fdac",
   "metadata": {},
   "outputs": [],
   "source": [
    "#The 'vacation days' and 'years of experience' columns contain some non-numerical values, \n",
    "#so we will change them to numerical values and change the columns types to integer.\n",
    "\n",
    "data_infos['Vacation days'] = pd.to_numeric(data_infos['Vacation days'], errors = 'coerce').fillna(0).astype(int)\n",
    "data_infos['Years of experience'] = pd.to_numeric(data_infos['Years of experience'], errors = 'coerce').fillna(0).astype(int)\n",
    "data_infos['Age'] = data_infos['Age'].fillna(0).astype(int)\n",
    "data_infos['Yearly salary'] = data_infos['Yearly salary'].astype(int)"
   ]
  },
  {
   "cell_type": "code",
   "execution_count": null,
   "id": "6226b8f4",
   "metadata": {},
   "outputs": [],
   "source": [
    "# the distribution of the values:\n",
    "\n",
    "fig = plt.figure(figsize= (15, 8))\n",
    "plt.title('The distribution of the values:', fontsize= 16)\n",
    "axs = fig.subplots(nrows=2, ncols= 2)\n",
    "sns.boxplot(data = data_infos, x= 'Age', ax = axs[0,0])\n",
    "sns.boxplot(data = data_infos, x= 'Years of experience',ax = axs[0,1])\n",
    "sns.boxplot(data = data_infos, x= 'Yearly salary',ax = axs[1,0])\n",
    "sns.boxplot(data = data_infos, x= 'Vacation days', ax= axs[1,1])\n",
    "plt.show()"
   ]
  },
  {
   "cell_type": "markdown",
   "id": "e181a0ae",
   "metadata": {},
   "source": [
    "#### from my observation here slightly above age 30 there is a peak in years of experience,also yearly salary and vacation days,but the older participants have lesser yearly salaries and vacation days. more priviledges are given to the youths"
   ]
  },
  {
   "cell_type": "markdown",
   "id": "a6f39ddb",
   "metadata": {},
   "source": [
    "### 5) What are the distribution of the ages of the participants:"
   ]
  },
  {
   "cell_type": "code",
   "execution_count": null,
   "id": "8baf24aa",
   "metadata": {},
   "outputs": [],
   "source": [
    "\n",
    "plt.figure(figsize=(18,6))\n",
    "sns.countplot(data= data_infos, x='Age',hue = 'Gender')\n",
    "plt.title('The distribution of the ages of the participants:', fontsize= 16,color = 'red')\n",
    "plt.xlabel('Age', fontsize= 14)\n",
    "plt.ylabel('Count', fontsize = 14)\n",
    "plt.show()"
   ]
  },
  {
   "cell_type": "markdown",
   "id": "7fa8c091",
   "metadata": {},
   "source": [
    "##### the distribution ages of the participants was at its peak at age (31), with the male gender being the lead . \n",
    "##### There is a decline in participant with respect to age. it means the younger ones are most sought after, due to many factors such as\n",
    "- strength\n",
    "- better assimilation\n",
    "- better delivery\n",
    "- lesser expenses\n"
   ]
  },
  {
   "cell_type": "markdown",
   "id": "62250132",
   "metadata": {},
   "source": [
    "### 6)what gender has the highest participant?"
   ]
  },
  {
   "cell_type": "code",
   "execution_count": null,
   "id": "d723acca",
   "metadata": {},
   "outputs": [],
   "source": [
    "feature = 'Gender'\n",
    "data_infos[feature].unique()\n"
   ]
  },
  {
   "cell_type": "code",
   "execution_count": null,
   "id": "6b88649d",
   "metadata": {},
   "outputs": [],
   "source": [
    "#I will combine none yes or no responses to another row\n",
    "# in the dataset\n",
    "other_responses = pd.Series([7],index=['Other'])\n",
    "\n",
    "affected = data_infos[feature].value_counts().iloc[0:2]\n",
    "affected = pd.concat([affected,other_responses])\n",
    "affected"
   ]
  },
  {
   "cell_type": "code",
   "execution_count": null,
   "id": "6c1fc025",
   "metadata": {},
   "outputs": [],
   "source": [
    "##using percentage\n",
    "affected.plot.pie(y=feature, autopct='%1.1f%%', figsize=(8,6), fontsize=10,cmap='Set2',\n",
    "                     startangle=45, explode =[0.1]*3, pctdistance=1.1,labeldistance=1.3,\n",
    "                    textprops={'fontsize': 10})\n",
    "plt.ylabel(\" \")\n",
    "plt.tight_layout()\n",
    "plt.show()"
   ]
  },
  {
   "cell_type": "markdown",
   "id": "d899f57f",
   "metadata": {},
   "source": [
    "#### from the pie chat here the darker green part shows the percentage of males involved in tech, \n",
    "#### they have a population of 1092,this implies that the tech industry in the eu is a male dominated region, with the \n",
    "#### represented as 'other' on the chart have the least number and also least percentage. \n",
    "- I suggest the government and other parastatals helps raise the bar for the female gender \n",
    "  by encouraging programs on tech forthe female gender . \n",
    "- Also by creating public awareness through adverts,handbills,seminars,public speakings.\n",
    "- they can also ensure that tech training schools cost little to none for the female gender and also scholarships\n",
    "  should be awarded"
   ]
  },
  {
   "cell_type": "markdown",
   "id": "ad319220",
   "metadata": {},
   "source": [
    "### 7)What are the company sizes with highest ages¶¶"
   ]
  },
  {
   "cell_type": "code",
   "execution_count": null,
   "id": "868e7c81",
   "metadata": {},
   "outputs": [],
   "source": [
    "sns.violinplot(data=data_infos, x='Company size',y='Age', palette= 'autumn')"
   ]
  },
  {
   "cell_type": "markdown",
   "id": "ee31d986",
   "metadata": {},
   "source": [
    "#### the company sizes with respect to age here indicates that all age groups are well put into each company size. which shows liberality"
   ]
  },
  {
   "cell_type": "markdown",
   "id": "cf03a3e8",
   "metadata": {},
   "source": [
    "### 8)what are the ages of participants with respect to gender"
   ]
  },
  {
   "cell_type": "code",
   "execution_count": null,
   "id": "2d92a6e1",
   "metadata": {},
   "outputs": [],
   "source": [
    "sns.catplot(data=data_infos, x='Gender', y='Age', palette='rocket',kind='bar')"
   ]
  },
  {
   "cell_type": "markdown",
   "id": "79e7f490",
   "metadata": {},
   "source": [
    "#### with respect to gender the age groups are rellively close. this is a good step indicating it is easier to learn and relate with the same age group"
   ]
  },
  {
   "cell_type": "markdown",
   "id": "c800e1e2",
   "metadata": {},
   "source": [
    "### 9) what are their main languages at work ?"
   ]
  },
  {
   "cell_type": "code",
   "execution_count": null,
   "id": "dccb2360",
   "metadata": {},
   "outputs": [],
   "source": [
    "# Language at Work\n",
    "data_infos['Language at work'].value_counts()"
   ]
  },
  {
   "cell_type": "code",
   "execution_count": null,
   "id": "5b91327b",
   "metadata": {},
   "outputs": [],
   "source": [
    "plt.figure(figsize =(18,5))\n",
    "sns.histplot(data_infos, x='Language at work',hue='Gender', multiple='stack')"
   ]
  },
  {
   "cell_type": "markdown",
   "id": "b72c2c06",
   "metadata": {},
   "source": [
    "the main language spoken at woork is english with 1020 people speaking english. next in line is german with 186 people\n",
    "speaking german. this implies that its easier to get to the tech soace because english is a widely spoken and acceptable language"
   ]
  },
  {
   "cell_type": "markdown",
   "id": "9b0e48b8",
   "metadata": {},
   "source": [
    "### 10)comparing salaries with genders"
   ]
  },
  {
   "cell_type": "code",
   "execution_count": null,
   "id": "29ba86b9",
   "metadata": {},
   "outputs": [],
   "source": [
    "# the distribution of yearly salary:\n",
    "\n",
    "plt.figure(figsize=(12,6))\n",
    "sns.histplot(data= data_infos, x= 'Yearly salary', hue= 'Gender', palette= 'magma', kde= True, bins = 10)\n",
    "plt.title('The distribution of the yearly salary:',fontsize= 16)\n",
    "plt.xlabel('Yearly Salary', fontsize= 14)\n",
    "plt.ylabel('Count', fontsize= 14)\n",
    "plt.xticks(fontsize= 12)\n",
    "plt.yticks(fontsize = 12)\n",
    "plt.show()"
   ]
  },
  {
   "cell_type": "markdown",
   "id": "0b946175",
   "metadata": {},
   "source": [
    "#### salaries increase with the male gender which shows a sign of gender inequality in the company. i imply that they should\n",
    "#### look into that and make amends. no one should earn more based on the gender you are. salaries should be based on the ff\n",
    "- input\n",
    "- output\n",
    "- years of experience\n",
    "- age\n",
    "- cost of living \n",
    "the afformentioned are all continuous but gender is categorical .. \n"
   ]
  },
  {
   "cell_type": "markdown",
   "id": "11cef18e",
   "metadata": {},
   "source": [
    "### 11)determining the various ages of particpants in relation to gender"
   ]
  },
  {
   "cell_type": "code",
   "execution_count": null,
   "id": "39bcef3a",
   "metadata": {},
   "outputs": [],
   "source": [
    " #Plotting the Boxplots\n",
    "plt.figure(figsize=(12,8))\n",
    "sns.boxplot(x='Gender',y='Age',data=data_infos,palette='autumn')\n",
    "plt.xticks(fontsize=12)\n",
    "plt.xlabel(\" \")\n",
    "plt.yticks(fontsize=12)\n",
    "plt.ylabel(\"Age\",fontsize=12)\n",
    "plt.show()"
   ]
  },
  {
   "cell_type": "markdown",
   "id": "d82a26c7",
   "metadata": {},
   "source": [
    "In this graph we have more males who are older in the tech space than females."
   ]
  },
  {
   "cell_type": "markdown",
   "id": "7017ea02",
   "metadata": {},
   "source": [
    "### what cities have the highest numbers of participants"
   ]
  },
  {
   "cell_type": "code",
   "execution_count": null,
   "id": "d3c4b0bf",
   "metadata": {
    "scrolled": false
   },
   "outputs": [],
   "source": [
    "data_infos['City'].value_counts()"
   ]
  },
  {
   "cell_type": "markdown",
   "id": "d3333617",
   "metadata": {},
   "source": [
    "### what cities have the highest percentages of participants"
   ]
  },
  {
   "cell_type": "code",
   "execution_count": null,
   "id": "009aa6be",
   "metadata": {},
   "outputs": [],
   "source": [
    "plt.figure(figsize= (18,8))\n",
    "plt.pie(data_infos['City'].value_counts().head(5), labels=data_infos['City'].value_counts().head(5).index ,textprops ={'fontsize' : 14}, \n",
    "        explode= [0.06]*5, shadow= True, startangle= 50, autopct= '%1.6F%%')\n",
    "plt.title('The top 5 cities:', fontsize= 16)\n",
    "plt.show()"
   ]
  },
  {
   "cell_type": "markdown",
   "id": "78681c3b",
   "metadata": {},
   "source": [
    "#### Berlin is topping the chat with 66.309% of people who are into tech in the company, with a count of 681,folowed by munich with a count of 231 persons ad 22.979%, the  cities with the lowest counts are\n",
    "\n",
    "Nuremberg        1,\n",
    "Lübeck           1,\n",
    "Malta            1,\n",
    "Dresden          1,\n",
    "Saarbrücken      1\n",
    "#### Berlin having the higest number of people indicates that there is more awareness in such city, also that there will be more tech experts there. how can we help grow the tech industry .. by helping other cities be aware they need to get into the space of tech so we can get the best brains. "
   ]
  },
  {
   "cell_type": "markdown",
   "id": "2e5ae40c",
   "metadata": {},
   "source": [
    "### determining the various ages of particpants "
   ]
  },
  {
   "cell_type": "code",
   "execution_count": null,
   "id": "c97dde3e",
   "metadata": {},
   "outputs": [],
   "source": [
    "sns.displot(data_infos, x='Age', kind='ecdf')"
   ]
  },
  {
   "cell_type": "markdown",
   "id": "c5ffa954",
   "metadata": {},
   "source": [
    "#### from my graph here we can see the lot of propotion against age. age is directly proportional amongsts the participants\n"
   ]
  },
  {
   "cell_type": "markdown",
   "id": "7f5feef6",
   "metadata": {},
   "source": [
    "### what is  the relationship between the employment status and the yearly salary:\n"
   ]
  },
  {
   "cell_type": "code",
   "execution_count": null,
   "id": "c782c775",
   "metadata": {},
   "outputs": [],
   "source": [
    "plt.figure(figsize =(18,5))\n",
    "sns.histplot(data_infos, x='Employment status',hue='Yearly salary', multiple='stack')"
   ]
  },
  {
   "cell_type": "markdown",
   "id": "4470df84",
   "metadata": {},
   "source": [
    "#### from this , i observed that salary can be affected by your employment status.A full time employee frelancer is paid more than a a full time empoyee in the company.A director is paid more than most employees\n"
   ]
  },
  {
   "cell_type": "markdown",
   "id": "3cc079df",
   "metadata": {},
   "source": [
    "### lets find out the salaries and programming languages"
   ]
  },
  {
   "cell_type": "code",
   "execution_count": null,
   "id": "f56a7f14",
   "metadata": {},
   "outputs": [],
   "source": [
    "# Plotting the distribution - number of Positon\n",
    "plt.figure(figsize=(15,8))\n",
    "sns.countplot(data=data_infos,x='Position',\n",
    "              order=data_infos['Position'].value_counts().iloc[:10].index,\n",
    "              palette='Pastel2')\n",
    "plt.xticks(rotation=70,fontsize=13)\n",
    "plt.xlabel(\"Position\",fontsize=14)\n",
    "plt.yticks(fontsize=13)\n",
    "plt.ylabel(\"Count\",fontsize=14)\n",
    "plt.show()"
   ]
  },
  {
   "cell_type": "markdown",
   "id": "6457bce1",
   "metadata": {},
   "source": [
    "##### from the pic above we observe that the sofware engineer is paid the highest in the company. while the data engineer is paid the least. this is influenced by so many factors. it could be that the software engineer is the hardest to get to employ. in relation to demand and supply. maybe the demand is high while there is low supply"
   ]
  },
  {
   "cell_type": "markdown",
   "id": "2b10d0c3",
   "metadata": {},
   "source": [
    "### have you lost your job due to coronavirus\n"
   ]
  },
  {
   "cell_type": "code",
   "execution_count": null,
   "id": "e6c277ac",
   "metadata": {},
   "outputs": [],
   "source": [
    "plt.figure(figsize =(18,5))\n",
    "sns.histplot(data_infos, x='Have you lost your job due to the coronavirus outbreak?',hue='Gender', multiple='stack')"
   ]
  },
  {
   "cell_type": "markdown",
   "id": "846db9fa",
   "metadata": {},
   "source": [
    "#### from the plot chart above,alot of people did not loose their jobs due to corona virus as compared to other jobs. this is\n",
    "#### quite impressive.this also implies the tech industry is not really affected by external factors.unlike other jibs such as\n",
    "#### fast food eatries, alot of staffs were laid off due to coronavirus. why not try te h today!!!!"
   ]
  },
  {
   "cell_type": "code",
   "execution_count": null,
   "id": "c95eccbe",
   "metadata": {},
   "outputs": [],
   "source": []
  }
 ],
 "metadata": {
  "kernelspec": {
   "display_name": "Python 3 (ipykernel)",
   "language": "python",
   "name": "python3"
  },
  "language_info": {
   "codemirror_mode": {
    "name": "ipython",
    "version": 3
   },
   "file_extension": ".py",
   "mimetype": "text/x-python",
   "name": "python",
   "nbconvert_exporter": "python",
   "pygments_lexer": "ipython3",
   "version": "3.9.12"
  }
 },
 "nbformat": 4,
 "nbformat_minor": 5
}
