{
 "cells": [
  {
   "cell_type": "code",
   "execution_count": 1,
   "id": "bb9e71da",
   "metadata": {},
   "outputs": [
    {
     "name": "stdout",
     "output_type": "stream",
     "text": [
      "the length of the string is greater than 5\n"
     ]
    }
   ],
   "source": [
    "if (len(\"Univelcity\")>5):\n",
    "    \n",
    "    print(\"the length of the string is greater than 5\")\n",
    "    \n",
    "else:\n",
    "    print(\"the length of the string is not greater than 5\")"
   ]
  },
  {
   "cell_type": "markdown",
   "id": "8dd2dc46",
   "metadata": {},
   "source": [
    "#LAMDA FUNCTIONS"
   ]
  },
  {
   "cell_type": "markdown",
   "id": "45ad7bb4",
   "metadata": {},
   "source": [
    "There are times you want to create anonymous functions,these types of functions will only need to have one form of expressions."
   ]
  },
  {
   "cell_type": "code",
   "execution_count": 5,
   "id": "30866d50",
   "metadata": {},
   "outputs": [
    {
     "data": {
      "text/plain": [
       "4"
      ]
     },
     "execution_count": 5,
     "metadata": {},
     "output_type": "execute_result"
    }
   ],
   "source": [
    "## sum of two numbers\n",
    "def add_nums(a,b):\n",
    "    \n",
    "    sum= a+b\n",
    "    return sum\n",
    "\n",
    "add_nums(1,3)\n",
    "    "
   ]
  },
  {
   "cell_type": "markdown",
   "id": "7ad7ccc8",
   "metadata": {},
   "source": [
    "we can use lambda to make the same function in just one line of code! lets do it "
   ]
  },
  {
   "cell_type": "code",
   "execution_count": 6,
   "id": "7ff5c832",
   "metadata": {},
   "outputs": [
    {
     "data": {
      "text/plain": [
       "9"
      ]
     },
     "execution_count": 6,
     "metadata": {},
     "output_type": "execute_result"
    }
   ],
   "source": [
    "sum_of_two_nums = lambda c,d: c+d\n",
    "\n",
    "sum_of_two_nums(4,5)"
   ]
  },
  {
   "cell_type": "code",
   "execution_count": null,
   "id": "9965ce9a",
   "metadata": {},
   "outputs": [],
   "source": []
  },
  {
   "cell_type": "markdown",
   "id": "6f6cb338",
   "metadata": {},
   "source": [
    "### BUILT IN FUNCTIONS\n",
    "\n",
    "Python being in high level programming language,it has bunch of built in functions which make it easy to get quick computations done\n",
    "\n",
    "an example of built in functions we used is len() which gives the length of the string or the string or the list give us the input to it:\n",
    "\n",
    "\n",
    "Here is a full preview on the all python built in functions."
   ]
  },
  {
   "cell_type": "markdown",
   "id": "afcbee8d",
   "metadata": {},
   "source": [
    "write a function that returns the square root of a num. inside use the return statement.5**(1/2)\n"
   ]
  },
  {
   "cell_type": "code",
   "execution_count": 14,
   "id": "8381ba70",
   "metadata": {},
   "outputs": [],
   "source": [
    "def square_root(number):\n",
    "    \n",
    "    return(number(**2))\n",
    "    \n",
    "    "
   ]
  },
  {
   "cell_type": "markdown",
   "id": "1bb9c28f",
   "metadata": {},
   "source": [
    "write a function that returns the cube root of a num. inside use statements."
   ]
  },
  {
   "cell_type": "code",
   "execution_count": 30,
   "id": "afa20904",
   "metadata": {},
   "outputs": [],
   "source": [
    "def cube_root(a):\n",
    "    ans = a ** 0.33333333333\n",
    "    return round(ans, 2)"
   ]
  },
  {
   "cell_type": "code",
   "execution_count": 31,
   "id": "cf1e172b",
   "metadata": {},
   "outputs": [
    {
     "data": {
      "text/plain": [
       "2.0"
      ]
     },
     "execution_count": 31,
     "metadata": {},
     "output_type": "execute_result"
    }
   ],
   "source": [
    "cube_root(8)"
   ]
  },
  {
   "cell_type": "markdown",
   "id": "c6c7cbd9",
   "metadata": {},
   "source": [
    "###BUILT IN FUNCTION"
   ]
  },
  {
   "cell_type": "code",
   "execution_count": 1,
   "id": "da66efbe",
   "metadata": {},
   "outputs": [
    {
     "data": {
      "text/plain": [
       "15"
      ]
     },
     "execution_count": 1,
     "metadata": {},
     "output_type": "execute_result"
    }
   ],
   "source": [
    "message = \"do not give up!\"\n",
    "len(message)\n"
   ]
  },
  {
   "cell_type": "code",
   "execution_count": 7,
   "id": "0ff8701c",
   "metadata": {},
   "outputs": [
    {
     "data": {
      "text/plain": [
       "13"
      ]
     },
     "execution_count": 7,
     "metadata": {},
     "output_type": "execute_result"
    }
   ],
   "source": [
    "forma = \" i am in love\"\n",
    "len(forma)"
   ]
  },
  {
   "cell_type": "code",
   "execution_count": 2,
   "id": "9a589765",
   "metadata": {},
   "outputs": [
    {
     "data": {
      "text/plain": [
       "4"
      ]
     },
     "execution_count": 2,
     "metadata": {},
     "output_type": "execute_result"
    }
   ],
   "source": [
    "odd_numbers = [1,3,5,7]\n",
    "len(odd_numbers)"
   ]
  },
  {
   "cell_type": "code",
   "execution_count": 4,
   "id": "8c555bf2",
   "metadata": {},
   "outputs": [
    {
     "data": {
      "text/plain": [
       "1"
      ]
     },
     "execution_count": 4,
     "metadata": {},
     "output_type": "execute_result"
    }
   ],
   "source": [
    "#using max to find the maximum number in a list\n",
    "\n",
    "min(odd_numbers)"
   ]
  },
  {
   "cell_type": "code",
   "execution_count": 5,
   "id": "9051d856",
   "metadata": {},
   "outputs": [
    {
     "data": {
      "text/plain": [
       "[1, 3, 5, 7, 9, 11, 13, 15]"
      ]
     },
     "execution_count": 5,
     "metadata": {},
     "output_type": "execute_result"
    }
   ],
   "source": [
    "# sorting a list with sorted()\n",
    "odd_numbers = [9,7,3,5,11,13,15,1]\n",
    "sorted(odd_numbers).\n",
    "By default the sorted arranges numbers in ascending or \n",
    "descending order."
   ]
  },
  {
   "cell_type": "markdown",
   "id": "ffae9375",
   "metadata": {},
   "source": [
    "lets learn more inbuilt functions"
   ]
  },
  {
   "cell_type": "markdown",
   "id": "0e1dd156",
   "metadata": {},
   "source": [
    "# map function\n",
    "map gives you the ability to apply a function to an ilterable structures such as list. when used with a list for example ,you can apply the functiion to every element on the list\n",
    "lets see how it works"
   ]
  },
  {
   "cell_type": "code",
   "execution_count": 21,
   "id": "2b221565",
   "metadata": {},
   "outputs": [
    {
     "ename": "SyntaxError",
     "evalue": "invalid syntax (2530507247.py, line 3)",
     "output_type": "error",
     "traceback": [
      "\u001b[0;36m  Input \u001b[0;32mIn [21]\u001b[0;36m\u001b[0m\n\u001b[0;31m    cubic = **3:\u001b[0m\n\u001b[0m            ^\u001b[0m\n\u001b[0;31mSyntaxError\u001b[0m\u001b[0;31m:\u001b[0m invalid syntax\n"
     ]
    }
   ],
   "source": [
    "def cubic(number):\n",
    "    \n",
    "    cubic = **3:\n",
    "        return (cubic(number ** 3))\n"
   ]
  },
  {
   "cell_type": "code",
   "execution_count": 15,
   "id": "b4e3b2be",
   "metadata": {},
   "outputs": [],
   "source": [
    "num_list = [0,1,2,3,4]"
   ]
  },
  {
   "cell_type": "code",
   "execution_count": 3,
   "id": "5c9ebd77",
   "metadata": {},
   "outputs": [
    {
     "ename": "IndentationError",
     "evalue": "unexpected indent (5495862.py, line 2)",
     "output_type": "error",
     "traceback": [
      "\u001b[0;36m  Input \u001b[0;32mIn [3]\u001b[0;36m\u001b[0m\n\u001b[0;31m    cubic=**3\u001b[0m\n\u001b[0m    ^\u001b[0m\n\u001b[0;31mIndentationError\u001b[0m\u001b[0;31m:\u001b[0m unexpected indent\n"
     ]
    }
   ],
   "source": [
    "# applying 'map' to the num_list to just return the list \n",
    "  where each element is cubed.\n",
    "\n",
    "    cubic=**3\n",
    "\n",
    "\n",
    "list(map(cubic,num_list))\n"
   ]
  },
  {
   "cell_type": "markdown",
   "id": "dbc3e954",
   "metadata": {},
   "source": [
    "#the essence of using map is to make it work easier .instead of typing various numbers we d like to run within cubic function,we can use the map function to do that.lets look at another example below"
   ]
  },
  {
   "cell_type": "code",
   "execution_count": 16,
   "id": "1ef8f3ea",
   "metadata": {},
   "outputs": [],
   "source": [
    "def times2(var):\n",
    "    return var * 2"
   ]
  },
  {
   "cell_type": "code",
   "execution_count": 18,
   "id": "97ea69ea",
   "metadata": {},
   "outputs": [
    {
     "data": {
      "text/plain": [
       "10"
      ]
     },
     "execution_count": 18,
     "metadata": {},
     "output_type": "execute_result"
    }
   ],
   "source": [
    "times2(5)"
   ]
  },
  {
   "cell_type": "code",
   "execution_count": 21,
   "id": "8da0ef4c",
   "metadata": {},
   "outputs": [
    {
     "data": {
      "text/plain": [
       "[2, 4, 6, 8, 10]"
      ]
     },
     "execution_count": 21,
     "metadata": {},
     "output_type": "execute_result"
    }
   ],
   "source": [
    "seq = [1,2,3,4,5]\n",
    "\n",
    "list(map(times2, seq))"
   ]
  },
  {
   "cell_type": "markdown",
   "id": "2a03a6a5",
   "metadata": {},
   "source": [
    "#filter function\n",
    "\n",
    "instead of mapping every element to a function, the built in functiion will filter out "
   ]
  },
  {
   "cell_type": "code",
   "execution_count": 22,
   "id": "7f7576fc",
   "metadata": {},
   "outputs": [],
   "source": [
    "def odd_check(number):\n",
    "    return number % 2 !=0\n",
    "#! = is not equal to operation"
   ]
  },
  {
   "cell_type": "code",
   "execution_count": 23,
   "id": "92fba0f7",
   "metadata": {},
   "outputs": [
    {
     "data": {
      "text/plain": [
       "[1, 3, 5, 7, 9, 11]"
      ]
     },
     "execution_count": 23,
     "metadata": {},
     "output_type": "execute_result"
    }
   ],
   "source": [
    "num_list = [1,2,3,4,5,6,7,8,9,10,11]\n",
    "\n",
    "list(filter(odd_check,num_list))"
   ]
  },
  {
   "cell_type": "markdown",
   "id": "e1c2636b",
   "metadata": {},
   "source": [
    "##using lambda and filter functions together\n"
   ]
  },
  {
   "cell_type": "code",
   "execution_count": 27,
   "id": "b13e9671",
   "metadata": {},
   "outputs": [
    {
     "name": "stdout",
     "output_type": "stream",
     "text": [
      "[65, 39, 221]\n"
     ]
    }
   ],
   "source": [
    "my_list = [12,65,54,39,102,339,221,50,70]\n",
    "# if divisible or not\n",
    "\n",
    "result = list(filter(lambda x:(x % 13 == 0),my_list))\n",
    "\n",
    "# printing the result\n",
    "print(result)"
   ]
  },
  {
   "cell_type": "code",
   "execution_count": 31,
   "id": "c71364ac",
   "metadata": {},
   "outputs": [
    {
     "name": "stdout",
     "output_type": "stream",
     "text": [
      "['geeg', 'keek', 'aa']\n"
     ]
    }
   ],
   "source": [
    "my_list= [\"greeks\",\"geeg\",\"keek\", \"practice\", \"aa\"]\n",
    "\n",
    "#using anonymous function to filter pal indromes\n",
    "\n",
    "result = list(filter(lambda x:(x == \"\".join(reversed(x))),my_list))\n",
    "\n",
    "#printing the result\n",
    "print(result)\n"
   ]
  },
  {
   "cell_type": "markdown",
   "id": "db755f5f",
   "metadata": {},
   "source": [
    "## use the lambda and filter function s to filter out words that start with \"s\" from the list"
   ]
  },
  {
   "cell_type": "code",
   "execution_count": 38,
   "id": "6d5a71d3",
   "metadata": {},
   "outputs": [
    {
     "data": {
      "text/plain": [
       "['soup', 'sneakers', 'salad']"
      ]
     },
     "execution_count": 38,
     "metadata": {},
     "output_type": "execute_result"
    }
   ],
   "source": [
    "dami_list = [\"soup\",\"car\",\"sneakers\",\"dog\",\"heavy\",\"salad\"]\n",
    "\n",
    "list(filter(lambda item: item[0] == \"s\",dami_list))"
   ]
  },
  {
   "cell_type": "code",
   "execution_count": 39,
   "id": "b63f962e",
   "metadata": {},
   "outputs": [
    {
     "data": {
      "text/plain": [
       "['heavy']"
      ]
     },
     "execution_count": 39,
     "metadata": {},
     "output_type": "execute_result"
    }
   ],
   "source": [
    "list(filter(lambda item:item[0]== \"h\",dami_list))"
   ]
  },
  {
   "cell_type": "code",
   "execution_count": 40,
   "id": "06eed446",
   "metadata": {},
   "outputs": [
    {
     "data": {
      "text/plain": [
       "['soup', 'sneakers', 'salad']"
      ]
     },
     "execution_count": 40,
     "metadata": {},
     "output_type": "execute_result"
    }
   ],
   "source": [
    "list(filter(lambda item: item.startswith('s'),dami_list))"
   ]
  },
  {
   "cell_type": "markdown",
   "id": "e4c86adb",
   "metadata": {},
   "source": [
    "#list comprehension"
   ]
  },
  {
   "cell_type": "markdown",
   "id": "b8a8465b",
   "metadata": {},
   "source": [
    "# more useful python stuff\n",
    "\n",
    "python is an awesome programming language that has alot of useful functions\n",
    "lets see more useful things you may need beyond whats we just saw already"
   ]
  },
  {
   "cell_type": "markdown",
   "id": "67ff4b65",
   "metadata": {},
   "source": [
    "#list comprehension"
   ]
  },
  {
   "cell_type": "markdown",
   "id": "c9007faa",
   "metadata": {},
   "source": [
    "list comprehension makes it easy to make a new list from an existing list based on a given condition. its very concise and relatable"
   ]
  },
  {
   "cell_type": "code",
   "execution_count": 51,
   "id": "5c601def",
   "metadata": {},
   "outputs": [
    {
     "name": "stdout",
     "output_type": "stream",
     "text": [
      "[2, 4, 6, 8, 10, 12, 14, 16, 18]\n"
     ]
    }
   ],
   "source": [
    "# given a list of numbers ,can you make a new list of even numbers \n",
    "from the list nums?\n",
    "#even numbers are numbers division and they give the remainder of 0\n",
    "\n",
    "nums = range(1,20)\n",
    "even_nums =[]\n",
    "\n",
    "# a traditional way to do it is :\n",
    "\n",
    "for num in nums:\n",
    "    if num % 2==0:\n",
    "        \n",
    "        even_nums.append(num)\n",
    "        \n",
    "print(even_nums)"
   ]
  },
  {
   "cell_type": "markdown",
   "id": "03d525e9",
   "metadata": {},
   "source": [
    "# a more concise and easy way to do that is to use list comprehension"
   ]
  },
  {
   "cell_type": "code",
   "execution_count": 52,
   "id": "46bbb795",
   "metadata": {},
   "outputs": [
    {
     "name": "stdout",
     "output_type": "stream",
     "text": [
      "[2, 4, 6, 8, 10, 12, 14, 16, 18]\n"
     ]
    }
   ],
   "source": [
    "even_nums = [num for num in nums if num % 2 ==0]\n",
    "print(even_nums)"
   ]
  },
  {
   "cell_type": "code",
   "execution_count": 54,
   "id": "24dcb9fc",
   "metadata": {},
   "outputs": [
    {
     "name": "stdout",
     "output_type": "stream",
     "text": [
      "['tuesday', 'thursday']\n"
     ]
    }
   ],
   "source": [
    "days = [\"monday\", \"tuesday\", \"wednesday\",\"thursday\",\"friday\",\"saturday\"]\n",
    "\n",
    "day_t = []\n",
    "\n",
    "#make a list of days that start with 't'\n",
    "\n",
    "for day in days:\n",
    "    \n",
    "    if day[0] == \"t\":\n",
    "        day_t.append(day)\n",
    "        \n",
    "print(day_t)\n",
    "    "
   ]
  },
  {
   "cell_type": "markdown",
   "id": "df6cdf8b",
   "metadata": {},
   "source": [
    "# a more concise way to do it will be"
   ]
  },
  {
   "cell_type": "code",
   "execution_count": 55,
   "id": "2493f048",
   "metadata": {},
   "outputs": [
    {
     "name": "stdout",
     "output_type": "stream",
     "text": [
      "['tuesday', 'thursday']\n"
     ]
    }
   ],
   "source": [
    "day_t = [day for day in days if day[0]== \"t\"]\n",
    "print(day_t)"
   ]
  },
  {
   "cell_type": "markdown",
   "id": "e8730467",
   "metadata": {},
   "source": [
    "\n",
    "## using list comprehension in place of  a nested for loop"
   ]
  },
  {
   "cell_type": "code",
   "execution_count": 56,
   "id": "5ef4e4c4",
   "metadata": {},
   "outputs": [],
   "source": [
    "pairs_1 = []"
   ]
  },
  {
   "cell_type": "code",
   "execution_count": 57,
   "id": "9fc1380a",
   "metadata": {},
   "outputs": [],
   "source": [
    "for num1 in range(0,2):\n",
    "    for num2 in range(6,8):\n",
    "        pairs_1.append((num1,num2))"
   ]
  },
  {
   "cell_type": "code",
   "execution_count": 58,
   "id": "999a880e",
   "metadata": {},
   "outputs": [
    {
     "name": "stdout",
     "output_type": "stream",
     "text": [
      "[(0, 6), (0, 7), (1, 6), (1, 7)]\n"
     ]
    }
   ],
   "source": [
    "print(pairs_1)"
   ]
  },
  {
   "cell_type": "code",
   "execution_count": 59,
   "id": "6559f53f",
   "metadata": {},
   "outputs": [
    {
     "name": "stdout",
     "output_type": "stream",
     "text": [
      "[(0, 6), (0, 7), (1, 6), (1, 7)]\n"
     ]
    }
   ],
   "source": [
    "#now using list comprehension to acheive this \n",
    "\n",
    "pairs_2 = [(num1, num2) for num1 in range(0,2) for num2 in range (6,8)]\n",
    "print(pairs_2)"
   ]
  },
  {
   "cell_type": "markdown",
   "id": "798c448d",
   "metadata": {},
   "source": [
    "# enumerate function"
   ]
  },
  {
   "cell_type": "markdown",
   "id": "41f930fa",
   "metadata": {},
   "source": [
    "enumerate function converts iterable objects into enumerate objects. it basically returns a tuple that also contains a counter. that sounds hard ,but with examples,you can see how powerful this function is .\n",
    "\n"
   ]
  },
  {
   "cell_type": "code",
   "execution_count": 60,
   "id": "f35c7edd",
   "metadata": {},
   "outputs": [
    {
     "data": {
      "text/plain": [
       "[(0, 'spring'), (1, 'summer'), (2, 'fall'), (3, 'winter')]"
      ]
     },
     "execution_count": 60,
     "metadata": {},
     "output_type": "execute_result"
    }
   ],
   "source": [
    "seasons = [\"spring\",\"summer\",\"fall\",\"winter\"]\n",
    "\n",
    "list(enumerate(seasons))"
   ]
  },
  {
   "cell_type": "markdown",
   "id": "635c77fb",
   "metadata": {},
   "source": [
    "##also you can see,each element came with a counter automatically. the counter initially starts at 0,but we can change it"
   ]
  },
  {
   "cell_type": "code",
   "execution_count": 61,
   "id": "f7b45c84",
   "metadata": {},
   "outputs": [
    {
     "data": {
      "text/plain": [
       "[(1, 'spring'), (2, 'summer'), (3, 'fall'), (4, 'winter')]"
      ]
     },
     "execution_count": 61,
     "metadata": {},
     "output_type": "execute_result"
    }
   ],
   "source": [
    "list(enumerate(seasons, start = 1))"
   ]
  },
  {
   "cell_type": "markdown",
   "id": "7adce567",
   "metadata": {},
   "source": [
    "# here is another example"
   ]
  },
  {
   "cell_type": "code",
   "execution_count": 63,
   "id": "329ed498",
   "metadata": {},
   "outputs": [
    {
     "name": "stdout",
     "output_type": "stream",
     "text": [
      "0 - rock\n",
      "1 - paper\n",
      "2 - scissor\n"
     ]
    }
   ],
   "source": [
    "class_names = [ \"rock\", \"paper\",\"scissor\"]\n",
    "\n",
    "for index,class_name in enumerate(class_names,start= 0):\n",
    "    print(index,\"-\",class_name)"
   ]
  },
  {
   "cell_type": "markdown",
   "id": "f4db92a1",
   "metadata": {},
   "source": [
    "#zip function\n",
    "\n",
    "zip is an incredible function that takes twon iterators and returns a corresponding element as a tuple."
   ]
  },
  {
   "cell_type": "code",
   "execution_count": 64,
   "id": "5b1aab74",
   "metadata": {},
   "outputs": [
    {
     "data": {
      "text/plain": [
       "<zip at 0x7fa01806f500>"
      ]
     },
     "execution_count": 64,
     "metadata": {},
     "output_type": "execute_result"
    }
   ],
   "source": [
    "name = [\"jessy\",\"joe\",\"jeannette\"]\n",
    "role = [\"ml engineer\",\"web developer\",\"data engineer\"]\n",
    "\n",
    "zipped_name_role = zip(name,role)\n",
    "zipped_name_role"
   ]
  },
  {
   "cell_type": "markdown",
   "id": "20fdd90c",
   "metadata": {},
   "source": [
    "##the zip object returns nothing in order to show the  zipped elements ,we can use a list. its also samething for enumerate you saw above."
   ]
  },
  {
   "cell_type": "code",
   "execution_count": 65,
   "id": "794aafad",
   "metadata": {},
   "outputs": [
    {
     "data": {
      "text/plain": [
       "[('jessy', 'ml engineer'),\n",
       " ('joe', 'web developer'),\n",
       " ('jeannette', 'data engineer')]"
      ]
     },
     "execution_count": 65,
     "metadata": {},
     "output_type": "execute_result"
    }
   ],
   "source": [
    "list(zipped_name_role)"
   ]
  },
  {
   "cell_type": "markdown",
   "id": "250fb7d6",
   "metadata": {},
   "source": [
    "#reduce function"
   ]
  },
  {
   "cell_type": "markdown",
   "id": "9cfde012",
   "metadata": {},
   "source": [
    "reduce()function is used in performing some computations on a list,\n",
    "and unlike map()and filter() function, it returns a single value as \n",
    "the result.\n",
    "\n",
    "the reduce (fun,seq)function is used to apply a particular function\n",
    "passed in its arguement to all of the list elements mentioned in \n",
    "the sequence passed along. this function is defined in the functool\n",
    "module\n"
   ]
  },
  {
   "cell_type": "code",
   "execution_count": 67,
   "id": "499bd1f7",
   "metadata": {},
   "outputs": [],
   "source": [
    "def gibberrish(*args):\n",
    "    '''\n",
    "    concatenate strings in arg together\n",
    "    '''\n",
    "    hodge= \"\"\n",
    "    for word in args:\n",
    "        hodge += word\n",
    "    return hodge"
   ]
  },
  {
   "cell_type": "code",
   "execution_count": 68,
   "id": "aa5f115a",
   "metadata": {},
   "outputs": [
    {
     "data": {
      "text/plain": [
       "'hellodeargoodluck'"
      ]
     },
     "execution_count": 68,
     "metadata": {},
     "output_type": "execute_result"
    }
   ],
   "source": [
    "gibberrish(\"hello\",\"dear\",\"goodluck\")"
   ]
  },
  {
   "cell_type": "markdown",
   "id": "232c4871",
   "metadata": {},
   "source": [
    "## here gibberrish() simply takes a list of stri gs as an arguement and returns , as returns,as single value result, the concatenation"
   ]
  },
  {
   "cell_type": "markdown",
   "id": "580545bf",
   "metadata": {},
   "source": [
    "strings together"
   ]
  },
  {
   "cell_type": "code",
   "execution_count": 69,
   "id": "b6e3d0b6",
   "metadata": {},
   "outputs": [],
   "source": [
    "from functools import reduce"
   ]
  },
  {
   "cell_type": "code",
   "execution_count": 70,
   "id": "5c04e640",
   "metadata": {},
   "outputs": [],
   "source": [
    "stark = [\"robb\", \"samsa\", \"arya\", \"brandom\",\"rickon\"]"
   ]
  },
  {
   "cell_type": "code",
   "execution_count": null,
   "id": "b8e7c11c",
   "metadata": {},
   "outputs": [],
   "source": [
    "result= reduce(lambda item1, item2: item2: item1 + item2, stark)\n",
    "print(result)"
   ]
  }
 ],
 "metadata": {
  "kernelspec": {
   "display_name": "Python 3 (ipykernel)",
   "language": "python",
   "name": "python3"
  },
  "language_info": {
   "codemirror_mode": {
    "name": "ipython",
    "version": 3
   },
   "file_extension": ".py",
   "mimetype": "text/x-python",
   "name": "python",
   "nbconvert_exporter": "python",
   "pygments_lexer": "ipython3",
   "version": "3.9.12"
  }
 },
 "nbformat": 4,
 "nbformat_minor": 5
}
