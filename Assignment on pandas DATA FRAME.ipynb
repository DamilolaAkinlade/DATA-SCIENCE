{
 "cells": [
  {
   "cell_type": "raw",
   "id": "14112e74",
   "metadata": {},
   "source": [
    "Consider below Univelcity Bootcamp's information about different batches:\n",
    "Total_Candidates = {'absolute_beginners': 785, 'beginners': 825, 'intermediat_advanced': 602} \n",
    "Active_Candidates = {'absolute_beginners': 500, 'beginners': 425, 'intermediat_advanced': 300}\n",
    "Create a Pandas DataFrame using the above information (name your Dataframe as univelcity)\n",
    "Get all the columns in Univelcity.\n",
    "Get the information of total candidates present in each batch using dictionary-style indexing.\n",
    "Find the number of candidates for each batch who are not active and add this information to the dataframe univelcity.\n",
    "Also, find the percent of candidates that are active in each batch and add this information to the univelcity dataframe (hint: 𝑝𝑒𝑟𝑐𝑒𝑛𝑡=(𝑎𝑐𝑡𝑖𝑣𝑒/𝑡𝑜𝑡𝑎𝑙)∗100)\n",
    "Get all the batches where the percentage of active candidates is greater than 60%\n"
   ]
  },
  {
   "cell_type": "code",
   "execution_count": null,
   "id": "3da93050",
   "metadata": {},
   "outputs": [],
   "source": [
    "Total_Candidates = {'absolute_beginners': 785, 'beginners': 825, 'intermediat_advanced': 602}\n",
    "Actives_Candidates = {'absolute_beginners': 500, 'beginners': 425, 'intermediat_advanced': 300}\n",
    "\n",
    "univelcity = pd.DataFrame({'Total Candidates': Total_Candidates,'Active Candidates':Active_Candidates})"
   ]
  }
 ],
 "metadata": {
  "kernelspec": {
   "display_name": "Python 3 (ipykernel)",
   "language": "python",
   "name": "python3"
  },
  "language_info": {
   "codemirror_mode": {
    "name": "ipython",
    "version": 3
   },
   "file_extension": ".py",
   "mimetype": "text/x-python",
   "name": "python",
   "nbconvert_exporter": "python",
   "pygments_lexer": "ipython3",
   "version": "3.9.12"
  }
 },
 "nbformat": 4,
 "nbformat_minor": 5
}
