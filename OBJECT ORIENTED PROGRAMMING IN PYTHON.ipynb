{
 "cells": [
  {
   "cell_type": "markdown",
   "id": "ad026d63",
   "metadata": {},
   "source": [
    "Object oriented programming (oop) is a method of structuring a program by bundling related\n",
    "properties and behaviours into individual objects. in  the lab,you will learn how to object\n",
    "oriented programming in python. here is an overview:\n",
    "\n",
    ".understanding the basis of object oriented programming:\n",
    "-1.1procedural Vs.OOP\n",
    "-1.2 objecvt"
   ]
  },
  {
   "cell_type": "markdown",
   "id": "b03022b0",
   "metadata": {},
   "source": [
    "## understanding Basis of object -oriented Programming\n",
    "\n",
    "\n",
    "like other general -purpose programming languages,python is also an object oriented language \n",
    "since its beginning. it allows us to develop applications using an object oriented approach. in python ,we can easily create and use classes and objects .\n",
    "\n",
    "an object  oriented paradigm is to design the program using classes and objects . the oops's concept focuses on writingv the reuseable code . it is widespread technique to solve the problems by creating objects.\n",
    "\n",
    "major principles of object oriented programmingsystem are given below.\n",
    "\n",
    "# class,object, method, inheritance ,polymorphism,abstraction and encapsulation\n",
    "\n",
    "\n",
    "1.1. procedural vs oop\n",
    " until now,we have probably been coding in procedural style i.e. our code is a sequence of steps to be carried out. this is common when doing data analysis.\n",
    " \n",
    " \n",
    " 1. you  download  the data \n",
    " 2. you process the data \n",
    " 3. you visualize the data\n",
    " \n",
    " # thinking in sequence\n",
    " \n",
    " procedural thinking is inherently natural;\n",
    " \n",
    " you woke up - you had breakfast-you go to univelcity- you go home to rest\n",
    " \n",
    " this sequence view point is great if we are planning our day . but assuming we are in a planner in lagos. we would have to think of thousands of people with their own routrines"
   ]
  },
  {
   "cell_type": "markdown",
   "id": "c2e2fce7",
   "metadata": {},
   "source": [
    "hence trying to map out a sequence of action for each individual will be quickly\n",
    "unattainable. instead , we start thinking patterns of behaviours. the \n"
   ]
  },
  {
   "cell_type": "markdown",
   "id": "93b36a2a",
   "metadata": {},
   "source": [
    "Procedural Programming                 object oriented "
   ]
  },
  {
   "cell_type": "code",
   "execution_count": null,
   "id": "7d0b2a85",
   "metadata": {},
   "outputs": [],
   "source": []
  },
  {
   "cell_type": "code",
   "execution_count": null,
   "id": "d2708210",
   "metadata": {},
   "outputs": [],
   "source": []
  },
  {
   "cell_type": "code",
   "execution_count": null,
   "id": "aec15c1e",
   "metadata": {},
   "outputs": [],
   "source": []
  },
  {
   "cell_type": "code",
   "execution_count": null,
   "id": "5b761e46",
   "metadata": {},
   "outputs": [],
   "source": []
  },
  {
   "cell_type": "code",
   "execution_count": null,
   "id": "a4d6737d",
   "metadata": {},
   "outputs": [],
   "source": []
  },
  {
   "cell_type": "markdown",
   "id": "ab586bda",
   "metadata": {},
   "source": [
    "1.2. objects as data structures\n",
    "\n",
    "object = state+ behaviour\n",
    "\n",
    "\n",
    "example:\n",
    "\n",
    "1)an object "
   ]
  },
  {
   "cell_type": "markdown",
   "id": "193aa6c7",
   "metadata": {},
   "source": [
    "## ENCAPSULATION in a simpler term means building data with code operating it"
   ]
  },
  {
   "cell_type": "markdown",
   "id": "49d44bb9",
   "metadata": {},
   "source": [
    "classes as blueprints\n",
    "\n",
    "classes are the blue print for objects outling possible states and behaviour.the real strength of oop comes from utilizing classes. they describe the posssible states and behaviours that every object of a certain type could have.\n",
    "\n",
    "\n",
    "e.g\n",
    "assume our customer class hs\n",
    "\n",
    ".email, phone\n",
    ".place order,cancel order\n",
    "\n",
    "if we say that every customer will have a phone number , an email address and will be able to place and cancel orders . we have just defined a class. so we can now talk about how customers are unified in a specific way\n",
    "\n",
    "\n",
    "email: lara@company.com\n",
    "phone :070890xyz\n",
    "place order\n",
    "cancel order\n",
    "\n",
    "email: Amara@company.com\n",
    "phone:090890xyz\n",
    "place order\n",
    "cancel order\n"
   ]
  },
  {
   "cell_type": "markdown",
   "id": "529fb991",
   "metadata": {},
   "source": [
    "# objects in python\n",
    "\n",
    "1.in python,every thing is an object.this is because every object has a. class, a blue print associated with it underhood.\n",
    "2. we can use the `type` function to find the class of any object in python"
   ]
  },
  {
   "cell_type": "code",
   "execution_count": 3,
   "id": "4b08811a",
   "metadata": {},
   "outputs": [],
   "source": [
    "#importing the needed library\n",
    "\n",
    "import numpy as np\n",
    "import pandas as pd"
   ]
  },
  {
   "cell_type": "code",
   "execution_count": 4,
   "id": "2d16db38",
   "metadata": {},
   "outputs": [
    {
     "name": "stdout",
     "output_type": "stream",
     "text": [
      "<class 'numpy.ndarray'>\n"
     ]
    }
   ],
   "source": [
    "a = np.array([1,2,3,4,])\n",
    "print(type(a))"
   ]
  },
  {
   "cell_type": "code",
   "execution_count": 5,
   "id": "faeb0f9d",
   "metadata": {},
   "outputs": [
    {
     "name": "stdout",
     "output_type": "stream",
     "text": [
      "<class 'int'>\n"
     ]
    }
   ],
   "source": [
    "#check the class of the object \"5\"\n",
    "print(type(5))"
   ]
  },
  {
   "cell_type": "code",
   "execution_count": 6,
   "id": "6ea6a62b",
   "metadata": {},
   "outputs": [
    {
     "name": "stdout",
     "output_type": "stream",
     "text": [
      "<class 'str'>\n"
     ]
    }
   ],
   "source": [
    "#check the class of the object \"hello\"\n",
    "print(type(\"hello\"))"
   ]
  },
  {
   "cell_type": "code",
   "execution_count": 7,
   "id": "801723ff",
   "metadata": {},
   "outputs": [
    {
     "name": "stdout",
     "output_type": "stream",
     "text": [
      "<class 'pandas.core.frame.DataFrame'>\n"
     ]
    }
   ],
   "source": [
    "# check the class of the object \"pd.DataFrame()\"\n",
    "print(type(pd.DataFrame()))"
   ]
  },
  {
   "cell_type": "code",
   "execution_count": 8,
   "id": "889c8334",
   "metadata": {},
   "outputs": [
    {
     "name": "stdout",
     "output_type": "stream",
     "text": [
      "<class 'function'>\n"
     ]
    }
   ],
   "source": [
    "print(type(np.mean))"
   ]
  },
  {
   "cell_type": "markdown",
   "id": "e3f901b9",
   "metadata": {},
   "source": [
    "# Attributes and methods\n",
    "\n",
    "classes incoporate information about state and behaviour\n",
    "\n",
    "# state information in python is called attributes\n",
    "# behaviour in formation in python is called methods"
   ]
  },
  {
   "cell_type": "markdown",
   "id": "51dd1223",
   "metadata": {},
   "source": [
    "# states - attributes"
   ]
  },
  {
   "cell_type": "code",
   "execution_count": 9,
   "id": "48ddb455",
   "metadata": {},
   "outputs": [
    {
     "data": {
      "text/plain": [
       "(4,)"
      ]
     },
     "execution_count": 9,
     "metadata": {},
     "output_type": "execute_result"
    }
   ],
   "source": [
    "a= np.array([1,2,3,4])\n",
    "a.shape"
   ]
  },
  {
   "cell_type": "code",
   "execution_count": 13,
   "id": "ec226e96",
   "metadata": {},
   "outputs": [
    {
     "data": {
      "text/plain": [
       "array([[1, 2, 3, 4],\n",
       "       [5, 6, 7, 8]])"
      ]
     },
     "execution_count": 13,
     "metadata": {},
     "output_type": "execute_result"
    }
   ],
   "source": [
    "nd2 = np. array([[1,2,3,4],\n",
    "                [5,6,7,8]])\n",
    "nd2"
   ]
  },
  {
   "cell_type": "code",
   "execution_count": 14,
   "id": "d18d0f22",
   "metadata": {},
   "outputs": [
    {
     "data": {
      "text/plain": [
       "(2, 4)"
      ]
     },
     "execution_count": 14,
     "metadata": {},
     "output_type": "execute_result"
    }
   ],
   "source": [
    "nd2.shape"
   ]
  },
  {
   "cell_type": "code",
   "execution_count": 15,
   "id": "e489fbf5",
   "metadata": {},
   "outputs": [
    {
     "data": {
      "text/plain": [
       "array([1, 2, 3, 4])"
      ]
     },
     "execution_count": 15,
     "metadata": {},
     "output_type": "execute_result"
    }
   ],
   "source": [
    "nd1 = np.array([1,2,3,4])\n",
    "nd1"
   ]
  },
  {
   "cell_type": "code",
   "execution_count": 16,
   "id": "b75df029",
   "metadata": {},
   "outputs": [
    {
     "data": {
      "text/plain": [
       "(4,)"
      ]
     },
     "execution_count": 16,
     "metadata": {},
     "output_type": "execute_result"
    }
   ],
   "source": [
    "nd1.shape"
   ]
  },
  {
   "cell_type": "code",
   "execution_count": null,
   "id": "62530cba",
   "metadata": {},
   "outputs": [],
   "source": []
  },
  {
   "cell_type": "markdown",
   "id": "4a49edda",
   "metadata": {},
   "source": [
    "# behaviour - methods"
   ]
  },
  {
   "cell_type": "code",
   "execution_count": 17,
   "id": "b7cced8f",
   "metadata": {},
   "outputs": [
    {
     "data": {
      "text/plain": [
       "array([[1, 2],\n",
       "       [3, 4]])"
      ]
     },
     "execution_count": 17,
     "metadata": {},
     "output_type": "execute_result"
    }
   ],
   "source": [
    "a= np.array([1,2,3,4,])\n",
    "a.reshape(2,2)"
   ]
  },
  {
   "cell_type": "markdown",
   "id": "aa8f3551",
   "metadata": {},
   "source": [
    "## behaviour - methods"
   ]
  },
  {
   "cell_type": "markdown",
   "id": "09017ff0",
   "metadata": {},
   "source": [
    "in summary \n",
    "\n",
    "OBJECTS = ATTRIBUTES (STATE) + METHODS(BEHAVIOUR)\n",
    "ATTRIBUTE<->VARIABLES<->obj.my_attributes\n",
    "METHODS<->FUNCTION<->obj.my_method()"
   ]
  },
  {
   "cell_type": "code",
   "execution_count": 18,
   "id": "4a3bb325",
   "metadata": {},
   "outputs": [
    {
     "data": {
      "text/plain": [
       "['T',\n",
       " '__abs__',\n",
       " '__add__',\n",
       " '__and__',\n",
       " '__array__',\n",
       " '__array_finalize__',\n",
       " '__array_function__',\n",
       " '__array_interface__',\n",
       " '__array_prepare__',\n",
       " '__array_priority__',\n",
       " '__array_struct__',\n",
       " '__array_ufunc__',\n",
       " '__array_wrap__',\n",
       " '__bool__',\n",
       " '__class__',\n",
       " '__complex__',\n",
       " '__contains__',\n",
       " '__copy__',\n",
       " '__deepcopy__',\n",
       " '__delattr__',\n",
       " '__delitem__',\n",
       " '__dir__',\n",
       " '__divmod__',\n",
       " '__doc__',\n",
       " '__eq__',\n",
       " '__float__',\n",
       " '__floordiv__',\n",
       " '__format__',\n",
       " '__ge__',\n",
       " '__getattribute__',\n",
       " '__getitem__',\n",
       " '__gt__',\n",
       " '__hash__',\n",
       " '__iadd__',\n",
       " '__iand__',\n",
       " '__ifloordiv__',\n",
       " '__ilshift__',\n",
       " '__imatmul__',\n",
       " '__imod__',\n",
       " '__imul__',\n",
       " '__index__',\n",
       " '__init__',\n",
       " '__init_subclass__',\n",
       " '__int__',\n",
       " '__invert__',\n",
       " '__ior__',\n",
       " '__ipow__',\n",
       " '__irshift__',\n",
       " '__isub__',\n",
       " '__iter__',\n",
       " '__itruediv__',\n",
       " '__ixor__',\n",
       " '__le__',\n",
       " '__len__',\n",
       " '__lshift__',\n",
       " '__lt__',\n",
       " '__matmul__',\n",
       " '__mod__',\n",
       " '__mul__',\n",
       " '__ne__',\n",
       " '__neg__',\n",
       " '__new__',\n",
       " '__or__',\n",
       " '__pos__',\n",
       " '__pow__',\n",
       " '__radd__',\n",
       " '__rand__',\n",
       " '__rdivmod__',\n",
       " '__reduce__',\n",
       " '__reduce_ex__',\n",
       " '__repr__',\n",
       " '__rfloordiv__',\n",
       " '__rlshift__',\n",
       " '__rmatmul__',\n",
       " '__rmod__',\n",
       " '__rmul__',\n",
       " '__ror__',\n",
       " '__rpow__',\n",
       " '__rrshift__',\n",
       " '__rshift__',\n",
       " '__rsub__',\n",
       " '__rtruediv__',\n",
       " '__rxor__',\n",
       " '__setattr__',\n",
       " '__setitem__',\n",
       " '__setstate__',\n",
       " '__sizeof__',\n",
       " '__str__',\n",
       " '__sub__',\n",
       " '__subclasshook__',\n",
       " '__truediv__',\n",
       " '__xor__',\n",
       " 'all',\n",
       " 'any',\n",
       " 'argmax',\n",
       " 'argmin',\n",
       " 'argpartition',\n",
       " 'argsort',\n",
       " 'astype',\n",
       " 'base',\n",
       " 'byteswap',\n",
       " 'choose',\n",
       " 'clip',\n",
       " 'compress',\n",
       " 'conj',\n",
       " 'conjugate',\n",
       " 'copy',\n",
       " 'ctypes',\n",
       " 'cumprod',\n",
       " 'cumsum',\n",
       " 'data',\n",
       " 'diagonal',\n",
       " 'dot',\n",
       " 'dtype',\n",
       " 'dump',\n",
       " 'dumps',\n",
       " 'fill',\n",
       " 'flags',\n",
       " 'flat',\n",
       " 'flatten',\n",
       " 'getfield',\n",
       " 'imag',\n",
       " 'item',\n",
       " 'itemset',\n",
       " 'itemsize',\n",
       " 'max',\n",
       " 'mean',\n",
       " 'min',\n",
       " 'nbytes',\n",
       " 'ndim',\n",
       " 'newbyteorder',\n",
       " 'nonzero',\n",
       " 'partition',\n",
       " 'prod',\n",
       " 'ptp',\n",
       " 'put',\n",
       " 'ravel',\n",
       " 'real',\n",
       " 'repeat',\n",
       " 'reshape',\n",
       " 'resize',\n",
       " 'round',\n",
       " 'searchsorted',\n",
       " 'setfield',\n",
       " 'setflags',\n",
       " 'shape',\n",
       " 'size',\n",
       " 'sort',\n",
       " 'squeeze',\n",
       " 'std',\n",
       " 'strides',\n",
       " 'sum',\n",
       " 'swapaxes',\n",
       " 'take',\n",
       " 'tobytes',\n",
       " 'tofile',\n",
       " 'tolist',\n",
       " 'tostring',\n",
       " 'trace',\n",
       " 'transpose',\n",
       " 'var',\n",
       " 'view']"
      ]
     },
     "execution_count": 18,
     "metadata": {},
     "output_type": "execute_result"
    }
   ],
   "source": [
    "## you can list all attributes and methods an object has by calling `dir()`on it\n",
    "\n",
    "dir(a)"
   ]
  },
  {
   "cell_type": "markdown",
   "id": "be62a211",
   "metadata": {},
   "source": [
    "## class anatomy : attributes and methods\n",
    "\n",
    "now that we know how to work with class anatomy lets try to c reate our own class.\n",
    "\n"
   ]
  },
  {
   "cell_type": "markdown",
   "id": "d530b44b",
   "metadata": {},
   "source": [
    "## creating a basic class"
   ]
  },
  {
   "cell_type": "code",
   "execution_count": 19,
   "id": "51830712",
   "metadata": {},
   "outputs": [],
   "source": [
    "class customer :\n",
    "    # code for the class goes here\n",
    "    pass"
   ]
  },
  {
   "cell_type": "code",
   "execution_count": 20,
   "id": "7593ead7",
   "metadata": {},
   "outputs": [],
   "source": [
    "c1 = customer ()#<...creating an object of class customer()\n",
    "c2 = customer ()#< ... creating an object class customer"
   ]
  },
  {
   "cell_type": "markdown",
   "id": "04f54f29",
   "metadata": {},
   "source": [
    "both `c1` and `c2` are object of the class `customer()`"
   ]
  },
  {
   "cell_type": "markdown",
   "id": "338da80d",
   "metadata": {},
   "source": [
    "## ADDING METHODS TO A CLASS"
   ]
  },
  {
   "cell_type": "code",
   "execution_count": 35,
   "id": "2bc90cb0",
   "metadata": {},
   "outputs": [],
   "source": [
    "class customer:\n",
    "    def identify(self,name): #<.... we use self as the first arguement in method definition\n",
    "        print(\"i am customer \" + name)"
   ]
  },
  {
   "cell_type": "code",
   "execution_count": 36,
   "id": "e7f1a489",
   "metadata": {},
   "outputs": [],
   "source": [
    "cust = customer()#<...creating a new customer object"
   ]
  },
  {
   "cell_type": "code",
   "execution_count": 37,
   "id": "0f219f13",
   "metadata": {},
   "outputs": [
    {
     "name": "stdout",
     "output_type": "stream",
     "text": [
      "i am customer chioma\n"
     ]
    }
   ],
   "source": [
    "cust. identify (\"chioma\")#<... calling the method (identify) on the object(cust) \n",
    "                         #of the class(customer)\n",
    "                        "
   ]
  },
  {
   "cell_type": "markdown",
   "id": "7f8e9ceb",
   "metadata": {},
   "source": [
    "## what is self?\n",
    "\n",
    "`self` simply is a pointer to our class instance. `self` is the first arguemenet of every python  class. when python calls a method calls a method in your calls ,it will pass in the actual instance of that class that you are working with as the first arguement. some programming languages use the word `this` to represent the instance but in  python we use `self`\n",
    "\n",
    "the variable `self` points to the instance of the class that you arevworking with."
   ]
  },
  {
   "cell_type": "markdown",
   "id": "3f6b86eb",
   "metadata": {},
   "source": [
    "# further explanation.\n",
    "\n",
    ". classes are templates\n",
    ". objects of a class dont exist when a class is being defined,but we need a way to refer to the data of the particuklar object within a class definition . that is the purpose of `self`\n",
    "\n",
    ". when you define a class in python,every method youy define ,must accept the instance of its first arguement(called self by convention). so we could use it to access attributes and call other methods within a class definition even when no objects are created yet\n",
    "\n",
    ".python will handle `self` when the method is called from an object using the dot syntax\n",
    "\n",
    ". when using the `object-dot-method` ===> this is equivalent to passing the object as an arguement.that is why we specify it when calling the method from an existing objecxt\n",
    "\n",
    "\n",
    "\n",
    "example\n",
    "`cust.identify(\"chioma\")n is interpreted as customer .identify(cust,\"chioma)`"
   ]
  },
  {
   "cell_type": "markdown",
   "id": "55339a87",
   "metadata": {},
   "source": [
    "# we need attruibutes\n",
    "\n",
    "by the principles in oop ,the data describing the state of the object should be bundled into the object (encapsulation)\n",
    "\n",
    "example\n",
    "\n",
    ". a customer name should be an attribute to a customer object,instead of a parameter passed into a method.\n",
    ". in python justblike variables ,attributes are ctreated by assignment,by using the assignment operator`(=)`,meaning an attribute manifests into existence only when a value is assigned to it."
   ]
  },
  {
   "cell_type": "markdown",
   "id": "dacd6a32",
   "metadata": {},
   "source": [
    "# adding an attribute to a class"
   ]
  },
  {
   "cell_type": "code",
   "execution_count": 38,
   "id": "3cb85272",
   "metadata": {},
   "outputs": [],
   "source": [
    "class customer:\n",
    "    def set_name(self,new_name):\n",
    "        self.name= new_name"
   ]
  },
  {
   "cell_type": "code",
   "execution_count": 40,
   "id": "8109072a",
   "metadata": {},
   "outputs": [
    {
     "name": "stdout",
     "output_type": "stream",
     "text": [
      "damilola\n"
     ]
    }
   ],
   "source": [
    "cust = customer ()   #<.......name doesnt exist here yet.\n",
    "cust.set_name(\"damilola\") #<.....name is called and set to \"damilola\"\n",
    "print(cust.name)  #<.....name can be used here"
   ]
  },
  {
   "cell_type": "markdown",
   "id": "7b0ff0d3",
   "metadata": {},
   "source": [
    "# using attributes in class definition\n",
    "now that we have been equipped with the name attribute, lets improve our identification method!"
   ]
  },
  {
   "cell_type": "code",
   "execution_count": 41,
   "id": "e6264854",
   "metadata": {},
   "outputs": [],
   "source": [
    "#old version\n",
    "\n",
    "class customer:\n",
    "    def identify(self,name):\n",
    "        print(\"i am a customer \" + name)\n",
    "    "
   ]
  },
  {
   "cell_type": "code",
   "execution_count": 42,
   "id": "22a403df",
   "metadata": {},
   "outputs": [
    {
     "name": "stdout",
     "output_type": "stream",
     "text": [
      "i am a customer emeka\n"
     ]
    }
   ],
   "source": [
    "cust = customer()\n",
    "cust.identify(\"emeka\")"
   ]
  },
  {
   "cell_type": "code",
   "execution_count": 43,
   "id": "ce4f81d3",
   "metadata": {},
   "outputs": [],
   "source": [
    "#new version\n",
    "\n",
    "class customer:\n",
    "    def set_name(self,new_name):\n",
    "        self.name = new_name\n",
    "    def identify(self):\n",
    "        print(\"i am customer \" + self.name)\n",
    "        \n",
    "        "
   ]
  },
  {
   "cell_type": "code",
   "execution_count": 45,
   "id": "2826966f",
   "metadata": {},
   "outputs": [
    {
     "name": "stdout",
     "output_type": "stream",
     "text": [
      "i am customer emeka\n"
     ]
    }
   ],
   "source": [
    "cust = customer()\n",
    "cust.set_name(\"emeka\" )\n",
    "cust.identify()"
   ]
  },
  {
   "cell_type": "markdown",
   "id": "cfa8365e",
   "metadata": {},
   "source": [
    "- instead of passing the name as a parameter , \n",
    "we used the data already stored in the name attribute o`f the class\n",
    "\n",
    "-we moved the name attribute from the `identify` method and replace it `self.name`\n"
   ]
  },
  {
   "cell_type": "code",
   "execution_count": 24,
   "id": "e6b25a11",
   "metadata": {},
   "outputs": [
    {
     "name": "stdout",
     "output_type": "stream",
     "text": [
      "6\n"
     ]
    }
   ],
   "source": [
    "class MyCounter():\n",
    "    \n",
    "    def set_count(self,n):\n",
    "        self.count = n\n",
    "        \n",
    "mc= MyCounter()\n",
    "mc.set_count(5)\n",
    "mc.count = mc.count+1\n",
    "\n",
    "print(mc.count)\n",
    "        "
   ]
  },
  {
   "cell_type": "markdown",
   "id": "43f4302c",
   "metadata": {},
   "source": [
    "exercise2\n",
    "create an empty class employee\n",
    "create an object emp of the class employee\n",
    "print the name attribute of emp"
   ]
  },
  {
   "cell_type": "code",
   "execution_count": 2,
   "id": "bb707567",
   "metadata": {},
   "outputs": [
    {
     "name": "stdout",
     "output_type": "stream",
     "text": [
      "dami\n"
     ]
    }
   ],
   "source": [
    "class employee():\n",
    "    def set_name(self,nw_name):\n",
    "        self.name = (nw_name)\n",
    "        pass\n",
    "        \n",
    "emp =employee()\n",
    "emp.set_name(\"dami\")\n",
    "print(emp.name)\n",
    "           "
   ]
  },
  {
   "cell_type": "code",
   "execution_count": 43,
   "id": "b6427a9c",
   "metadata": {},
   "outputs": [],
   "source": [
    "class employee():\n",
    "    def set_name(self,new_name):\n",
    "        self.name = new_name\n",
    "        \n",
    "    def set_salary(self, new_salary):\n",
    "        self.salary=new_salary\n",
    "        "
   ]
  },
  {
   "cell_type": "code",
   "execution_count": 44,
   "id": "7b87c7a7",
   "metadata": {},
   "outputs": [
    {
     "name": "stdout",
     "output_type": "stream",
     "text": [
      "timothy dirisu\n"
     ]
    }
   ],
   "source": [
    "emp = employee()\n",
    "emp.set_name(\"timothy dirisu\")\n",
    "\n",
    "print(emp.name)"
   ]
  },
  {
   "cell_type": "code",
   "execution_count": 51,
   "id": "9d505a5b",
   "metadata": {},
   "outputs": [
    {
     "name": "stdout",
     "output_type": "stream",
     "text": [
      "5000\n"
     ]
    }
   ],
   "source": [
    "emp.set_salary(5000)\n",
    "print(emp.salary)"
   ]
  },
  {
   "cell_type": "markdown",
   "id": "dd357ef9",
   "metadata": {},
   "source": [
    "EXERCISE 4:USING ATTRIBUTES IN CLASS DEFINITION\n",
    "    \n",
    "    In the previous exercise, we defined an employee class  with two methods setting \n",
    "    those attributes. this kind of method ,aptly called `setter method` isnt the only possible kind\n",
    "    \n",
    "    Methods are functions, so anything we can do with a function ,we can also do with a method. in this exercise ,we'll go beyond the setter methods and learn how to use existing\n",
    "    class attributes to define new methods \n",
    "    "
   ]
  },
  {
   "cell_type": "code",
   "execution_count": 55,
   "id": "c8a427e6",
   "metadata": {},
   "outputs": [],
   "source": [
    "class employee():\n",
    "    def set_name(self,new_name):\n",
    "        self.name = new_name\n",
    "        \n",
    "    def set_salary(self, new_salary):\n",
    "        self.salary=new_salary\n",
    "        "
   ]
  },
  {
   "cell_type": "code",
   "execution_count": 56,
   "id": "6bdf9976",
   "metadata": {},
   "outputs": [
    {
     "name": "stdout",
     "output_type": "stream",
     "text": [
      "timothy dirisu\n"
     ]
    }
   ],
   "source": [
    "emp = employee()\n",
    "emp.set_name(\"timothy dirisu\")\n",
    "\n",
    "print(emp.name)"
   ]
  },
  {
   "cell_type": "code",
   "execution_count": 57,
   "id": "c229cc8d",
   "metadata": {},
   "outputs": [
    {
     "name": "stdout",
     "output_type": "stream",
     "text": [
      "5000\n"
     ]
    }
   ],
   "source": [
    "emp.set_salary(5000)\n",
    "print(emp.salary)"
   ]
  },
  {
   "cell_type": "code",
   "execution_count": 58,
   "id": "5da2dd21",
   "metadata": {},
   "outputs": [
    {
     "name": "stdout",
     "output_type": "stream",
     "text": [
      "6500\n"
     ]
    }
   ],
   "source": [
    "emp.salary = emp.salary + 1500 #<\n",
    "print(emp.salary)"
   ]
  },
  {
   "cell_type": "markdown",
   "id": "dcdb2257",
   "metadata": {},
   "source": [
    "## EXERCISE 5: RAISE THE SALARY ON EMPLOYEE\n",
    "\n",
    "Raising the salary for an employee is a common pattern of behaviour, so it should,so it should be part of the class definition instead\n",
    "\n",
    "-add a method `give_raise()to employee that increases the salary by the amount passed to give_raise() to employee that increases the salary by the amount passed to give_raise() as parameter"
   ]
  },
  {
   "cell_type": "code",
   "execution_count": 61,
   "id": "8f2a126a",
   "metadata": {},
   "outputs": [],
   "source": [
    "class employee():\n",
    "    def set_name(self,new_name):\n",
    "        self.name = new_name\n",
    "        \n",
    "    def set_salary(self, new_salary):\n",
    "        self.salary=new_salary\n",
    "        "
   ]
  },
  {
   "cell_type": "code",
   "execution_count": null,
   "id": "6e73e841",
   "metadata": {},
   "outputs": [],
   "source": []
  }
 ],
 "metadata": {
  "kernelspec": {
   "display_name": "Python 3 (ipykernel)",
   "language": "python",
   "name": "python3"
  },
  "language_info": {
   "codemirror_mode": {
    "name": "ipython",
    "version": 3
   },
   "file_extension": ".py",
   "mimetype": "text/x-python",
   "name": "python",
   "nbconvert_exporter": "python",
   "pygments_lexer": "ipython3",
   "version": "3.9.12"
  }
 },
 "nbformat": 4,
 "nbformat_minor": 5
}
