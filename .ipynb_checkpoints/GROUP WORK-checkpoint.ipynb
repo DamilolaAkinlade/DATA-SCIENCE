{
 "cells": [
  {
   "cell_type": "markdown",
   "id": "cd1a3750",
   "metadata": {},
   "source": [
    "#### There is a car park known as 'park and go\", It is owned my 'Mr Emeka'. This car park occupies two plots of land in victoria island,with 30 slots. Mr Emeka wishes to use the land as a form of \" land banking\" pending when it appreciates so he can sell it for a higher price, pending that time he uses it as a car park in Adetokunbo Ademola in victoria lsland. This car park has 30 slots , alot of offices are around there. The car park has a total of 8 workers, 6 unskilled workers and 2 skilled workers. The unskilled workers are paid 50,000 naira monthly while the skilled workers are paid 200,000naira and 150,000 naira respectively.There is a small room in which atimes some of these unskilled workers sleep over . Most of his clients are working in nearby companies.Now lets look at the purposes of this car park and how it relates to sdg 9 and 11\n",
    "\n",
    "- To help reduce traffic in that area .\n",
    "- Increase Parking Capacity and Revenue(To create spaces for offices which do not have enough spaces for their staffs).\n",
    "- serves as a form of research .\n",
    "- Helps as a form of Shelter in the Environment\n",
    "- Improved Security\n",
    "- Reduced Pollution.\n",
    "- Increased Property Value.\n",
    "- To serve as a form of income to the owner\n",
    "- A scheme that can encourage the use of alternative modes of transport.\n",
    "- To serve as a form of job opportunites for people\n",
    "\n",
    "#### As a datascientist i am expected to do the ff:\n",
    "- Carry out a data visualisation and Eda on the park\n"
   ]
  },
  {
   "cell_type": "code",
   "execution_count": 1,
   "id": "3432f896",
   "metadata": {},
   "outputs": [],
   "source": [
    "import numpy as np\n",
    "import pandas as pd\n",
    "import seaborn as sns\n",
    "import plotly.express as px\n",
    "import matplotlib.pyplot as plt\n",
    "%matplotlib inline\n",
    "from urllib.request import urlretrieve"
   ]
  },
  {
   "cell_type": "code",
   "execution_count": 2,
   "id": "cbf41d29",
   "metadata": {},
   "outputs": [],
   "source": [
    "datas=pd.read_csv('ADETOKUNBO ADEMOLA.VI PARK.csv')"
   ]
  },
  {
   "cell_type": "code",
   "execution_count": 3,
   "id": "20964d53",
   "metadata": {},
   "outputs": [
    {
     "data": {
      "text/html": [
       "<div>\n",
       "<style scoped>\n",
       "    .dataframe tbody tr th:only-of-type {\n",
       "        vertical-align: middle;\n",
       "    }\n",
       "\n",
       "    .dataframe tbody tr th {\n",
       "        vertical-align: top;\n",
       "    }\n",
       "\n",
       "    .dataframe thead th {\n",
       "        text-align: right;\n",
       "    }\n",
       "</style>\n",
       "<table border=\"1\" class=\"dataframe\">\n",
       "  <thead>\n",
       "    <tr style=\"text-align: right;\">\n",
       "      <th></th>\n",
       "      <th>names</th>\n",
       "      <th>company /Bus Names</th>\n",
       "      <th>Registration num</th>\n",
       "      <th>Slots</th>\n",
       "      <th>time -1n</th>\n",
       "      <th>cost/hour</th>\n",
       "      <th>ages</th>\n",
       "      <th>revenue/month in millions</th>\n",
       "      <th>cost for staffs/month/k</th>\n",
       "      <th>profit/permonth</th>\n",
       "      <th>month year 2000/2002</th>\n",
       "      <th>no of staffs</th>\n",
       "      <th>no of hrs mon-fri</th>\n",
       "      <th>no of hr/per</th>\n",
       "      <th>Gender</th>\n",
       "    </tr>\n",
       "  </thead>\n",
       "  <tbody>\n",
       "    <tr>\n",
       "      <th>0</th>\n",
       "      <td>tola</td>\n",
       "      <td>S&amp;C CON</td>\n",
       "      <td>07BI6634</td>\n",
       "      <td>30</td>\n",
       "      <td>8.00am</td>\n",
       "      <td>N200</td>\n",
       "      <td>30</td>\n",
       "      <td>1.8</td>\n",
       "      <td>650</td>\n",
       "      <td>1.25</td>\n",
       "      <td>jan</td>\n",
       "      <td>8</td>\n",
       "      <td>10</td>\n",
       "      <td>8</td>\n",
       "      <td>F</td>\n",
       "    </tr>\n",
       "    <tr>\n",
       "      <th>1</th>\n",
       "      <td>tolu</td>\n",
       "      <td>Dell</td>\n",
       "      <td>68RS2900</td>\n",
       "      <td>30</td>\n",
       "      <td>9.00am</td>\n",
       "      <td>N200</td>\n",
       "      <td>20</td>\n",
       "      <td>1.9</td>\n",
       "      <td>650</td>\n",
       "      <td>1.35</td>\n",
       "      <td>feb</td>\n",
       "      <td>8</td>\n",
       "      <td>10</td>\n",
       "      <td>8</td>\n",
       "      <td>F</td>\n",
       "    </tr>\n",
       "    <tr>\n",
       "      <th>2</th>\n",
       "      <td>nife</td>\n",
       "      <td>CrestHospital</td>\n",
       "      <td>49VY5553</td>\n",
       "      <td>30</td>\n",
       "      <td>10.30am</td>\n",
       "      <td>N200</td>\n",
       "      <td>22</td>\n",
       "      <td>2.0</td>\n",
       "      <td>650</td>\n",
       "      <td>1.35</td>\n",
       "      <td>march</td>\n",
       "      <td>8</td>\n",
       "      <td>10</td>\n",
       "      <td>7</td>\n",
       "      <td>M</td>\n",
       "    </tr>\n",
       "    <tr>\n",
       "      <th>3</th>\n",
       "      <td>nife</td>\n",
       "      <td>SunBeach</td>\n",
       "      <td>67ZJ6988</td>\n",
       "      <td>30</td>\n",
       "      <td>8.00am</td>\n",
       "      <td>N200</td>\n",
       "      <td>45</td>\n",
       "      <td>2.1</td>\n",
       "      <td>650</td>\n",
       "      <td>1.45</td>\n",
       "      <td>april</td>\n",
       "      <td>8</td>\n",
       "      <td>10</td>\n",
       "      <td>9</td>\n",
       "      <td>M</td>\n",
       "    </tr>\n",
       "    <tr>\n",
       "      <th>4</th>\n",
       "      <td>tire</td>\n",
       "      <td>ManINSU</td>\n",
       "      <td>20AND527</td>\n",
       "      <td>30</td>\n",
       "      <td>9.00am</td>\n",
       "      <td>N200</td>\n",
       "      <td>35</td>\n",
       "      <td>1.0</td>\n",
       "      <td>650</td>\n",
       "      <td>0.35</td>\n",
       "      <td>may</td>\n",
       "      <td>8</td>\n",
       "      <td>10</td>\n",
       "      <td>5</td>\n",
       "      <td>F</td>\n",
       "    </tr>\n",
       "    <tr>\n",
       "      <th>5</th>\n",
       "      <td>tire</td>\n",
       "      <td>Estaport SCH</td>\n",
       "      <td>38KP1614</td>\n",
       "      <td>30</td>\n",
       "      <td>9.00am</td>\n",
       "      <td>N200</td>\n",
       "      <td>68</td>\n",
       "      <td>1.1</td>\n",
       "      <td>650</td>\n",
       "      <td>0.45</td>\n",
       "      <td>june</td>\n",
       "      <td>8</td>\n",
       "      <td>10</td>\n",
       "      <td>8</td>\n",
       "      <td>F</td>\n",
       "    </tr>\n",
       "  </tbody>\n",
       "</table>\n",
       "</div>"
      ],
      "text/plain": [
       "  names company /Bus Names Registration num  Slots time -1n cost/hour  ages  \\\n",
       "0  tola            S&C CON         07BI6634     30   8.00am      N200    30   \n",
       "1  tolu               Dell         68RS2900     30   9.00am      N200    20   \n",
       "2  nife      CrestHospital         49VY5553     30  10.30am      N200    22   \n",
       "3  nife           SunBeach         67ZJ6988     30   8.00am      N200    45   \n",
       "4  tire            ManINSU         20AND527     30   9.00am      N200    35   \n",
       "5  tire       Estaport SCH         38KP1614     30   9.00am      N200    68   \n",
       "\n",
       "   revenue/month in millions  cost for staffs/month/k  profit/permonth  \\\n",
       "0                        1.8                      650             1.25   \n",
       "1                        1.9                      650             1.35   \n",
       "2                        2.0                      650             1.35   \n",
       "3                        2.1                      650             1.45   \n",
       "4                        1.0                      650             0.35   \n",
       "5                        1.1                      650             0.45   \n",
       "\n",
       "  month year 2000/2002  no of staffs  no of hrs mon-fri   no of hr/per Gender  \n",
       "0                  jan             8                  10             8      F  \n",
       "1                  feb             8                  10             8      F  \n",
       "2                march             8                  10             7      M  \n",
       "3                april             8                  10             9      M  \n",
       "4                 may              8                  10             5      F  \n",
       "5                 june             8                  10             8      F  "
      ]
     },
     "execution_count": 3,
     "metadata": {},
     "output_type": "execute_result"
    }
   ],
   "source": [
    "datas.head(6)"
   ]
  },
  {
   "cell_type": "code",
   "execution_count": 4,
   "id": "c7082eb1",
   "metadata": {},
   "outputs": [
    {
     "data": {
      "text/html": [
       "<div>\n",
       "<style scoped>\n",
       "    .dataframe tbody tr th:only-of-type {\n",
       "        vertical-align: middle;\n",
       "    }\n",
       "\n",
       "    .dataframe tbody tr th {\n",
       "        vertical-align: top;\n",
       "    }\n",
       "\n",
       "    .dataframe thead th {\n",
       "        text-align: right;\n",
       "    }\n",
       "</style>\n",
       "<table border=\"1\" class=\"dataframe\">\n",
       "  <thead>\n",
       "    <tr style=\"text-align: right;\">\n",
       "      <th></th>\n",
       "      <th>count</th>\n",
       "      <th>mean</th>\n",
       "      <th>std</th>\n",
       "      <th>min</th>\n",
       "      <th>25%</th>\n",
       "      <th>50%</th>\n",
       "      <th>75%</th>\n",
       "      <th>max</th>\n",
       "    </tr>\n",
       "  </thead>\n",
       "  <tbody>\n",
       "    <tr>\n",
       "      <th>Slots</th>\n",
       "      <td>50.0</td>\n",
       "      <td>30.0000</td>\n",
       "      <td>0.000000</td>\n",
       "      <td>30.00</td>\n",
       "      <td>30.00</td>\n",
       "      <td>30.00</td>\n",
       "      <td>30.0000</td>\n",
       "      <td>30.0</td>\n",
       "    </tr>\n",
       "    <tr>\n",
       "      <th>ages</th>\n",
       "      <td>50.0</td>\n",
       "      <td>44.8600</td>\n",
       "      <td>13.375289</td>\n",
       "      <td>20.00</td>\n",
       "      <td>35.25</td>\n",
       "      <td>45.00</td>\n",
       "      <td>55.0000</td>\n",
       "      <td>70.0</td>\n",
       "    </tr>\n",
       "    <tr>\n",
       "      <th>revenue/month in millions</th>\n",
       "      <td>50.0</td>\n",
       "      <td>1.4658</td>\n",
       "      <td>0.332204</td>\n",
       "      <td>1.00</td>\n",
       "      <td>1.20</td>\n",
       "      <td>1.42</td>\n",
       "      <td>1.6375</td>\n",
       "      <td>2.6</td>\n",
       "    </tr>\n",
       "    <tr>\n",
       "      <th>cost for staffs/month/k</th>\n",
       "      <td>50.0</td>\n",
       "      <td>650.0000</td>\n",
       "      <td>0.000000</td>\n",
       "      <td>650.00</td>\n",
       "      <td>650.00</td>\n",
       "      <td>650.00</td>\n",
       "      <td>650.0000</td>\n",
       "      <td>650.0</td>\n",
       "    </tr>\n",
       "    <tr>\n",
       "      <th>profit/permonth</th>\n",
       "      <td>50.0</td>\n",
       "      <td>0.8238</td>\n",
       "      <td>0.338206</td>\n",
       "      <td>0.35</td>\n",
       "      <td>0.55</td>\n",
       "      <td>0.75</td>\n",
       "      <td>0.9875</td>\n",
       "      <td>1.9</td>\n",
       "    </tr>\n",
       "    <tr>\n",
       "      <th>no of staffs</th>\n",
       "      <td>50.0</td>\n",
       "      <td>8.0000</td>\n",
       "      <td>0.000000</td>\n",
       "      <td>8.00</td>\n",
       "      <td>8.00</td>\n",
       "      <td>8.00</td>\n",
       "      <td>8.0000</td>\n",
       "      <td>8.0</td>\n",
       "    </tr>\n",
       "    <tr>\n",
       "      <th>no of hrs mon-fri</th>\n",
       "      <td>50.0</td>\n",
       "      <td>10.0000</td>\n",
       "      <td>0.000000</td>\n",
       "      <td>10.00</td>\n",
       "      <td>10.00</td>\n",
       "      <td>10.00</td>\n",
       "      <td>10.0000</td>\n",
       "      <td>10.0</td>\n",
       "    </tr>\n",
       "    <tr>\n",
       "      <th>no of hr/per</th>\n",
       "      <td>50.0</td>\n",
       "      <td>6.7000</td>\n",
       "      <td>1.460361</td>\n",
       "      <td>4.00</td>\n",
       "      <td>5.00</td>\n",
       "      <td>7.50</td>\n",
       "      <td>8.0000</td>\n",
       "      <td>9.0</td>\n",
       "    </tr>\n",
       "  </tbody>\n",
       "</table>\n",
       "</div>"
      ],
      "text/plain": [
       "                           count      mean        std     min     25%     50%  \\\n",
       "Slots                       50.0   30.0000   0.000000   30.00   30.00   30.00   \n",
       "ages                        50.0   44.8600  13.375289   20.00   35.25   45.00   \n",
       "revenue/month in millions   50.0    1.4658   0.332204    1.00    1.20    1.42   \n",
       "cost for staffs/month/k     50.0  650.0000   0.000000  650.00  650.00  650.00   \n",
       "profit/permonth             50.0    0.8238   0.338206    0.35    0.55    0.75   \n",
       "no of staffs                50.0    8.0000   0.000000    8.00    8.00    8.00   \n",
       "no of hrs mon-fri           50.0   10.0000   0.000000   10.00   10.00   10.00   \n",
       "no of hr/per                50.0    6.7000   1.460361    4.00    5.00    7.50   \n",
       "\n",
       "                                75%    max  \n",
       "Slots                       30.0000   30.0  \n",
       "ages                        55.0000   70.0  \n",
       "revenue/month in millions    1.6375    2.6  \n",
       "cost for staffs/month/k    650.0000  650.0  \n",
       "profit/permonth              0.9875    1.9  \n",
       "no of staffs                 8.0000    8.0  \n",
       "no of hrs mon-fri           10.0000   10.0  \n",
       "no of hr/per                 8.0000    9.0  "
      ]
     },
     "execution_count": 4,
     "metadata": {},
     "output_type": "execute_result"
    }
   ],
   "source": [
    "datas.describe().transpose()"
   ]
  },
  {
   "cell_type": "code",
   "execution_count": 5,
   "id": "1248b0b7",
   "metadata": {},
   "outputs": [
    {
     "data": {
      "text/plain": [
       "(50, 15)"
      ]
     },
     "execution_count": 5,
     "metadata": {},
     "output_type": "execute_result"
    }
   ],
   "source": [
    "datas.shape "
   ]
  },
  {
   "cell_type": "code",
   "execution_count": 6,
   "id": "150a6cf2",
   "metadata": {},
   "outputs": [
    {
     "data": {
      "text/plain": [
       "count    50.000000\n",
       "mean     44.860000\n",
       "std      13.375289\n",
       "min      20.000000\n",
       "25%      35.250000\n",
       "50%      45.000000\n",
       "75%      55.000000\n",
       "max      70.000000\n",
       "Name: ages, dtype: float64"
      ]
     },
     "execution_count": 6,
     "metadata": {},
     "output_type": "execute_result"
    }
   ],
   "source": [
    "datas['ages'].describe()"
   ]
  },
  {
   "cell_type": "code",
   "execution_count": 7,
   "id": "35db2727",
   "metadata": {},
   "outputs": [
    {
     "data": {
      "text/plain": [
       "<bound method DataFrame.info of        names      company /Bus Names Registration num  Slots time -1n  \\\n",
       "0       tola                 S&C CON         07BI6634     30   8.00am   \n",
       "1       tolu                    Dell         68RS2900     30   9.00am   \n",
       "2       nife           CrestHospital         49VY5553     30  10.30am   \n",
       "3       nife                SunBeach         67ZJ6988     30   8.00am   \n",
       "4       tire                 ManINSU         20AND527     30   9.00am   \n",
       "5       tire            Estaport SCH         38KP1614     30   9.00am   \n",
       "6     chibum                Cares HM          25PHC79     30   8.30am   \n",
       "7   chibuzor                     H&M          11PCB48     30  12.00pm   \n",
       "8    chidimn         AmalaRestaurant         38JZP670     30   9.00am   \n",
       "9       tola                     H&M         30 DN550     30   9.00am   \n",
       "10     flora                ZenithBK          19GU754     30   9.00am   \n",
       "11     funke                    GTCO         47EH5357     30  10.30am   \n",
       "12     toyin                 Stanbic          32OSM95     30  10.30am   \n",
       "13     sinmi                Sterling          68S0567     30  10.00am   \n",
       "14      titi                StayHome         27GV7040     30  11.00am   \n",
       "15      tope                QuestCar          81ELH97     30  10.00am   \n",
       "16      zaki                MrytlSCH          12GPM26     30  10.00am   \n",
       "17  chidinma                RediHosp         25KOH151     30  10.30am   \n",
       "18      femi                MiniMart          10ST552     30  10.00am   \n",
       "19      dayo                d'prince          70KOM40     30   8.00am   \n",
       "20    dolapo                HapiHosp         26I92829     30   8.30am   \n",
       "21     mabel               JoysResta          46HF020     30  10.00am   \n",
       "22   maureen                UnionBNK          53GG019     30  10.00am   \n",
       "23      moji                  Uniben         77D64420     30  10.30am   \n",
       "24    maheed                 Mansard          44CFM07     30  10.00am   \n",
       "25   fedrick                    Nddc         23S02990     30   9.00am   \n",
       "26      john                   Nscdc         02ER4689     30   9.00am   \n",
       "27     peter                     WHO         63HN0491     30   9.30am   \n",
       "28    joseph              Univelcity         18FO8776     30  10.00am   \n",
       "29    judith                partyCOM          02JIA68     30  10.30am   \n",
       "30     emeka           Stable creche         24EM2968     30  11.00am   \n",
       "31   johnson          Wobel Hospital         71P23305     30  10.00am   \n",
       "32      tola        Arab contractors         65VO5798     30  12.00pm   \n",
       "33      femi            Stanbic ibtc          40F8320     30  11.00am   \n",
       "34      jude                 Stanbic         81LFR274     30   8.00am   \n",
       "35    andrew           Olas chambers         42AT8605     30   8.30am   \n",
       "36       han                 Stanbic          31N4136     30   8.00am   \n",
       "37   luggard  Ade and Tob's chambers         11RAP053     30  10.00am   \n",
       "38     white                 Stanbic         33Z31570     30  10.00am   \n",
       "39     smith                 Stanbic          35RCE43     30  10.30am   \n",
       "40      josy           Myrtle School          61PN287     30   9.00am   \n",
       "41     hapha              Univelcity          23SE956     30   9.30am   \n",
       "42    ismali              Univelcity          37V3002     30  10.00am   \n",
       "43      tope              Univelcity         76V56810     30   8.00am   \n",
       "44     tochi              Univelcity          78L7421     30   8.00am   \n",
       "45      mark       Math care schools         42R42740     30   8.00am   \n",
       "46    mathew              Univelcity         29Y27460     30   9.00am   \n",
       "47   valerie               The place          07I0674     30   9.00am   \n",
       "48     wunmi              Univelcity          28PHR67     30   9.30am   \n",
       "49   Rashida           rash car wash        345UYTt46     30  10.00am   \n",
       "\n",
       "   cost/hour  ages  revenue/month in millions  cost for staffs/month/k  \\\n",
       "0       N200    30                       1.80                      650   \n",
       "1       N200    20                       1.90                      650   \n",
       "2       N200    22                       2.00                      650   \n",
       "3       N200    45                       2.10                      650   \n",
       "4       N200    35                       1.00                      650   \n",
       "5       N200    68                       1.10                      650   \n",
       "6       N200    50                       1.30                      650   \n",
       "7       N200    42                       2.60                      650   \n",
       "8       N200    45                       1.60                      650   \n",
       "9       N200    55                       1.50                      650   \n",
       "10      N200    25                       1.20                      650   \n",
       "11      N200    28                       1.30                      650   \n",
       "12      N200    40                       1.60                      650   \n",
       "13      N200    39                       1.40                      650   \n",
       "14      N200    66                       1.20                      650   \n",
       "15      N200    60                       1.10                      650   \n",
       "16      N200    56                       1.50                      650   \n",
       "17      N200    55                       1.90                      650   \n",
       "18      N200    70                       1.40                      650   \n",
       "19      N200    35                       1.50                      650   \n",
       "20      N200    37                       1.80                      650   \n",
       "21      N200    42                       1.90                      650   \n",
       "22      N200    45                       1.40                      650   \n",
       "23      N200    67                       1.50                      650   \n",
       "24      N200    55                       1.30                      650   \n",
       "25      N200    45                       1.20                      650   \n",
       "26      N200    40                       1.40                      650   \n",
       "27      N200    42                       1.20                      650   \n",
       "28      N200    37                       1.10                      650   \n",
       "29      N200    39                       1.00                      650   \n",
       "30      N200    49                       1.50                      650   \n",
       "31      N200    50                       1.60                      650   \n",
       "32      N200    55                       1.30                      650   \n",
       "33      N200    51                       1.10                      650   \n",
       "34      N200    52                       1.00                      650   \n",
       "35      N200    55                       1.70                      650   \n",
       "36      N200    23                       1.60                      650   \n",
       "37      N200    45                       1.80                      650   \n",
       "38      N200    36                       1.90                      650   \n",
       "39      N200    67                       1.40                      650   \n",
       "40      N200    35                       1.20                      650   \n",
       "41      N200    23                       1.10                      650   \n",
       "42      N200    28                       1.50                      650   \n",
       "43      N200    34                       1.00                      650   \n",
       "44      N200    38                       1.50                      650   \n",
       "45      N200    35                       1.70                      650   \n",
       "46      N200    47                       1.20                      650   \n",
       "47      N200    60                       1.30                      650   \n",
       "48      N200    70                       1.65                      650   \n",
       "49      N200    55                       1.44                      650   \n",
       "\n",
       "    profit/permonth month year 2000/2002  no of staffs  no of hrs mon-fri   \\\n",
       "0              1.25                  jan             8                  10   \n",
       "1              1.35                  feb             8                  10   \n",
       "2              1.35                march             8                  10   \n",
       "3              1.45                april             8                  10   \n",
       "4              0.35                 may              8                  10   \n",
       "5              0.45                 june             8                  10   \n",
       "6              0.65                 july             8                  10   \n",
       "7              1.90               august             8                  10   \n",
       "8              0.95                 sept             8                  10   \n",
       "9              0.85                  oct             8                  10   \n",
       "10             0.55                  nov             8                  10   \n",
       "11             0.65                  dec             8                  10   \n",
       "12             0.95                  jan             8                  10   \n",
       "13             0.75                  feb             8                  10   \n",
       "14             0.55                march             8                  10   \n",
       "15             0.45                april             8                  10   \n",
       "16             0.75                 may              8                  10   \n",
       "17             1.20                 june             8                  10   \n",
       "18             0.75                 july             8                  10   \n",
       "19             0.85               august             8                  10   \n",
       "20             1.15                 sept             8                  10   \n",
       "21             1.35                  oct             8                  10   \n",
       "22             0.75                  nov             8                  10   \n",
       "23             0.85                  dec             8                  10   \n",
       "24             0.75                  jan             8                  10   \n",
       "25             0.55                  feb             8                  10   \n",
       "26             0.75                march             8                  10   \n",
       "27             0.55                april             8                  10   \n",
       "28             0.45                 may              8                  10   \n",
       "29             0.35                 june             8                  10   \n",
       "30             0.85                 july             8                  10   \n",
       "31             0.95               august             8                  10   \n",
       "32             0.65                 sept             8                  10   \n",
       "33             0.45                  oct             8                  10   \n",
       "34             0.35                  nov             8                  10   \n",
       "35             1.05                  dec             8                  10   \n",
       "36             0.95                  jan             8                  10   \n",
       "37             1.15                  feb             8                  10   \n",
       "38             1.35                march             8                  10   \n",
       "39             0.75                april             8                  10   \n",
       "40             0.55                 may              8                  10   \n",
       "41             0.45                 june             8                  10   \n",
       "42             0.85                 july             8                  10   \n",
       "43             0.35               august             8                  10   \n",
       "44             0.85                 sept             8                  10   \n",
       "45             1.05                  oct             8                  10   \n",
       "46             0.55                  nov             8                  10   \n",
       "47             0.65                  dec             8                  10   \n",
       "48             1.00                  jan             8                  10   \n",
       "49             0.89                  feb             8                  10   \n",
       "\n",
       "    no of hr/per Gender  \n",
       "0              8      F  \n",
       "1              8      F  \n",
       "2              7      M  \n",
       "3              9      M  \n",
       "4              5      F  \n",
       "5              8      F  \n",
       "6              5      M  \n",
       "7              6      M  \n",
       "8              7      F  \n",
       "9              6      M  \n",
       "10             8      F  \n",
       "11             8      M  \n",
       "12             8      M  \n",
       "13             8      F  \n",
       "14             8      M  \n",
       "15             8      F  \n",
       "16             8      M  \n",
       "17             8      M  \n",
       "18             8      M  \n",
       "19             8      F  \n",
       "20             8      F  \n",
       "21             8      M  \n",
       "22             8      F  \n",
       "23             8      F  \n",
       "24             8      F  \n",
       "25             8      F  \n",
       "26             8      M  \n",
       "27             8      F  \n",
       "28             8      M  \n",
       "29             8      F  \n",
       "30             8      F  \n",
       "31             5      M  \n",
       "32             5      M  \n",
       "33             5      F  \n",
       "34             5      M  \n",
       "35             5      M  \n",
       "36             5      F  \n",
       "37             5      F  \n",
       "38             5      F  \n",
       "39             5      M  \n",
       "40             5      M  \n",
       "41             5      M  \n",
       "42             5      M  \n",
       "43             5      M  \n",
       "44             5      F  \n",
       "45             7      M  \n",
       "46             6      F  \n",
       "47             5      F  \n",
       "48             4      F  \n",
       "49             6      F  >"
      ]
     },
     "execution_count": 7,
     "metadata": {},
     "output_type": "execute_result"
    }
   ],
   "source": [
    "datas.info"
   ]
  },
  {
   "cell_type": "code",
   "execution_count": 8,
   "id": "64b1e5c9",
   "metadata": {},
   "outputs": [
    {
     "data": {
      "text/plain": [
       "names                        0\n",
       "company /Bus Names           0\n",
       "Registration num             0\n",
       "Slots                        0\n",
       "time -1n                     0\n",
       "cost/hour                    0\n",
       "ages                         0\n",
       "revenue/month in millions    0\n",
       "cost for staffs/month/k      0\n",
       "profit/permonth              0\n",
       "month year 2000/2002         0\n",
       "no of staffs                 0\n",
       "no of hrs mon-fri            0\n",
       "no of hr/per                 0\n",
       "Gender                       0\n",
       "dtype: int64"
      ]
     },
     "execution_count": 8,
     "metadata": {},
     "output_type": "execute_result"
    }
   ],
   "source": [
    "datas.isnull().sum()"
   ]
  },
  {
   "cell_type": "code",
   "execution_count": 9,
   "id": "c2547981",
   "metadata": {},
   "outputs": [
    {
     "data": {
      "text/html": [
       "<div>\n",
       "<style scoped>\n",
       "    .dataframe tbody tr th:only-of-type {\n",
       "        vertical-align: middle;\n",
       "    }\n",
       "\n",
       "    .dataframe tbody tr th {\n",
       "        vertical-align: top;\n",
       "    }\n",
       "\n",
       "    .dataframe thead th {\n",
       "        text-align: right;\n",
       "    }\n",
       "</style>\n",
       "<table border=\"1\" class=\"dataframe\">\n",
       "  <thead>\n",
       "    <tr style=\"text-align: right;\">\n",
       "      <th></th>\n",
       "      <th>names</th>\n",
       "      <th>company /Bus Names</th>\n",
       "      <th>Registration num</th>\n",
       "      <th>Slots</th>\n",
       "      <th>time -1n</th>\n",
       "      <th>cost/hour</th>\n",
       "      <th>ages</th>\n",
       "      <th>revenue/month in millions</th>\n",
       "      <th>cost for staffs/month/k</th>\n",
       "      <th>profit/permonth</th>\n",
       "      <th>month year 2000/2002</th>\n",
       "      <th>no of staffs</th>\n",
       "      <th>no of hrs mon-fri</th>\n",
       "      <th>no of hr/per</th>\n",
       "      <th>Gender</th>\n",
       "    </tr>\n",
       "  </thead>\n",
       "  <tbody>\n",
       "    <tr>\n",
       "      <th>45</th>\n",
       "      <td>mark</td>\n",
       "      <td>Math care schools</td>\n",
       "      <td>42R42740</td>\n",
       "      <td>30</td>\n",
       "      <td>8.00am</td>\n",
       "      <td>N200</td>\n",
       "      <td>35</td>\n",
       "      <td>1.70</td>\n",
       "      <td>650</td>\n",
       "      <td>1.05</td>\n",
       "      <td>oct</td>\n",
       "      <td>8</td>\n",
       "      <td>10</td>\n",
       "      <td>7</td>\n",
       "      <td>M</td>\n",
       "    </tr>\n",
       "    <tr>\n",
       "      <th>46</th>\n",
       "      <td>mathew</td>\n",
       "      <td>Univelcity</td>\n",
       "      <td>29Y27460</td>\n",
       "      <td>30</td>\n",
       "      <td>9.00am</td>\n",
       "      <td>N200</td>\n",
       "      <td>47</td>\n",
       "      <td>1.20</td>\n",
       "      <td>650</td>\n",
       "      <td>0.55</td>\n",
       "      <td>nov</td>\n",
       "      <td>8</td>\n",
       "      <td>10</td>\n",
       "      <td>6</td>\n",
       "      <td>F</td>\n",
       "    </tr>\n",
       "    <tr>\n",
       "      <th>47</th>\n",
       "      <td>valerie</td>\n",
       "      <td>The place</td>\n",
       "      <td>07I0674</td>\n",
       "      <td>30</td>\n",
       "      <td>9.00am</td>\n",
       "      <td>N200</td>\n",
       "      <td>60</td>\n",
       "      <td>1.30</td>\n",
       "      <td>650</td>\n",
       "      <td>0.65</td>\n",
       "      <td>dec</td>\n",
       "      <td>8</td>\n",
       "      <td>10</td>\n",
       "      <td>5</td>\n",
       "      <td>F</td>\n",
       "    </tr>\n",
       "    <tr>\n",
       "      <th>48</th>\n",
       "      <td>wunmi</td>\n",
       "      <td>Univelcity</td>\n",
       "      <td>28PHR67</td>\n",
       "      <td>30</td>\n",
       "      <td>9.30am</td>\n",
       "      <td>N200</td>\n",
       "      <td>70</td>\n",
       "      <td>1.65</td>\n",
       "      <td>650</td>\n",
       "      <td>1.00</td>\n",
       "      <td>jan</td>\n",
       "      <td>8</td>\n",
       "      <td>10</td>\n",
       "      <td>4</td>\n",
       "      <td>F</td>\n",
       "    </tr>\n",
       "    <tr>\n",
       "      <th>49</th>\n",
       "      <td>Rashida</td>\n",
       "      <td>rash car wash</td>\n",
       "      <td>345UYTt46</td>\n",
       "      <td>30</td>\n",
       "      <td>10.00am</td>\n",
       "      <td>N200</td>\n",
       "      <td>55</td>\n",
       "      <td>1.44</td>\n",
       "      <td>650</td>\n",
       "      <td>0.89</td>\n",
       "      <td>feb</td>\n",
       "      <td>8</td>\n",
       "      <td>10</td>\n",
       "      <td>6</td>\n",
       "      <td>F</td>\n",
       "    </tr>\n",
       "  </tbody>\n",
       "</table>\n",
       "</div>"
      ],
      "text/plain": [
       "      names company /Bus Names Registration num  Slots time -1n cost/hour  \\\n",
       "45     mark  Math care schools         42R42740     30   8.00am      N200   \n",
       "46   mathew         Univelcity         29Y27460     30   9.00am      N200   \n",
       "47  valerie          The place          07I0674     30   9.00am      N200   \n",
       "48    wunmi         Univelcity          28PHR67     30   9.30am      N200   \n",
       "49  Rashida      rash car wash        345UYTt46     30  10.00am      N200   \n",
       "\n",
       "    ages  revenue/month in millions  cost for staffs/month/k  profit/permonth  \\\n",
       "45    35                       1.70                      650             1.05   \n",
       "46    47                       1.20                      650             0.55   \n",
       "47    60                       1.30                      650             0.65   \n",
       "48    70                       1.65                      650             1.00   \n",
       "49    55                       1.44                      650             0.89   \n",
       "\n",
       "   month year 2000/2002  no of staffs  no of hrs mon-fri   no of hr/per Gender  \n",
       "45                  oct             8                  10             7      M  \n",
       "46                  nov             8                  10             6      F  \n",
       "47                  dec             8                  10             5      F  \n",
       "48                  jan             8                  10             4      F  \n",
       "49                  feb             8                  10             6      F  "
      ]
     },
     "execution_count": 9,
     "metadata": {},
     "output_type": "execute_result"
    }
   ],
   "source": [
    "datas.tail()"
   ]
  },
  {
   "cell_type": "markdown",
   "id": "c3a0385f",
   "metadata": {},
   "source": [
    "#####  from the scatter plot above we realize that the ages of people who spend up to 8 hours are most. most people leave their cars for 8 hours which means so many people using the park work around that area."
   ]
  },
  {
   "cell_type": "markdown",
   "id": "546d4531",
   "metadata": {},
   "source": [
    "#### A) lets plot the revenue per month with the month of the year"
   ]
  },
  {
   "cell_type": "code",
   "execution_count": 10,
   "id": "d73ec8fb",
   "metadata": {},
   "outputs": [
    {
     "data": {
      "text/plain": [
       "<AxesSubplot:xlabel='revenue/month in millions', ylabel='Density'>"
      ]
     },
     "execution_count": 10,
     "metadata": {},
     "output_type": "execute_result"
    },
    {
     "data": {
      "image/png": "[encoded data removed]",
      "text/plain": [
       "<Figure size 576x432 with 1 Axes>"
      ]
     },
     "metadata": {
      "needs_background": "light"
     },
     "output_type": "display_data"
    }
   ],
   "source": [
    "plt.figure(figsize=(8,6))\n",
    "sns.kdeplot(data=datas, x='revenue/month in millions', hue='month year 2000/2002',palette = 'rocket',multiple='stack')"
   ]
  },
  {
   "cell_type": "markdown",
   "id": "28f05ea9",
   "metadata": {},
   "source": [
    "##### from the kde plot we observe that the revenue from the year 2000-2002 is at its peak in the month of january and least in the months of december. meaning that within that area since most of our clients are office workers then in the months that are closer to the end of the year we have fewer people coming to work ,probably because of the festive periods. \n",
    "- How do we increase revenue\n",
    "#### my take, investing more in the business \n",
    "- by probably doing a raised car park so we can have more cars being parked \n",
    "- by investing in another land in another area, say ajah to have another source of income\n",
    "- by putting a standard measurement for each car park,so any car that exceeds that pays a token\n",
    "- lets not underestimate the power of good customer care. Ensure that the gatemen DO NOT ask for tips. clients should give based on their own free will not staffs asking.Hence, its important there is training of staffs every week."
   ]
  },
  {
   "cell_type": "markdown",
   "id": "5b661a40",
   "metadata": {},
   "source": [
    "#### B) here we are interested in knowing the companies that have people who use the car park often"
   ]
  },
  {
   "cell_type": "code",
   "execution_count": 11,
   "id": "161d3258",
   "metadata": {},
   "outputs": [
    {
     "data": {
      "image/png": "[encoded data removed]",
      "text/plain": [
       "<Figure size 864x432 with 1 Axes>"
      ]
     },
     "metadata": {
      "needs_background": "light"
     },
     "output_type": "display_data"
    }
   ],
   "source": [
    "plt.figure(figsize=(12, 6))\n",
    "ax = datas['company /Bus Names'].value_counts().head(10).plot(kind = 'bar',color = 'green')\n",
    "plt.title('company /Bus Names', fontsize = 20)\n",
    "plt.ylabel('Count', fontsize = 16)\n",
    "plt.xticks(fontsize = 14, rotation = 45)\n",
    "plt.bar_label(ax.containers[0], label_type = 'center',fontsize = 16, rotation = 90, color = 'Red')\n",
    "plt.show()"
   ]
  },
  {
   "cell_type": "markdown",
   "id": "547ade1a",
   "metadata": {},
   "source": [
    "##### from the above graph. people who worked at univelcity mostly used our car park which means there are few car park slots at univelcity with respect to the number of employees. this is a win for us at the car park,also a win for our help in developing a less crowdy and a safer environment"
   ]
  },
  {
   "cell_type": "markdown",
   "id": "5901342a",
   "metadata": {},
   "source": [
    "#### C) lets know the profit margin of the company "
   ]
  },
  {
   "cell_type": "code",
   "execution_count": 12,
   "id": "130d4d99",
   "metadata": {},
   "outputs": [
    {
     "data": {
      "text/plain": [
       "<Figure size 1800x720 with 0 Axes>"
      ]
     },
     "metadata": {},
     "output_type": "display_data"
    },
    {
     "data": {
      "image/png": "[encoded data removed]",
      "text/plain": [
       "<Figure size 360x360 with 1 Axes>"
      ]
     },
     "metadata": {
      "needs_background": "light"
     },
     "output_type": "display_data"
    }
   ],
   "source": [
    "fig = plt.figure(figsize= (25, 10))\n",
    "sns.relplot(data=datas, x='month year 2000/2002', y='profit/permonth', kind='line')\n",
    "plt.xticks(fontsize=10,rotation=90)\n",
    "plt.yticks(fontsize=10)\n",
    "plt.show()"
   ]
  },
  {
   "cell_type": "markdown",
   "id": "c33728d0",
   "metadata": {},
   "source": [
    "### As an investor how do i invest in a business i know that will yield me profit and also grow gdp of the nation?"
   ]
  },
  {
   "cell_type": "markdown",
   "id": "573e0e90",
   "metadata": {},
   "source": [
    "#### from the above plot in the months of september and march the comapny made high net profit of 1million naira per month, and it has a decline at the months of may and november, with less than 500 thousand naira as net profit.every business is established with the hope of making profit so my advise a data scientist is that they should look into various factors such as\n",
    "- do they have a maintenance culture in the business,if yes,how is their maintenance culture \n",
    "- do they ensure that their is no theft whatsoever, how is their payment process done and is it properly monitored.\n",
    "- is every transaction recorded and imputed in the system?"
   ]
  },
  {
   "cell_type": "markdown",
   "id": "af58f73f",
   "metadata": {},
   "source": [
    "#### D) lets relate the number of hours spent with the time they came in"
   ]
  },
  {
   "cell_type": "code",
   "execution_count": 13,
   "id": "b8b861b4",
   "metadata": {},
   "outputs": [
    {
     "data": {
      "image/png": "[encoded data removed]",
      "text/plain": [
       "<Figure size 404.875x360 with 1 Axes>"
      ]
     },
     "metadata": {
      "needs_background": "light"
     },
     "output_type": "display_data"
    }
   ],
   "source": [
    "sns.catplot(x = 'no of hr/per',y ='time -1n',data= datas,kind='point',hue ='Gender')\n",
    "plt.show()"
   ]
  },
  {
   "cell_type": "markdown",
   "id": "20e2a1a0",
   "metadata": {},
   "source": [
    "###### in this plot we are relating the number of hours spent with the time they came in. the colours signify the genders,we observe that most males that resumed at 8am spent 8 hours leaving their cars at our car park, while most females that came in at 9.30am also left their cars for 8 hours. at 12pm the males left their cars for 5 to 6 hours. meaning those that came earlier parked their cars for longer periods.\n"
   ]
  },
  {
   "cell_type": "markdown",
   "id": "cf2bc0a5",
   "metadata": {},
   "source": [
    "#### E) here we are trying to get the revenue/month with its highest and lowest frequencies"
   ]
  },
  {
   "cell_type": "code",
   "execution_count": 37,
   "id": "36567b9a",
   "metadata": {},
   "outputs": [
    {
     "data": {
      "application/vnd.plotly.v1+json": {
       "config": {
        "plotlyServerURL": "https://plot.ly"
       },
       "data": [
        {
         "alignmentgroup": "True",
         "bingroup": "x",
         "hovertemplate": "revenue/month in millions=%{x}<br>count=%{y}<extra></extra>",
         "legendgroup": "",
         "marker": {
          "color": "#636efa",
          "pattern": {
           "shape": ""
          }
         },
         "name": "",
         "nbinsx": 50,
         "offsetgroup": "",
         "orientation": "v",
         "showlegend": false,
         "type": "histogram",
         "x": [
          1.8,
          1.9,
          2,
          2.1,
          1,
          1.1,
          1.3,
          2.6,
          1.6,
          1.5,
          1.2,
          1.3,
          1.6,
          1.4,
          1.2,
          1.1,
          1.5,
          1.9,
          1.4,
          1.5,
          1.8,
          1.9,
          1.4,
          1.5,
          1.3,
          1.2,
          1.4,
          1.2,
          1.1,
          1,
          1.5,
          1.6,
          1.3,
          1.1,
          1,
          1.7,
          1.6,
          1.8,
          1.9,
          1.4,
          1.2,
          1.1,
          1.5,
          1,
          1.5,
          1.7,
          1.2,
          1.3,
          1.65,
          1.44
         ],
         "xaxis": "x",
         "yaxis": "y"
        },
        {
         "alignmentgroup": "True",
         "hovertemplate": "revenue/month in millions=%{x}<extra></extra>",
         "legendgroup": "",
         "marker": {
          "color": "#636efa"
         },
         "name": "",
         "notched": true,
         "offsetgroup": "",
         "showlegend": false,
         "type": "box",
         "x": [
          1.8,
          1.9,
          2,
          2.1,
          1,
          1.1,
          1.3,
          2.6,
          1.6,
          1.5,
          1.2,
          1.3,
          1.6,
          1.4,
          1.2,
          1.1,
          1.5,
          1.9,
          1.4,
          1.5,
          1.8,
          1.9,
          1.4,
          1.5,
          1.3,
          1.2,
          1.4,
          1.2,
          1.1,
          1,
          1.5,
          1.6,
          1.3,
          1.1,
          1,
          1.7,
          1.6,
          1.8,
          1.9,
          1.4,
          1.2,
          1.1,
          1.5,
          1,
          1.5,
          1.7,
          1.2,
          1.3,
          1.65,
          1.44
         ],
         "xaxis": "x2",
         "yaxis": "y2"
        }
       ],
       "layout": {
        "bargap": 0.1,
        "barmode": "relative",
        "legend": {
         "tracegroupgap": 0
        },
        "template": {
         "data": {
          "bar": [
           {
            "error_x": {
             "color": "#2a3f5f"
            },
            "error_y": {
             "color": "#2a3f5f"
            },
            "marker": {
             "line": {
              "color": "#E5ECF6",
              "width": 0.5
             },
             "pattern": {
              "fillmode": "overlay",
              "size": 10,
              "solidity": 0.2
             }
            },
            "type": "bar"
           }
          ],
          "barpolar": [
           {
            "marker": {
             "line": {
              "color": "#E5ECF6",
              "width": 0.5
             },
             "pattern": {
              "fillmode": "overlay",
              "size": 10,
              "solidity": 0.2
             }
            },
            "type": "barpolar"
           }
          ],
          "carpet": [
           {
            "aaxis": {
             "endlinecolor": "#2a3f5f",
             "gridcolor": "white",
             "linecolor": "white",
             "minorgridcolor": "white",
             "startlinecolor": "#2a3f5f"
            },
            "baxis": {
             "endlinecolor": "#2a3f5f",
             "gridcolor": "white",
             "linecolor": "white",
             "minorgridcolor": "white",
             "startlinecolor": "#2a3f5f"
            },
            "type": "carpet"
           }
          ],
          "choropleth": [
           {
            "colorbar": {
             "outlinewidth": 0,
             "ticks": ""
            },
            "type": "choropleth"
           }
          ],
          "contour": [
           {
            "colorbar": {
             "outlinewidth": 0,
             "ticks": ""
            },
            "colorscale": [
             [
              0,
              "#0d0887"
             ],
             [
              0.1111111111111111,
              "#46039f"
             ],
             [
              0.2222222222222222,
              "#7201a8"
             ],
             [
              0.3333333333333333,
              "#9c179e"
             ],
             [
              0.4444444444444444,
              "#bd3786"
             ],
             [
              0.5555555555555556,
              "#d8576b"
             ],
             [
              0.6666666666666666,
              "#ed7953"
             ],
             [
              0.7777777777777778,
              "#fb9f3a"
             ],
             [
              0.8888888888888888,
              "#fdca26"
             ],
             [
              1,
              "#f0f921"
             ]
            ],
            "type": "contour"
           }
          ],
          "contourcarpet": [
           {
            "colorbar": {
             "outlinewidth": 0,
             "ticks": ""
            },
            "type": "contourcarpet"
           }
          ],
          "heatmap": [
           {
            "colorbar": {
             "outlinewidth": 0,
             "ticks": ""
            },
            "colorscale": [
             [
              0,
              "#0d0887"
             ],
             [
              0.1111111111111111,
              "#46039f"
             ],
             [
              0.2222222222222222,
              "#7201a8"
             ],
             [
              0.3333333333333333,
              "#9c179e"
             ],
             [
              0.4444444444444444,
              "#bd3786"
             ],
             [
              0.5555555555555556,
              "#d8576b"
             ],
             [
              0.6666666666666666,
              "#ed7953"
             ],
             [
              0.7777777777777778,
              "#fb9f3a"
             ],
             [
              0.8888888888888888,
              "#fdca26"
             ],
             [
              1,
              "#f0f921"
             ]
            ],
            "type": "heatmap"
           }
          ],
          "heatmapgl": [
           {
            "colorbar": {
             "outlinewidth": 0,
             "ticks": ""
            },
            "colorscale": [
             [
              0,
              "#0d0887"
             ],
             [
              0.1111111111111111,
              "#46039f"
             ],
             [
              0.2222222222222222,
              "#7201a8"
             ],
             [
              0.3333333333333333,
              "#9c179e"
             ],
             [
              0.4444444444444444,
              "#bd3786"
             ],
             [
              0.5555555555555556,
              "#d8576b"
             ],
             [
              0.6666666666666666,
              "#ed7953"
             ],
             [
              0.7777777777777778,
              "#fb9f3a"
             ],
             [
              0.8888888888888888,
              "#fdca26"
             ],
             [
              1,
              "#f0f921"
             ]
            ],
            "type": "heatmapgl"
           }
          ],
          "histogram": [
           {
            "marker": {
             "pattern": {
              "fillmode": "overlay",
              "size": 10,
              "solidity": 0.2
             }
            },
            "type": "histogram"
           }
          ],
          "histogram2d": [
           {
            "colorbar": {
             "outlinewidth": 0,
             "ticks": ""
            },
            "colorscale": [
             [
              0,
              "#0d0887"
             ],
             [
              0.1111111111111111,
              "#46039f"
             ],
             [
              0.2222222222222222,
              "#7201a8"
             ],
             [
              0.3333333333333333,
              "#9c179e"
             ],
             [
              0.4444444444444444,
              "#bd3786"
             ],
             [
              0.5555555555555556,
              "#d8576b"
             ],
             [
              0.6666666666666666,
              "#ed7953"
             ],
             [
              0.7777777777777778,
              "#fb9f3a"
             ],
             [
              0.8888888888888888,
              "#fdca26"
             ],
             [
              1,
              "#f0f921"
             ]
            ],
            "type": "histogram2d"
           }
          ],
          "histogram2dcontour": [
           {
            "colorbar": {
             "outlinewidth": 0,
             "ticks": ""
            },
            "colorscale": [
             [
              0,
              "#0d0887"
             ],
             [
              0.1111111111111111,
              "#46039f"
             ],
             [
              0.2222222222222222,
              "#7201a8"
             ],
             [
              0.3333333333333333,
              "#9c179e"
             ],
             [
              0.4444444444444444,
              "#bd3786"
             ],
             [
              0.5555555555555556,
              "#d8576b"
             ],
             [
              0.6666666666666666,
              "#ed7953"
             ],
             [
              0.7777777777777778,
              "#fb9f3a"
             ],
             [
              0.8888888888888888,
              "#fdca26"
             ],
             [
              1,
              "#f0f921"
             ]
            ],
            "type": "histogram2dcontour"
           }
          ],
          "mesh3d": [
           {
            "colorbar": {
             "outlinewidth": 0,
             "ticks": ""
            },
            "type": "mesh3d"
           }
          ],
          "parcoords": [
           {
            "line": {
             "colorbar": {
              "outlinewidth": 0,
              "ticks": ""
             }
            },
            "type": "parcoords"
           }
          ],
          "pie": [
           {
            "automargin": true,
            "type": "pie"
           }
          ],
          "scatter": [
           {
            "marker": {
             "colorbar": {
              "outlinewidth": 0,
              "ticks": ""
             }
            },
            "type": "scatter"
           }
          ],
          "scatter3d": [
           {
            "line": {
             "colorbar": {
              "outlinewidth": 0,
              "ticks": ""
             }
            },
            "marker": {
             "colorbar": {
              "outlinewidth": 0,
              "ticks": ""
             }
            },
            "type": "scatter3d"
           }
          ],
          "scattercarpet": [
           {
            "marker": {
             "colorbar": {
              "outlinewidth": 0,
              "ticks": ""
             }
            },
            "type": "scattercarpet"
           }
          ],
          "scattergeo": [
           {
            "marker": {
             "colorbar": {
              "outlinewidth": 0,
              "ticks": ""
             }
            },
            "type": "scattergeo"
           }
          ],
          "scattergl": [
           {
            "marker": {
             "colorbar": {
              "outlinewidth": 0,
              "ticks": ""
             }
            },
            "type": "scattergl"
           }
          ],
          "scattermapbox": [
           {
            "marker": {
             "colorbar": {
              "outlinewidth": 0,
              "ticks": ""
             }
            },
            "type": "scattermapbox"
           }
          ],
          "scatterpolar": [
           {
            "marker": {
             "colorbar": {
              "outlinewidth": 0,
              "ticks": ""
             }
            },
            "type": "scatterpolar"
           }
          ],
          "scatterpolargl": [
           {
            "marker": {
             "colorbar": {
              "outlinewidth": 0,
              "ticks": ""
             }
            },
            "type": "scatterpolargl"
           }
          ],
          "scatterternary": [
           {
            "marker": {
             "colorbar": {
              "outlinewidth": 0,
              "ticks": ""
             }
            },
            "type": "scatterternary"
           }
          ],
          "surface": [
           {
            "colorbar": {
             "outlinewidth": 0,
             "ticks": ""
            },
            "colorscale": [
             [
              0,
              "#0d0887"
             ],
             [
              0.1111111111111111,
              "#46039f"
             ],
             [
              0.2222222222222222,
              "#7201a8"
             ],
             [
              0.3333333333333333,
              "#9c179e"
             ],
             [
              0.4444444444444444,
              "#bd3786"
             ],
             [
              0.5555555555555556,
              "#d8576b"
             ],
             [
              0.6666666666666666,
              "#ed7953"
             ],
             [
              0.7777777777777778,
              "#fb9f3a"
             ],
             [
              0.8888888888888888,
              "#fdca26"
             ],
             [
              1,
              "#f0f921"
             ]
            ],
            "type": "surface"
           }
          ],
          "table": [
           {
            "cells": {
             "fill": {
              "color": "#EBF0F8"
             },
             "line": {
              "color": "white"
             }
            },
            "header": {
             "fill": {
              "color": "#C8D4E3"
             },
             "line": {
              "color": "white"
             }
            },
            "type": "table"
           }
          ]
         },
         "layout": {
          "annotationdefaults": {
           "arrowcolor": "#2a3f5f",
           "arrowhead": 0,
           "arrowwidth": 1
          },
          "autotypenumbers": "strict",
          "coloraxis": {
           "colorbar": {
            "outlinewidth": 0,
            "ticks": ""
           }
          },
          "colorscale": {
           "diverging": [
            [
             0,
             "#8e0152"
            ],
            [
             0.1,
             "#c51b7d"
            ],
            [
             0.2,
             "#de77ae"
            ],
            [
             0.3,
             "#f1b6da"
            ],
            [
             0.4,
             "#fde0ef"
            ],
            [
             0.5,
             "#f7f7f7"
            ],
            [
             0.6,
             "#e6f5d0"
            ],
            [
             0.7,
             "#b8e186"
            ],
            [
             0.8,
             "#7fbc41"
            ],
            [
             0.9,
             "#4d9221"
            ],
            [
             1,
             "#276419"
            ]
           ],
           "sequential": [
            [
             0,
             "#0d0887"
            ],
            [
             0.1111111111111111,
             "#46039f"
            ],
            [
             0.2222222222222222,
             "#7201a8"
            ],
            [
             0.3333333333333333,
             "#9c179e"
            ],
            [
             0.4444444444444444,
             "#bd3786"
            ],
            [
             0.5555555555555556,
             "#d8576b"
            ],
            [
             0.6666666666666666,
             "#ed7953"
            ],
            [
             0.7777777777777778,
             "#fb9f3a"
            ],
            [
             0.8888888888888888,
             "#fdca26"
            ],
            [
             1,
             "#f0f921"
            ]
           ],
           "sequentialminus": [
            [
             0,
             "#0d0887"
            ],
            [
             0.1111111111111111,
             "#46039f"
            ],
            [
             0.2222222222222222,
             "#7201a8"
            ],
            [
             0.3333333333333333,
             "#9c179e"
            ],
            [
             0.4444444444444444,
             "#bd3786"
            ],
            [
             0.5555555555555556,
             "#d8576b"
            ],
            [
             0.6666666666666666,
             "#ed7953"
            ],
            [
             0.7777777777777778,
             "#fb9f3a"
            ],
            [
             0.8888888888888888,
             "#fdca26"
            ],
            [
             1,
             "#f0f921"
            ]
           ]
          },
          "colorway": [
           "#636efa",
           "#EF553B",
           "#00cc96",
           "#ab63fa",
           "#FFA15A",
           "#19d3f3",
           "#FF6692",
           "#B6E880",
           "#FF97FF",
           "#FECB52"
          ],
          "font": {
           "color": "#2a3f5f"
          },
          "geo": {
           "bgcolor": "white",
           "lakecolor": "white",
           "landcolor": "#E5ECF6",
           "showlakes": true,
           "showland": true,
           "subunitcolor": "white"
          },
          "hoverlabel": {
           "align": "left"
          },
          "hovermode": "closest",
          "mapbox": {
           "style": "light"
          },
          "paper_bgcolor": "white",
          "plot_bgcolor": "#E5ECF6",
          "polar": {
           "angularaxis": {
            "gridcolor": "white",
            "linecolor": "white",
            "ticks": ""
           },
           "bgcolor": "#E5ECF6",
           "radialaxis": {
            "gridcolor": "white",
            "linecolor": "white",
            "ticks": ""
           }
          },
          "scene": {
           "xaxis": {
            "backgroundcolor": "#E5ECF6",
            "gridcolor": "white",
            "gridwidth": 2,
            "linecolor": "white",
            "showbackground": true,
            "ticks": "",
            "zerolinecolor": "white"
           },
           "yaxis": {
            "backgroundcolor": "#E5ECF6",
            "gridcolor": "white",
            "gridwidth": 2,
            "linecolor": "white",
            "showbackground": true,
            "ticks": "",
            "zerolinecolor": "white"
           },
           "zaxis": {
            "backgroundcolor": "#E5ECF6",
            "gridcolor": "white",
            "gridwidth": 2,
            "linecolor": "white",
            "showbackground": true,
            "ticks": "",
            "zerolinecolor": "white"
           }
          },
          "shapedefaults": {
           "line": {
            "color": "#2a3f5f"
           }
          },
          "ternary": {
           "aaxis": {
            "gridcolor": "white",
            "linecolor": "white",
            "ticks": ""
           },
           "baxis": {
            "gridcolor": "white",
            "linecolor": "white",
            "ticks": ""
           },
           "bgcolor": "#E5ECF6",
           "caxis": {
            "gridcolor": "white",
            "linecolor": "white",
            "ticks": ""
           }
          },
          "title": {
           "x": 0.05
          },
          "xaxis": {
           "automargin": true,
           "gridcolor": "white",
           "linecolor": "white",
           "ticks": "",
           "title": {
            "standoff": 15
           },
           "zerolinecolor": "white",
           "zerolinewidth": 2
          },
          "yaxis": {
           "automargin": true,
           "gridcolor": "white",
           "linecolor": "white",
           "ticks": "",
           "title": {
            "standoff": 15
           },
           "zerolinecolor": "white",
           "zerolinewidth": 2
          }
         }
        },
        "title": {
         "text": "revenue/month in millions vs freq"
        },
        "xaxis": {
         "anchor": "y",
         "domain": [
          0,
          1
         ],
         "title": {
          "text": "revenue/month in millions"
         }
        },
        "xaxis2": {
         "anchor": "y2",
         "domain": [
          0,
          1
         ],
         "matches": "x",
         "showgrid": true,
         "showticklabels": false
        },
        "yaxis": {
         "anchor": "x",
         "domain": [
          0,
          0.8316
         ],
         "title": {
          "text": "count"
         }
        },
        "yaxis2": {
         "anchor": "x2",
         "domain": [
          0.8416,
          1
         ],
         "matches": "y2",
         "showgrid": false,
         "showline": false,
         "showticklabels": false,
         "ticks": ""
        }
       }
      },
      "text/html": [
       "<div>                            <div id=\"42f79826-eacc-482b-baa0-62ed42de06cf\" class=\"plotly-graph-div\" style=\"height:525px; width:100%;\"></div>            <script type=\"text/javascript\">                require([\"plotly\"], function(Plotly) {                    window.PLOTLYENV=window.PLOTLYENV || {};                                    if (document.getElementById(\"42f79826-eacc-482b-baa0-62ed42de06cf\")) {                    Plotly.newPlot(                        \"42f79826-eacc-482b-baa0-62ed42de06cf\",                        [{\"alignmentgroup\":\"True\",\"bingroup\":\"x\",\"hovertemplate\":\"revenue/month in millions=%{x}<br>count=%{y}<extra></extra>\",\"legendgroup\":\"\",\"marker\":{\"color\":\"#636efa\",\"pattern\":{\"shape\":\"\"}},\"name\":\"\",\"nbinsx\":50,\"offsetgroup\":\"\",\"orientation\":\"v\",\"showlegend\":false,\"x\":[1.8,1.9,2.0,2.1,1.0,1.1,1.3,2.6,1.6,1.5,1.2,1.3,1.6,1.4,1.2,1.1,1.5,1.9,1.4,1.5,1.8,1.9,1.4,1.5,1.3,1.2,1.4,1.2,1.1,1.0,1.5,1.6,1.3,1.1,1.0,1.7,1.6,1.8,1.9,1.4,1.2,1.1,1.5,1.0,1.5,1.7,1.2,1.3,1.65,1.44],\"xaxis\":\"x\",\"yaxis\":\"y\",\"type\":\"histogram\"},{\"alignmentgroup\":\"True\",\"hovertemplate\":\"revenue/month in millions=%{x}<extra></extra>\",\"legendgroup\":\"\",\"marker\":{\"color\":\"#636efa\"},\"name\":\"\",\"notched\":true,\"offsetgroup\":\"\",\"showlegend\":false,\"x\":[1.8,1.9,2.0,2.1,1.0,1.1,1.3,2.6,1.6,1.5,1.2,1.3,1.6,1.4,1.2,1.1,1.5,1.9,1.4,1.5,1.8,1.9,1.4,1.5,1.3,1.2,1.4,1.2,1.1,1.0,1.5,1.6,1.3,1.1,1.0,1.7,1.6,1.8,1.9,1.4,1.2,1.1,1.5,1.0,1.5,1.7,1.2,1.3,1.65,1.44],\"xaxis\":\"x2\",\"yaxis\":\"y2\",\"type\":\"box\"}],                        {\"template\":{\"data\":{\"bar\":[{\"error_x\":{\"color\":\"#2a3f5f\"},\"error_y\":{\"color\":\"#2a3f5f\"},\"marker\":{\"line\":{\"color\":\"#E5ECF6\",\"width\":0.5},\"pattern\":{\"fillmode\":\"overlay\",\"size\":10,\"solidity\":0.2}},\"type\":\"bar\"}],\"barpolar\":[{\"marker\":{\"line\":{\"color\":\"#E5ECF6\",\"width\":0.5},\"pattern\":{\"fillmode\":\"overlay\",\"size\":10,\"solidity\":0.2}},\"type\":\"barpolar\"}],\"carpet\":[{\"aaxis\":{\"endlinecolor\":\"#2a3f5f\",\"gridcolor\":\"white\",\"linecolor\":\"white\",\"minorgridcolor\":\"white\",\"startlinecolor\":\"#2a3f5f\"},\"baxis\":{\"endlinecolor\":\"#2a3f5f\",\"gridcolor\":\"white\",\"linecolor\":\"white\",\"minorgridcolor\":\"white\",\"startlinecolor\":\"#2a3f5f\"},\"type\":\"carpet\"}],\"choropleth\":[{\"colorbar\":{\"outlinewidth\":0,\"ticks\":\"\"},\"type\":\"choropleth\"}],\"contour\":[{\"colorbar\":{\"outlinewidth\":0,\"ticks\":\"\"},\"colorscale\":[[0.0,\"#0d0887\"],[0.1111111111111111,\"#46039f\"],[0.2222222222222222,\"#7201a8\"],[0.3333333333333333,\"#9c179e\"],[0.4444444444444444,\"#bd3786\"],[0.5555555555555556,\"#d8576b\"],[0.6666666666666666,\"#ed7953\"],[0.7777777777777778,\"#fb9f3a\"],[0.8888888888888888,\"#fdca26\"],[1.0,\"#f0f921\"]],\"type\":\"contour\"}],\"contourcarpet\":[{\"colorbar\":{\"outlinewidth\":0,\"ticks\":\"\"},\"type\":\"contourcarpet\"}],\"heatmap\":[{\"colorbar\":{\"outlinewidth\":0,\"ticks\":\"\"},\"colorscale\":[[0.0,\"#0d0887\"],[0.1111111111111111,\"#46039f\"],[0.2222222222222222,\"#7201a8\"],[0.3333333333333333,\"#9c179e\"],[0.4444444444444444,\"#bd3786\"],[0.5555555555555556,\"#d8576b\"],[0.6666666666666666,\"#ed7953\"],[0.7777777777777778,\"#fb9f3a\"],[0.8888888888888888,\"#fdca26\"],[1.0,\"#f0f921\"]],\"type\":\"heatmap\"}],\"heatmapgl\":[{\"colorbar\":{\"outlinewidth\":0,\"ticks\":\"\"},\"colorscale\":[[0.0,\"#0d0887\"],[0.1111111111111111,\"#46039f\"],[0.2222222222222222,\"#7201a8\"],[0.3333333333333333,\"#9c179e\"],[0.4444444444444444,\"#bd3786\"],[0.5555555555555556,\"#d8576b\"],[0.6666666666666666,\"#ed7953\"],[0.7777777777777778,\"#fb9f3a\"],[0.8888888888888888,\"#fdca26\"],[1.0,\"#f0f921\"]],\"type\":\"heatmapgl\"}],\"histogram\":[{\"marker\":{\"pattern\":{\"fillmode\":\"overlay\",\"size\":10,\"solidity\":0.2}},\"type\":\"histogram\"}],\"histogram2d\":[{\"colorbar\":{\"outlinewidth\":0,\"ticks\":\"\"},\"colorscale\":[[0.0,\"#0d0887\"],[0.1111111111111111,\"#46039f\"],[0.2222222222222222,\"#7201a8\"],[0.3333333333333333,\"#9c179e\"],[0.4444444444444444,\"#bd3786\"],[0.5555555555555556,\"#d8576b\"],[0.6666666666666666,\"#ed7953\"],[0.7777777777777778,\"#fb9f3a\"],[0.8888888888888888,\"#fdca26\"],[1.0,\"#f0f921\"]],\"type\":\"histogram2d\"}],\"histogram2dcontour\":[{\"colorbar\":{\"outlinewidth\":0,\"ticks\":\"\"},\"colorscale\":[[0.0,\"#0d0887\"],[0.1111111111111111,\"#46039f\"],[0.2222222222222222,\"#7201a8\"],[0.3333333333333333,\"#9c179e\"],[0.4444444444444444,\"#bd3786\"],[0.5555555555555556,\"#d8576b\"],[0.6666666666666666,\"#ed7953\"],[0.7777777777777778,\"#fb9f3a\"],[0.8888888888888888,\"#fdca26\"],[1.0,\"#f0f921\"]],\"type\":\"histogram2dcontour\"}],\"mesh3d\":[{\"colorbar\":{\"outlinewidth\":0,\"ticks\":\"\"},\"type\":\"mesh3d\"}],\"parcoords\":[{\"line\":{\"colorbar\":{\"outlinewidth\":0,\"ticks\":\"\"}},\"type\":\"parcoords\"}],\"pie\":[{\"automargin\":true,\"type\":\"pie\"}],\"scatter\":[{\"marker\":{\"colorbar\":{\"outlinewidth\":0,\"ticks\":\"\"}},\"type\":\"scatter\"}],\"scatter3d\":[{\"line\":{\"colorbar\":{\"outlinewidth\":0,\"ticks\":\"\"}},\"marker\":{\"colorbar\":{\"outlinewidth\":0,\"ticks\":\"\"}},\"type\":\"scatter3d\"}],\"scattercarpet\":[{\"marker\":{\"colorbar\":{\"outlinewidth\":0,\"ticks\":\"\"}},\"type\":\"scattercarpet\"}],\"scattergeo\":[{\"marker\":{\"colorbar\":{\"outlinewidth\":0,\"ticks\":\"\"}},\"type\":\"scattergeo\"}],\"scattergl\":[{\"marker\":{\"colorbar\":{\"outlinewidth\":0,\"ticks\":\"\"}},\"type\":\"scattergl\"}],\"scattermapbox\":[{\"marker\":{\"colorbar\":{\"outlinewidth\":0,\"ticks\":\"\"}},\"type\":\"scattermapbox\"}],\"scatterpolar\":[{\"marker\":{\"colorbar\":{\"outlinewidth\":0,\"ticks\":\"\"}},\"type\":\"scatterpolar\"}],\"scatterpolargl\":[{\"marker\":{\"colorbar\":{\"outlinewidth\":0,\"ticks\":\"\"}},\"type\":\"scatterpolargl\"}],\"scatterternary\":[{\"marker\":{\"colorbar\":{\"outlinewidth\":0,\"ticks\":\"\"}},\"type\":\"scatterternary\"}],\"surface\":[{\"colorbar\":{\"outlinewidth\":0,\"ticks\":\"\"},\"colorscale\":[[0.0,\"#0d0887\"],[0.1111111111111111,\"#46039f\"],[0.2222222222222222,\"#7201a8\"],[0.3333333333333333,\"#9c179e\"],[0.4444444444444444,\"#bd3786\"],[0.5555555555555556,\"#d8576b\"],[0.6666666666666666,\"#ed7953\"],[0.7777777777777778,\"#fb9f3a\"],[0.8888888888888888,\"#fdca26\"],[1.0,\"#f0f921\"]],\"type\":\"surface\"}],\"table\":[{\"cells\":{\"fill\":{\"color\":\"#EBF0F8\"},\"line\":{\"color\":\"white\"}},\"header\":{\"fill\":{\"color\":\"#C8D4E3\"},\"line\":{\"color\":\"white\"}},\"type\":\"table\"}]},\"layout\":{\"annotationdefaults\":{\"arrowcolor\":\"#2a3f5f\",\"arrowhead\":0,\"arrowwidth\":1},\"autotypenumbers\":\"strict\",\"coloraxis\":{\"colorbar\":{\"outlinewidth\":0,\"ticks\":\"\"}},\"colorscale\":{\"diverging\":[[0,\"#8e0152\"],[0.1,\"#c51b7d\"],[0.2,\"#de77ae\"],[0.3,\"#f1b6da\"],[0.4,\"#fde0ef\"],[0.5,\"#f7f7f7\"],[0.6,\"#e6f5d0\"],[0.7,\"#b8e186\"],[0.8,\"#7fbc41\"],[0.9,\"#4d9221\"],[1,\"#276419\"]],\"sequential\":[[0.0,\"#0d0887\"],[0.1111111111111111,\"#46039f\"],[0.2222222222222222,\"#7201a8\"],[0.3333333333333333,\"#9c179e\"],[0.4444444444444444,\"#bd3786\"],[0.5555555555555556,\"#d8576b\"],[0.6666666666666666,\"#ed7953\"],[0.7777777777777778,\"#fb9f3a\"],[0.8888888888888888,\"#fdca26\"],[1.0,\"#f0f921\"]],\"sequentialminus\":[[0.0,\"#0d0887\"],[0.1111111111111111,\"#46039f\"],[0.2222222222222222,\"#7201a8\"],[0.3333333333333333,\"#9c179e\"],[0.4444444444444444,\"#bd3786\"],[0.5555555555555556,\"#d8576b\"],[0.6666666666666666,\"#ed7953\"],[0.7777777777777778,\"#fb9f3a\"],[0.8888888888888888,\"#fdca26\"],[1.0,\"#f0f921\"]]},\"colorway\":[\"#636efa\",\"#EF553B\",\"#00cc96\",\"#ab63fa\",\"#FFA15A\",\"#19d3f3\",\"#FF6692\",\"#B6E880\",\"#FF97FF\",\"#FECB52\"],\"font\":{\"color\":\"#2a3f5f\"},\"geo\":{\"bgcolor\":\"white\",\"lakecolor\":\"white\",\"landcolor\":\"#E5ECF6\",\"showlakes\":true,\"showland\":true,\"subunitcolor\":\"white\"},\"hoverlabel\":{\"align\":\"left\"},\"hovermode\":\"closest\",\"mapbox\":{\"style\":\"light\"},\"paper_bgcolor\":\"white\",\"plot_bgcolor\":\"#E5ECF6\",\"polar\":{\"angularaxis\":{\"gridcolor\":\"white\",\"linecolor\":\"white\",\"ticks\":\"\"},\"bgcolor\":\"#E5ECF6\",\"radialaxis\":{\"gridcolor\":\"white\",\"linecolor\":\"white\",\"ticks\":\"\"}},\"scene\":{\"xaxis\":{\"backgroundcolor\":\"#E5ECF6\",\"gridcolor\":\"white\",\"gridwidth\":2,\"linecolor\":\"white\",\"showbackground\":true,\"ticks\":\"\",\"zerolinecolor\":\"white\"},\"yaxis\":{\"backgroundcolor\":\"#E5ECF6\",\"gridcolor\":\"white\",\"gridwidth\":2,\"linecolor\":\"white\",\"showbackground\":true,\"ticks\":\"\",\"zerolinecolor\":\"white\"},\"zaxis\":{\"backgroundcolor\":\"#E5ECF6\",\"gridcolor\":\"white\",\"gridwidth\":2,\"linecolor\":\"white\",\"showbackground\":true,\"ticks\":\"\",\"zerolinecolor\":\"white\"}},\"shapedefaults\":{\"line\":{\"color\":\"#2a3f5f\"}},\"ternary\":{\"aaxis\":{\"gridcolor\":\"white\",\"linecolor\":\"white\",\"ticks\":\"\"},\"baxis\":{\"gridcolor\":\"white\",\"linecolor\":\"white\",\"ticks\":\"\"},\"bgcolor\":\"#E5ECF6\",\"caxis\":{\"gridcolor\":\"white\",\"linecolor\":\"white\",\"ticks\":\"\"}},\"title\":{\"x\":0.05},\"xaxis\":{\"automargin\":true,\"gridcolor\":\"white\",\"linecolor\":\"white\",\"ticks\":\"\",\"title\":{\"standoff\":15},\"zerolinecolor\":\"white\",\"zerolinewidth\":2},\"yaxis\":{\"automargin\":true,\"gridcolor\":\"white\",\"linecolor\":\"white\",\"ticks\":\"\",\"title\":{\"standoff\":15},\"zerolinecolor\":\"white\",\"zerolinewidth\":2}}},\"xaxis\":{\"anchor\":\"y\",\"domain\":[0.0,1.0],\"title\":{\"text\":\"revenue/month in millions\"}},\"yaxis\":{\"anchor\":\"x\",\"domain\":[0.0,0.8316],\"title\":{\"text\":\"count\"}},\"xaxis2\":{\"anchor\":\"y2\",\"domain\":[0.0,1.0],\"matches\":\"x\",\"showticklabels\":false,\"showgrid\":true},\"yaxis2\":{\"anchor\":\"x2\",\"domain\":[0.8416,1.0],\"matches\":\"y2\",\"showticklabels\":false,\"showline\":false,\"ticks\":\"\",\"showgrid\":false},\"legend\":{\"tracegroupgap\":0},\"title\":{\"text\":\"revenue/month in millions vs freq\"},\"barmode\":\"relative\",\"bargap\":0.1},                        {\"responsive\": true}                    ).then(function(){\n",
       "                            \n",
       "var gd = document.getElementById('42f79826-eacc-482b-baa0-62ed42de06cf');\n",
       "var x = new MutationObserver(function (mutations, observer) {{\n",
       "        var display = window.getComputedStyle(gd).display;\n",
       "        if (!display || display === 'none') {{\n",
       "            console.log([gd, 'removed!']);\n",
       "            Plotly.purge(gd);\n",
       "            observer.disconnect();\n",
       "        }}\n",
       "}});\n",
       "\n",
       "// Listen for the removal of the full notebook cells\n",
       "var notebookContainer = gd.closest('#notebook-container');\n",
       "if (notebookContainer) {{\n",
       "    x.observe(notebookContainer, {childList: true});\n",
       "}}\n",
       "\n",
       "// Listen for the clearing of the current output cell\n",
       "var outputEl = gd.closest('.output');\n",
       "if (outputEl) {{\n",
       "    x.observe(outputEl, {childList: true});\n",
       "}}\n",
       "\n",
       "                        })                };                });            </script>        </div>"
      ]
     },
     "metadata": {},
     "output_type": "display_data"
    }
   ],
   "source": [
    "fig = px.histogram(datas,x='revenue/month in millions',marginal='box',nbins=50,title='revenue/month in millions vs freq')\n",
    "fig.update_layout(bargap=0.1)\n",
    "fig.show()"
   ]
  },
  {
   "cell_type": "markdown",
   "id": "7eb03b68",
   "metadata": {},
   "source": [
    "#### this shows the revenue monthly,with highest frequency.the highest frequency of revenue monthly is at 1.5million naira,while the company made 2.6million naira on very few occassions"
   ]
  },
  {
   "cell_type": "markdown",
   "id": "d34e3511",
   "metadata": {},
   "source": [
    "#### F) lets see the relationship between the ages in respect to the car park"
   ]
  },
  {
   "cell_type": "code",
   "execution_count": 14,
   "id": "55554429",
   "metadata": {},
   "outputs": [
    {
     "data": {
      "image/png": "[encoded data removed]",
      "text/plain": [
       "<Figure size 1296x576 with 1 Axes>"
      ]
     },
     "metadata": {},
     "output_type": "display_data"
    }
   ],
   "source": [
    "plt.figure(figsize= (18,8))\n",
    "plt.pie(datas['ages'].value_counts().head(5), labels=datas['ages'].value_counts().head(5).index ,textprops ={'fontsize' : 14}, \n",
    "        explode= [0.06]*5, shadow= True, startangle= 50, autopct= '%1.3F%%')\n",
    "plt.title ( 'The top 5 ages:', fontsize= 16)\n",
    "plt.show()"
   ]
  },
  {
   "cell_type": "markdown",
   "id": "a60a6f0b",
   "metadata": {},
   "source": [
    "##### from the pie chart above we had fewer older people use the car park, but alot of people at age 55 used the car park with a higher percentage of 30. while the eldest age which is 67 years had few people use the park counting from just the top 5. from this pie chart it is obvious that most people who work around there are from 35 through slightly above middle age\n"
   ]
  },
  {
   "cell_type": "markdown",
   "id": "8f446591",
   "metadata": {},
   "source": [
    "#### G) lets know what time of the month the business made a higher profit."
   ]
  },
  {
   "cell_type": "code",
   "execution_count": 38,
   "id": "7806576d",
   "metadata": {},
   "outputs": [
    {
     "data": {
      "text/plain": [
       "<AxesSubplot:xlabel='Gender', ylabel='profit/permonth'>"
      ]
     },
     "execution_count": 38,
     "metadata": {},
     "output_type": "execute_result"
    },
    {
     "data": {
      "image/png": "[encoded data removed]",
      "text/plain": [
       "<Figure size 1008x648 with 1 Axes>"
      ]
     },
     "metadata": {
      "needs_background": "light"
     },
     "output_type": "display_data"
    }
   ],
   "source": [
    "plt.figure(figsize=(14,9))\n",
    "sns.barplot(data=datas, x='Gender', y='profit/permonth',palette='rocket', hue='month year 2000/2002')"
   ]
  },
  {
   "cell_type": "markdown",
   "id": "fd6d0d50",
   "metadata": {},
   "source": [
    "#### This also talks about the profit permonth in relation to the time of the year"
   ]
  },
  {
   "cell_type": "markdown",
   "id": "183ad836",
   "metadata": {},
   "source": [
    "#### H) here we want to know the cost per hour and relate to the no of hours each person uses"
   ]
  },
  {
   "cell_type": "code",
   "execution_count": 15,
   "id": "3b6a11b1",
   "metadata": {},
   "outputs": [
    {
     "data": {
      "text/plain": [
       "<AxesSubplot:xlabel='cost/hour', ylabel='no of hr/per'>"
      ]
     },
     "execution_count": 15,
     "metadata": {},
     "output_type": "execute_result"
    },
    {
     "data": {
      "image/png": "[encoded data removed]",
      "text/plain": [
       "<Figure size 432x288 with 1 Axes>"
      ]
     },
     "metadata": {
      "needs_background": "light"
     },
     "output_type": "display_data"
    }
   ],
   "source": [
    "sns.violinplot(data=datas, x='cost/hour',y='no of hr/per', palette= 'autumn')"
   ]
  },
  {
   "cell_type": "markdown",
   "id": "b887ae89",
   "metadata": {},
   "source": [
    "#### The cost per car per hour is 200naira,alot of people leave their cars there for 8 hours. some people pay per month instead of paying every day.then fewer people stay for 3 hours."
   ]
  },
  {
   "cell_type": "markdown",
   "id": "b26b9cd0",
   "metadata": {},
   "source": [
    "#### I) This shows the relationship between the cost of staffs with the number of staffs"
   ]
  },
  {
   "cell_type": "code",
   "execution_count": 40,
   "id": "ef297a3a",
   "metadata": {},
   "outputs": [
    {
     "data": {
      "application/vnd.plotly.v1+json": {
       "config": {
        "plotlyServerURL": "https://plot.ly"
       },
       "data": [
        {
         "alignmentgroup": "True",
         "bingroup": "x",
         "hovertemplate": "no of staffs=8<br>cost for staffs/month/k=%{x}<br>count=%{y}<extra></extra>",
         "legendgroup": "8",
         "marker": {
          "color": "fuchsia",
          "pattern": {
           "shape": ""
          }
         },
         "name": "8",
         "nbinsx": 50,
         "offsetgroup": "8",
         "orientation": "v",
         "showlegend": true,
         "type": "histogram",
         "x": [
          650,
          650,
          650,
          650,
          650,
          650,
          650,
          650,
          650,
          650,
          650,
          650,
          650,
          650,
          650,
          650,
          650,
          650,
          650,
          650,
          650,
          650,
          650,
          650,
          650,
          650,
          650,
          650,
          650,
          650,
          650,
          650,
          650,
          650,
          650,
          650,
          650,
          650,
          650,
          650,
          650,
          650,
          650,
          650,
          650,
          650,
          650,
          650,
          650,
          650
         ],
         "xaxis": "x",
         "yaxis": "y"
        },
        {
         "alignmentgroup": "True",
         "hovertemplate": "no of staffs=8<br>cost for staffs/month/k=%{x}<extra></extra>",
         "legendgroup": "8",
         "marker": {
          "color": "fuchsia"
         },
         "name": "8",
         "notched": true,
         "offsetgroup": "8",
         "showlegend": false,
         "type": "box",
         "x": [
          650,
          650,
          650,
          650,
          650,
          650,
          650,
          650,
          650,
          650,
          650,
          650,
          650,
          650,
          650,
          650,
          650,
          650,
          650,
          650,
          650,
          650,
          650,
          650,
          650,
          650,
          650,
          650,
          650,
          650,
          650,
          650,
          650,
          650,
          650,
          650,
          650,
          650,
          650,
          650,
          650,
          650,
          650,
          650,
          650,
          650,
          650,
          650,
          650,
          650
         ],
         "xaxis": "x2",
         "yaxis": "y2"
        }
       ],
       "layout": {
        "bargap": 0.5,
        "barmode": "relative",
        "legend": {
         "title": {
          "text": "no of staffs"
         },
         "tracegroupgap": 0
        },
        "template": {
         "data": {
          "bar": [
           {
            "error_x": {
             "color": "#2a3f5f"
            },
            "error_y": {
             "color": "#2a3f5f"
            },
            "marker": {
             "line": {
              "color": "#E5ECF6",
              "width": 0.5
             },
             "pattern": {
              "fillmode": "overlay",
              "size": 10,
              "solidity": 0.2
             }
            },
            "type": "bar"
           }
          ],
          "barpolar": [
           {
            "marker": {
             "line": {
              "color": "#E5ECF6",
              "width": 0.5
             },
             "pattern": {
              "fillmode": "overlay",
              "size": 10,
              "solidity": 0.2
             }
            },
            "type": "barpolar"
           }
          ],
          "carpet": [
           {
            "aaxis": {
             "endlinecolor": "#2a3f5f",
             "gridcolor": "white",
             "linecolor": "white",
             "minorgridcolor": "white",
             "startlinecolor": "#2a3f5f"
            },
            "baxis": {
             "endlinecolor": "#2a3f5f",
             "gridcolor": "white",
             "linecolor": "white",
             "minorgridcolor": "white",
             "startlinecolor": "#2a3f5f"
            },
            "type": "carpet"
           }
          ],
          "choropleth": [
           {
            "colorbar": {
             "outlinewidth": 0,
             "ticks": ""
            },
            "type": "choropleth"
           }
          ],
          "contour": [
           {
            "colorbar": {
             "outlinewidth": 0,
             "ticks": ""
            },
            "colorscale": [
             [
              0,
              "#0d0887"
             ],
             [
              0.1111111111111111,
              "#46039f"
             ],
             [
              0.2222222222222222,
              "#7201a8"
             ],
             [
              0.3333333333333333,
              "#9c179e"
             ],
             [
              0.4444444444444444,
              "#bd3786"
             ],
             [
              0.5555555555555556,
              "#d8576b"
             ],
             [
              0.6666666666666666,
              "#ed7953"
             ],
             [
              0.7777777777777778,
              "#fb9f3a"
             ],
             [
              0.8888888888888888,
              "#fdca26"
             ],
             [
              1,
              "#f0f921"
             ]
            ],
            "type": "contour"
           }
          ],
          "contourcarpet": [
           {
            "colorbar": {
             "outlinewidth": 0,
             "ticks": ""
            },
            "type": "contourcarpet"
           }
          ],
          "heatmap": [
           {
            "colorbar": {
             "outlinewidth": 0,
             "ticks": ""
            },
            "colorscale": [
             [
              0,
              "#0d0887"
             ],
             [
              0.1111111111111111,
              "#46039f"
             ],
             [
              0.2222222222222222,
              "#7201a8"
             ],
             [
              0.3333333333333333,
              "#9c179e"
             ],
             [
              0.4444444444444444,
              "#bd3786"
             ],
             [
              0.5555555555555556,
              "#d8576b"
             ],
             [
              0.6666666666666666,
              "#ed7953"
             ],
             [
              0.7777777777777778,
              "#fb9f3a"
             ],
             [
              0.8888888888888888,
              "#fdca26"
             ],
             [
              1,
              "#f0f921"
             ]
            ],
            "type": "heatmap"
           }
          ],
          "heatmapgl": [
           {
            "colorbar": {
             "outlinewidth": 0,
             "ticks": ""
            },
            "colorscale": [
             [
              0,
              "#0d0887"
             ],
             [
              0.1111111111111111,
              "#46039f"
             ],
             [
              0.2222222222222222,
              "#7201a8"
             ],
             [
              0.3333333333333333,
              "#9c179e"
             ],
             [
              0.4444444444444444,
              "#bd3786"
             ],
             [
              0.5555555555555556,
              "#d8576b"
             ],
             [
              0.6666666666666666,
              "#ed7953"
             ],
             [
              0.7777777777777778,
              "#fb9f3a"
             ],
             [
              0.8888888888888888,
              "#fdca26"
             ],
             [
              1,
              "#f0f921"
             ]
            ],
            "type": "heatmapgl"
           }
          ],
          "histogram": [
           {
            "marker": {
             "pattern": {
              "fillmode": "overlay",
              "size": 10,
              "solidity": 0.2
             }
            },
            "type": "histogram"
           }
          ],
          "histogram2d": [
           {
            "colorbar": {
             "outlinewidth": 0,
             "ticks": ""
            },
            "colorscale": [
             [
              0,
              "#0d0887"
             ],
             [
              0.1111111111111111,
              "#46039f"
             ],
             [
              0.2222222222222222,
              "#7201a8"
             ],
             [
              0.3333333333333333,
              "#9c179e"
             ],
             [
              0.4444444444444444,
              "#bd3786"
             ],
             [
              0.5555555555555556,
              "#d8576b"
             ],
             [
              0.6666666666666666,
              "#ed7953"
             ],
             [
              0.7777777777777778,
              "#fb9f3a"
             ],
             [
              0.8888888888888888,
              "#fdca26"
             ],
             [
              1,
              "#f0f921"
             ]
            ],
            "type": "histogram2d"
           }
          ],
          "histogram2dcontour": [
           {
            "colorbar": {
             "outlinewidth": 0,
             "ticks": ""
            },
            "colorscale": [
             [
              0,
              "#0d0887"
             ],
             [
              0.1111111111111111,
              "#46039f"
             ],
             [
              0.2222222222222222,
              "#7201a8"
             ],
             [
              0.3333333333333333,
              "#9c179e"
             ],
             [
              0.4444444444444444,
              "#bd3786"
             ],
             [
              0.5555555555555556,
              "#d8576b"
             ],
             [
              0.6666666666666666,
              "#ed7953"
             ],
             [
              0.7777777777777778,
              "#fb9f3a"
             ],
             [
              0.8888888888888888,
              "#fdca26"
             ],
             [
              1,
              "#f0f921"
             ]
            ],
            "type": "histogram2dcontour"
           }
          ],
          "mesh3d": [
           {
            "colorbar": {
             "outlinewidth": 0,
             "ticks": ""
            },
            "type": "mesh3d"
           }
          ],
          "parcoords": [
           {
            "line": {
             "colorbar": {
              "outlinewidth": 0,
              "ticks": ""
             }
            },
            "type": "parcoords"
           }
          ],
          "pie": [
           {
            "automargin": true,
            "type": "pie"
           }
          ],
          "scatter": [
           {
            "marker": {
             "colorbar": {
              "outlinewidth": 0,
              "ticks": ""
             }
            },
            "type": "scatter"
           }
          ],
          "scatter3d": [
           {
            "line": {
             "colorbar": {
              "outlinewidth": 0,
              "ticks": ""
             }
            },
            "marker": {
             "colorbar": {
              "outlinewidth": 0,
              "ticks": ""
             }
            },
            "type": "scatter3d"
           }
          ],
          "scattercarpet": [
           {
            "marker": {
             "colorbar": {
              "outlinewidth": 0,
              "ticks": ""
             }
            },
            "type": "scattercarpet"
           }
          ],
          "scattergeo": [
           {
            "marker": {
             "colorbar": {
              "outlinewidth": 0,
              "ticks": ""
             }
            },
            "type": "scattergeo"
           }
          ],
          "scattergl": [
           {
            "marker": {
             "colorbar": {
              "outlinewidth": 0,
              "ticks": ""
             }
            },
            "type": "scattergl"
           }
          ],
          "scattermapbox": [
           {
            "marker": {
             "colorbar": {
              "outlinewidth": 0,
              "ticks": ""
             }
            },
            "type": "scattermapbox"
           }
          ],
          "scatterpolar": [
           {
            "marker": {
             "colorbar": {
              "outlinewidth": 0,
              "ticks": ""
             }
            },
            "type": "scatterpolar"
           }
          ],
          "scatterpolargl": [
           {
            "marker": {
             "colorbar": {
              "outlinewidth": 0,
              "ticks": ""
             }
            },
            "type": "scatterpolargl"
           }
          ],
          "scatterternary": [
           {
            "marker": {
             "colorbar": {
              "outlinewidth": 0,
              "ticks": ""
             }
            },
            "type": "scatterternary"
           }
          ],
          "surface": [
           {
            "colorbar": {
             "outlinewidth": 0,
             "ticks": ""
            },
            "colorscale": [
             [
              0,
              "#0d0887"
             ],
             [
              0.1111111111111111,
              "#46039f"
             ],
             [
              0.2222222222222222,
              "#7201a8"
             ],
             [
              0.3333333333333333,
              "#9c179e"
             ],
             [
              0.4444444444444444,
              "#bd3786"
             ],
             [
              0.5555555555555556,
              "#d8576b"
             ],
             [
              0.6666666666666666,
              "#ed7953"
             ],
             [
              0.7777777777777778,
              "#fb9f3a"
             ],
             [
              0.8888888888888888,
              "#fdca26"
             ],
             [
              1,
              "#f0f921"
             ]
            ],
            "type": "surface"
           }
          ],
          "table": [
           {
            "cells": {
             "fill": {
              "color": "#EBF0F8"
             },
             "line": {
              "color": "white"
             }
            },
            "header": {
             "fill": {
              "color": "#C8D4E3"
             },
             "line": {
              "color": "white"
             }
            },
            "type": "table"
           }
          ]
         },
         "layout": {
          "annotationdefaults": {
           "arrowcolor": "#2a3f5f",
           "arrowhead": 0,
           "arrowwidth": 1
          },
          "autotypenumbers": "strict",
          "coloraxis": {
           "colorbar": {
            "outlinewidth": 0,
            "ticks": ""
           }
          },
          "colorscale": {
           "diverging": [
            [
             0,
             "#8e0152"
            ],
            [
             0.1,
             "#c51b7d"
            ],
            [
             0.2,
             "#de77ae"
            ],
            [
             0.3,
             "#f1b6da"
            ],
            [
             0.4,
             "#fde0ef"
            ],
            [
             0.5,
             "#f7f7f7"
            ],
            [
             0.6,
             "#e6f5d0"
            ],
            [
             0.7,
             "#b8e186"
            ],
            [
             0.8,
             "#7fbc41"
            ],
            [
             0.9,
             "#4d9221"
            ],
            [
             1,
             "#276419"
            ]
           ],
           "sequential": [
            [
             0,
             "#0d0887"
            ],
            [
             0.1111111111111111,
             "#46039f"
            ],
            [
             0.2222222222222222,
             "#7201a8"
            ],
            [
             0.3333333333333333,
             "#9c179e"
            ],
            [
             0.4444444444444444,
             "#bd3786"
            ],
            [
             0.5555555555555556,
             "#d8576b"
            ],
            [
             0.6666666666666666,
             "#ed7953"
            ],
            [
             0.7777777777777778,
             "#fb9f3a"
            ],
            [
             0.8888888888888888,
             "#fdca26"
            ],
            [
             1,
             "#f0f921"
            ]
           ],
           "sequentialminus": [
            [
             0,
             "#0d0887"
            ],
            [
             0.1111111111111111,
             "#46039f"
            ],
            [
             0.2222222222222222,
             "#7201a8"
            ],
            [
             0.3333333333333333,
             "#9c179e"
            ],
            [
             0.4444444444444444,
             "#bd3786"
            ],
            [
             0.5555555555555556,
             "#d8576b"
            ],
            [
             0.6666666666666666,
             "#ed7953"
            ],
            [
             0.7777777777777778,
             "#fb9f3a"
            ],
            [
             0.8888888888888888,
             "#fdca26"
            ],
            [
             1,
             "#f0f921"
            ]
           ]
          },
          "colorway": [
           "#636efa",
           "#EF553B",
           "#00cc96",
           "#ab63fa",
           "#FFA15A",
           "#19d3f3",
           "#FF6692",
           "#B6E880",
           "#FF97FF",
           "#FECB52"
          ],
          "font": {
           "color": "#2a3f5f"
          },
          "geo": {
           "bgcolor": "white",
           "lakecolor": "white",
           "landcolor": "#E5ECF6",
           "showlakes": true,
           "showland": true,
           "subunitcolor": "white"
          },
          "hoverlabel": {
           "align": "left"
          },
          "hovermode": "closest",
          "mapbox": {
           "style": "light"
          },
          "paper_bgcolor": "white",
          "plot_bgcolor": "#E5ECF6",
          "polar": {
           "angularaxis": {
            "gridcolor": "white",
            "linecolor": "white",
            "ticks": ""
           },
           "bgcolor": "#E5ECF6",
           "radialaxis": {
            "gridcolor": "white",
            "linecolor": "white",
            "ticks": ""
           }
          },
          "scene": {
           "xaxis": {
            "backgroundcolor": "#E5ECF6",
            "gridcolor": "white",
            "gridwidth": 2,
            "linecolor": "white",
            "showbackground": true,
            "ticks": "",
            "zerolinecolor": "white"
           },
           "yaxis": {
            "backgroundcolor": "#E5ECF6",
            "gridcolor": "white",
            "gridwidth": 2,
            "linecolor": "white",
            "showbackground": true,
            "ticks": "",
            "zerolinecolor": "white"
           },
           "zaxis": {
            "backgroundcolor": "#E5ECF6",
            "gridcolor": "white",
            "gridwidth": 2,
            "linecolor": "white",
            "showbackground": true,
            "ticks": "",
            "zerolinecolor": "white"
           }
          },
          "shapedefaults": {
           "line": {
            "color": "#2a3f5f"
           }
          },
          "ternary": {
           "aaxis": {
            "gridcolor": "white",
            "linecolor": "white",
            "ticks": ""
           },
           "baxis": {
            "gridcolor": "white",
            "linecolor": "white",
            "ticks": ""
           },
           "bgcolor": "#E5ECF6",
           "caxis": {
            "gridcolor": "white",
            "linecolor": "white",
            "ticks": ""
           }
          },
          "title": {
           "x": 0.05
          },
          "xaxis": {
           "automargin": true,
           "gridcolor": "white",
           "linecolor": "white",
           "ticks": "",
           "title": {
            "standoff": 15
           },
           "zerolinecolor": "white",
           "zerolinewidth": 2
          },
          "yaxis": {
           "automargin": true,
           "gridcolor": "white",
           "linecolor": "white",
           "ticks": "",
           "title": {
            "standoff": 15
           },
           "zerolinecolor": "white",
           "zerolinewidth": 2
          }
         }
        },
        "title": {
         "text": "STAFFS/SALARY"
        },
        "xaxis": {
         "anchor": "y",
         "domain": [
          0,
          1
         ],
         "title": {
          "text": "cost for staffs/month/k"
         }
        },
        "xaxis2": {
         "anchor": "y2",
         "domain": [
          0,
          1
         ],
         "matches": "x",
         "showgrid": true,
         "showticklabels": false
        },
        "yaxis": {
         "anchor": "x",
         "domain": [
          0,
          0.7326
         ],
         "title": {
          "text": "count"
         }
        },
        "yaxis2": {
         "anchor": "x2",
         "domain": [
          0.7426,
          1
         ],
         "matches": "y2",
         "showgrid": false,
         "showline": false,
         "showticklabels": false,
         "ticks": ""
        }
       }
      },
      "text/html": [
       "<div>                            <div id=\"d2bb6fd3-b64f-4d9e-9a54-84234b12e3be\" class=\"plotly-graph-div\" style=\"height:525px; width:100%;\"></div>            <script type=\"text/javascript\">                require([\"plotly\"], function(Plotly) {                    window.PLOTLYENV=window.PLOTLYENV || {};                                    if (document.getElementById(\"d2bb6fd3-b64f-4d9e-9a54-84234b12e3be\")) {                    Plotly.newPlot(                        \"d2bb6fd3-b64f-4d9e-9a54-84234b12e3be\",                        [{\"alignmentgroup\":\"True\",\"bingroup\":\"x\",\"hovertemplate\":\"no of staffs=8<br>cost for staffs/month/k=%{x}<br>count=%{y}<extra></extra>\",\"legendgroup\":\"8\",\"marker\":{\"color\":\"fuchsia\",\"pattern\":{\"shape\":\"\"}},\"name\":\"8\",\"nbinsx\":50,\"offsetgroup\":\"8\",\"orientation\":\"v\",\"showlegend\":true,\"x\":[650,650,650,650,650,650,650,650,650,650,650,650,650,650,650,650,650,650,650,650,650,650,650,650,650,650,650,650,650,650,650,650,650,650,650,650,650,650,650,650,650,650,650,650,650,650,650,650,650,650],\"xaxis\":\"x\",\"yaxis\":\"y\",\"type\":\"histogram\"},{\"alignmentgroup\":\"True\",\"hovertemplate\":\"no of staffs=8<br>cost for staffs/month/k=%{x}<extra></extra>\",\"legendgroup\":\"8\",\"marker\":{\"color\":\"fuchsia\"},\"name\":\"8\",\"notched\":true,\"offsetgroup\":\"8\",\"showlegend\":false,\"x\":[650,650,650,650,650,650,650,650,650,650,650,650,650,650,650,650,650,650,650,650,650,650,650,650,650,650,650,650,650,650,650,650,650,650,650,650,650,650,650,650,650,650,650,650,650,650,650,650,650,650],\"xaxis\":\"x2\",\"yaxis\":\"y2\",\"type\":\"box\"}],                        {\"template\":{\"data\":{\"bar\":[{\"error_x\":{\"color\":\"#2a3f5f\"},\"error_y\":{\"color\":\"#2a3f5f\"},\"marker\":{\"line\":{\"color\":\"#E5ECF6\",\"width\":0.5},\"pattern\":{\"fillmode\":\"overlay\",\"size\":10,\"solidity\":0.2}},\"type\":\"bar\"}],\"barpolar\":[{\"marker\":{\"line\":{\"color\":\"#E5ECF6\",\"width\":0.5},\"pattern\":{\"fillmode\":\"overlay\",\"size\":10,\"solidity\":0.2}},\"type\":\"barpolar\"}],\"carpet\":[{\"aaxis\":{\"endlinecolor\":\"#2a3f5f\",\"gridcolor\":\"white\",\"linecolor\":\"white\",\"minorgridcolor\":\"white\",\"startlinecolor\":\"#2a3f5f\"},\"baxis\":{\"endlinecolor\":\"#2a3f5f\",\"gridcolor\":\"white\",\"linecolor\":\"white\",\"minorgridcolor\":\"white\",\"startlinecolor\":\"#2a3f5f\"},\"type\":\"carpet\"}],\"choropleth\":[{\"colorbar\":{\"outlinewidth\":0,\"ticks\":\"\"},\"type\":\"choropleth\"}],\"contour\":[{\"colorbar\":{\"outlinewidth\":0,\"ticks\":\"\"},\"colorscale\":[[0.0,\"#0d0887\"],[0.1111111111111111,\"#46039f\"],[0.2222222222222222,\"#7201a8\"],[0.3333333333333333,\"#9c179e\"],[0.4444444444444444,\"#bd3786\"],[0.5555555555555556,\"#d8576b\"],[0.6666666666666666,\"#ed7953\"],[0.7777777777777778,\"#fb9f3a\"],[0.8888888888888888,\"#fdca26\"],[1.0,\"#f0f921\"]],\"type\":\"contour\"}],\"contourcarpet\":[{\"colorbar\":{\"outlinewidth\":0,\"ticks\":\"\"},\"type\":\"contourcarpet\"}],\"heatmap\":[{\"colorbar\":{\"outlinewidth\":0,\"ticks\":\"\"},\"colorscale\":[[0.0,\"#0d0887\"],[0.1111111111111111,\"#46039f\"],[0.2222222222222222,\"#7201a8\"],[0.3333333333333333,\"#9c179e\"],[0.4444444444444444,\"#bd3786\"],[0.5555555555555556,\"#d8576b\"],[0.6666666666666666,\"#ed7953\"],[0.7777777777777778,\"#fb9f3a\"],[0.8888888888888888,\"#fdca26\"],[1.0,\"#f0f921\"]],\"type\":\"heatmap\"}],\"heatmapgl\":[{\"colorbar\":{\"outlinewidth\":0,\"ticks\":\"\"},\"colorscale\":[[0.0,\"#0d0887\"],[0.1111111111111111,\"#46039f\"],[0.2222222222222222,\"#7201a8\"],[0.3333333333333333,\"#9c179e\"],[0.4444444444444444,\"#bd3786\"],[0.5555555555555556,\"#d8576b\"],[0.6666666666666666,\"#ed7953\"],[0.7777777777777778,\"#fb9f3a\"],[0.8888888888888888,\"#fdca26\"],[1.0,\"#f0f921\"]],\"type\":\"heatmapgl\"}],\"histogram\":[{\"marker\":{\"pattern\":{\"fillmode\":\"overlay\",\"size\":10,\"solidity\":0.2}},\"type\":\"histogram\"}],\"histogram2d\":[{\"colorbar\":{\"outlinewidth\":0,\"ticks\":\"\"},\"colorscale\":[[0.0,\"#0d0887\"],[0.1111111111111111,\"#46039f\"],[0.2222222222222222,\"#7201a8\"],[0.3333333333333333,\"#9c179e\"],[0.4444444444444444,\"#bd3786\"],[0.5555555555555556,\"#d8576b\"],[0.6666666666666666,\"#ed7953\"],[0.7777777777777778,\"#fb9f3a\"],[0.8888888888888888,\"#fdca26\"],[1.0,\"#f0f921\"]],\"type\":\"histogram2d\"}],\"histogram2dcontour\":[{\"colorbar\":{\"outlinewidth\":0,\"ticks\":\"\"},\"colorscale\":[[0.0,\"#0d0887\"],[0.1111111111111111,\"#46039f\"],[0.2222222222222222,\"#7201a8\"],[0.3333333333333333,\"#9c179e\"],[0.4444444444444444,\"#bd3786\"],[0.5555555555555556,\"#d8576b\"],[0.6666666666666666,\"#ed7953\"],[0.7777777777777778,\"#fb9f3a\"],[0.8888888888888888,\"#fdca26\"],[1.0,\"#f0f921\"]],\"type\":\"histogram2dcontour\"}],\"mesh3d\":[{\"colorbar\":{\"outlinewidth\":0,\"ticks\":\"\"},\"type\":\"mesh3d\"}],\"parcoords\":[{\"line\":{\"colorbar\":{\"outlinewidth\":0,\"ticks\":\"\"}},\"type\":\"parcoords\"}],\"pie\":[{\"automargin\":true,\"type\":\"pie\"}],\"scatter\":[{\"marker\":{\"colorbar\":{\"outlinewidth\":0,\"ticks\":\"\"}},\"type\":\"scatter\"}],\"scatter3d\":[{\"line\":{\"colorbar\":{\"outlinewidth\":0,\"ticks\":\"\"}},\"marker\":{\"colorbar\":{\"outlinewidth\":0,\"ticks\":\"\"}},\"type\":\"scatter3d\"}],\"scattercarpet\":[{\"marker\":{\"colorbar\":{\"outlinewidth\":0,\"ticks\":\"\"}},\"type\":\"scattercarpet\"}],\"scattergeo\":[{\"marker\":{\"colorbar\":{\"outlinewidth\":0,\"ticks\":\"\"}},\"type\":\"scattergeo\"}],\"scattergl\":[{\"marker\":{\"colorbar\":{\"outlinewidth\":0,\"ticks\":\"\"}},\"type\":\"scattergl\"}],\"scattermapbox\":[{\"marker\":{\"colorbar\":{\"outlinewidth\":0,\"ticks\":\"\"}},\"type\":\"scattermapbox\"}],\"scatterpolar\":[{\"marker\":{\"colorbar\":{\"outlinewidth\":0,\"ticks\":\"\"}},\"type\":\"scatterpolar\"}],\"scatterpolargl\":[{\"marker\":{\"colorbar\":{\"outlinewidth\":0,\"ticks\":\"\"}},\"type\":\"scatterpolargl\"}],\"scatterternary\":[{\"marker\":{\"colorbar\":{\"outlinewidth\":0,\"ticks\":\"\"}},\"type\":\"scatterternary\"}],\"surface\":[{\"colorbar\":{\"outlinewidth\":0,\"ticks\":\"\"},\"colorscale\":[[0.0,\"#0d0887\"],[0.1111111111111111,\"#46039f\"],[0.2222222222222222,\"#7201a8\"],[0.3333333333333333,\"#9c179e\"],[0.4444444444444444,\"#bd3786\"],[0.5555555555555556,\"#d8576b\"],[0.6666666666666666,\"#ed7953\"],[0.7777777777777778,\"#fb9f3a\"],[0.8888888888888888,\"#fdca26\"],[1.0,\"#f0f921\"]],\"type\":\"surface\"}],\"table\":[{\"cells\":{\"fill\":{\"color\":\"#EBF0F8\"},\"line\":{\"color\":\"white\"}},\"header\":{\"fill\":{\"color\":\"#C8D4E3\"},\"line\":{\"color\":\"white\"}},\"type\":\"table\"}]},\"layout\":{\"annotationdefaults\":{\"arrowcolor\":\"#2a3f5f\",\"arrowhead\":0,\"arrowwidth\":1},\"autotypenumbers\":\"strict\",\"coloraxis\":{\"colorbar\":{\"outlinewidth\":0,\"ticks\":\"\"}},\"colorscale\":{\"diverging\":[[0,\"#8e0152\"],[0.1,\"#c51b7d\"],[0.2,\"#de77ae\"],[0.3,\"#f1b6da\"],[0.4,\"#fde0ef\"],[0.5,\"#f7f7f7\"],[0.6,\"#e6f5d0\"],[0.7,\"#b8e186\"],[0.8,\"#7fbc41\"],[0.9,\"#4d9221\"],[1,\"#276419\"]],\"sequential\":[[0.0,\"#0d0887\"],[0.1111111111111111,\"#46039f\"],[0.2222222222222222,\"#7201a8\"],[0.3333333333333333,\"#9c179e\"],[0.4444444444444444,\"#bd3786\"],[0.5555555555555556,\"#d8576b\"],[0.6666666666666666,\"#ed7953\"],[0.7777777777777778,\"#fb9f3a\"],[0.8888888888888888,\"#fdca26\"],[1.0,\"#f0f921\"]],\"sequentialminus\":[[0.0,\"#0d0887\"],[0.1111111111111111,\"#46039f\"],[0.2222222222222222,\"#7201a8\"],[0.3333333333333333,\"#9c179e\"],[0.4444444444444444,\"#bd3786\"],[0.5555555555555556,\"#d8576b\"],[0.6666666666666666,\"#ed7953\"],[0.7777777777777778,\"#fb9f3a\"],[0.8888888888888888,\"#fdca26\"],[1.0,\"#f0f921\"]]},\"colorway\":[\"#636efa\",\"#EF553B\",\"#00cc96\",\"#ab63fa\",\"#FFA15A\",\"#19d3f3\",\"#FF6692\",\"#B6E880\",\"#FF97FF\",\"#FECB52\"],\"font\":{\"color\":\"#2a3f5f\"},\"geo\":{\"bgcolor\":\"white\",\"lakecolor\":\"white\",\"landcolor\":\"#E5ECF6\",\"showlakes\":true,\"showland\":true,\"subunitcolor\":\"white\"},\"hoverlabel\":{\"align\":\"left\"},\"hovermode\":\"closest\",\"mapbox\":{\"style\":\"light\"},\"paper_bgcolor\":\"white\",\"plot_bgcolor\":\"#E5ECF6\",\"polar\":{\"angularaxis\":{\"gridcolor\":\"white\",\"linecolor\":\"white\",\"ticks\":\"\"},\"bgcolor\":\"#E5ECF6\",\"radialaxis\":{\"gridcolor\":\"white\",\"linecolor\":\"white\",\"ticks\":\"\"}},\"scene\":{\"xaxis\":{\"backgroundcolor\":\"#E5ECF6\",\"gridcolor\":\"white\",\"gridwidth\":2,\"linecolor\":\"white\",\"showbackground\":true,\"ticks\":\"\",\"zerolinecolor\":\"white\"},\"yaxis\":{\"backgroundcolor\":\"#E5ECF6\",\"gridcolor\":\"white\",\"gridwidth\":2,\"linecolor\":\"white\",\"showbackground\":true,\"ticks\":\"\",\"zerolinecolor\":\"white\"},\"zaxis\":{\"backgroundcolor\":\"#E5ECF6\",\"gridcolor\":\"white\",\"gridwidth\":2,\"linecolor\":\"white\",\"showbackground\":true,\"ticks\":\"\",\"zerolinecolor\":\"white\"}},\"shapedefaults\":{\"line\":{\"color\":\"#2a3f5f\"}},\"ternary\":{\"aaxis\":{\"gridcolor\":\"white\",\"linecolor\":\"white\",\"ticks\":\"\"},\"baxis\":{\"gridcolor\":\"white\",\"linecolor\":\"white\",\"ticks\":\"\"},\"bgcolor\":\"#E5ECF6\",\"caxis\":{\"gridcolor\":\"white\",\"linecolor\":\"white\",\"ticks\":\"\"}},\"title\":{\"x\":0.05},\"xaxis\":{\"automargin\":true,\"gridcolor\":\"white\",\"linecolor\":\"white\",\"ticks\":\"\",\"title\":{\"standoff\":15},\"zerolinecolor\":\"white\",\"zerolinewidth\":2},\"yaxis\":{\"automargin\":true,\"gridcolor\":\"white\",\"linecolor\":\"white\",\"ticks\":\"\",\"title\":{\"standoff\":15},\"zerolinecolor\":\"white\",\"zerolinewidth\":2}}},\"xaxis\":{\"anchor\":\"y\",\"domain\":[0.0,1.0],\"title\":{\"text\":\"cost for staffs/month/k\"}},\"yaxis\":{\"anchor\":\"x\",\"domain\":[0.0,0.7326],\"title\":{\"text\":\"count\"}},\"xaxis2\":{\"anchor\":\"y2\",\"domain\":[0.0,1.0],\"matches\":\"x\",\"showticklabels\":false,\"showgrid\":true},\"yaxis2\":{\"anchor\":\"x2\",\"domain\":[0.7426,1.0],\"matches\":\"y2\",\"showticklabels\":false,\"showline\":false,\"ticks\":\"\",\"showgrid\":false},\"legend\":{\"title\":{\"text\":\"no of staffs\"},\"tracegroupgap\":0},\"title\":{\"text\":\"STAFFS/SALARY\"},\"barmode\":\"relative\",\"bargap\":0.5},                        {\"responsive\": true}                    ).then(function(){\n",
       "                            \n",
       "var gd = document.getElementById('d2bb6fd3-b64f-4d9e-9a54-84234b12e3be');\n",
       "var x = new MutationObserver(function (mutations, observer) {{\n",
       "        var display = window.getComputedStyle(gd).display;\n",
       "        if (!display || display === 'none') {{\n",
       "            console.log([gd, 'removed!']);\n",
       "            Plotly.purge(gd);\n",
       "            observer.disconnect();\n",
       "        }}\n",
       "}});\n",
       "\n",
       "// Listen for the removal of the full notebook cells\n",
       "var notebookContainer = gd.closest('#notebook-container');\n",
       "if (notebookContainer) {{\n",
       "    x.observe(notebookContainer, {childList: true});\n",
       "}}\n",
       "\n",
       "// Listen for the clearing of the current output cell\n",
       "var outputEl = gd.closest('.output');\n",
       "if (outputEl) {{\n",
       "    x.observe(outputEl, {childList: true});\n",
       "}}\n",
       "\n",
       "                        })                };                });            </script>        </div>"
      ]
     },
     "metadata": {},
     "output_type": "display_data"
    }
   ],
   "source": [
    "fig = px.histogram(datas,x='cost for staffs/month/k',marginal='box',color='no of staffs',nbins=50,color_discrete_sequence=['fuchsia'],\n",
    "                   title ='STAFFS/SALARY')\n",
    "\n",
    "\n",
    "fig.update_layout(bargap=0.5)\n",
    "fig.show()"
   ]
  },
  {
   "cell_type": "markdown",
   "id": "ba2471ed",
   "metadata": {},
   "source": [
    "#### from the plot above ,can we say the staffs are underpaid or over paid?what can be done if they are underpaid?\n",
    "- an increase in salary will do"
   ]
  },
  {
   "cell_type": "markdown",
   "id": "387b3313",
   "metadata": {},
   "source": [
    "#### J) lets find the relationship between the ages and numbers they spend using a scatter plot"
   ]
  },
  {
   "cell_type": "code",
   "execution_count": 16,
   "id": "fd40951d",
   "metadata": {},
   "outputs": [
    {
     "data": {
      "text/plain": [
       "<AxesSubplot:xlabel='ages', ylabel='no of hr/per'>"
      ]
     },
     "execution_count": 16,
     "metadata": {},
     "output_type": "execute_result"
    },
    {
     "data": {
      "image/png": "[encoded data removed]",
      "text/plain": [
       "<Figure size 576x432 with 1 Axes>"
      ]
     },
     "metadata": {
      "needs_background": "light"
     },
     "output_type": "display_data"
    }
   ],
   "source": [
    "plt.figure(figsize=(8,6))\n",
    "markers = {1:'P', 2:'X', 3:'D'} # P, X, and D are markers\n",
    "sns.scatterplot(data=datas, x='ages', y='no of hr/per',markers=markers)"
   ]
  },
  {
   "cell_type": "markdown",
   "id": "7ffd0b02",
   "metadata": {},
   "source": [
    "###### from the scatter plot above we realize that the ages of people who spend up to 8 hours are most. most people leave their cars for 8 hours which means so many people using the park work around that area.\n"
   ]
  },
  {
   "cell_type": "markdown",
   "id": "82dd36a5",
   "metadata": {},
   "source": [
    "#### K) no of hour spent in relation to each person"
   ]
  },
  {
   "cell_type": "code",
   "execution_count": 41,
   "id": "0a5f10b9",
   "metadata": {},
   "outputs": [
    {
     "data": {
      "image/png": "[encoded data removed]",
      "text/plain": [
       "<Figure size 360x360 with 1 Axes>"
      ]
     },
     "metadata": {
      "needs_background": "light"
     },
     "output_type": "display_data"
    }
   ],
   "source": [
    "sns.catplot(x = 'names',y = 'no of hr/per',color = 'purple',data=datas,kind='point')\n",
    "plt.ylabel('Count', fontsize = 16)\n",
    "plt.xticks(fontsize = 14, rotation = 45)\n",
    "plt.show()"
   ]
  },
  {
   "cell_type": "markdown",
   "id": "557f4da1",
   "metadata": {},
   "source": [
    "##### from the above plot the names are recorded with the number of hours spent,this is done for identification purpose and other purposes"
   ]
  },
  {
   "cell_type": "markdown",
   "id": "b35da2c0",
   "metadata": {},
   "source": [
    "#### L) no of hours per count"
   ]
  },
  {
   "cell_type": "code",
   "execution_count": 19,
   "id": "1eb19757",
   "metadata": {
    "scrolled": true
   },
   "outputs": [
    {
     "data": {
      "text/plain": [
       "<AxesSubplot:xlabel='no of hr/per', ylabel='count'>"
      ]
     },
     "execution_count": 19,
     "metadata": {},
     "output_type": "execute_result"
    },
    {
     "data": {
      "image/png": "[encoded data removed]",
      "text/plain": [
       "<Figure size 432x288 with 1 Axes>"
      ]
     },
     "metadata": {
      "needs_background": "light"
     },
     "output_type": "display_data"
    }
   ],
   "source": [
    "\n",
    "sns.countplot(data=datas, x='no of hr/per',palette ='viridis', hue='Gender')"
   ]
  },
  {
   "cell_type": "markdown",
   "id": "a2861f08",
   "metadata": {},
   "source": [
    "##### from this plot the females use higher number of hours than the males which is 14"
   ]
  },
  {
   "cell_type": "markdown",
   "id": "af42e361",
   "metadata": {},
   "source": [
    "#### M) lets relate our genders with ages"
   ]
  },
  {
   "cell_type": "code",
   "execution_count": 21,
   "id": "0753f714",
   "metadata": {},
   "outputs": [
    {
     "data": {
      "text/plain": [
       "<AxesSubplot:xlabel='Gender', ylabel='ages'>"
      ]
     },
     "execution_count": 21,
     "metadata": {},
     "output_type": "execute_result"
    },
    {
     "data": {
      "image/png": "[encoded data removed]",
      "text/plain": [
       "<Figure size 432x288 with 1 Axes>"
      ]
     },
     "metadata": {
      "needs_background": "light"
     },
     "output_type": "display_data"
    }
   ],
   "source": [
    "sns.boxplot(data=datas, x='Gender', y='ages')"
   ]
  },
  {
   "cell_type": "markdown",
   "id": "567dcd98",
   "metadata": {},
   "source": [
    "##### around ages 40-50 we have more females and males using the car park"
   ]
  },
  {
   "cell_type": "code",
   "execution_count": 23,
   "id": "758b5b5a",
   "metadata": {},
   "outputs": [
    {
     "data": {
      "text/plain": [
       "<seaborn.axisgrid.PairGrid at 0x7f8f88e2edc0>"
      ]
     },
     "execution_count": 23,
     "metadata": {},
     "output_type": "execute_result"
    },
    {
     "data": {
      "image/png": "[encoded data removed]",
      "text/plain": [
       "<Figure size 1440x1440 with 64 Axes>"
      ]
     },
     "metadata": {
      "needs_background": "light"
     },
     "output_type": "display_data"
    }
   ],
   "source": [
    "plot = sns.PairGrid(datas) \n",
    "plot.map(sns.scatterplot)"
   ]
  },
  {
   "cell_type": "markdown",
   "id": "97ebb939",
   "metadata": {},
   "source": [
    "### This shows all the graphs in a wholesome¶"
   ]
  },
  {
   "cell_type": "code",
   "execution_count": 24,
   "id": "60f49418",
   "metadata": {},
   "outputs": [
    {
     "data": {
      "text/plain": [
       "<seaborn.axisgrid.FacetGrid at 0x7f8f8977ec40>"
      ]
     },
     "execution_count": 24,
     "metadata": {},
     "output_type": "execute_result"
    },
    {
     "data": {
      "text/plain": [
       "<Figure size 1008x648 with 0 Axes>"
      ]
     },
     "metadata": {},
     "output_type": "display_data"
    },
    {
     "data": {
      "image/png": "[encoded data removed]",
      "text/plain": [
       "<Figure size 360x360 with 1 Axes>"
      ]
     },
     "metadata": {
      "needs_background": "light"
     },
     "output_type": "display_data"
    }
   ],
   "source": [
    "plt.figure(figsize=(14,9))\n",
    "sns.catplot(data=datas, x='ages', y='company /Bus Names')"
   ]
  },
  {
   "cell_type": "code",
   "execution_count": 25,
   "id": "bc88cc94",
   "metadata": {},
   "outputs": [
    {
     "data": {
      "text/plain": [
       "<AxesSubplot:>"
      ]
     },
     "execution_count": 25,
     "metadata": {},
     "output_type": "execute_result"
    },
    {
     "data": {
      "image/png": "[encoded data removed]",
      "text/plain": [
       "<Figure size 432x288 with 1 Axes>"
      ]
     },
     "metadata": {
      "needs_background": "light"
     },
     "output_type": "display_data"
    }
   ],
   "source": [
    "sns.heatmap(datas.isnull(),yticklabels=False,cbar = False,cmap ='crest')"
   ]
  },
  {
   "cell_type": "markdown",
   "id": "49d0313a",
   "metadata": {},
   "source": [
    "#### from the above we have no missing values in our dataset,which makes it easier to work with"
   ]
  },
  {
   "cell_type": "markdown",
   "id": "0a994564",
   "metadata": {},
   "source": [
    "## Data Preprocessing"
   ]
  },
  {
   "cell_type": "code",
   "execution_count": 26,
   "id": "7c3a6951",
   "metadata": {},
   "outputs": [],
   "source": [
    "datas=pd.read_csv('ADETOKUNBO ADEMOLA.VI PARK.csv')"
   ]
  },
  {
   "cell_type": "code",
   "execution_count": 27,
   "id": "a4e94235",
   "metadata": {},
   "outputs": [],
   "source": [
    "train = pd.read_csv('ADETOKUNBO ADEMOLA.VI PARK.csv')\n",
    "test = pd.read_csv('ADETOKUNBO ADEMOLA.VI PARK.csv')"
   ]
  },
  {
   "cell_type": "code",
   "execution_count": 28,
   "id": "84baa1d5",
   "metadata": {},
   "outputs": [],
   "source": [
    "train = train.dropna(thresh=0.70*len(train), axis=1)\n",
    "\n",
    "test = test.dropna(thresh=0.70*len(test), axis=1)"
   ]
  },
  {
   "cell_type": "code",
   "execution_count": 29,
   "id": "81903665",
   "metadata": {},
   "outputs": [
    {
     "data": {
      "text/plain": [
       "Index(['names', 'company /Bus Names', 'Registration num', 'Slots', 'time -1n',\n",
       "       'cost/hour', 'ages', 'revenue/month in millions',\n",
       "       'cost for staffs/month/k', 'profit/permonth', 'month year 2000/2002',\n",
       "       'no of staffs', 'no of hrs mon-fri ', 'no of hr/per', 'Gender'],\n",
       "      dtype='object')"
      ]
     },
     "execution_count": 29,
     "metadata": {},
     "output_type": "execute_result"
    }
   ],
   "source": [
    "datas.columns"
   ]
  },
  {
   "cell_type": "code",
   "execution_count": 30,
   "id": "c419190f",
   "metadata": {},
   "outputs": [],
   "source": [
    "import pandas as pd\n",
    "from sklearn.preprocessing import LabelEncoder\n"
   ]
  },
  {
   "cell_type": "code",
   "execution_count": 31,
   "id": "99343e26",
   "metadata": {},
   "outputs": [],
   "source": [
    "input_col = ['Slots','cost/hour','ages','cost for staffs/month/k','profit/permonth','no of staffs','profit/permonth','no of hrs mon-fri ','no of hr/per']\n",
    "target_col =['names','company /Bus Names','Registration num','time -1n','month year 2000/2002','Gender']"
   ]
  },
  {
   "cell_type": "code",
   "execution_count": 32,
   "id": "9a66208e",
   "metadata": {},
   "outputs": [],
   "source": [
    "train_input = datas[input_col].copy()\n",
    "train_target= datas[target_col]"
   ]
  },
  {
   "cell_type": "markdown",
   "id": "25836e12",
   "metadata": {},
   "source": [
    "### selecting numerical and categorical features¶"
   ]
  },
  {
   "cell_type": "code",
   "execution_count": 33,
   "id": "f4baafce",
   "metadata": {},
   "outputs": [],
   "source": [
    "num_col=['Slots','cost/hour','ages','cost for staffs/month/k','profit/permonth','no of staffs','profit/permonth','no of hrs mon-fri ','no of hr/per']\n",
    "cat_col=['names','company /Bus Names','Registration num','time -1n','month year 2000/2002','Gender']"
   ]
  },
  {
   "cell_type": "markdown",
   "id": "36ef9296",
   "metadata": {},
   "source": [
    "### encoding the categorical features"
   ]
  },
  {
   "cell_type": "code",
   "execution_count": 34,
   "id": "94491483",
   "metadata": {},
   "outputs": [],
   "source": [
    "num_col=['Slots','cost/hour','ages','cost for staffs/month/k','profit/permonth','no of staffs','profit/permonth','no of hrs mon-fri ','no of hr/per']\n",
    "cat_col=['names','company /Bus Names','Registration num','time -1n','month year 2000/2002','Gender']"
   ]
  },
  {
   "cell_type": "code",
   "execution_count": 35,
   "id": "7a9c4fa9",
   "metadata": {},
   "outputs": [],
   "source": [
    "from sklearn.preprocessing import OneHotEncoder"
   ]
  },
  {
   "cell_type": "code",
   "execution_count": 36,
   "id": "17586463",
   "metadata": {},
   "outputs": [],
   "source": [
    "encoder = OneHotEncoder(sparse= False, handle_unknown='ignore')"
   ]
  },
  {
   "cell_type": "code",
   "execution_count": null,
   "id": "ed1b6551",
   "metadata": {},
   "outputs": [],
   "source": []
  }
 ],
 "metadata": {
  "kernelspec": {
   "display_name": "Python 3 (ipykernel)",
   "language": "python",
   "name": "python3"
  },
  "language_info": {
   "codemirror_mode": {
    "name": "ipython",
    "version": 3
   },
   "file_extension": ".py",
   "mimetype": "text/x-python",
   "name": "python",
   "nbconvert_exporter": "python",
   "pygments_lexer": "ipython3",
   "version": "3.9.12"
  }
 },
 "nbformat": 4,
 "nbformat_minor": 5
}
