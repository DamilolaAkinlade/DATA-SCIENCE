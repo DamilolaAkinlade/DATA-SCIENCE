{
 "cells": [
  {
   "cell_type": "markdown",
   "id": "2600544c",
   "metadata": {},
   "source": [
    "### Object Oriented Program in Python"
   ]
  },
  {
   "cell_type": "markdown",
   "id": "6dea3061",
   "metadata": {},
   "source": [
    "Object Oriented Programming (OOP is a method of stucturing a program by bunding related properties and behaviours into individual objects. In this lab, you will learn to object-oriented programming in python. Here is an overview:\n",
    "* 1. <u> Understanding the basis of object-oriented programming; </u>\n",
    "   * 1.1. Procedual Vs OOP\n",
    "   * 1.2. Object as a data stucture\n",
    "   * 1.3. Classes as a blueprint\n",
    "* 2. <u>Objects in python</u>\n",
    "* 3. <u>Attributed and Methods</u>\n",
    "   * 3.1. State - Attributes\n",
    "   * 3.2. Behaviour - Methods\n",
    "* 4. <u>Class Anatomy: Attributes and Method</u>"
   ]
  },
  {
   "cell_type": "markdown",
   "id": "51a87838",
   "metadata": {},
   "source": [
    "### Understanding Basis of Object-Oriented Programmimg"
   ]
  },
  {
   "cell_type": "markdown",
   "id": "165424fe",
   "metadata": {},
   "source": [
    "\n",
    "\n",
    "Like other general-purpose programming languages, Python is also an object-oriented language since its beginning. It allows us to develop applications using an Object-Oriented approach. In Python, we can easily create and use classes and objects.\n",
    "\n",
    "An object-oriented paradigm is to design the program using classes and objects. The oops concept focuses on writing the reusable code. It is a widespread technique to solve the problem by creating objects.\n",
    "\n",
    "Major principles of object-oriented programming system are given below.\n",
    "\n",
    "Class, Object, Method, Inheritance, Polymorphism, Abstraction, and Encapsulation\n"
   ]
  },
  {
   "cell_type": "markdown",
   "id": "d28f62d3",
   "metadata": {},
   "source": [
    "### 1.1 Procedural vs. OOP\n"
   ]
  },
  {
   "cell_type": "markdown",
   "id": "61876b30",
   "metadata": {},
   "source": [
    "\n",
    "until now, we've probably been coding in procedural style to our code is a sequence of steps to be carried out. This is common when doing data analysis\n",
    "\n",
    "1. You download the data\n",
    "\n",
    "2. You Process the data\n",
    "\n",
    "3. You visualize the data\n"
   ]
  },
  {
   "cell_type": "markdown",
   "id": "bf4a1b02",
   "metadata": {},
   "source": [
    "### Thinking in sequence"
   ]
  },
  {
   "cell_type": "markdown",
   "id": "e7acff97",
   "metadata": {},
   "source": [
    "Procedural thinking is inherently natural;\n",
    "\n",
    "You woke up -You had breakfast- You go to Univelcity for data science class- You go home and rest\n",
    "\n",
    "This sequence view point is great if we are planning our day. But assuming we're city planner in Lagos. we'd have to think about thousands of people with their routines. hence trying to mad out a sequence of action for each individual will be quickly unattainable. Instead, we start thinking of patterns of behaviours. this same senerio happens in programming as well. The more data it uses, the mor functionality it has, the harder it is to think about as just a  sequence of steps.\n",
    "\n"
   ]
  },
  {
   "cell_type": "markdown",
   "id": "45928555",
   "metadata": {},
   "source": [
    "<table border=\"1\" class=\"docutils\">\n",
    "<colgroup>\n",
    "<col width=\"10%\" />\n",
    "<col width=\"10%\" />\n",
    "</colgroup>\n",
    "    \n",
    "<thead valign=\"bottom\">\n",
    "<tr class=\"row-odd\">\n",
    "<th class=\"head\">Procedual programming</th>\n",
    "<th class =\"head\">Object-Oriented Programming</tr>\n",
    "</tr>\n",
    "</thead>\n",
    "\n",
    "<tbody valign=\"top\">\n",
    "<tr class=\"row-even\"><td><tt class=\"docutils literal\"><span class=\"pre\">code as a sequence of steps</span></tt></td><td>Code as interaction of objects</td>\n",
    "<tr>\n",
    "<tr class=\"row-odd\"><td><tt class=\"docutils literal\"><span class=\"pre\">\\Great for data analysis and scripts</span></tt></td>\n",
    "<td>Great for building frameworks and tools like Pandas Dataframe, Numpy, TensorFlow, Scikit-Learn, PyTorch, etc.</td>\n",
    "</tr>\n",
    "<tr class=\"row-odd\"><td><tt class=\"docutils literal\"><span class=\"pre\">Doesn't make our code more reuseable and maintainable.</tt></td><td>Makes our code more reusable and maintebnable.</td>\n",
    "</tr>\n",
    "</tbody>\n",
    "</table>\n",
    "\n",
    "<a name = '1-2'></a>"
   ]
  },
  {
   "cell_type": "markdown",
   "id": "b1a29e9d",
   "metadata": {},
   "source": [
    "### 1.2 Object as data structures"
   ]
  },
  {
   "cell_type": "markdown",
   "id": "447a67df",
   "metadata": {},
   "source": [
    "`object= state + Behaviour`"
   ]
  },
  {
   "cell_type": "markdown",
   "id": "e035a6d6",
   "metadata": {},
   "source": [
    "<u> Example </u>"
   ]
  },
  {
   "cell_type": "markdown",
   "id": "36106009",
   "metadata": {},
   "source": [
    "1. An object representing a customer of a company can have a certain `phone number`, an `email adress` associated with the person, and behaviour like `place order` or `cancel order`\n",
    "\n",
    "2. An object representing a button on a website can have a label, and can be trigger to perform an action when pressed\n",
    "\n",
    " The distinctive feature of OOP is that state and behaviour are bundled together. Instead of thinking of customer data (phone number & email address) and customer action (place order and cancel order), we can think of them as one unit representing that customer, This is called Encapsulation; and it's one of the tenents of object oriented programming."
   ]
  },
  {
   "cell_type": "markdown",
   "id": "67ef9694",
   "metadata": {},
   "source": [
    "<b> Encapsulation is a simpler term means building data with code operating on it."
   ]
  },
  {
   "cell_type": "markdown",
   "id": "0290d1a9",
   "metadata": {},
   "source": [
    "### 1.3 Classes as blueprints"
   ]
  },
  {
   "cell_type": "markdown",
   "id": "c3335844",
   "metadata": {},
   "source": [
    "Classes are the blue print of objects outling possible state of behaviour. The real strength of OOp comes from utilizing classes. They describe the possible states and behaviours that every object of a certain type should have."
   ]
  },
  {
   "cell_type": "markdown",
   "id": "f426b446",
   "metadata": {},
   "source": [
    "<u> Example </u>"
   ]
  },
  {
   "cell_type": "markdown",
   "id": "b91688e7",
   "metadata": {},
   "source": [
    "Assume our customer class has:\n",
    "\n",
    "* email, phone\n",
    "* place order, cancel order\n",
    "\n",
    "if we say that every customer will have a phone number, an email address, and will be able to place and cancel orders, we've just define a class.So we can now talk about how customers are unified ina specific way.\n",
    "\n",
    "email: lara@company.com\n",
    "\n",
    "phone: 07089xyz\n",
    "\n",
    "place order\n",
    "\n",
    "cancel order\n",
    "\n",
    "email: Amara@company.com\n",
    "\n",
    "phone: 090890xyz\n",
    "\n",
    "place order\n",
    "\n",
    "cancel order\n",
    "\n",
    "email: Henry@company.com\n",
    "\n",
    "phone: 070737xyz\n",
    "\n",
    "place order\n",
    "\n",
    "cancel order"
   ]
  },
  {
   "cell_type": "markdown",
   "id": "69b1b574",
   "metadata": {},
   "source": [
    "### Objects in Python"
   ]
  },
  {
   "cell_type": "markdown",
   "id": "37e0586d",
   "metadata": {},
   "source": [
    "* In Python, everything is an object. This is because every object has a class; a blueprint associated with the underhood.\n",
    "* We can use the `type()` to find the class of any object in Python"
   ]
  },
  {
   "cell_type": "code",
   "execution_count": 1,
   "id": "4f24fb88",
   "metadata": {},
   "outputs": [],
   "source": [
    "# Improting the needed library\n",
    "\n",
    "import numpy as np\n",
    "import pandas as pd"
   ]
  },
  {
   "cell_type": "code",
   "execution_count": 2,
   "id": "89e22f8e",
   "metadata": {},
   "outputs": [
    {
     "name": "stdout",
     "output_type": "stream",
     "text": [
      "<class 'numpy.ndarray'>\n"
     ]
    }
   ],
   "source": [
    "# Check the class of the object 'a'\n",
    "\n",
    "a = np.array([1,2,3,4])\n",
    "print(type(a))"
   ]
  },
  {
   "cell_type": "code",
   "execution_count": 3,
   "id": "7a8f9e59",
   "metadata": {},
   "outputs": [
    {
     "name": "stdout",
     "output_type": "stream",
     "text": [
      "<class 'int'>\n"
     ]
    }
   ],
   "source": [
    "# Check the class of the object '5'\n",
    "print(type(5))"
   ]
  },
  {
   "cell_type": "code",
   "execution_count": 4,
   "id": "352ec2be",
   "metadata": {},
   "outputs": [
    {
     "name": "stdout",
     "output_type": "stream",
     "text": [
      "<class 'str'>\n"
     ]
    }
   ],
   "source": [
    "# Check the class of the object 'Hello'\n",
    "\n",
    "print(type(\"Hello\"))"
   ]
  },
  {
   "cell_type": "code",
   "execution_count": 5,
   "id": "e5afdc2b",
   "metadata": {},
   "outputs": [
    {
     "name": "stdout",
     "output_type": "stream",
     "text": [
      "<class 'pandas.core.frame.DataFrame'>\n"
     ]
    }
   ],
   "source": [
    "# Check the class of the object 'pd.DataFrame()'\n",
    "print(type(pd.DataFrame()))"
   ]
  },
  {
   "cell_type": "code",
   "execution_count": 6,
   "id": "22e6147f",
   "metadata": {},
   "outputs": [
    {
     "name": "stdout",
     "output_type": "stream",
     "text": [
      "<class 'function'>\n"
     ]
    }
   ],
   "source": [
    "print(type(np.mean))"
   ]
  },
  {
   "cell_type": "markdown",
   "id": "dbec3d6c",
   "metadata": {},
   "source": [
    "### Attributes and Methods"
   ]
  },
  {
   "cell_type": "markdown",
   "id": "8a27963c",
   "metadata": {},
   "source": [
    "Classes incoporate information about state and behaviour.\n",
    " * <u> State </u> information in python is called <b> Attributes </b>\n",
    " * <u> Behaviour </u> information in python is called <b> Methods </b>"
   ]
  },
  {
   "cell_type": "markdown",
   "id": "92a177c0",
   "metadata": {},
   "source": [
    "#### 3.1 State ==> Attributes"
   ]
  },
  {
   "cell_type": "code",
   "execution_count": 7,
   "id": "9a5fde3a",
   "metadata": {},
   "outputs": [
    {
     "data": {
      "text/plain": [
       "(4,)"
      ]
     },
     "execution_count": 7,
     "metadata": {},
     "output_type": "execute_result"
    }
   ],
   "source": [
    "a = np.array([1,2,3,4])\n",
    "a.shape"
   ]
  },
  {
   "cell_type": "markdown",
   "id": "bb48c014",
   "metadata": {},
   "source": [
    "#### Behaviour ==> Methods"
   ]
  },
  {
   "cell_type": "code",
   "execution_count": 8,
   "id": "0237c336",
   "metadata": {},
   "outputs": [
    {
     "data": {
      "text/plain": [
       "array([[1, 2],\n",
       "       [3, 4]])"
      ]
     },
     "execution_count": 8,
     "metadata": {},
     "output_type": "execute_result"
    }
   ],
   "source": [
    "a = np.array([1,2,3,4])\n",
    "a.reshape(2,2)"
   ]
  },
  {
   "cell_type": "markdown",
   "id": "55656bea",
   "metadata": {},
   "source": [
    "Summary\n",
    "* Objects = Attributes (State) + Methods (Behaviour)\n",
    "* Attribute <-> variable <-> obj.my_attribute\n",
    "* Method <-> function() <-> obj.my)method()"
   ]
  },
  {
   "cell_type": "code",
   "execution_count": 9,
   "id": "5a225ebc",
   "metadata": {},
   "outputs": [
    {
     "data": {
      "text/plain": [
       "['T',\n",
       " '__abs__',\n",
       " '__add__',\n",
       " '__and__',\n",
       " '__array__',\n",
       " '__array_finalize__',\n",
       " '__array_function__',\n",
       " '__array_interface__',\n",
       " '__array_prepare__',\n",
       " '__array_priority__',\n",
       " '__array_struct__',\n",
       " '__array_ufunc__',\n",
       " '__array_wrap__',\n",
       " '__bool__',\n",
       " '__class__',\n",
       " '__complex__',\n",
       " '__contains__',\n",
       " '__copy__',\n",
       " '__deepcopy__',\n",
       " '__delattr__',\n",
       " '__delitem__',\n",
       " '__dir__',\n",
       " '__divmod__',\n",
       " '__doc__',\n",
       " '__eq__',\n",
       " '__float__',\n",
       " '__floordiv__',\n",
       " '__format__',\n",
       " '__ge__',\n",
       " '__getattribute__',\n",
       " '__getitem__',\n",
       " '__gt__',\n",
       " '__hash__',\n",
       " '__iadd__',\n",
       " '__iand__',\n",
       " '__ifloordiv__',\n",
       " '__ilshift__',\n",
       " '__imatmul__',\n",
       " '__imod__',\n",
       " '__imul__',\n",
       " '__index__',\n",
       " '__init__',\n",
       " '__init_subclass__',\n",
       " '__int__',\n",
       " '__invert__',\n",
       " '__ior__',\n",
       " '__ipow__',\n",
       " '__irshift__',\n",
       " '__isub__',\n",
       " '__iter__',\n",
       " '__itruediv__',\n",
       " '__ixor__',\n",
       " '__le__',\n",
       " '__len__',\n",
       " '__lshift__',\n",
       " '__lt__',\n",
       " '__matmul__',\n",
       " '__mod__',\n",
       " '__mul__',\n",
       " '__ne__',\n",
       " '__neg__',\n",
       " '__new__',\n",
       " '__or__',\n",
       " '__pos__',\n",
       " '__pow__',\n",
       " '__radd__',\n",
       " '__rand__',\n",
       " '__rdivmod__',\n",
       " '__reduce__',\n",
       " '__reduce_ex__',\n",
       " '__repr__',\n",
       " '__rfloordiv__',\n",
       " '__rlshift__',\n",
       " '__rmatmul__',\n",
       " '__rmod__',\n",
       " '__rmul__',\n",
       " '__ror__',\n",
       " '__rpow__',\n",
       " '__rrshift__',\n",
       " '__rshift__',\n",
       " '__rsub__',\n",
       " '__rtruediv__',\n",
       " '__rxor__',\n",
       " '__setattr__',\n",
       " '__setitem__',\n",
       " '__setstate__',\n",
       " '__sizeof__',\n",
       " '__str__',\n",
       " '__sub__',\n",
       " '__subclasshook__',\n",
       " '__truediv__',\n",
       " '__xor__',\n",
       " 'all',\n",
       " 'any',\n",
       " 'argmax',\n",
       " 'argmin',\n",
       " 'argpartition',\n",
       " 'argsort',\n",
       " 'astype',\n",
       " 'base',\n",
       " 'byteswap',\n",
       " 'choose',\n",
       " 'clip',\n",
       " 'compress',\n",
       " 'conj',\n",
       " 'conjugate',\n",
       " 'copy',\n",
       " 'ctypes',\n",
       " 'cumprod',\n",
       " 'cumsum',\n",
       " 'data',\n",
       " 'diagonal',\n",
       " 'dot',\n",
       " 'dtype',\n",
       " 'dump',\n",
       " 'dumps',\n",
       " 'fill',\n",
       " 'flags',\n",
       " 'flat',\n",
       " 'flatten',\n",
       " 'getfield',\n",
       " 'imag',\n",
       " 'item',\n",
       " 'itemset',\n",
       " 'itemsize',\n",
       " 'max',\n",
       " 'mean',\n",
       " 'min',\n",
       " 'nbytes',\n",
       " 'ndim',\n",
       " 'newbyteorder',\n",
       " 'nonzero',\n",
       " 'partition',\n",
       " 'prod',\n",
       " 'ptp',\n",
       " 'put',\n",
       " 'ravel',\n",
       " 'real',\n",
       " 'repeat',\n",
       " 'reshape',\n",
       " 'resize',\n",
       " 'round',\n",
       " 'searchsorted',\n",
       " 'setfield',\n",
       " 'setflags',\n",
       " 'shape',\n",
       " 'size',\n",
       " 'sort',\n",
       " 'squeeze',\n",
       " 'std',\n",
       " 'strides',\n",
       " 'sum',\n",
       " 'swapaxes',\n",
       " 'take',\n",
       " 'tobytes',\n",
       " 'tofile',\n",
       " 'tolist',\n",
       " 'tostring',\n",
       " 'trace',\n",
       " 'transpose',\n",
       " 'var',\n",
       " 'view']"
      ]
     },
     "execution_count": 9,
     "metadata": {},
     "output_type": "execute_result"
    }
   ],
   "source": [
    "# you can list all attributes and methods an object has by calling dir() on it\n",
    "\n",
    "dir(a)"
   ]
  },
  {
   "cell_type": "markdown",
   "id": "e0c8d494",
   "metadata": {},
   "source": [
    "### 4. Class Anatomy: Attributes and Methods"
   ]
  },
  {
   "cell_type": "markdown",
   "id": "26ed0268",
   "metadata": {},
   "source": [
    "Now that we know how to work with existing object and classes, let's learn how to creat our own!"
   ]
  },
  {
   "cell_type": "markdown",
   "id": "661ea484",
   "metadata": {},
   "source": [
    "#### 4.1 Creating a basic class"
   ]
  },
  {
   "cell_type": "code",
   "execution_count": 10,
   "id": "8e3f8547",
   "metadata": {},
   "outputs": [],
   "source": [
    "class customer:# code for the class goes here \n",
    "    pass"
   ]
  },
  {
   "cell_type": "code",
   "execution_count": 12,
   "id": "f775e84c",
   "metadata": {},
   "outputs": [],
   "source": [
    "c1 = customer()  #<--- creating an object of class Customer()\n",
    "c2 = customer()  #<--- creating an object of class Customer()"
   ]
  },
  {
   "cell_type": "markdown",
   "id": "9682d79e",
   "metadata": {},
   "source": [
    "Both `c1` and `c2` are object of the class `Customer()`"
   ]
  },
  {
   "cell_type": "markdown",
   "id": "5a35d1a5",
   "metadata": {},
   "source": [
    "#### 4.2 Adding Methods to a class"
   ]
  },
  {
   "cell_type": "code",
   "execution_count": 21,
   "id": "5ec8e471",
   "metadata": {},
   "outputs": [],
   "source": [
    "class Customer:\n",
    "    def identify(self, name):       #<--- we use self as the first argument in the method definition\n",
    "        print(\"I am customer \" + name)"
   ]
  },
  {
   "cell_type": "code",
   "execution_count": 22,
   "id": "16c79d25",
   "metadata": {},
   "outputs": [],
   "source": [
    "cust = Customer()  #<-- Creating a new customer object"
   ]
  },
  {
   "cell_type": "code",
   "execution_count": 23,
   "id": "e3467585",
   "metadata": {},
   "outputs": [
    {
     "name": "stdout",
     "output_type": "stream",
     "text": [
      "I am customer Chioma\n"
     ]
    }
   ],
   "source": [
    "cust.identify('Chioma') #<--calling the method (identify) on the object (cust) of the class (Customer)"
   ]
  },
  {
   "cell_type": "markdown",
   "id": "69bd55d2",
   "metadata": {},
   "source": [
    "#### What is Self?"
   ]
  },
  {
   "cell_type": "markdown",
   "id": "fadb1f07",
   "metadata": {},
   "source": [
    "`self` is simply a pointer to our class instance. `self` is the first argument of every python class. When python calls a method in your class, it will pass in the actual instance of the class that you are working  with as then first argument, Some programming languages use the word `this` to represent the instance, but in Python we use the word `self`.\n",
    "\n",
    "The self variable points to the instance of the class we are working with.\n",
    " <u> Futher Explanation</u>\n",
    " * Classes are templates\n",
    " * Object of a class don't yet exist when a class is being defined, but we need a way to refer to the data of a particular object within a class definition. That's the purpose of the `self`\n",
    " * When we define a class in Python, every method that you define,must accept the instance of the first argument (called self by convention). So we could use it to access attributes and call other methods from within a class definition even when no object were created yet.\n",
    " * Python will handle `self` when the method is called from an object using the dot syntax\n",
    " * when using the `object-dot-method` ==> This is equivalent to passing the object as an argument. That's why we explicitly specify it when calling the method from an existing object.\n",
    " \n",
    " Example\n",
    "\n",
    "`cust.identify('chioma')` is interpreted as `Customer.identify(cust, 'chioma')"
   ]
  },
  {
   "cell_type": "markdown",
   "id": "cbd0b4ad",
   "metadata": {},
   "source": [
    "### 6.We Need Attributes"
   ]
  },
  {
   "cell_type": "markdown",
   "id": "92b64c2c",
   "metadata": {},
   "source": [
    "By the principles of OOP, the data describing the state of the object should be bundled into the object (Ecapsulation)\n",
    "\n",
    "Example\n",
    "\n",
    "* A customer `name` should be an arttribute of a customer object, instead of a parameter being passed to a method.\n",
    "* In python, just like variable attributes are created by assignment; by using the assignment operator (`=`), meaning an attribute manifest into existence only when a value is being given to it."
   ]
  },
  {
   "cell_type": "markdown",
   "id": "b3ac028e",
   "metadata": {},
   "source": [
    "#### 6.1 Adding An Attribute To a Class"
   ]
  },
  {
   "cell_type": "code",
   "execution_count": 24,
   "id": "c61d5c7f",
   "metadata": {},
   "outputs": [],
   "source": [
    "class Customer:\n",
    "    def set_name(self, new_name):\n",
    "        self.name = new_name"
   ]
  },
  {
   "cell_type": "code",
   "execution_count": 25,
   "id": "b9e72f4c",
   "metadata": {},
   "outputs": [
    {
     "name": "stdout",
     "output_type": "stream",
     "text": [
      "Emaka Harrison\n"
     ]
    }
   ],
   "source": [
    "cust = Customer()                         #<---.name doesn't exist here yet\n",
    "cust.set_name('Emaka Harrison')           #<---.name is called and set to \"Emaka Harrison\"\n",
    "print(cust.name)                          #<---.name can be used here"
   ]
  },
  {
   "cell_type": "markdown",
   "id": "463e3d69",
   "metadata": {},
   "source": [
    "#### 6.2 Using Attributes in Class Defination"
   ]
  },
  {
   "cell_type": "markdown",
   "id": "d31c84f8",
   "metadata": {},
   "source": [
    "Now that we've been equipped with name attributes, let's improve our identification method!"
   ]
  },
  {
   "cell_type": "code",
   "execution_count": 26,
   "id": "1cc2e4a1",
   "metadata": {},
   "outputs": [],
   "source": [
    "# Old version\n",
    "\n",
    "class Customer:\n",
    "    def identify(self, name):\n",
    "        print('I am a customer ' + name)"
   ]
  },
  {
   "cell_type": "code",
   "execution_count": 27,
   "id": "f8544830",
   "metadata": {},
   "outputs": [
    {
     "name": "stdout",
     "output_type": "stream",
     "text": [
      "I am a customer Emeka\n"
     ]
    }
   ],
   "source": [
    "cust = Customer()\n",
    "cust.identify('Emeka')"
   ]
  },
  {
   "cell_type": "code",
   "execution_count": 32,
   "id": "b985056b",
   "metadata": {},
   "outputs": [],
   "source": [
    "# New version\n",
    "class Customer:\n",
    "    def set_name(self, new_name):\n",
    "        self.name = new_name\n",
    "    def identify(self):\n",
    "        print('i am customer ' + self.name)"
   ]
  },
  {
   "cell_type": "code",
   "execution_count": 35,
   "id": "2303ca79",
   "metadata": {},
   "outputs": [
    {
     "name": "stdout",
     "output_type": "stream",
     "text": [
      "i am customer Emeka\n"
     ]
    }
   ],
   "source": [
    "cust = Customer()\n",
    "cust.set_name('Emeka')\n",
    "cust.identify()"
   ]
  },
  {
   "cell_type": "markdown",
   "id": "d14401fe",
   "metadata": {},
   "source": [
    "* Instead of passing the name as a parameter, we used the data alraedy stored in `name` attribute of the class\n",
    "* we removed the `name` attribute from the `identify`  method, and replace it `self.name` in the printout; which via `self`, will pull the `name` attribute from the object that called the method.\n",
    "* So now, the identify function will only use the data encapsulation in the object, instead of using whatever we passed to it"
   ]
  },
  {
   "cell_type": "markdown",
   "id": "d078ca32",
   "metadata": {},
   "source": [
    "#### Exercise 1: Understanding Class Definitions"
   ]
  },
  {
   "cell_type": "markdown",
   "id": "375aed1c",
   "metadata": {},
   "source": [
    "Objects and classes consist of attributes(sorting the state) and methods (storing the behaviour). Before you get to write your own first class, you need to understand the basic stucture of the class and how attributes in a class definition relates to attributes in the object.\n",
    "\n",
    "In thsi exercise, you have a class with one mothod and attribute, as well. Arrange the code below in order to produce the output  when run."
   ]
  },
  {
   "cell_type": "markdown",
   "id": "e2da89a5",
   "metadata": {},
   "source": [
    "1. print(mc.count)\n",
    "2. mc = MyCounter()\n",
    "3. def set_count(self, n):\n",
    "4. mc.count = mc.count + 1\n",
    "5. class MyCounter:\n",
    "6. self.count = n\n",
    "7. mc.set_count(5)"
   ]
  },
  {
   "cell_type": "markdown",
   "id": "c61d3f69",
   "metadata": {},
   "source": [
    "### Solution"
   ]
  },
  {
   "cell_type": "code",
   "execution_count": 50,
   "id": "0813cac1",
   "metadata": {},
   "outputs": [
    {
     "name": "stdout",
     "output_type": "stream",
     "text": [
      "6\n"
     ]
    }
   ],
   "source": [
    "class MyCounter:\n",
    "    def set_count(self, n):\n",
    "        self.count = n\n",
    "\n",
    "mc = MyCounter()\n",
    "mc.set_count(5)\n",
    "mc.count = mc.count + 1\n",
    "\n",
    "        \n",
    "print(mc.count)\n",
    "        "
   ]
  },
  {
   "cell_type": "markdown",
   "id": "93ec58ff",
   "metadata": {},
   "source": [
    "#### Exercise 2: Create Your First Class"
   ]
  },
  {
   "cell_type": "markdown",
   "id": "4fc9a370",
   "metadata": {},
   "source": [
    "* create an empty class `Employee`\n",
    "* create an object `emp` of the class `Employee`\n",
    "* print the name attribute of `emp`"
   ]
  },
  {
   "cell_type": "markdown",
   "id": "83a90bc3",
   "metadata": {},
   "source": [
    "#### Solution"
   ]
  },
  {
   "cell_type": "code",
   "execution_count": 69,
   "id": "04df7227",
   "metadata": {},
   "outputs": [],
   "source": [
    "class Employee:\n",
    "    def employee_name(self, new_name):\n",
    "        self.name = new_name\n",
    "        pass\n"
   ]
  },
  {
   "cell_type": "code",
   "execution_count": 70,
   "id": "f6eac03e",
   "metadata": {},
   "outputs": [
    {
     "name": "stdout",
     "output_type": "stream",
     "text": [
      "Tola\n"
     ]
    }
   ],
   "source": [
    "emp = Employee()\n",
    "emp.employee_name('Tola')\n",
    "print(emp.name)"
   ]
  },
  {
   "cell_type": "markdown",
   "id": "52d6a1d1",
   "metadata": {},
   "source": [
    "#### Exercise 3: Modify The Class"
   ]
  },
  {
   "cell_type": "markdown",
   "id": "684a26ef",
   "metadata": {},
   "source": [
    "* Modify the Employee class to include a `.set_name()` method that takes a `new_name` argument and assigns new_name to the `.name` attribute of the class\n",
    "* Use the `set_name` method on `emp` to set the name to 'Timothy Dirisu'\n",
    "* Follow the pattern to add another method `set_salary()` that will set the `salary` attribute of the class to the parameter `new_salary` passed to method\n",
    "* set the salary of emp to 5000\n",
    "*  print emp.name\n",
    "* print emp.salary\n",
    "* Try calling dir() on your object to see the methods and attributes\n"
   ]
  },
  {
   "cell_type": "code",
   "execution_count": 78,
   "id": "f8ebe896",
   "metadata": {},
   "outputs": [],
   "source": [
    "class Employee:\n",
    "    def set_name(self, new_name):\n",
    "        self.name = new_name\n",
    "    def set_salary(self, new_salary):\n",
    "        self.salary = new_salary"
   ]
  },
  {
   "cell_type": "code",
   "execution_count": 85,
   "id": "47cd6f19",
   "metadata": {},
   "outputs": [
    {
     "name": "stdout",
     "output_type": "stream",
     "text": [
      "Timothy Dirisu\n"
     ]
    }
   ],
   "source": [
    "emp = Employee()\n",
    "emp.set_name('Timothy Dirisu')\n",
    "emp.set_salary('5000')\n",
    "print(emp.name)"
   ]
  },
  {
   "cell_type": "code",
   "execution_count": 86,
   "id": "f0de77ab",
   "metadata": {},
   "outputs": [
    {
     "name": "stdout",
     "output_type": "stream",
     "text": [
      "5000\n"
     ]
    }
   ],
   "source": [
    "print(emp.salary)"
   ]
  },
  {
   "cell_type": "code",
   "execution_count": 87,
   "id": "9a63d834",
   "metadata": {},
   "outputs": [
    {
     "data": {
      "text/plain": [
       "['__class__',\n",
       " '__delattr__',\n",
       " '__dict__',\n",
       " '__dir__',\n",
       " '__doc__',\n",
       " '__eq__',\n",
       " '__format__',\n",
       " '__ge__',\n",
       " '__getattribute__',\n",
       " '__gt__',\n",
       " '__hash__',\n",
       " '__init__',\n",
       " '__init_subclass__',\n",
       " '__le__',\n",
       " '__lt__',\n",
       " '__module__',\n",
       " '__ne__',\n",
       " '__new__',\n",
       " '__reduce__',\n",
       " '__reduce_ex__',\n",
       " '__repr__',\n",
       " '__setattr__',\n",
       " '__sizeof__',\n",
       " '__str__',\n",
       " '__subclasshook__',\n",
       " '__weakref__',\n",
       " 'name',\n",
       " 'salary',\n",
       " 'set_name',\n",
       " 'set_salary']"
      ]
     },
     "execution_count": 87,
     "metadata": {},
     "output_type": "execute_result"
    }
   ],
   "source": [
    "dir(emp)"
   ]
  },
  {
   "cell_type": "markdown",
   "id": "4a1ea551",
   "metadata": {},
   "source": [
    "#### Exercise 4: Using Attributes in Class Definition"
   ]
  },
  {
   "cell_type": "markdown",
   "id": "f89e5f89",
   "metadata": {},
   "source": [
    "In the previous exercise, we define an Employee class with two attributes and two methods setting those attributes. This kind of method, aptly called `setter method` isn't the only possible kind.\n",
    "\n",
    "Methods are functions, so anything we can do with a function, we can also do with a method. In this exercise, we'll go beyound the setter methods and learn how to use existing class attributes to define new methods."
   ]
  },
  {
   "cell_type": "code",
   "execution_count": 49,
   "id": "529f9dd3",
   "metadata": {},
   "outputs": [],
   "source": [
    "class Employee:\n",
    "    def set_name(self, new_name):\n",
    "        self.name = new_name\n",
    "    def set_salary(self, new_salary):\n",
    "        self.salary = new_salary"
   ]
  },
  {
   "cell_type": "code",
   "execution_count": 50,
   "id": "4179fc51",
   "metadata": {},
   "outputs": [
    {
     "name": "stdout",
     "output_type": "stream",
     "text": [
      "5000\n"
     ]
    }
   ],
   "source": [
    "emp = Employee()\n",
    "emp.set_name('Timothy Dirisu')\n",
    "emp.set_salary(5000)\n",
    "print(emp.salary)   #<-- print the salary attribute of emp"
   ]
  },
  {
   "cell_type": "code",
   "execution_count": 51,
   "id": "ac0a8b1e",
   "metadata": {},
   "outputs": [
    {
     "name": "stdout",
     "output_type": "stream",
     "text": [
      "6500\n"
     ]
    }
   ],
   "source": [
    "emp.salary = emp.salary + 1500  #<--- increase the salary attribute of emp by 1500\n",
    "print(emp.salary)"
   ]
  },
  {
   "cell_type": "markdown",
   "id": "bcc4664e",
   "metadata": {},
   "source": [
    "#### Exercise 5: Raise the salary of an Employee"
   ]
  },
  {
   "cell_type": "markdown",
   "id": "ff48d69d",
   "metadata": {},
   "source": [
    "Raising teh salary for an employee is a common pattern of behaviour, so it should be part of the class definition instead\n",
    "* Add a method `give_raise()` to Employee that increases the salary by the amount passed to give_raise() as parameter"
   ]
  },
  {
   "cell_type": "code",
   "execution_count": 1,
   "id": "0a6192a8",
   "metadata": {},
   "outputs": [],
   "source": [
    "\n",
    "  class Employee:\n",
    "    def set_name(self, new_name):\n",
    "        self.name = new_name\n",
    "    def set_salary(self, new_salary):\n",
    "        self.salary = new_salary\n",
    "    def give_raise(self, raise_amount):\n",
    "        self.salary = raise_amount + self.salary   #<--- or self.salary += raise_amount"
   ]
  },
  {
   "cell_type": "code",
   "execution_count": 2,
   "id": "864ca1dc",
   "metadata": {},
   "outputs": [
    {
     "name": "stdout",
     "output_type": "stream",
     "text": [
      "5000\n",
      "6500\n"
     ]
    }
   ],
   "source": [
    "emp = Employee()\n",
    "emp.set_name('Timothy Dirisu')\n",
    "emp.set_salary(5000)\n",
    "print(emp.salary)   #<--- print the salary attribute of emp\n",
    "\n",
    "emp.salary = emp.salary + 1500   #<--- increase the salary attribute of emp by 1500\n",
    "print(emp.salary)     #<--- print the salary attribute of emp again\n",
    "    "
   ]
  },
  {
   "cell_type": "code",
   "execution_count": 3,
   "id": "d2e8630c",
   "metadata": {},
   "outputs": [
    {
     "name": "stdout",
     "output_type": "stream",
     "text": [
      "8000\n"
     ]
    }
   ],
   "source": [
    "emp.give_raise(1500)   #<--- Raise the employee's salary by 1500\n",
    "print(emp.salary)"
   ]
  },
  {
   "cell_type": "markdown",
   "id": "4325e292",
   "metadata": {},
   "source": [
    "### Exercise 6: Methods Can Return Values As Well"
   ]
  },
  {
   "cell_type": "markdown",
   "id": "1475cb7b",
   "metadata": {},
   "source": [
    "Methods don't have to just modify the attributes -- They can return values as well.\n",
    "* Add a method `monthly_ salary()` that return the value of the .salary attribute by 12\n",
    "* Call `.monthly_salary()` on `emp`, assign it to `mon_sal`, and print"
   ]
  },
  {
   "cell_type": "code",
   "execution_count": 6,
   "id": "218e2fb2",
   "metadata": {},
   "outputs": [],
   "source": [
    "class Employee:\n",
    "    def set_name(self, new_name):\n",
    "        self.name = new_name\n",
    "    def set_salary(self, new_salary):\n",
    "        self.salary = new_salary\n",
    "    def give_raise(self, raise_amount):\n",
    "        self.salary = raise_amount + self.salary  #<-- Aliter: self.salary += raise_amount  \n",
    "    def monthly_salary(self):\n",
    "        return self.salary / 12  #<-- Adding monthl- salary method that returns 1/12th of salary attribute\n",
    "        \n",
    "    "
   ]
  },
  {
   "cell_type": "code",
   "execution_count": 7,
   "id": "f2f9a48b",
   "metadata": {},
   "outputs": [
    {
     "name": "stdout",
     "output_type": "stream",
     "text": [
      "416.6666666666667\n"
     ]
    }
   ],
   "source": [
    "emp = Employee()\n",
    "emp.set_name('Timothy Dirisu')\n",
    "emp.set_salary(5000)\n",
    "mon_sal = emp.monthly_salary()   #<-- get monthly salary of emp and assign to mon_sal\n",
    "print(mon_sal)  #<--- print the monthly salary\n",
    "   \n",
    "    "
   ]
  },
  {
   "cell_type": "markdown",
   "id": "70a780d2",
   "metadata": {},
   "source": [
    "## 7. Class Anatomy: The_init_Constructor\n",
    "In the exercise we've done so far, we created:\n",
    "* Employee class\n",
    "* and for each attribute we want to create, we define a new method one after the other.\n",
    "* this could quickly get unsustainable if our classes contains lots of data.\n",
    "\n",
    "A better stragedy would be to add data to the object when creating it; just like we do when creating a Numpy array or Pandas DataFrame.\n",
    "* Phyton allows us to add a special method call `the constuctor` that automatically gets called every time an object gets created ."
   ]
  },
  {
   "cell_type": "code",
   "execution_count": 10,
   "id": "35528c58",
   "metadata": {},
   "outputs": [],
   "source": [
    "class Customer:\n",
    "    def __init__(self, name):\n",
    "        self.name = name    #<--- Create the.name attribute\n",
    "        print(\"The __init__ method was called\")"
   ]
  },
  {
   "cell_type": "code",
   "execution_count": 11,
   "id": "60664d52",
   "metadata": {},
   "outputs": [
    {
     "name": "stdout",
     "output_type": "stream",
     "text": [
      "The __init__ method was called\n",
      "Don Jazzy\n"
     ]
    }
   ],
   "source": [
    "cust = Customer('Don Jazzy')\n",
    "print(cust.name)"
   ]
  },
  {
   "cell_type": "markdown",
   "id": "73b01ffb",
   "metadata": {},
   "source": [
    "let's now add another parameter; say `account balance`"
   ]
  },
  {
   "cell_type": "code",
   "execution_count": 16,
   "id": "f8d721a2",
   "metadata": {},
   "outputs": [],
   "source": [
    "class Customer:\n",
    "    def __init__(self,name, balance):  #<--- balance parameter added\n",
    "        self.name = name\n",
    "        self.balance = balance   #<-- balance attribute added\n",
    "        print(\"The __init__ method was called\")"
   ]
  },
  {
   "cell_type": "code",
   "execution_count": 17,
   "id": "5a61d329",
   "metadata": {},
   "outputs": [
    {
     "name": "stdout",
     "output_type": "stream",
     "text": [
      "The __init__ method was called\n",
      "Don Jazzy\n",
      "1000\n"
     ]
    }
   ],
   "source": [
    "cust = Customer('Don Jazzy', 1000)    #<--- __init__ method is called\n",
    "print(cust.name)\n",
    "print(cust.balance)"
   ]
  },
  {
   "cell_type": "markdown",
   "id": "b632d130",
   "metadata": {},
   "source": [
    "The `__init__` constuctor is also good place to set the default values for the attribute."
   ]
  },
  {
   "cell_type": "code",
   "execution_count": 22,
   "id": "88d942f4",
   "metadata": {},
   "outputs": [],
   "source": [
    "class Customer:\n",
    "    def __init__(self, name, balance = 0):   #<--- set default value for balance \n",
    "        self.name = name\n",
    "        self.balance = balance    #<--- balance attribute added\n",
    "        print(\"The __init__ method was called\")"
   ]
  },
  {
   "cell_type": "markdown",
   "id": "bb8d3ed3",
   "metadata": {},
   "source": [
    "Here we set the default value of the balance argument to zero (0), so we can create a `Customer` object without specifying the value of balance, but the attribute is created anyway, and it's initialized to the default value zero(0)"
   ]
  },
  {
   "cell_type": "code",
   "execution_count": 24,
   "id": "bb3be115",
   "metadata": {
    "scrolled": true
   },
   "outputs": [
    {
     "name": "stdout",
     "output_type": "stream",
     "text": [
      "The __init__ method was called\n",
      "Don Jazzy\n",
      "0\n"
     ]
    }
   ],
   "source": [
    "cust = Customer('Don Jazzy')    #<--- __init__ method is called\n",
    "print(cust.name)\n",
    "print(cust.balance)"
   ]
  },
  {
   "cell_type": "markdown",
   "id": "fbf49bfe",
   "metadata": {},
   "source": [
    "## 8. Attributes in Methods vs Attributes in the Constuctor\n",
    "There are two ways to define attributes in Python. We can define an attribute in any method in a class or in the constructor"
   ]
  },
  {
   "cell_type": "markdown",
   "id": "c8e9dd9e",
   "metadata": {},
   "source": [
    "### 8.1 Attributes in Methods"
   ]
  },
  {
   "cell_type": "code",
   "execution_count": 29,
   "id": "c40efae5",
   "metadata": {},
   "outputs": [],
   "source": [
    "class MyClass:\n",
    "    def my_method1(self, attr1):\n",
    "        self.attr1 = attr1\n",
    "        #..\n",
    "    def my_method2(self, attr2):\n",
    "        self.attr2 = attr2\n",
    "        #..\n",
    "        \n",
    "        \n",
    "obj = MyClass()   #<-- Creating an object of MyClass\n",
    "obj.my_method1('val1')   #<-- attribute 1 created\n",
    "obj.my_method2('val2')   #<--- attribute 2 created"
   ]
  },
  {
   "cell_type": "markdown",
   "id": "be4dcebf",
   "metadata": {},
   "source": [
    "### 8.2 Attributes in Constuctor"
   ]
  },
  {
   "cell_type": "code",
   "execution_count": 30,
   "id": "6c248f85",
   "metadata": {},
   "outputs": [],
   "source": [
    "class MyClass:\n",
    "    def __init__(self,attr1,attr2):\n",
    "        self.attr1 = attr1\n",
    "        self.attr2 = attr2\n",
    "        #..\n",
    "        \n",
    "\n",
    "obj = MyClass('val1', 'val2')  #<--- All attributes are created"
   ]
  },
  {
   "cell_type": "markdown",
   "id": "f77e25af",
   "metadata": {},
   "source": [
    "### 8.3 Advantages od using constuctor to define an attribute"
   ]
  },
  {
   "cell_type": "markdown",
   "id": "ac2479ae",
   "metadata": {},
   "source": [
    "* it easier to know all the attributes\n",
    "* Attributes are createdn when the object is created\n",
    "* More usable and maintainable code"
   ]
  },
  {
   "cell_type": "markdown",
   "id": "cea486cd",
   "metadata": {},
   "source": [
    "### 8.4 Best Practices\n",
    "1. Initialize attributes in __init__()\n",
    "2. When it comes to naming, use `CamelCase` for classes and `lower_snake_case` for functions\n",
    "3. `Self` should always be the first argument\n",
    "4. Using Docstrings to make your code easier to read"
   ]
  },
  {
   "cell_type": "markdown",
   "id": "05663b8e",
   "metadata": {},
   "source": [
    "## 9. Inheritance and Polymorphism\n",
    "inheritance and polymorphism are the core concept of OOP that enables efficient and consistent code reuse. We'll learn how to inherit from a class, customize and redefine method, review differences between class-level data and instance-level data.\n",
    "* <b> inheritance</b>: Extending the functinality of existing code\n",
    "* <b> Polymorphism </b>: Creating an unified interface\n",
    "* <b> Encapsulation </b>: Bunding of data and methods\n",
    "<hr>"
   ]
  },
  {
   "cell_type": "markdown",
   "id": "3b8a898c",
   "metadata": {},
   "source": [
    "<u> Inheritance and Class Data </u>\n",
    "\n",
    "There are two types of data in OOP; the instance-level data and class data. We need to also learn how to distinguish instance-level and class data."
   ]
  },
  {
   "cell_type": "markdown",
   "id": "41c2147c",
   "metadata": {},
   "source": [
    "### 9.1 Instance_level Data\n",
    "To demonstrate the, we'll be working with the `Employee` class we created in our previuos exercises."
   ]
  },
  {
   "cell_type": "code",
   "execution_count": 33,
   "id": "fe6ebabb",
   "metadata": {},
   "outputs": [],
   "source": [
    "class Employee:\n",
    "    def __init__(self,name, salary):\n",
    "        self.name = name\n",
    "        self.salary = salary\n",
    "        \n",
    "emp1 = Employee('Christiano Ronaldo', 50000)\n",
    "emp2 = Employee('Lionel Messi', 65000)"
   ]
  },
  {
   "cell_type": "markdown",
   "id": "7131c543",
   "metadata": {},
   "source": [
    "* `name` and `salary` are instance attributes\n",
    "* we used `self` to bind them to a paticular instance"
   ]
  },
  {
   "cell_type": "markdown",
   "id": "e901e1aa",
   "metadata": {},
   "source": [
    "### 9.2 Class-Level Data\n",
    "A class level data is used to store data that's shared amog all instances of a class\n",
    "* we want to introduce the minimal salary\n",
    "* the data shouldn't differ among object instances\n",
    "* we can define the attribute directly in the class body\n",
    "* this will create a class attribute that will serve as a global vairaible within a class."
   ]
  },
  {
   "cell_type": "code",
   "execution_count": 34,
   "id": "9f59fd8e",
   "metadata": {},
   "outputs": [],
   "source": [
    "class Employee:\n",
    "    \"\"\"\n",
    "    We just define below a class attribute called MIN_SALARY (it has no self)\n",
    "    MIN_SALARY is shared among all instances of the class. (it is a global variable)\n",
    "    \"\"\"\n",
    "    MIN_SALARY = 300000\n",
    "    \n",
    "    def __init__(self, name, salary):\n",
    "        self.name = name\n",
    "        if salary >= Employee.MIN_SALARY:       #<--- using the class name (Employee) to access the class attribute (MIN_SALARY)\n",
    "            self.salary = salary\n",
    "        else:\n",
    "            self.salary = Employee.MIN_SALARY"
   ]
  },
  {
   "cell_type": "markdown",
   "id": "32fee11a",
   "metadata": {},
   "source": [
    "#### Note\n",
    "* we didn't use `self` to define the MIN_SALARY attribute, we used the class anme instead of referring to the attributes \n",
    "* `MIN_SALARY` varible will be shared among the instances of the `Employee` class. And we can access it like any other attribute from an object instance, and the value will still be the same across instances"
   ]
  },
  {
   "cell_type": "code",
   "execution_count": 35,
   "id": "b41f38df",
   "metadata": {},
   "outputs": [
    {
     "name": "stdout",
     "output_type": "stream",
     "text": [
      "300000\n"
     ]
    }
   ],
   "source": [
    "emp1 = Employee('Johnson', 40000)\n",
    "print(emp1.MIN_SALARY)  #<-- printing the MIN_SALARY class attribute from the Employee object(emp1)"
   ]
  },
  {
   "cell_type": "code",
   "execution_count": 36,
   "id": "244f6d50",
   "metadata": {},
   "outputs": [
    {
     "name": "stdout",
     "output_type": "stream",
     "text": [
      "300000\n"
     ]
    }
   ],
   "source": [
    "emp2 = Employee('Johnson', 60000)\n",
    "print(emp2.MIN_SALARY)   #<--- Printing the MIN_SALARY class attribute from the Employee object (emp2)"
   ]
  },
  {
   "cell_type": "markdown",
   "id": "6d4ae5a5",
   "metadata": {},
   "source": [
    "### 9.2.1 Why should we use Class Attributes?\n",
    "The main use case for class attributes is for creating global constant taht are related to class\n",
    "\n",
    "<b> Examples </b>\n",
    "* min/max values for attributes ==> like the `MIN_SALARY` example we used\n",
    "* commonly used values of constants ==> e.g pi for a circle class"
   ]
  },
  {
   "cell_type": "markdown",
   "id": "8f7475b3",
   "metadata": {},
   "source": [
    "### 9.3 Class Methods\n",
    "We've looked at the class attribute a.k.a (Class-level Data), whatn about class methods?\n",
    "\n",
    "* Regular methods are alraedy shared between instances; the same code gets executed for every instance.\n",
    "* The only difference is the data fed into it\n",
    "* It's possible to define methods bound to calss rather than an instance, but they have narrow application scope: This is because, the methods will not be able to use any instance-level data.\n",
    "\n",
    "#### Syntax: Defining a class method"
   ]
  },
  {
   "cell_type": "markdown",
   "id": "4ca4ec7e",
   "metadata": {},
   "source": [
    "class MyClass:\n",
    "    \n",
    "       @classmethod #<-- we use decorator to declare a class method\n",
    "   \n",
    "       def my_awesome_method(cls,args,...):   #<--- cla argument refers to the class\n",
    "        \n",
    "           # Do stuff here\n",
    "        \n",
    "       #can't use any instance attributes\n",
    "   \n",
    "   \n",
    "MyClass.my_awesome_method(args..)  #<-- To call a class method"
   ]
  },
  {
   "cell_type": "markdown",
   "id": "3af5f9d4",
   "metadata": {},
   "source": [
    "##### Note\n",
    "* To define a class method, we start with the class method decorator (@) followed by the method definition\n",
    "* The only difference btw the normal and the class method is that, the first argument is not `self` but `cls`. refering to the class; just like `self` argument was a refernece to a particular instance.\n",
    "* Then you write it as any other function -- keeping in mind that we can't refer to any instance attribute in that method.\n",
    "* `class-dot-metod` syntax is used to call a class method, rather than `object-dot-method` syntax\n",
    "\n",
    "### 9.3.1 Why would we need class method at all?\n",
    "\n",
    "* the main use case is for alternative constructors.\n",
    "\n",
    "\n",
    "#### 9.3.2 Alternative  Constuctord\n",
    "A class can only have one `__init__` method, but there might be multiple ways to initialize an objcet.\n",
    "\n",
    "<b> Example </b>\n",
    "\n",
    "We want to create an Employee Object from the data stored in a file. we can't use a method because it rewquires an instance (class), and there isn't one yet."
   ]
  },
  {
   "cell_type": "code",
   "execution_count": 37,
   "id": "dda9d9d8",
   "metadata": {},
   "outputs": [],
   "source": [
    "class Employee:\n",
    "    MIN_SALARY = 30000\n",
    "    \n",
    "    def __init__(self, name, salary = 30000):\n",
    "        self.name = name\n",
    "        if salary >= Employee.MIN_SALARY:\n",
    "            self.salary = salary\n",
    "        else:\n",
    "            self.salary = Employee.MIN_SALARY\n",
    "    \n"
   ]
  },
  {
   "cell_type": "markdown",
   "id": "a4bc3bc1",
   "metadata": {},
   "source": [
    "This class above has only one `__init__()`\n",
    "* To solve this problem, we will introduce a class method `from_file` that accepts the file name, read the first line from the file that persumably contains the name of the employee, and return an object instance."
   ]
  },
  {
   "cell_type": "code",
   "execution_count": 39,
   "id": "50506b1e",
   "metadata": {},
   "outputs": [],
   "source": [
    "class Employee:\n",
    "    MIN_SALARY = 300000\n",
    "    \n",
    "    def __init__(self, name, salary = 30000):\n",
    "        self.name = name\n",
    "        if salary >=Employee.MIN_SALARY:\n",
    "            self.salary = salary\n",
    "        else:\n",
    "            self.salary = Employee.MIN_SALARY\n",
    "            \n",
    "            \n",
    "    @classmethod   #<-- use class method to creat an object\n",
    "    def from_file(cls, filename):\n",
    "        with open(filename, 'r') as f:\n",
    "            name = f.readline()\n",
    "            return cls(name)   #<-- cls will call .__init__(...) and return an object\n"
   ]
  },
  {
   "cell_type": "markdown",
   "id": "b6eff197",
   "metadata": {},
   "source": [
    "##### Note\n",
    "* In the return statement we use `cls` variable; remeber, the cls now refers to the class. So this will call the __init__ constuctor, just like using Employee() when used outside the class definition.\n",
    "\n",
    "#### Now creating a employee with calling Employee() object"
   ]
  },
  {
   "cell_type": "code",
   "execution_count": 42,
   "id": "71bb528d",
   "metadata": {},
   "outputs": [
    {
     "name": "stdout",
     "output_type": "stream",
     "text": [
      "['Olawale is a great data scientist\\n', 'Michael Odogwu is a web developer\\n', 'Adetola is terrorist\\n', 'Simisola is a christain\\n', 'Damilola is a christain']\n"
     ]
    }
   ],
   "source": [
    "with open('employee_data.txt', 'r') as f:\n",
    "    name = f.readlines()\n",
    "    print (name) "
   ]
  },
  {
   "cell_type": "code",
   "execution_count": 40,
   "id": "8b0c5c6d",
   "metadata": {},
   "outputs": [
    {
     "data": {
      "text/plain": [
       "__main__.Employee"
      ]
     },
     "execution_count": 40,
     "metadata": {},
     "output_type": "execute_result"
    }
   ],
   "source": [
    "emp = Employee.from_file('employee_data.txt')\n",
    "type(emp)"
   ]
  },
  {
   "cell_type": "markdown",
   "id": "df4541a0",
   "metadata": {},
   "source": [
    "### Exercise 1: Class-Level Attributes\n",
    "1. Define a class `player` that has:\n",
    "* i) the class Attribute `Max-Position` with value 10\n",
    "* ii) the __init__() method that sets the `position instance attribute to zero(0)\n",
    "\n",
    "2. print `player.MAX_POSITION\n",
    "3. Create a player object `p` and print it's `MAX_POSITION`\n"
   ]
  },
  {
   "cell_type": "code",
   "execution_count": 11,
   "id": "f4ed1075",
   "metadata": {},
   "outputs": [
    {
     "name": "stdout",
     "output_type": "stream",
     "text": [
      "10\n"
     ]
    }
   ],
   "source": [
    "class Player:\n",
    "    MAX_POSITION = 10\n",
    "    \n",
    "    def __init__(self):\n",
    "        self.position = 0\n",
    "        \n",
    "print(Player.MAX_POSITION)"
   ]
  },
  {
   "cell_type": "code",
   "execution_count": 12,
   "id": "7c56ce88",
   "metadata": {},
   "outputs": [
    {
     "name": "stdout",
     "output_type": "stream",
     "text": [
      "10\n"
     ]
    }
   ],
   "source": [
    "p = Player()   #<-- creating a player p (an object of the class player)\n",
    "print(p.MAX_POSITION)   #<-- printing the player p's MAX_POSITION"
   ]
  },
  {
   "cell_type": "markdown",
   "id": "e7db6f9e",
   "metadata": {},
   "source": [
    "### Exercise 2: Customize Your Class Method\n",
    "* Add a move method with a steps parameter such that:\n",
    "   - if `position` plus `steps` is less than `MAX_POSITION`, then add `steps` to `position` and assign the result back to            `position`\n",
    "   - otherwise, set `position` to `MAX_POSISTION`"
   ]
  },
  {
   "cell_type": "code",
   "execution_count": 47,
   "id": "43080111",
   "metadata": {},
   "outputs": [],
   "source": [
    "class Player:\n",
    "    \n",
    "    MAX_POSITION = 10\n",
    "    \n",
    "    def __init__(self):\n",
    "        self.position = 0\n",
    "        \n",
    "    def move(self, steps):\n",
    "        if self.position + steps < Player.MAX_POSITION:\n",
    "            self.position = self.position + steps\n",
    "        else:\n",
    "            self.position = Player.MAX_POSITION\n",
    "            \n",
    "    def draw(self):\n",
    "        drawing = \"-\" * self.position + '|' + '-' * (Player.MAX_POSITION - self.position)\n",
    "        print(drawing)\n",
    "\n",
    "## The Player's Initial position"
   ]
  },
  {
   "cell_type": "code",
   "execution_count": 48,
   "id": "5525c61e",
   "metadata": {},
   "outputs": [
    {
     "name": "stdout",
     "output_type": "stream",
     "text": [
      "|----------\n"
     ]
    }
   ],
   "source": [
    "p = Player()\n",
    "p.draw()"
   ]
  },
  {
   "cell_type": "code",
   "execution_count": 49,
   "id": "4cdb5f0d",
   "metadata": {},
   "outputs": [
    {
     "name": "stdout",
     "output_type": "stream",
     "text": [
      "----|------\n"
     ]
    }
   ],
   "source": [
    "p.move(4)\n",
    "p.draw()"
   ]
  },
  {
   "cell_type": "code",
   "execution_count": 50,
   "id": "0141ec2a",
   "metadata": {},
   "outputs": [
    {
     "name": "stdout",
     "output_type": "stream",
     "text": [
      "---------|-\n"
     ]
    }
   ],
   "source": [
    "p.move(5)\n",
    "p.draw()"
   ]
  },
  {
   "cell_type": "code",
   "execution_count": 51,
   "id": "0a348c1a",
   "metadata": {},
   "outputs": [
    {
     "name": "stdout",
     "output_type": "stream",
     "text": [
      "----------|\n"
     ]
    }
   ],
   "source": [
    "p.move(3)\n",
    "p.draw()"
   ]
  },
  {
   "cell_type": "markdown",
   "id": "2ac02ec7",
   "metadata": {},
   "source": [
    "### Exercise 3: Changing Class Attributes\n",
    "The Player Class below has a `position` instance attribute, a `MAX_POSITION` and `MAX_SPEED`class attributes. The `MAX_SPEED` initial value = 3\n",
    "\n",
    "<b> Ques </b>\n",
    "\n",
    "1. Create two player object P1 and P2\n",
    "2. print P1.MAX_SPEED and P2.MAX_SPEED \n",
    "3. Assign 7 to P1.MAX_SPEED\n",
    "4. print P1.MAX_SPEED and P2.MAX_SPEED again\n",
    "5. print Player.MAX_SPEED\n",
    "6. Examine the output carefully\n",
    "\n",
    "\n",
    "\n",
    "Note: Use The Same Player Class we used in our last class."
   ]
  },
  {
   "cell_type": "code",
   "execution_count": 28,
   "id": "6c3e67ad",
   "metadata": {},
   "outputs": [],
   "source": [
    "class Player:\n",
    "    MAX_POSITION = 10\n",
    "    MAX_SPEED = 3\n",
    "    \n",
    "    def __init__(self):\n",
    "        self.position = 0"
   ]
  },
  {
   "cell_type": "code",
   "execution_count": 29,
   "id": "fed4fc28",
   "metadata": {},
   "outputs": [],
   "source": [
    "p1 = Player()\n",
    "p2 = Player()"
   ]
  },
  {
   "cell_type": "code",
   "execution_count": 30,
   "id": "b76c2c3b",
   "metadata": {},
   "outputs": [
    {
     "name": "stdout",
     "output_type": "stream",
     "text": [
      "MAX_SPEED of p1 and p2 before assignment\n"
     ]
    }
   ],
   "source": [
    "print('MAX_SPEED of p1 and p2 before assignment')"
   ]
  },
  {
   "cell_type": "code",
   "execution_count": 31,
   "id": "c4ac97fe",
   "metadata": {},
   "outputs": [
    {
     "name": "stdout",
     "output_type": "stream",
     "text": [
      "3\n"
     ]
    }
   ],
   "source": [
    "print(p1.MAX_SPEED)"
   ]
  },
  {
   "cell_type": "code",
   "execution_count": 32,
   "id": "ba24e673",
   "metadata": {},
   "outputs": [
    {
     "name": "stdout",
     "output_type": "stream",
     "text": [
      "3\n"
     ]
    }
   ],
   "source": [
    "print(p2.MAX_SPEED)"
   ]
  },
  {
   "cell_type": "code",
   "execution_count": 33,
   "id": "e8c29446",
   "metadata": {},
   "outputs": [],
   "source": [
    "p1.MAX_SPEED = 7  #<--- assigning 7 to p1.MAX_SPEED"
   ]
  },
  {
   "cell_type": "code",
   "execution_count": 34,
   "id": "15638dd2",
   "metadata": {},
   "outputs": [
    {
     "name": "stdout",
     "output_type": "stream",
     "text": [
      "MAX_SPEED of p1 and p2 after assignment\n"
     ]
    }
   ],
   "source": [
    "print('MAX_SPEED of p1 and p2 after assignment')"
   ]
  },
  {
   "cell_type": "code",
   "execution_count": 35,
   "id": "691090eb",
   "metadata": {},
   "outputs": [
    {
     "name": "stdout",
     "output_type": "stream",
     "text": [
      "7\n"
     ]
    }
   ],
   "source": [
    "print(p1.MAX_SPEED)"
   ]
  },
  {
   "cell_type": "code",
   "execution_count": 36,
   "id": "f1755b46",
   "metadata": {},
   "outputs": [
    {
     "name": "stdout",
     "output_type": "stream",
     "text": [
      "3\n"
     ]
    }
   ],
   "source": [
    "print(p2.MAX_SPEED)"
   ]
  },
  {
   "cell_type": "code",
   "execution_count": 37,
   "id": "051a4077",
   "metadata": {},
   "outputs": [
    {
     "name": "stdout",
     "output_type": "stream",
     "text": [
      "MAX SPEED OF PLAYER\n"
     ]
    }
   ],
   "source": [
    "print('MAX SPEED OF PLAYER')"
   ]
  },
  {
   "cell_type": "code",
   "execution_count": 38,
   "id": "2c7d7fe2",
   "metadata": {},
   "outputs": [
    {
     "name": "stdout",
     "output_type": "stream",
     "text": [
      "3\n"
     ]
    }
   ],
   "source": [
    "print(Player.MAX_SPEED)   #<---- Remember a class attribute is called by the class name not 'self'"
   ]
  },
  {
   "cell_type": "markdown",
   "id": "e527f431",
   "metadata": {},
   "source": [
    "Even though `MAX_SPEED` is shared across the instances, assignment 7 to `p1.MAX_SPEED` didn't change the value of `MAX_SPEED` in p2 or in the `Player` class. Thjis is because Python created a new attribute in p1, also call`MAX_SPEED` and assigned 7 to it without touching the class attribute."
   ]
  },
  {
   "cell_type": "markdown",
   "id": "1ebe2b7f",
   "metadata": {},
   "source": [
    "#### TO CHANGE THE CLASS ATTRIBUTE VALUE"
   ]
  },
  {
   "cell_type": "code",
   "execution_count": 39,
   "id": "1f0f25b4",
   "metadata": {},
   "outputs": [
    {
     "name": "stdout",
     "output_type": "stream",
     "text": [
      "MAX_SPEED of p1 and p2 before assignment\n"
     ]
    }
   ],
   "source": [
    "p1,p2 = Player(), Player()\n",
    "print('MAX_SPEED of p1 and p2 before assignment')"
   ]
  },
  {
   "cell_type": "code",
   "execution_count": 40,
   "id": "3cdc391d",
   "metadata": {},
   "outputs": [
    {
     "name": "stdout",
     "output_type": "stream",
     "text": [
      "3\n"
     ]
    }
   ],
   "source": [
    "print(p1.MAX_SPEED)"
   ]
  },
  {
   "cell_type": "code",
   "execution_count": 41,
   "id": "ef2e547a",
   "metadata": {},
   "outputs": [
    {
     "name": "stdout",
     "output_type": "stream",
     "text": [
      "3\n"
     ]
    }
   ],
   "source": [
    "print(p2.MAX_SPEED)"
   ]
  },
  {
   "cell_type": "code",
   "execution_count": 43,
   "id": "c4ab55c3",
   "metadata": {},
   "outputs": [],
   "source": [
    "Player.MAX_SPEED = 7 #<-- modifying the assignment tp Player.MAX_SPEED "
   ]
  },
  {
   "cell_type": "code",
   "execution_count": 44,
   "id": "1b3d1249",
   "metadata": {},
   "outputs": [
    {
     "name": "stdout",
     "output_type": "stream",
     "text": [
      "MAX_SPEED of p1 and p2 after assignment\n"
     ]
    }
   ],
   "source": [
    "print('MAX_SPEED of p1 and p2 after assignment')"
   ]
  },
  {
   "cell_type": "code",
   "execution_count": 45,
   "id": "bf251daa",
   "metadata": {},
   "outputs": [
    {
     "name": "stdout",
     "output_type": "stream",
     "text": [
      "7\n"
     ]
    }
   ],
   "source": [
    "print(p1.MAX_SPEED)"
   ]
  },
  {
   "cell_type": "code",
   "execution_count": 46,
   "id": "639b85c5",
   "metadata": {},
   "outputs": [
    {
     "name": "stdout",
     "output_type": "stream",
     "text": [
      "7\n"
     ]
    }
   ],
   "source": [
    "print(p2.MAX_SPEED)"
   ]
  },
  {
   "cell_type": "markdown",
   "id": "18696bb7",
   "metadata": {},
   "source": [
    "### Inheritance"
   ]
  },
  {
   "cell_type": "markdown",
   "id": "6dcb0b28",
   "metadata": {},
   "source": [
    "<u> Class Inheritance </u>\n",
    "\n",
    "Since we've gotten the basis of classes and instances, let's now get to the essence of OOP.\n",
    "\n",
    "Class inheritance is a mechanism by which we can define a new class that gets at the funtionality of another class + maybe something extra without re-implimenting the code.\n",
    "\n",
    "##### New Class Functionality = Old Class Functionality + Extra\n",
    "\n",
    "Let's assume you have a basic bank account class that has a `balance` attribute and a `withdrawal` method. And in your company you work with different types of acount."
   ]
  },
  {
   "attachments": {
    "image1.png": {
     "image/png": "[encoded data removed]"
    }
   },
   "cell_type": "markdown",
   "id": "5b351aa9",
   "metadata": {},
   "source": [
    "![image1.png](attachment:image1.png)"
   ]
  },
  {
   "cell_type": "markdown",
   "id": "2bad0482",
   "metadata": {},
   "source": [
    "###### For example\n",
    "* A `SavingsAccont` also has an interest rate and a method to compute interest, but it will also still have a balance, and you definitely should be able to withdraw from it.\n",
    "* By inheriting methods and attributes of `SavingsAccount` from `BankAccount` you'll be able to reuse the code you alraedy wrote for the `BankAccount` class.\n",
    "* We could also have the `CheckingAccount` class that also has `balance` and `withdraw` metod, but maybe that method is slightly different.\n",
    "     * it modidifies the amount to be wuthdrawn to include a fee\n",
    "     * with inheritance we'll be able to customize the withdraw method of first adjust the amount if neccesary and the use the        method from the `BankAccount` class and a seemingly empty `SavingAccount` class inhertied from it\n"
   ]
  },
  {
   "attachments": {
    "OOP.png": {
     "image/png": "[encoded data removed]"
    }
   },
   "cell_type": "markdown",
   "id": "e712de4d",
   "metadata": {},
   "source": [
    "![OOP.png](attachment:OOP.png)"
   ]
  },
  {
   "cell_type": "markdown",
   "id": "4d1393b5",
   "metadata": {},
   "source": [
    "### Implementing Class Inheritance\n",
    "\n",
    "\n",
    "\n",
    "class MyChild(MyParent):\n",
    "    \n",
    "    #do stuff here\n",
    "    \n",
    "    \n",
    "    \n",
    "    \n",
    "<b> MyParent </b> : This s class whose functionality is being extented or inherited\n",
    "\n",
    "<b> MyChild </b> : This is the class that will inherit the functionality and more\n",
    "\n",
    "\n",
    "#### Example"
   ]
  },
  {
   "cell_type": "code",
   "execution_count": 52,
   "id": "33ce2cf9",
   "metadata": {},
   "outputs": [],
   "source": [
    "class BankAccount:\n",
    "    def __init__(self, balance):\n",
    "        self.balance = balance\n",
    "    def withdraw(self, amount):\n",
    "        self.balance -= amount\n",
    "    "
   ]
  },
  {
   "cell_type": "code",
   "execution_count": 62,
   "id": "e8a31f73",
   "metadata": {},
   "outputs": [],
   "source": [
    "class SavingsAccount(BankAccount):\n",
    "    \"\"\"\n",
    "    an empty class inherited from BankAccount 'Seemingly' because SavingsAccount actually has \n",
    "    exactly as much in it as the BankAccount class\n",
    "    \"\"\"\n",
    "    \n",
    "    pass"
   ]
  },
  {
   "cell_type": "markdown",
   "id": "ee3c9629",
   "metadata": {},
   "source": [
    "### Child Class has all the Parent Data"
   ]
  },
  {
   "cell_type": "code",
   "execution_count": 63,
   "id": "c7db1616",
   "metadata": {},
   "outputs": [],
   "source": [
    "savings_acct = SavingsAccount(1000)   #<-- constuctor inherited from BankAccount"
   ]
  },
  {
   "cell_type": "code",
   "execution_count": 64,
   "id": "05dbef3a",
   "metadata": {},
   "outputs": [
    {
     "data": {
      "text/plain": [
       "__main__.SavingsAccount"
      ]
     },
     "execution_count": 64,
     "metadata": {},
     "output_type": "execute_result"
    }
   ],
   "source": [
    "type(savings_acct)"
   ]
  },
  {
   "cell_type": "code",
   "execution_count": 65,
   "id": "914d1ce0",
   "metadata": {},
   "outputs": [
    {
     "data": {
      "text/plain": [
       "1000"
      ]
     },
     "execution_count": 65,
     "metadata": {},
     "output_type": "execute_result"
    }
   ],
   "source": [
    "savings_acct.balance  #<-- Attribute inherited from Bankaccount"
   ]
  },
  {
   "cell_type": "code",
   "execution_count": 66,
   "id": "397bfd7f",
   "metadata": {},
   "outputs": [],
   "source": [
    "savings_acct.withdraw(300)   #<--- Method inherited from BankAccount"
   ]
  },
  {
   "cell_type": "code",
   "execution_count": 67,
   "id": "3b4465b1",
   "metadata": {},
   "outputs": [
    {
     "data": {
      "text/plain": [
       "700"
      ]
     },
     "execution_count": 67,
     "metadata": {},
     "output_type": "execute_result"
    }
   ],
   "source": [
    "savings_acct.balance   #<--- The balance has been reduced to 700 (1000 - 300)"
   ]
  },
  {
   "cell_type": "markdown",
   "id": "3031a18b",
   "metadata": {},
   "source": [
    "we created an object (`saving_acct`) even though we didn't dfeine the constuctor -- we can access the `balance` attribute and the `withdraw` method from the instance of `SavingsAccount`, even though these features (`balance` & `withdraw`) weren't defined in the new class 9`Savingsacoount`)"
   ]
  },
  {
   "cell_type": "markdown",
   "id": "58c50c0f",
   "metadata": {},
   "source": [
    "### Inheritance: \"is-a\" relationship\n",
    "\n",
    "A `Savingsaccount` is a `BankAccount` (possibly with extra features)"
   ]
  },
  {
   "cell_type": "code",
   "execution_count": 69,
   "id": "dbbb7ac5",
   "metadata": {},
   "outputs": [],
   "source": [
    "savings_acct = SavingsAccount(1000)"
   ]
  },
  {
   "cell_type": "code",
   "execution_count": 70,
   "id": "b3fda815",
   "metadata": {},
   "outputs": [
    {
     "data": {
      "text/plain": [
       "True"
      ]
     },
     "execution_count": 70,
     "metadata": {},
     "output_type": "execute_result"
    }
   ],
   "source": [
    "isinstance(savings_acct, SavingsAccount)"
   ]
  },
  {
   "cell_type": "code",
   "execution_count": 71,
   "id": "f11016c5",
   "metadata": {},
   "outputs": [
    {
     "data": {
      "text/plain": [
       "True"
      ]
     },
     "execution_count": 71,
     "metadata": {},
     "output_type": "execute_result"
    }
   ],
   "source": [
    "isinstance(savings_acct, BankAccount)"
   ]
  },
  {
   "cell_type": "code",
   "execution_count": 74,
   "id": "dec68fc4",
   "metadata": {},
   "outputs": [],
   "source": [
    "acct = BankAccount(500)"
   ]
  },
  {
   "cell_type": "code",
   "execution_count": 76,
   "id": "c5397f72",
   "metadata": {},
   "outputs": [
    {
     "data": {
      "text/plain": [
       "False"
      ]
     },
     "execution_count": 76,
     "metadata": {},
     "output_type": "execute_result"
    }
   ],
   "source": [
    "isinstance(acct, SavingsAccount)"
   ]
  },
  {
   "cell_type": "code",
   "execution_count": 77,
   "id": "19ed5fad",
   "metadata": {},
   "outputs": [
    {
     "data": {
      "text/plain": [
       "True"
      ]
     },
     "execution_count": 77,
     "metadata": {},
     "output_type": "execute_result"
    }
   ],
   "source": [
    "isinstance(acct, BankAccount)"
   ]
  },
  {
   "cell_type": "markdown",
   "id": "9fa10db5",
   "metadata": {},
   "source": [
    "Calling `isinstance()` function on a `Savings_acct` object show that python treats it like an instance of both `SavingsAccount` and `BankAccount` classes. However, this isn,t the case for generic `BankAccount` object.\n",
    "\n",
    "Right now, this class 9`SavingsAccount` doesn't have any feature the original class `BankAccount` doesn't have. We'll now see how to add features and customize the class later"
   ]
  },
  {
   "cell_type": "markdown",
   "id": "978c4b0f",
   "metadata": {},
   "source": [
    "### Exercise 1: Understanding Inheritance\n",
    "\n",
    "This class work is to gauge your understanding of the basis of inheritance. make use of the code below to answer the questions."
   ]
  },
  {
   "cell_type": "code",
   "execution_count": 78,
   "id": "0e2f3fe5",
   "metadata": {},
   "outputs": [],
   "source": [
    "class Counter:\n",
    "    def __init__(self, count):\n",
    "        self.count = count\n",
    "    def add_count(self, n):\n",
    "        self.count += n"
   ]
  },
  {
   "cell_type": "code",
   "execution_count": 79,
   "id": "00a952a3",
   "metadata": {},
   "outputs": [],
   "source": [
    "class Indexer(Counter):\n",
    "    pass"
   ]
  },
  {
   "cell_type": "markdown",
   "id": "c0c0d5a9",
   "metadata": {},
   "source": [
    "##### Questions\n",
    "\n",
    "Classify if the following question are True or False\n",
    "* 1. Every `Counter` object is an `Indexer` Object\n",
    "\n",
    "  ans- False\n",
    "* 2. Class `Indexer` object is iherited from `Counter`\n",
    "\n",
    "  ans- True\n",
    "* 3. Inheritance represents 'is-a'relationship\n",
    "\n",
    "  ans- True\n",
    "* 4. if `ind` is an `Indexer` object, then running ind.add_count(5) will couse an error\n",
    "\n",
    "  ans - False\n",
    "* 5. if `ind` is an `Indexer` object, then isinstance(ind, Counter) Will return True\n",
    "\n",
    "  ans- True\n",
    "* 6. Inheritance can be used to add some of the parts of one class to another class\n",
    "\n",
    "  ans- False\n",
    "* 7. Running `ind = Indexer()` will cause error\n",
    "\n",
    "  ans- True"
   ]
  },
  {
   "cell_type": "markdown",
   "id": "5ae3ec0c",
   "metadata": {},
   "source": [
    "#### Exercise 2: Creating a Subclass\n",
    "\n",
    "The purpose of a chile class or a subclass is to customize and extend the functionality of the parent class. Recall `Employee` class from our previous exercises. In mst organizations, managers anjoy more priviledges and responsibilities more tahn a regular employee. So it would amke sense to have a `Manager` class that has more functionality than `Employee`\n",
    "\n",
    "##### Ques\n",
    "\n",
    "1. Add an empty `Manager` class that inherited from `Employee`\n",
    "2. Create an object `mng` of the `Manager` class with the name 'Peter Obi' and salary 86500\n",
    "3. Print the name of mng"
   ]
  },
  {
   "cell_type": "code",
   "execution_count": 80,
   "id": "a7b9ed87",
   "metadata": {},
   "outputs": [],
   "source": [
    "class Employee:\n",
    "    MIN_SALARY = 30000\n",
    "    def __init__(self, name, salary = MIN_SALARY):\n",
    "        self.name = name\n",
    "        if salary >= Employee.MIN_SALARY:\n",
    "            self.salary = salary\n",
    "        else:\n",
    "            self.salary = Employee.MIN_SALARY\n",
    "    def give_raise(self, amount):\n",
    "        self.salary += amount"
   ]
  },
  {
   "cell_type": "code",
   "execution_count": 81,
   "id": "e22dcdbb",
   "metadata": {},
   "outputs": [],
   "source": [
    "class Manager(Employee):   #<-- A new class 'Manager' inherited from Employee\n",
    "    pass"
   ]
  },
  {
   "cell_type": "code",
   "execution_count": 82,
   "id": "53027af6",
   "metadata": {},
   "outputs": [
    {
     "name": "stdout",
     "output_type": "stream",
     "text": [
      "Peter Obi\n"
     ]
    }
   ],
   "source": [
    "mng = Manager('Peter Obi', 86500)   #<-- Defining a Manager object\n",
    "print(mng.name)"
   ]
  },
  {
   "cell_type": "markdown",
   "id": "56bca52b",
   "metadata": {},
   "source": [
    "#### Exercise 3\n",
    "1. Remove the `pass` statement and add a display method to the `Manager` class that just prints the 'Manager' followed by the full name e.g `Manager Peter Obi`\n",
    "\n",
    "2. call teh `display()` method from teh `mng` instance\n"
   ]
  },
  {
   "cell_type": "code",
   "execution_count": 88,
   "id": "b5d89476",
   "metadata": {},
   "outputs": [],
   "source": [
    "class Employee:\n",
    "    MIN_SALARY = 30000\n",
    "    def __init__(self, name, salary = MIN_SALARY):\n",
    "        self.name = name\n",
    "        if salary >= Employee.MIN_SALARY:\n",
    "            self.salary = salary\n",
    "        else:\n",
    "            self.salary = Employee.MIN_SALARY\n",
    "    def give_raise(self, amount):\n",
    "        self.salary += amount"
   ]
  },
  {
   "cell_type": "code",
   "execution_count": 108,
   "id": "35c2be6c",
   "metadata": {},
   "outputs": [],
   "source": [
    "class Manager(Employee):   #<-- A new class 'Manager' inherited from the employee\n",
    "    def display(self):   #<--- Adding a new method display\n",
    "        print('Manager:'+ ' ' + self.name )\n",
    "        "
   ]
  },
  {
   "cell_type": "code",
   "execution_count": 109,
   "id": "7452e734",
   "metadata": {},
   "outputs": [
    {
     "name": "stdout",
     "output_type": "stream",
     "text": [
      "Peter Obi\n"
     ]
    }
   ],
   "source": [
    "mng = Manager('Peter Obi', 86500)\n",
    "print(mng.name)"
   ]
  },
  {
   "cell_type": "code",
   "execution_count": 110,
   "id": "4eeedf12",
   "metadata": {},
   "outputs": [
    {
     "name": "stdout",
     "output_type": "stream",
     "text": [
      "Manager: Peter Obi\n"
     ]
    }
   ],
   "source": [
    "mng.display()"
   ]
  },
  {
   "cell_type": "markdown",
   "id": "5acd5878",
   "metadata": {},
   "source": [
    "We can see from the exercise that we've started customization. The `Manager` class now includes functionality (the `display()` method) that wasn't present in the original class(`Employee`) in addition to the functinality of the `Employee`  class.\n",
    "\n",
    "* Also, there wasn't anything special about adding this new method "
   ]
  },
  {
   "cell_type": "markdown",
   "id": "f30d8caf",
   "metadata": {},
   "source": [
    "### Customizing Functionality via Inheritance\n",
    "\n",
    "so far we've learned that inheritance shows us to encode 'is-a' relationship between classes.\n",
    "\n",
    "#### Example\n",
    "\n",
    "A `SavingsAccount` is a special kind of `BankAccount` that has all the account functionality, but also contains additional properties like an interest rate and a method to compute interest.\n",
    "\n",
    "#### <u> What we've done so far </u>"
   ]
  },
  {
   "cell_type": "code",
   "execution_count": 111,
   "id": "5cdfe351",
   "metadata": {},
   "outputs": [],
   "source": [
    "class Bankaccount:\n",
    "    def __init__(self, balance):\n",
    "        self.balance = balance\n",
    "        \n",
    "        \n",
    "    def withdraw(self, amount):\n",
    "        self.balance -= amount"
   ]
  },
  {
   "cell_type": "code",
   "execution_count": 112,
   "id": "8365ef28",
   "metadata": {},
   "outputs": [],
   "source": [
    "class SavingsAccount(BankAccount):  #<-- an Empty class inherited from BankAccount\n",
    "    pass"
   ]
  },
  {
   "cell_type": "markdown",
   "id": "d747bdf5",
   "metadata": {},
   "source": [
    "We could already create a `SavingsAccount` object, but they did not have any functionality that the `BankAccount` doesn't have. So let's start the customization\n",
    "\n",
    "\n",
    "#### <u> Adding Customization Now </u>\n",
    "let's start customization by adding a constructor specially for `SavingsAccount` class"
   ]
  },
  {
   "cell_type": "code",
   "execution_count": 113,
   "id": "dbb6b776",
   "metadata": {},
   "outputs": [],
   "source": [
    "class SavingsAccount(BankAccount):   #<--- An empty class inheriting from BankAccount\n",
    "    def __init__(self, balance, interest_rate):  #<--- the constructor specially for SavingsAccount with additional parameter\n",
    "        BankAccount.__init__(self, balance)   #<-- Calling the parent constuctor using (ClassName.__init__())\n",
    "        \n",
    "        \"\"\"\n",
    "        Here 'self' in BankAccount.__init__(self, balance) is used to call the consructor from the parent class.\n",
    "        'self' in BankAccount.__init__(self, balance) is a SavingsAccount but also a Bakaccount.\n",
    "        \n",
    "        Remember in Python, instances of a subclass (childclass) is also an instance of a parent class \n",
    "        therefore, SavingsAccount is also Bankaccount a well.\n",
    "        \n",
    "        We can now run the constructor of the parent class first by parent.__init__(self, args...)\n",
    "        But remember, in Python, instances of a subclass are also teh instances of the parent class,\n",
    "        so it's a BankAccount as well; so we can pass it to the __init__() method of BankAccount.\n",
    "        \n",
    "        \"\"\"\n",
    "        \n",
    "        # We can add more functionality here\n",
    "        \n",
    "        self.interest_rate = interest_rate"
   ]
  },
  {
   "cell_type": "markdown",
   "id": "5dcd7ff9",
   "metadata": {},
   "source": [
    "##### Note\n",
    "\n",
    "We are not actually required to call the parent constructor in the subclass, or call it first -- we can use a new code entirely -- but we'll likly almost use the parent constuctor.\n",
    "\n",
    "##### <u> Now Creating Objects with A customized Constructor </u>"
   ]
  },
  {
   "cell_type": "code",
   "execution_count": 114,
   "id": "4f0e10f3",
   "metadata": {},
   "outputs": [
    {
     "data": {
      "text/plain": [
       "0.03"
      ]
     },
     "execution_count": 114,
     "metadata": {},
     "output_type": "execute_result"
    }
   ],
   "source": [
    "acct = SavingsAccount(1000, 0.03)\n",
    "acct.interest_rate"
   ]
  },
  {
   "cell_type": "markdown",
   "id": "258237c0",
   "metadata": {},
   "source": [
    "Now when we created instance of `SavingsAccount` class (`acct`), thenew constuctor will be called (`BankAccount.__init__(self, balance`), and in particular, the interest_rate attribute will be initialized\n",
    "\n",
    "\n",
    "## Adding Functionality\n",
    "\n",
    "In the previous exercise, we saw that we can add method to a subclass just like any other class. In those methods, we can use data from both the child and the parent class.\n",
    "\n",
    "#### Example\n",
    "\n"
   ]
  },
  {
   "cell_type": "code",
   "execution_count": 115,
   "id": "95316d7c",
   "metadata": {},
   "outputs": [],
   "source": [
    "class SavingsAccount(BankAccount):\n",
    "    def __init__(self, balance, interest_rate):\n",
    "        BankAccount.__init__(self, balance)\n",
    "        self.interest_rate = interest_rate\n",
    "        \n",
    "        \n",
    "    # Adding new Functinality below\n",
    "    \n",
    "    def compute_interest(self, n_periods = 1):\n",
    "        return self.balance * ((1 + self.interest_rate) ** n_periods - 1)"
   ]
  },
  {
   "cell_type": "markdown",
   "id": "81f9ee7c",
   "metadata": {},
   "source": [
    "In the example above, we added a `compute_interest` method that returns the amount of interest in he account. Nptice we multiplied the balance attribute which was inherited from the `BankAccount` parent class by the expression involving the `interest_rate` attribute that existed only in the child class (`Savingsaccount`)\n",
    "\n",
    "\n",
    "\n",
    "### Let's Now Look At Customizing Functionality"
   ]
  },
  {
   "attachments": {
    "image%20%281%29.png": {
     "image/png": "[encoded data removed]"
    }
   },
   "cell_type": "markdown",
   "id": "4415dbdb",
   "metadata": {},
   "source": [
    "![image%20%281%29.png](attachment:image%20%281%29.png)"
   ]
  },
  {
   "cell_type": "markdown",
   "id": "9b921d99",
   "metadata": {},
   "source": [
    "* SavingsAccount inherits the `withdraw()` method from the parent `BankAccount` class\n",
    "\n",
    "*Calling withdraw on a SavingsAccount instance (a.k.a SavingsAccount object) will execute exactly the same code as callig it on a generic BankAccount instance.\n",
    "\n",
    "*We want to create a CheckingAccount class which should have a slightly modified version of the withdraw() method. It will have a parameter and adjust the withdrawal amount.\n",
    "\n",
    "##### <u>Here's an outline on what that could look like</u>"
   ]
  },
  {
   "cell_type": "code",
   "execution_count": 122,
   "id": "04da4afe",
   "metadata": {},
   "outputs": [],
   "source": [
    "class CheckingAccount(BankAccount):      #<---Initializing from the parant class\n",
    "    def __init__(self,balance, limit):   #<--- Add a customized constuctor that executes the parent code\n",
    "        BankAccount.__init__(self,balance)\n",
    "        self.limit = limit\n",
    "        \n",
    "    def deposit(self, amount):            #<-- A new deposit method\n",
    "        self.balance += amount\n",
    "\n",
    "    def withdraw(self, amount, fee = 0): #<--- A new withdraw method; a new argument (fee) specifies additional withdrawal fee \n",
    "        if fee <= self.limit:\n",
    "            BankAccount.withdraw(self,amount - fee)\n",
    "        else:\n",
    "            BankAccount.withdraw(self, amount - self.limit)"
   ]
  },
  {
   "cell_type": "markdown",
   "id": "748e3cc5",
   "metadata": {},
   "source": [
    "We compare the fee to some fee limit.\n",
    "Then we called the Parent withdraw() method passing a new amount to it with fees substracted. So this code runs almost the same code as the BankAccount's withdraw() method without re-implementing it -- just augmenting.\n",
    "\n",
    "##### <u>Notice</u>\n",
    "\n",
    "* We can change the signature of the method in the subclass by adding a parameter, and we again, just like in the constructor, call the parent version of the method directly by using parent-class-dot_syntax and passing self i.e Parent.method(self, args ...) to call a method from the parent class.\n",
    "* Now if we call withdraw() method from an object that is CheckingAccount instance, the new customized version of withdraw() will be used.\n",
    "* But when we call it from the regular BankAccount, the basic version of withdraw will be used.\n",
    "\n",
    "\n",
    "###### Example"
   ]
  },
  {
   "cell_type": "code",
   "execution_count": 123,
   "id": "198af1eb",
   "metadata": {},
   "outputs": [],
   "source": [
    "check_acct = CheckingAccount(1000, 25)\n",
    "check_acct.withdraw(200)     #<--- will call the withdraw() method from the CheckingAccount class"
   ]
  },
  {
   "cell_type": "code",
   "execution_count": 124,
   "id": "b7906bc0",
   "metadata": {},
   "outputs": [],
   "source": [
    "bank_acct = BankAccount(1000)\n",
    "bank_acct.withdraw(200)      #<--- will call the withdraw() method from the BankAccount class"
   ]
  },
  {
   "cell_type": "markdown",
   "id": "7aa4011f",
   "metadata": {},
   "source": [
    "##### NOTE\n",
    "\n",
    "1. The interface of the call is the same, and the actual method called is determined by the instance class. This is an application polymorphism and we'll learn how it works later in the course.\n",
    "\n",
    "2. Another Difference is, for a CheckingAccount instance, we could method with 2 parameters. But trying this call for a generic BankAccount instance would cause an error, because the method defined in the BankAccount class was not affected by the changes in the subclass."
   ]
  },
  {
   "cell_type": "code",
   "execution_count": 119,
   "id": "75308335",
   "metadata": {},
   "outputs": [],
   "source": [
    "check_acct.withdraw(200, fee=15)    #<--- will call the withdraw() method from the CheckingAccount class"
   ]
  },
  {
   "cell_type": "code",
   "execution_count": 121,
   "id": "c5a6f8e3",
   "metadata": {},
   "outputs": [
    {
     "ename": "TypeError",
     "evalue": "withdraw() got an unexpected keyword argument 'fee'",
     "output_type": "error",
     "traceback": [
      "\u001b[1;31m---------------------------------------------------------------------------\u001b[0m",
      "\u001b[1;31mTypeError\u001b[0m                                 Traceback (most recent call last)",
      "Input \u001b[1;32mIn [121]\u001b[0m, in \u001b[0;36m<cell line: 1>\u001b[1;34m()\u001b[0m\n\u001b[1;32m----> 1\u001b[0m \u001b[43mbank_acct\u001b[49m\u001b[38;5;241;43m.\u001b[39;49m\u001b[43mwithdraw\u001b[49m\u001b[43m(\u001b[49m\u001b[38;5;241;43m200\u001b[39;49m\u001b[43m,\u001b[49m\u001b[43m \u001b[49m\u001b[43mfee\u001b[49m\u001b[38;5;241;43m=\u001b[39;49m\u001b[38;5;241;43m15\u001b[39;49m\u001b[43m)\u001b[49m\n",
      "\u001b[1;31mTypeError\u001b[0m: withdraw() got an unexpected keyword argument 'fee'"
     ]
    }
   ],
   "source": [
    "bank_acct.withdraw(200, fee=15)   #<-- will throw an error typr of error"
   ]
  },
  {
   "cell_type": "markdown",
   "id": "a71d2021",
   "metadata": {},
   "source": [
    "#### Exercise 1: Method Inheritance\n",
    "Inheritance is powerful because it allows us to reuse and customize Code without re-writing existing code. By calling the methods of the parent class within the child clas, we reuse all-the code in those methods, making our code concise and manageable.\n",
    "\n",
    "In this exercise, we'll continue working with the Manager class that is inherited from the Employee class. Well add new data to the class and customize the give-raise() method from previous lesson to increase the manager's cause amount by a bonus percentage whenever the gre given a raise.\n"
   ]
  },
  {
   "cell_type": "markdown",
   "id": "fd84152d",
   "metadata": {},
   "source": [
    "#### Question\n",
    "1. Add a constructor to  `Manager` class: that\n",
    "\n",
    "* accept `name`, `salary` (default 50000), and `project` (default None)\n",
    "* calls the constuctor of the `Employee` class with the `name`and `salary` parameters\n",
    "* creates a `project` attribute and sets it to the `project` parameter\n",
    "\n",
    "##### Solution"
   ]
  },
  {
   "cell_type": "code",
   "execution_count": 127,
   "id": "c569809f",
   "metadata": {},
   "outputs": [],
   "source": [
    "class Employee:\n",
    "    def __init__(self, name, salary = 30000):\n",
    "        self.name = name\n",
    "        self.salary = salary\n",
    "        \n",
    "    def give_raise(self, amount):\n",
    "        self.salary += amount\n",
    "\n",
    "class Manager(Employee):                                         #<--- Adding a constructor\n",
    "    def __init__(self, name, salary = 50000, project = None):\n",
    "        Employee.__init__(self, name, salary)                     #<--- Call parent constuctor\n",
    "        self.project = project                                    #<-- Assign project attribute\n",
    "        \n",
    "    def display(self):\n",
    "        print(\"Manger\", self.name)"
   ]
  },
  {
   "cell_type": "markdown",
   "id": "00e6a0bb",
   "metadata": {},
   "source": [
    "#### Exercise 2\n",
    "1. Add a `give_raise()` method to `Manager` that:\n",
    "   * Accepts the same parameters as `Employee.give_raise()`, plus a `bonus` parameter with the default value of `1.05`\n",
    "   * Multiply amount by bonus \n",
    "   * Use the `Employee's` method to raise salary by that product"
   ]
  },
  {
   "cell_type": "code",
   "execution_count": 7,
   "id": "cd7b3957",
   "metadata": {},
   "outputs": [],
   "source": [
    "class Employee:\n",
    "    def __init__(self, name, salary = 30000):\n",
    "        self.name = name\n",
    "        self.salary = salary\n",
    "        \n",
    "    def give_raise(self, amount):\n",
    "        self.salary += amount\n",
    "\n",
    "class Manager(Employee):\n",
    "    def display(self):\n",
    "        print(\"Manger\", self.name)\n",
    "        \n",
    "    def __init__(self, name, salary = 50000, project = None):\n",
    "        Employee.__init__(self, name, salary)                     \n",
    "        self.project = project  \n",
    "    \n",
    "    def give_raise(self, amount, bonus = 1.05): #<--- Add a give_raise() method\n",
    "        new_amount = amount * bonus \n",
    "        Employee.give_raise(self, new_amount)"
   ]
  },
  {
   "cell_type": "code",
   "execution_count": 8,
   "id": "d4f91774",
   "metadata": {},
   "outputs": [
    {
     "name": "stdout",
     "output_type": "stream",
     "text": [
      "79550.0\n"
     ]
    }
   ],
   "source": [
    "mngr = Manager('Peter Obi', 78500)\n",
    "mngr.give_raise(1000)\n",
    "print(mngr.salary)"
   ]
  },
  {
   "cell_type": "code",
   "execution_count": 9,
   "id": "5af7d01b",
   "metadata": {},
   "outputs": [
    {
     "name": "stdout",
     "output_type": "stream",
     "text": [
      "81610.0\n"
     ]
    }
   ],
   "source": [
    "mngr.give_raise(2000, bonus=1.03)\n",
    "print(mngr.salary)"
   ]
  },
  {
   "cell_type": "markdown",
   "id": "f34fcbf3",
   "metadata": {},
   "source": [
    "#### Exercise 3: Inheritance of Class Attributes\n",
    "\n",
    "In the beginning of the topic; we learned about class attributes and methods are shared among all the instances of a class. How do they work with inheritance? In this exercise, you'll create subclasses of `Player` class from the previous lesson of this chapter, and explore the inheritance of the class attributes and methods.\n",
    "\n",
    "The `Player` class has been defined for you. Recall that the player class had to class_level attrbutes: `MAX POSITION` and `MAX SPEED`, with default values `10` and `3`\n",
    "\n",
    "1. Create a class `Racer` inherited from `Player`\n",
    "2. Assign `5` to `MAX_SPEED` in the body the class.\n",
    "3. Create a `Player` object `p` and a `Racer` object `r` (no arguments needed for the constructor)\n",
    "4. Carefully examine the print outs\n",
    "\n",
    "##### Solution\n",
    "\n"
   ]
  },
  {
   "cell_type": "code",
   "execution_count": 130,
   "id": "55c5a915",
   "metadata": {},
   "outputs": [],
   "source": [
    "class Player:\n",
    "    MAX_POSITION = 10\n",
    "    MAX_SPEED = 3\n",
    "    \n",
    "    def __init__(self):\n",
    "        self.position = 0"
   ]
  },
  {
   "cell_type": "code",
   "execution_count": 131,
   "id": "d4eeb04a",
   "metadata": {},
   "outputs": [],
   "source": [
    "class Racer(Player):\n",
    "    MAX_SPEED = 5"
   ]
  },
  {
   "cell_type": "code",
   "execution_count": 132,
   "id": "9091716b",
   "metadata": {},
   "outputs": [],
   "source": [
    "p = Player()\n",
    "r = Racer()\n"
   ]
  },
  {
   "cell_type": "code",
   "execution_count": 133,
   "id": "cd4f0993",
   "metadata": {},
   "outputs": [
    {
     "name": "stdout",
     "output_type": "stream",
     "text": [
      "p.MAX_SPEED =  3\n"
     ]
    }
   ],
   "source": [
    "print(\"p.MAX_SPEED = \", p.MAX_SPEED)"
   ]
  },
  {
   "cell_type": "code",
   "execution_count": 134,
   "id": "42c8031d",
   "metadata": {},
   "outputs": [
    {
     "name": "stdout",
     "output_type": "stream",
     "text": [
      "r.MAX_SPEED = 5\n"
     ]
    }
   ],
   "source": [
    "print(\"r.MAX_SPEED =\", r.MAX_SPEED)"
   ]
  },
  {
   "cell_type": "code",
   "execution_count": 135,
   "id": "c8f24f7c",
   "metadata": {},
   "outputs": [
    {
     "name": "stdout",
     "output_type": "stream",
     "text": [
      "p.MAX_SPEED =  10\n"
     ]
    }
   ],
   "source": [
    "print(\"p.MAX_SPEED = \", p.MAX_POSITION)"
   ]
  },
  {
   "cell_type": "code",
   "execution_count": 136,
   "id": "6309d57d",
   "metadata": {},
   "outputs": [
    {
     "name": "stdout",
     "output_type": "stream",
     "text": [
      "r.MAX_SPEED =  10\n"
     ]
    }
   ],
   "source": [
    "print(\"r.MAX_SPEED = \", r.MAX_POSITION)"
   ]
  },
  {
   "cell_type": "markdown",
   "id": "ee2f41d4",
   "metadata": {},
   "source": [
    "### 10. Operator Overloading\n",
    "Now that we've learned about classes and object, we should be able to now use them effectively in our applications. We'll learn how to make our objects seamlessly intergrate with standard python operations.\n",
    "\n",
    "\n",
    "#### 10.1 Operator Overloading: Comparison\n",
    "\n",
    "##### <u> 10.1.1 Object Equality </u>"
   ]
  },
  {
   "cell_type": "code",
   "execution_count": 28,
   "id": "78c8c45e",
   "metadata": {},
   "outputs": [],
   "source": [
    "class Customer:\n",
    "    def __init__(self, name, balance):\n",
    "        self.name = name\n",
    "        self.balance = balance"
   ]
  },
  {
   "cell_type": "code",
   "execution_count": 29,
   "id": "93ac6607",
   "metadata": {},
   "outputs": [],
   "source": [
    "customer1 = Customer(\"Maryam Azar\", 3000)\n",
    "customer2 = Customer(\"Maryam Azar\", 3000)"
   ]
  },
  {
   "cell_type": "code",
   "execution_count": 30,
   "id": "b406b70d",
   "metadata": {},
   "outputs": [
    {
     "data": {
      "text/plain": [
       "False"
      ]
     },
     "execution_count": 30,
     "metadata": {},
     "output_type": "execute_result"
    }
   ],
   "source": [
    "customer1 == customer2"
   ]
  },
  {
   "cell_type": "markdown",
   "id": "67db7024",
   "metadata": {},
   "source": [
    "The two objects(`customer1` and `customer2`) above are of same class (`Customer`) and they have the same data. However, when we asked Python if these two objects are equal, the answer is \"No\"\n",
    "\n",
    "In this situation, it might make sence to think we got `Flase`because we have two customer with the ame `name` and `account number`.\n",
    "\n",
    "##### Let's now see what happens if each customer has a unique ID"
   ]
  },
  {
   "cell_type": "code",
   "execution_count": 31,
   "id": "79443811",
   "metadata": {},
   "outputs": [],
   "source": [
    "class Customer:\n",
    "    def __init__(self, name, balance, id):\n",
    "        self.name = name\n",
    "        self.balance = balance\n",
    "        self.id = id"
   ]
  },
  {
   "cell_type": "code",
   "execution_count": 32,
   "id": "83c5be66",
   "metadata": {},
   "outputs": [],
   "source": [
    "customer1 = Customer(\"Maryam Azar\", 3000, 123)\n",
    "customer2 = Customer(\"Maryam Azar\", 3000, 123)"
   ]
  },
  {
   "cell_type": "code",
   "execution_count": 33,
   "id": "ac99593e",
   "metadata": {},
   "outputs": [
    {
     "data": {
      "text/plain": [
       "False"
      ]
     },
     "execution_count": 33,
     "metadata": {},
     "output_type": "execute_result"
    }
   ],
   "source": [
    "customer1 == customer2"
   ]
  },
  {
   "cell_type": "markdown",
   "id": "bda85238",
   "metadata": {},
   "source": [
    "Two customer with then same id should be treated as equal, but Python doesn't treat them as such. This is because Python doesn't consider two objects with the same data equal by default. it has to do with how the object and variables representing them are  stored.\n",
    "\n",
    "#### 10.1.2  <u> Variables are references </u>\n",
    "\n",
    "if we try to print the `customer` object, we'll see that \"Customer at\" and a string (which is usually a number in haxadecimal) is printed."
   ]
  },
  {
   "cell_type": "code",
   "execution_count": 34,
   "id": "1d8547fb",
   "metadata": {},
   "outputs": [
    {
     "name": "stdout",
     "output_type": "stream",
     "text": [
      "<__main__.Customer object at 0x0000029F84F98640>\n"
     ]
    }
   ],
   "source": [
    "print(customer1)"
   ]
  },
  {
   "cell_type": "code",
   "execution_count": 35,
   "id": "32b2b34d",
   "metadata": {},
   "outputs": [
    {
     "name": "stdout",
     "output_type": "stream",
     "text": [
      "<__main__.Customer object at 0x0000029F84E9FB50>\n"
     ]
    }
   ],
   "source": [
    "print(customer2)"
   ]
  },
  {
   "cell_type": "markdown",
   "id": "59f393b0",
   "metadata": {},
   "source": [
    "Behind the scene when an object is created, Python a chuck of memory to that object, and the variable that the object is assigned to actually contains the reference of the memory chunk.\n",
    "\n",
    "* The same is what happened here, Python allocates a chunk of meemory for a `customer` object and label it `customer1`, then allocate another chuck and label it `customer2`\n",
    "* So when we compairing `customer1` and `customer2`, we are actually compairng references not data. This is because `customer1` and `customer2` point in different chunk in the memory; so they are nor considered equal.\n",
    "* But it does not have to be that way. Let's see how to make Python consider them equal.\n",
    "\n",
    "\n",
    "#### 10.1.3 <u> Custom Comparison\n",
    "    \n",
    "You might have noticed, for example: numpy array are compared using their data.\n",
    "\n"
   ]
  },
  {
   "cell_type": "code",
   "execution_count": 36,
   "id": "0b911be8",
   "metadata": {},
   "outputs": [],
   "source": [
    "import numpy as np"
   ]
  },
  {
   "cell_type": "code",
   "execution_count": 37,
   "id": "cd53c1f0",
   "metadata": {},
   "outputs": [],
   "source": [
    "# Two different arrays containing the same data\n",
    "\n",
    "array1 = np.array([1,2,3])\n",
    "array2 = np.array([1,2,3])"
   ]
  },
  {
   "cell_type": "code",
   "execution_count": 38,
   "id": "26d758d6",
   "metadata": {},
   "outputs": [
    {
     "data": {
      "text/plain": [
       "array([ True,  True,  True])"
      ]
     },
     "execution_count": 38,
     "metadata": {},
     "output_type": "execute_result"
    }
   ],
   "source": [
    "array1 == array2"
   ]
  },
  {
   "cell_type": "markdown",
   "id": "9e98b8b9",
   "metadata": {},
   "source": [
    "Here, Python considers this ( the two numpy array) as equal. Same goes for the pandas DataFrame. So how then should we make our customer object equal?\n",
    "\n",
    "##### How do we do this for our customer class?\n",
    "\n",
    "\n",
    "#### 10.1.4 Overloading__eg__()\n",
    "\n",
    "We can defien a special method for this. Remember the __init__() constructor, that is implicitly called whenever an object od a class is created, yeah?\n",
    "* The __eq__() method is also implicitly called when two object of the same cklass are compared to each other.\n",
    "\n",
    "\n"
   ]
  },
  {
   "cell_type": "code",
   "execution_count": 44,
   "id": "ef88efa0",
   "metadata": {},
   "outputs": [],
   "source": [
    "class Customer:\n",
    "    def __init__(self, id, name):\n",
    "        self.id, self.name = id, name\n",
    "        \n",
    "    def __eq__(self, other):       #<--- This gets called whem \"==\" is used i.e when 2 objects of a class are compared using == \n",
    "        print(\"__eq__() is called\") #<--- This is just a diagnostic print out\n",
    "        \n",
    "        return (self.id == other.id) and (self.name == other.name)"
   ]
  },
  {
   "cell_type": "markdown",
   "id": "eb6d8959",
   "metadata": {},
   "source": [
    "##### Note\n",
    "\n",
    "1. This method should accept two arguments, refering to the objects to be compared. They are usually called `self` and `other` by convention.\n",
    "\n",
    "def __eq__(self, other)\n",
    "\n",
    "2. It should always return a boolean value -- True or False. So in our code above, we have a basic `Customer` class with `id` and `name` attributes, and we also added a diagnostic printout for illustration.\n",
    "\n",
    "#### Now compairing two objects with he same data again"
   ]
  },
  {
   "cell_type": "code",
   "execution_count": 49,
   "id": "2d9f547d",
   "metadata": {},
   "outputs": [],
   "source": [
    "# Two equal objects\n",
    "customer1 = Customer(123, \"Maryam Azar\")\n",
    "customer2 = Customer(123, \"Maryam Azar\" )"
   ]
  },
  {
   "cell_type": "code",
   "execution_count": 50,
   "id": "c86d2c07",
   "metadata": {},
   "outputs": [
    {
     "name": "stdout",
     "output_type": "stream",
     "text": [
      "__eq__() is called\n"
     ]
    },
    {
     "data": {
      "text/plain": [
       "True"
      ]
     },
     "execution_count": 50,
     "metadata": {},
     "output_type": "execute_result"
    }
   ],
   "source": [
    "customer1 == customer2"
   ]
  },
  {
   "cell_type": "code",
   "execution_count": 51,
   "id": "dbbbde81",
   "metadata": {},
   "outputs": [],
   "source": [
    "# Two unequal objects (different 'id')\n",
    "customer1 = Customer(123, \"Maryam Azar\")\n",
    "customer2 = Customer(456, \"Maryam Azar\" )"
   ]
  },
  {
   "cell_type": "code",
   "execution_count": 52,
   "id": "7dd918bf",
   "metadata": {},
   "outputs": [
    {
     "name": "stdout",
     "output_type": "stream",
     "text": [
      "__eq__() is called\n"
     ]
    },
    {
     "data": {
      "text/plain": [
       "False"
      ]
     },
     "execution_count": 52,
     "metadata": {},
     "output_type": "execute_result"
    }
   ],
   "source": [
    "customer1 == customer2"
   ]
  },
  {
   "cell_type": "markdown",
   "id": "a8deea27",
   "metadata": {},
   "source": [
    "#### 10.1.5 Other Comparison Operators\n",
    "Python allows us to implement all the comparison operators in our custom class using special methods like eq etc"
   ]
  },
  {
   "cell_type": "markdown",
   "id": "830613cb",
   "metadata": {},
   "source": [
    "                    Operator    |  Method\n",
    "               ________________________________\n",
    "                      ==        |     __eq__()\n",
    "                      !=        |     __ne__()\n",
    "                      >=        |     __ge__()\n",
    "                      <=        |     __le__()\n",
    "                      <         |     __lt__()\n",
    "                      >         |     __gt__()\n",
    "                      \n",
    "<br><p>\n",
    "Finally, there is a hash method that allows us to use our objects as dictionary keys and in sets. It's beyond the scope of this class, but briefly it should assifn an integer to an object, such that equal objects have equal hashes and the object hash does not change through the object's lifetime.\n",
    "   "
   ]
  },
  {
   "cell_type": "markdown",
   "id": "aa772489",
   "metadata": {},
   "source": [
    "##### Exercise 1: Overloading Equality\n",
    "\n",
    "The `BankAccount` class from the previous lesson is available for you to use. It has one attribute `balance` and a `withdraw()` method.\n",
    "\n",
    "\n",
    "   class BankAccount:\n",
    "      \n",
    "      def __init__(self, balance):\n",
    "            \n",
    "            self.balance = balance\n",
    "        \n",
    "       def withdraw(self, amount):\n",
    "           \n",
    "           self.balance -= amount\n",
    "\n",
    "Two bank accounts with the same balance are not necessarily the same account, but a bank account usually has an account number, and two accounts with the same account number should be considered the same.\n",
    "\n",
    "#### Questions\n",
    "\n",
    "Modify and run the code given below (line 1 - 6) as given below. Then try to create a few `BankAccount` objects and compare them."
   ]
  },
  {
   "cell_type": "code",
   "execution_count": 53,
   "id": "0bbd383e",
   "metadata": {},
   "outputs": [],
   "source": [
    "class BankAccount:\n",
    "    def __init__(self, balance = 0):\n",
    "        self.balance = balance\n",
    "        \n",
    "    def withdraw(self, amount):\n",
    "        self.balance -= amount"
   ]
  },
  {
   "cell_type": "markdown",
   "id": "a896e2b0",
   "metadata": {},
   "source": [
    "1. Modify the \\_\\_init__() method to accept a new parameter `number` and initialize a new `number` attribute.\n",
    "2. Define an \\_\\_eq__() method that returns `True` if the `number` attribute of two objects are equal\n",
    "3. Create three different objects (`account1`, `account2`, and `account3`) of `BankAccount` and pass:\n",
    " - `12000` as the account balance for all the three objects\n",
    " - `1070348972` as the account number for the first two objects (`account1` & `account2`), and `1310760369` for the last object (`account3`) respectively. \n",
    "4. Compare if:\n",
    "  - `account1` and `account2` are the same\n",
    "  - `account1` and `account3` are the same\n",
    "5. Examine the outputs and report your findings"
   ]
  },
  {
   "cell_type": "code",
   "execution_count": 70,
   "id": "f4ed3b2b",
   "metadata": {},
   "outputs": [],
   "source": [
    "class BankAccount:\n",
    "    def __init__(self, number, balance = 0 ):\n",
    "        self.balance = balance\n",
    "        self.number = number\n",
    "        \n",
    "    def withdraw(self, amount):\n",
    "        self.balance -= amount\n",
    "        \n",
    "    def __eq__(self, other):\n",
    "        return( self.number == other.number) "
   ]
  },
  {
   "cell_type": "code",
   "execution_count": 71,
   "id": "16663b1c",
   "metadata": {},
   "outputs": [],
   "source": [
    "account1 = BankAccount(1070348972, 12000 )\n",
    "account2 = BankAccount(1070348972, 12000 )\n",
    "account3 = BankAccount(1310760369, 12000 )"
   ]
  },
  {
   "cell_type": "code",
   "execution_count": 72,
   "id": "6d57534e",
   "metadata": {},
   "outputs": [
    {
     "data": {
      "text/plain": [
       "True"
      ]
     },
     "execution_count": 72,
     "metadata": {},
     "output_type": "execute_result"
    }
   ],
   "source": [
    "account1 == account2"
   ]
  },
  {
   "cell_type": "code",
   "execution_count": 73,
   "id": "dc9538cb",
   "metadata": {},
   "outputs": [
    {
     "data": {
      "text/plain": [
       "False"
      ]
     },
     "execution_count": 73,
     "metadata": {},
     "output_type": "execute_result"
    }
   ],
   "source": [
    "account1 == account3"
   ]
  },
  {
   "cell_type": "markdown",
   "id": "3a84bb83",
   "metadata": {},
   "source": [
    "We can now see that out method comoared just the account numbers but not the balances.\n",
    "\n",
    "##### What would happen if two account have the same account number but different balances?\n"
   ]
  },
  {
   "cell_type": "code",
   "execution_count": 74,
   "id": "0d5b6519",
   "metadata": {},
   "outputs": [],
   "source": [
    "acct3 = BankAccount(1070348972, 12000 )\n",
    "acct4 = BankAccount(1070348972, 12500 )"
   ]
  },
  {
   "cell_type": "code",
   "execution_count": 75,
   "id": "452d9a95",
   "metadata": {},
   "outputs": [
    {
     "data": {
      "text/plain": [
       "True"
      ]
     },
     "execution_count": 75,
     "metadata": {},
     "output_type": "execute_result"
    }
   ],
   "source": [
    "acct3 == acct4"
   ]
  },
  {
   "cell_type": "markdown",
   "id": "d542a0cb",
   "metadata": {},
   "source": [
    "As observed above, our code treated this account as equal. However, it might be better to throw an error instead -- infromation the user that something is wrong.\n",
    "\n",
    "Recall, we've previosly learn about exception handling in Python, However, if time permits, we will still look at how to define our own exception classes to create this kind of custom errors.\n",
    "\n",
    "#### Exercise 2: Checking Class Equality\n",
    "Assuming you have a `BankAccount` class which has a number attribute, and you want to compare the `BankAccount` class with another class that also has a `number` attribute, we could end up with unexpected results.\n",
    "\n",
    "#### Example: consider this two classes below"
   ]
  },
  {
   "cell_type": "code",
   "execution_count": 76,
   "id": "8ec4fe42",
   "metadata": {},
   "outputs": [],
   "source": [
    "class BankAccount:\n",
    "    def __init__(self, number):\n",
    "        self.number = number\n",
    "        \n",
    "    def __eq__(self, other):\n",
    "        return(self.number == other.number) \n",
    "acct_number = BankAccount(2347061082694)    #<-- Creating an object of the BankAccount class\n",
    "    \n",
    "    "
   ]
  },
  {
   "cell_type": "code",
   "execution_count": 77,
   "id": "d15778f9",
   "metadata": {},
   "outputs": [],
   "source": [
    "class Phone:\n",
    "    def __init__(self, number):\n",
    "        self.number = number\n",
    "        \n",
    "    def __eq__(self, other):\n",
    "        return(self.number == other.number) \n",
    "phone_number = BankAccount(2347061082694)    #<-- Creating an object of the Phone class\n",
    "    \n",
    "    "
   ]
  },
  {
   "cell_type": "code",
   "execution_count": 78,
   "id": "419b3655",
   "metadata": {},
   "outputs": [
    {
     "data": {
      "text/plain": [
       "True"
      ]
     },
     "execution_count": 78,
     "metadata": {},
     "output_type": "execute_result"
    }
   ],
   "source": [
    "acct_number == phone_number"
   ]
  },
  {
   "cell_type": "markdown",
   "id": "337b808c",
   "metadata": {},
   "source": [
    "Running `acct_number == phone_number` will return `True` even though we're compairing a phone number with a bank account number. So, it's a good practice to always check the class object passed the `__eq__()` method to make sure such comparison makes sense\n",
    "\n",
    "#### Note\n",
    "You might have noticed that i removed the `withdraw()`method and `balance` attributes from the above `BankAccount` class.\n",
    "\n",
    "I decided to remove the `withdrawn()`method and the `balance` attributes from the `BankAccount` class so everyone will easily understand what's happening above. However, in subsequent examples, if add them back.\n",
    "\n",
    "#### Questions\n",
    "\n",
    "- Modify the `BankAccount` below to only return `True` if the `number` attribute is the same and the `type()` of both objects passed to it is the same.\n",
    "- Create an object of `BankAccount` and `phone` class named `account_number` and `phone_number` respectively with same `number` argument named `2347061082694`\n",
    "- Compare the `BankAccount` and `Phone` objects again, then and report your findings."
   ]
  },
  {
   "cell_type": "code",
   "execution_count": 79,
   "id": "6ed8c168",
   "metadata": {},
   "outputs": [],
   "source": [
    "class BankAccount:\n",
    "    def __init__(self, number, balance = 0 ):\n",
    "        self.balance = balance\n",
    "        self.number = number\n",
    "        \n",
    "    def withdraw(self, amount):\n",
    "        self.balance -= amount\n",
    "        \n",
    "    def __eq__(self, other):\n",
    "        return self.number == other.number\n",
    "    "
   ]
  },
  {
   "cell_type": "markdown",
   "id": "ccc0f028",
   "metadata": {},
   "source": [
    "#### Solution"
   ]
  },
  {
   "cell_type": "code",
   "execution_count": 80,
   "id": "2684776f",
   "metadata": {},
   "outputs": [],
   "source": [
    "class BankAccount:\n",
    "    def __init__(self, number, balance = 0 ):\n",
    "        self.balance = balance\n",
    "        self.number = number\n",
    "        \n",
    "    def withdraw(self, amount):\n",
    "        self.balance -= amount\n",
    "        \n",
    "    def __eq__(self, other):                             #<--- Modifying add check for type()\n",
    "        return ((self.number == other.number) and (type(self)== type(other)))"
   ]
  },
  {
   "cell_type": "code",
   "execution_count": 81,
   "id": "d5414c6a",
   "metadata": {},
   "outputs": [],
   "source": [
    "acct_number = BankAccount(2347061082694)  #<--- Creating an object of the BankAccount class\n",
    "phone_number = Phone(2347061082694)       #<--- Creating an object of the Phone class"
   ]
  },
  {
   "cell_type": "code",
   "execution_count": 82,
   "id": "92377e33",
   "metadata": {},
   "outputs": [
    {
     "data": {
      "text/plain": [
       "False"
      ]
     },
     "execution_count": 82,
     "metadata": {},
     "output_type": "execute_result"
    }
   ],
   "source": [
    "acct_number == phone_number"
   ]
  },
  {
   "cell_type": "markdown",
   "id": "841ed992",
   "metadata": {},
   "source": [
    "Now we fixed it. Only compairing objects with the same class `BankAccount` could return true\n",
    "<hr>\n",
    "Another way to ensur that an object has the same type as we expect is to use the `instance(object, class)` function. This can be useful when handling inheritance as Python considers an object to be an instance of both the parent and child class.\n",
    "\n",
    "#### Reverse Order of Equality\n",
    "Try running `phone_number == acct_number` (the reversed order of equality). What do you notice?\n"
   ]
  },
  {
   "cell_type": "code",
   "execution_count": 93,
   "id": "e049ef20",
   "metadata": {},
   "outputs": [
    {
     "name": "stdout",
     "output_type": "stream",
     "text": [
      "The value of '5 > 3' is : True) \n",
      "Reversing the values to 3 > 5 changes it to: False\n"
     ]
    }
   ],
   "source": [
    "print(f'The value of \\'5 > 3\\' is : {5 > 3}) \\nReversing the values to 3 > 5 changes it to: {3>5}')\n",
    "#print(f\"The value of '5 > 3' is : {5 > 3}) \\nReversing the values to 3 > 5 changes it to: {3>5}\")"
   ]
  },
  {
   "cell_type": "code",
   "execution_count": 95,
   "id": "f3bcb3e5",
   "metadata": {},
   "outputs": [
    {
     "data": {
      "text/plain": [
       "True"
      ]
     },
     "execution_count": 95,
     "metadata": {},
     "output_type": "execute_result"
    }
   ],
   "source": [
    "phone_number == acct_number"
   ]
  },
  {
   "cell_type": "markdown",
   "id": "150d3c38",
   "metadata": {},
   "source": [
    "Just in  our inequality math class, Once the order of equality is reversed, it returned the opposite of he value. same is applicable when using __eq__() method in Python programming\n",
    "\n",
    "\n",
    "#### Exercise 3: Comparison and Inheritance\n",
    "What happens when an object is compared to an object of a child class? Consider the following two classes"
   ]
  },
  {
   "cell_type": "code",
   "execution_count": 96,
   "id": "6b7e0cde",
   "metadata": {},
   "outputs": [],
   "source": [
    "class Parent:\n",
    "    def __eq__(self, other):\n",
    "        print(\"Parent's __eq__() called\")\n",
    "        return True\n",
    "    \n",
    "class Child(Parent):\n",
    "    def __eq__(self, other):\n",
    "        print(\"Child's __eq__() called\")\n",
    "        return True"
   ]
  },
  {
   "cell_type": "markdown",
   "id": "5e31fba2",
   "metadata": {},
   "source": [
    "The `Child` class inherit from the `Parent` class, and both implementing the __eq__() method that includes a disgnostic print out.\n",
    "\n",
    "#### Question\n",
    "Which `__eq__()` method will be called when the code below is run?\n",
    "\n",
    "\n",
    "      p = Parent()\n",
    "      c = Child()\n",
    "      \n",
    "      p == c\n",
    "a) The Parent's \\_\\_eq__ method will be called<br><p>\n",
    "b) The Child's \\_\\_eq__ method will be called<br><p>\n",
    "c) The code will throw an error\n",
    "    \n"
   ]
  },
  {
   "cell_type": "markdown",
   "id": "0f456828",
   "metadata": {},
   "source": [
    "#### Solution"
   ]
  },
  {
   "cell_type": "code",
   "execution_count": null,
   "id": "43f2bcdc",
   "metadata": {},
   "outputs": [],
   "source": [
    "p = Parent()\n",
    "c = Child()\n"
   ]
  },
  {
   "cell_type": "code",
   "execution_count": 98,
   "id": "72b63e39",
   "metadata": {},
   "outputs": [
    {
     "name": "stdout",
     "output_type": "stream",
     "text": [
      "Child's __eq__() called\n"
     ]
    },
    {
     "data": {
      "text/plain": [
       "True"
      ]
     },
     "execution_count": 98,
     "metadata": {},
     "output_type": "execute_result"
    }
   ],
   "source": [
    "p == c"
   ]
  },
  {
   "cell_type": "markdown",
   "id": "5b27f827",
   "metadata": {},
   "source": [
    "Python always calls the Child's `__eq__()` method when compairing a child object to a parent object.\n",
    "\n"
   ]
  },
  {
   "cell_type": "markdown",
   "id": "ee80d4d6",
   "metadata": {},
   "source": [
    "### 10.2 Operator Overloading: String Representation\n",
    "Great job! with comparison! Let's continue to improve the integration of our custom class with Python's built-in operators.\n",
    "\n",
    "#### 10.2.1 Printing an object"
   ]
  },
  {
   "cell_type": "code",
   "execution_count": 99,
   "id": "3e754168",
   "metadata": {},
   "outputs": [],
   "source": [
    "class Customer:\n",
    "    def __init__(self, name, balance):\n",
    "        self.name = name\n",
    "        self.balance = balance"
   ]
  },
  {
   "cell_type": "code",
   "execution_count": 100,
   "id": "e06b82d4",
   "metadata": {},
   "outputs": [],
   "source": [
    "cust = Customer('Adetola Ige', 3000)"
   ]
  },
  {
   "cell_type": "code",
   "execution_count": 101,
   "id": "81c90712",
   "metadata": {},
   "outputs": [
    {
     "name": "stdout",
     "output_type": "stream",
     "text": [
      "<__main__.Customer object at 0x0000029F84FEA430>\n"
     ]
    }
   ],
   "source": [
    "print(cust)"
   ]
  },
  {
   "cell_type": "markdown",
   "id": "e2b59348",
   "metadata": {},
   "source": [
    "In the code above, we discovered that calling a print function on an object of the custom class returns the object addresss in memory.\n",
    "* But there are plenty of classes of which the printout is much more informative\n",
    "\n",
    "\n",
    "##### Example"
   ]
  },
  {
   "cell_type": "code",
   "execution_count": 102,
   "id": "80ec43d2",
   "metadata": {},
   "outputs": [],
   "source": [
    "arr = np.array([1,2,3,4])"
   ]
  },
  {
   "cell_type": "code",
   "execution_count": 103,
   "id": "2af8c4cc",
   "metadata": {},
   "outputs": [
    {
     "name": "stdout",
     "output_type": "stream",
     "text": [
      "[1 2 3 4]\n"
     ]
    }
   ],
   "source": [
    "print(arr)"
   ]
  },
  {
   "cell_type": "markdown",
   "id": "e74f4320",
   "metadata": {},
   "source": [
    "here we can see that the actual data contained in the object, unlike what we got when we printed out our custom class object `cust`\n",
    "\n",
    "\n",
    "#### 10.2.2 The str vs. repr\n",
    "\n",
    "`__str__()` and `__repr__()` are two special methods we define in a class that will return a printable representation of an object.\n",
    "\n",
    "1. The `__str__` is executed when we call the print or str on an object\n",
    "* print(obj\n",
    "* str(obj)\n",
    "\n",
    "##### Example"
   ]
  },
  {
   "cell_type": "code",
   "execution_count": 104,
   "id": "84e017f6",
   "metadata": {},
   "outputs": [
    {
     "name": "stdout",
     "output_type": "stream",
     "text": [
      "[1 2 3 4]\n"
     ]
    }
   ],
   "source": [
    "print(np.array([1,2,3,4]))"
   ]
  },
  {
   "cell_type": "code",
   "execution_count": 106,
   "id": "d423cc1c",
   "metadata": {},
   "outputs": [
    {
     "data": {
      "text/plain": [
       "'[1 2 3 4]'"
      ]
     },
     "execution_count": 106,
     "metadata": {},
     "output_type": "execute_result"
    }
   ],
   "source": [
    "str(np.array([1,2,3,4]))"
   ]
  },
  {
   "cell_type": "markdown",
   "id": "5507c1ce",
   "metadata": {},
   "source": [
    "2. On the other hand, `__repr__()` is executed when we call `repr` on the object or when we print it in a console without explicitly calling the print function on it.\n",
    "* repr(obj)\n",
    "* printing in console without explicitly using `print()`\n",
    "\n",
    "##### Example"
   ]
  },
  {
   "cell_type": "code",
   "execution_count": 107,
   "id": "f81a6f2d",
   "metadata": {},
   "outputs": [
    {
     "data": {
      "text/plain": [
       "'array([1, 2, 3, 4])'"
      ]
     },
     "execution_count": 107,
     "metadata": {},
     "output_type": "execute_result"
    }
   ],
   "source": [
    "repr(np.array([1,2,3,4]))"
   ]
  },
  {
   "cell_type": "code",
   "execution_count": 108,
   "id": "ef682aab",
   "metadata": {},
   "outputs": [
    {
     "data": {
      "text/plain": [
       "array([1, 2, 3, 4])"
      ]
     },
     "execution_count": 108,
     "metadata": {},
     "output_type": "execute_result"
    }
   ],
   "source": [
    "np.array([1,2,3,4])"
   ]
  },
  {
   "cell_type": "markdown",
   "id": "f6d67c51",
   "metadata": {},
   "source": [
    "### The Difference Between str() and repr()\n",
    "**<u>`str()`</u>**: is supposed to give an informal representation, suitable for an end user.\n",
    "**<u>`repr()`</u>**: It's mainly use by developers. The best practice is to use `repr` to print a string that can be used to reproduce the object\n",
    "\n",
    "- ** Example:** the nimpy array, the shows us the exact method call that was used to create the object.\n",
    "if we are to choose to only use or implement one of them, we should choose `repr()`. This is because it is also used as a fall-back for orint when `str()` is not defined.\n",
    "\n",
    "\n"
   ]
  },
  {
   "cell_type": "markdown",
   "id": "5cb5e19c",
   "metadata": {},
   "source": [
    "#### 10.2.3 Implemetation of str"
   ]
  },
  {
   "cell_type": "code",
   "execution_count": 122,
   "id": "8881d2cb",
   "metadata": {},
   "outputs": [],
   "source": [
    "class Customer:\n",
    "    def __init__(self, name, balance):\n",
    "        self.name = name\n",
    "        self.balance = balance\n",
    "        \n",
    "    def __str__(self):  #<-- only accepts self as its argument\n",
    "        cust_str = \"\"\"\n",
    "        Customer:\n",
    "        name: {name}\n",
    "        balance: {balance}\n",
    "        \"\"\".format(name = self.name, balance = self.balance)\n",
    "        return cust_str\n",
    "    "
   ]
  },
  {
   "cell_type": "markdown",
   "id": "d048e099",
   "metadata": {},
   "source": [
    "##### Now creating a Customer object"
   ]
  },
  {
   "cell_type": "code",
   "execution_count": 123,
   "id": "d1d5e113",
   "metadata": {},
   "outputs": [
    {
     "name": "stdout",
     "output_type": "stream",
     "text": [
      "\n",
      "        Customer:\n",
      "        name: Adetola Ige\n",
      "        balance: 3000\n",
      "        \n"
     ]
    }
   ],
   "source": [
    "cust = Customer('Adetola Ige', 3000)\n",
    "print(cust)"
   ]
  },
  {
   "cell_type": "markdown",
   "id": "f4e0bce5",
   "metadata": {},
   "source": [
    "#### 10.2.4 Implementation of repr\n"
   ]
  },
  {
   "cell_type": "code",
   "execution_count": 116,
   "id": "f9bfaaaa",
   "metadata": {},
   "outputs": [],
   "source": [
    "class Customer:\n",
    "    def __init__(self, name, balance):\n",
    "        self.name = name\n",
    "        self.balance = balance\n",
    "        \n",
    "    def __repr__(self):  #<--- only accepts self as its argument\n",
    "        \n",
    "        # Pay attention to the ' ' around name\n",
    "        return \"Customer('{name}', {balance})\".format(name= self.name, balance = self.balance)"
   ]
  },
  {
   "cell_type": "markdown",
   "id": "726b8f7a",
   "metadata": {},
   "source": [
    "##### Now creating a Customer object"
   ]
  },
  {
   "cell_type": "code",
   "execution_count": 117,
   "id": "1603c17f",
   "metadata": {},
   "outputs": [
    {
     "data": {
      "text/plain": [
       "Customer('Adetola Ige', 3000)"
      ]
     },
     "execution_count": 117,
     "metadata": {},
     "output_type": "execute_result"
    }
   ],
   "source": [
    "cust = Customer('Adetola Ige', 3000)\n",
    "cust  #<--- This will explicitly call __repr__()"
   ]
  },
  {
   "cell_type": "markdown",
   "id": "3dd7b421",
   "metadata": {},
   "source": [
    "It return `Customer('Adetola Ige', 3000)` Not `Customer(Adetola Ige, 3000)`\n",
    "* Following the best practice, we ensure that `repr` returns the string that can be used to reproduce the object, in this case, the exact initialization call.\n",
    "* Notice the single quotes around the `name` in the return statement? without the quotes, the name of the customer will be substituted into the string as-is but the point of `repr` is to give the exact call needed to reproduce the object, where the name should be in quotes\n",
    "\n",
    "\n",
    "#### Exercise 1\n",
    "1. Add the _str_() method to `Employee` class below that satisfies the following:\n",
    "  - if `emp` is an `Employee` object with the name \"`Omah Lay`\" and salary of `40000`, then `print(emp)` outputs:\n",
    "  \n",
    "  Employee name: Omah Lay\n",
    "  \n",
    "  Employee salary: 40000\n",
    "  \n",
    "<hr>\n",
    "\n",
    "\n",
    "class Employee:\n",
    "    def __init__(self, name, salary = 30000):\n",
    "        \n",
    "        self.name = name\n",
    "        \n",
    "        self.salary = salary\n",
    "        \n",
    "    def give_raise(self, amount):\n",
    "       \n",
    "       self.salary += amount\n",
    "\n",
    "<hr>\n",
    "\n",
    "2. Create `emp2` an `Employee`object with the name *\"Insert Your Full Name here\"* and salary of 200,000 (because we've left the trenches), then print `emp2` output"
   ]
  },
  {
   "cell_type": "code",
   "execution_count": 129,
   "id": "16bed4aa",
   "metadata": {},
   "outputs": [],
   "source": [
    "class Employee:\n",
    "    def __init__(self, name, salary = 30000):\n",
    "        self.name = name\n",
    "        self.salary = salary\n",
    "        \n",
    "    def give_raise(self, amount):\n",
    "        self.salary += amount\n",
    "        \n",
    "    def __str__(self):\n",
    "        emp_str = \"\"\"Employee:\n",
    "        Employee name: {name}\n",
    "        Employee salary: {salary}\n",
    "        \"\"\".format(name = self.name, salary = self.salary)\n",
    "        return emp_str\n",
    "    "
   ]
  },
  {
   "cell_type": "code",
   "execution_count": 130,
   "id": "8de18ac0",
   "metadata": {},
   "outputs": [
    {
     "name": "stdout",
     "output_type": "stream",
     "text": [
      "Employee:\n",
      "        Employee name: Omah Lay\n",
      "        Employee salary: 40000\n",
      "        \n"
     ]
    }
   ],
   "source": [
    "emp = Employee('Omah Lay', 40000)\n",
    "print(emp)\n"
   ]
  },
  {
   "cell_type": "code",
   "execution_count": 126,
   "id": "f7e0c52e",
   "metadata": {},
   "outputs": [
    {
     "name": "stdout",
     "output_type": "stream",
     "text": [
      "Customer:\n",
      "        Employee name: Adeyemo Adetola Ige\n",
      "        Employee salary: 200000\n",
      "        \n"
     ]
    }
   ],
   "source": [
    "emp2 = Employee('Adeyemo Adetola Ige', 200000)\n",
    "print(emp2)"
   ]
  },
  {
   "cell_type": "markdown",
   "id": "1f42bc65",
   "metadata": {},
   "source": [
    "##### Exercise 2"
   ]
  },
  {
   "cell_type": "markdown",
   "id": "571ab833",
   "metadata": {},
   "source": [
    "1. Add the _repr_() method to the Employee class that satisifies the following:\n",
    "  - if `emp` is an `Employee` object with the name \"`Jeremy Howard`\" and salary of 40000, then `repr(emp)` outputs:\n",
    "  \n",
    "  Employee('Jeremy Howard', 40000)\n",
    "  "
   ]
  },
  {
   "cell_type": "code",
   "execution_count": 127,
   "id": "dc303042",
   "metadata": {},
   "outputs": [],
   "source": [
    "class Employee:\n",
    "    def __init__(self, name, salary = 30000):\n",
    "        self.name = name\n",
    "        self.salary = salary\n",
    "        \n",
    "    def give_raise(self, amount):\n",
    "        self.salary += amount\n",
    "        \n",
    "    def __repr__(self):\n",
    "        return \"Employee('{name}', {salary})\".format(name= self.name, salary = self.salary)\n",
    "        "
   ]
  },
  {
   "cell_type": "code",
   "execution_count": 128,
   "id": "722ecc7a",
   "metadata": {},
   "outputs": [
    {
     "data": {
      "text/plain": [
       "\"Employee('Jeremy Howard', 40000)\""
      ]
     },
     "execution_count": 128,
     "metadata": {},
     "output_type": "execute_result"
    }
   ],
   "source": [
    "emp = Employee('Jeremy Howard', 40000)\n",
    "repr(emp)"
   ]
  },
  {
   "cell_type": "code",
   "execution_count": null,
   "id": "505d2708",
   "metadata": {},
   "outputs": [],
   "source": []
  }
 ],
 "metadata": {
  "kernelspec": {
   "display_name": "Python 3 (ipykernel)",
   "language": "python",
   "name": "python3"
  },
  "language_info": {
   "codemirror_mode": {
    "name": "ipython",
    "version": 3
   },
   "file_extension": ".py",
   "mimetype": "text/x-python",
   "name": "python",
   "nbconvert_exporter": "python",
   "pygments_lexer": "ipython3",
   "version": "3.9.12"
  }
 },
 "nbformat": 4,
 "nbformat_minor": 5
}
