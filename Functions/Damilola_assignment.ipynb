{
 "cells": [
  {
   "cell_type": "markdown",
   "id": "e726b621",
   "metadata": {},
   "source": [
    "##User Defined Functions"
   ]
  },
  {
   "cell_type": "code",
   "execution_count": 33,
   "id": "ffa6214f",
   "metadata": {},
   "outputs": [],
   "source": [
    "def square():#<---function header\n",
    "    new_value = 4**2 #<...  function body\n",
    "    print(new_value)"
   ]
  },
  {
   "cell_type": "code",
   "execution_count": 34,
   "id": "56db1ce8",
   "metadata": {},
   "outputs": [
    {
     "name": "stdout",
     "output_type": "stream",
     "text": [
      "16\n"
     ]
    }
   ],
   "source": [
    "#lets now call the function\n",
    "square()\n"
   ]
  },
  {
   "cell_type": "markdown",
   "id": "b736c6ee",
   "metadata": {},
   "source": [
    "# write a function that can square any given number"
   ]
  },
  {
   "cell_type": "code",
   "execution_count": 35,
   "id": "ed10448f",
   "metadata": {},
   "outputs": [],
   "source": [
    "def square(value):\n",
    "    new_value = value**2\n",
    "    print(new_value)"
   ]
  },
  {
   "cell_type": "code",
   "execution_count": 36,
   "id": "594a9e82",
   "metadata": {},
   "outputs": [
    {
     "name": "stdout",
     "output_type": "stream",
     "text": [
      "100\n"
     ]
    }
   ],
   "source": [
    "square(10)"
   ]
  },
  {
   "cell_type": "code",
   "execution_count": 37,
   "id": "57a38242",
   "metadata": {},
   "outputs": [
    {
     "name": "stdout",
     "output_type": "stream",
     "text": [
      "4\n"
     ]
    }
   ],
   "source": [
    "square(2)"
   ]
  },
  {
   "cell_type": "markdown",
   "id": "137bacc1",
   "metadata": {},
   "source": [
    "## return values from functions"
   ]
  },
  {
   "cell_type": "markdown",
   "id": "0baef0b1",
   "metadata": {},
   "source": [
    "what  if we dont want to print out our functions squared value but \n",
    "\n",
    "instead, we want to return the squared value and assign it to ome variables\n"
   ]
  },
  {
   "cell_type": "code",
   "execution_count": 40,
   "id": "4fd4a480",
   "metadata": {},
   "outputs": [],
   "source": [
    "def square(value):\n",
    "    new_value = value**2\n",
    "    return new_value"
   ]
  },
  {
   "cell_type": "code",
   "execution_count": 41,
   "id": "95e11b56",
   "metadata": {},
   "outputs": [
    {
     "name": "stdout",
     "output_type": "stream",
     "text": [
      "16\n"
     ]
    }
   ],
   "source": [
    "num = square(4)\n",
    "print(num)"
   ]
  },
  {
   "cell_type": "markdown",
   "id": "b2e235e2",
   "metadata": {},
   "source": [
    "#multiple parameters and return values "
   ]
  },
  {
   "cell_type": "markdown",
   "id": "1574d64b",
   "metadata": {},
   "source": [
    ". accepts more than one parameter"
   ]
  },
  {
   "cell_type": "markdown",
   "id": "9ded086b",
   "metadata": {},
   "source": [
    "example"
   ]
  },
  {
   "cell_type": "code",
   "execution_count": null,
   "id": "1243549d",
   "metadata": {},
   "outputs": [],
   "source": [
    "def raise to power(value1,value2):\n",
    "    \"\"\"\n",
    "    \n",
    "    new_value1"
   ]
  },
  {
   "cell_type": "code",
   "execution_count": 43,
   "id": "2ec64ebb",
   "metadata": {},
   "outputs": [],
   "source": [
    "#example2 "
   ]
  },
  {
   "cell_type": "code",
   "execution_count": 48,
   "id": "d23b992b",
   "metadata": {},
   "outputs": [],
   "source": [
    "def raise_both(value1, value2):\n",
    "    '''\n",
    "    raise value to the power of value2 and vice versa\n",
    "    '''\n",
    "    \n",
    "    new_value1= value1** value2\n",
    "    new_value2= value2**value1\n",
    "    new_tuple=(new_value1,new_value2)\n",
    "    return new_tuple"
   ]
  },
  {
   "cell_type": "code",
   "execution_count": 49,
   "id": "7f5b755e",
   "metadata": {},
   "outputs": [
    {
     "name": "stdout",
     "output_type": "stream",
     "text": [
      "(8, 9)\n"
     ]
    }
   ],
   "source": [
    "result = raise_both(2,3)\n",
    "\n",
    "print(result)"
   ]
  },
  {
   "cell_type": "markdown",
   "id": "30869856",
   "metadata": {},
   "source": [
    "# example 3"
   ]
  },
  {
   "cell_type": "markdown",
   "id": "215a55ed",
   "metadata": {},
   "source": [
    "load twitter data into panda ,iterate over the language column and count \n",
    "the number of the language if exists a key in a dictionary we created \n",
    "otherwise,we assign that language to be added to 1\n"
   ]
  },
  {
   "cell_type": "code",
   "execution_count": 4,
   "id": "68e48c12",
   "metadata": {},
   "outputs": [
    {
     "data": {
      "text/plain": [
       "'damilola akinlade'"
      ]
     },
     "execution_count": 4,
     "metadata": {},
     "output_type": "execute_result"
    }
   ],
   "source": [
    "my_dict ={}\n",
    "my_dict[\"name\"] = \"damilola\"\n",
    "my_dict[\"name\"]\n",
    "my_dict[\"name\"]+=\" akinlade\"\n",
    "my_dict[\"name\"]\n"
   ]
  },
  {
   "cell_type": "code",
   "execution_count": 6,
   "id": "cc855814",
   "metadata": {},
   "outputs": [
    {
     "data": {
      "text/html": [
       "<div>\n",
       "<style scoped>\n",
       "    .dataframe tbody tr th:only-of-type {\n",
       "        vertical-align: middle;\n",
       "    }\n",
       "\n",
       "    .dataframe tbody tr th {\n",
       "        vertical-align: top;\n",
       "    }\n",
       "\n",
       "    .dataframe thead th {\n",
       "        text-align: right;\n",
       "    }\n",
       "</style>\n",
       "<table border=\"1\" class=\"dataframe\">\n",
       "  <thead>\n",
       "    <tr style=\"text-align: right;\">\n",
       "      <th></th>\n",
       "      <th>contributors</th>\n",
       "      <th>coordinates</th>\n",
       "      <th>created_at</th>\n",
       "      <th>entities</th>\n",
       "      <th>extended_entities</th>\n",
       "      <th>favorite_count</th>\n",
       "      <th>favorited</th>\n",
       "      <th>filter_level</th>\n",
       "      <th>geo</th>\n",
       "      <th>id</th>\n",
       "      <th>...</th>\n",
       "      <th>quoted_status_id</th>\n",
       "      <th>quoted_status_id_str</th>\n",
       "      <th>retweet_count</th>\n",
       "      <th>retweeted</th>\n",
       "      <th>retweeted_status</th>\n",
       "      <th>source</th>\n",
       "      <th>text</th>\n",
       "      <th>timestamp_ms</th>\n",
       "      <th>truncated</th>\n",
       "      <th>user</th>\n",
       "    </tr>\n",
       "  </thead>\n",
       "  <tbody>\n",
       "    <tr>\n",
       "      <th>0</th>\n",
       "      <td>NaN</td>\n",
       "      <td>NaN</td>\n",
       "      <td>Tue Mar 29 23:40:17 +0000 2016</td>\n",
       "      <td>{'hashtags': [], 'user_mentions': [{'screen_na...</td>\n",
       "      <td>{'media': [{'sizes': {'large': {'w': 1024, 'h'...</td>\n",
       "      <td>0</td>\n",
       "      <td>False</td>\n",
       "      <td>low</td>\n",
       "      <td>NaN</td>\n",
       "      <td>714960401759387648</td>\n",
       "      <td>...</td>\n",
       "      <td>NaN</td>\n",
       "      <td>NaN</td>\n",
       "      <td>0</td>\n",
       "      <td>False</td>\n",
       "      <td>{'retweeted': False, 'text': \".@krollbondratin...</td>\n",
       "      <td>&lt;a href=\"http://twitter.com\" rel=\"nofollow\"&gt;Tw...</td>\n",
       "      <td>RT @bpolitics: .@krollbondrating's Christopher...</td>\n",
       "      <td>1459294817758</td>\n",
       "      <td>False</td>\n",
       "      <td>{'utc_offset': 3600, 'profile_image_url_https'...</td>\n",
       "    </tr>\n",
       "    <tr>\n",
       "      <th>1</th>\n",
       "      <td>NaN</td>\n",
       "      <td>NaN</td>\n",
       "      <td>Tue Mar 29 23:40:17 +0000 2016</td>\n",
       "      <td>{'hashtags': [{'text': 'cruzsexscandal', 'indi...</td>\n",
       "      <td>{'media': [{'sizes': {'large': {'w': 500, 'h':...</td>\n",
       "      <td>0</td>\n",
       "      <td>False</td>\n",
       "      <td>low</td>\n",
       "      <td>NaN</td>\n",
       "      <td>714960401977319424</td>\n",
       "      <td>...</td>\n",
       "      <td>NaN</td>\n",
       "      <td>NaN</td>\n",
       "      <td>0</td>\n",
       "      <td>False</td>\n",
       "      <td>{'retweeted': False, 'text': '@dmartosko Cruz ...</td>\n",
       "      <td>&lt;a href=\"http://twitter.com\" rel=\"nofollow\"&gt;Tw...</td>\n",
       "      <td>RT @HeidiAlpine: @dmartosko Cruz video found.....</td>\n",
       "      <td>1459294817810</td>\n",
       "      <td>False</td>\n",
       "      <td>{'utc_offset': None, 'profile_image_url_https'...</td>\n",
       "    </tr>\n",
       "  </tbody>\n",
       "</table>\n",
       "<p>2 rows × 31 columns</p>\n",
       "</div>"
      ],
      "text/plain": [
       "   contributors  coordinates                      created_at  \\\n",
       "0           NaN          NaN  Tue Mar 29 23:40:17 +0000 2016   \n",
       "1           NaN          NaN  Tue Mar 29 23:40:17 +0000 2016   \n",
       "\n",
       "                                            entities  \\\n",
       "0  {'hashtags': [], 'user_mentions': [{'screen_na...   \n",
       "1  {'hashtags': [{'text': 'cruzsexscandal', 'indi...   \n",
       "\n",
       "                                   extended_entities  favorite_count  \\\n",
       "0  {'media': [{'sizes': {'large': {'w': 1024, 'h'...               0   \n",
       "1  {'media': [{'sizes': {'large': {'w': 500, 'h':...               0   \n",
       "\n",
       "   favorited filter_level  geo                  id  ...  quoted_status_id  \\\n",
       "0      False          low  NaN  714960401759387648  ...               NaN   \n",
       "1      False          low  NaN  714960401977319424  ...               NaN   \n",
       "\n",
       "  quoted_status_id_str  retweet_count  retweeted  \\\n",
       "0                  NaN              0      False   \n",
       "1                  NaN              0      False   \n",
       "\n",
       "                                    retweeted_status  \\\n",
       "0  {'retweeted': False, 'text': \".@krollbondratin...   \n",
       "1  {'retweeted': False, 'text': '@dmartosko Cruz ...   \n",
       "\n",
       "                                              source  \\\n",
       "0  <a href=\"http://twitter.com\" rel=\"nofollow\">Tw...   \n",
       "1  <a href=\"http://twitter.com\" rel=\"nofollow\">Tw...   \n",
       "\n",
       "                                                text   timestamp_ms truncated  \\\n",
       "0  RT @bpolitics: .@krollbondrating's Christopher...  1459294817758     False   \n",
       "1  RT @HeidiAlpine: @dmartosko Cruz video found.....  1459294817810     False   \n",
       "\n",
       "                                                user  \n",
       "0  {'utc_offset': 3600, 'profile_image_url_https'...  \n",
       "1  {'utc_offset': None, 'profile_image_url_https'...  \n",
       "\n",
       "[2 rows x 31 columns]"
      ]
     },
     "execution_count": 6,
     "metadata": {},
     "output_type": "execute_result"
    }
   ],
   "source": [
    "import pandas as pd\n",
    "\n",
    "df =pd.read_csv(\"/Users/damilolaakinlade/Desktop/DATA SCIENCE/writing functions in python/tweets.csv\")\n",
    "df.head(2)"
   ]
  },
  {
   "cell_type": "code",
   "execution_count": 8,
   "id": "449dd738",
   "metadata": {},
   "outputs": [
    {
     "data": {
      "text/plain": [
       "en     97\n",
       "und     2\n",
       "et      1\n",
       "Name: lang, dtype: int64"
      ]
     },
     "execution_count": 8,
     "metadata": {},
     "output_type": "execute_result"
    }
   ],
   "source": [
    "df[\"lang\"].value_counts()"
   ]
  },
  {
   "cell_type": "code",
   "execution_count": 9,
   "id": "4145d4ec",
   "metadata": {},
   "outputs": [],
   "source": [
    "lang_count = ()#<...we created an empty dictionary \n",
    "languages = df[\"lang\"]#,select the language columnb from our dataset"
   ]
  },
  {
   "cell_type": "code",
   "execution_count": 13,
   "id": "884e6ee8",
   "metadata": {},
   "outputs": [
    {
     "ename": "AttributeError",
     "evalue": "'tuple' object has no attribute 'keys'",
     "output_type": "error",
     "traceback": [
      "\u001b[0;31m---------------------------------------------------------------------------\u001b[0m",
      "\u001b[0;31mAttributeError\u001b[0m                            Traceback (most recent call last)",
      "Input \u001b[0;32mIn [13]\u001b[0m, in \u001b[0;36m<cell line: 1>\u001b[0;34m()\u001b[0m\n\u001b[1;32m      1\u001b[0m \u001b[38;5;28;01mfor\u001b[39;00m lang \u001b[38;5;129;01min\u001b[39;00m languages:\u001b[38;5;66;03m#< ...for loop\u001b[39;00m\n\u001b[0;32m----> 2\u001b[0m     \u001b[38;5;28;01mif\u001b[39;00m lang \u001b[38;5;129;01min\u001b[39;00m \u001b[43mlang_count\u001b[49m\u001b[38;5;241;43m.\u001b[39;49m\u001b[43mkeys\u001b[49m():  \u001b[38;5;66;03m#< ...if statement\u001b[39;00m\n\u001b[1;32m      3\u001b[0m         lang_count[lang] \u001b[38;5;241m+\u001b[39m\u001b[38;5;241m=\u001b[39m \u001b[38;5;241m1\u001b[39m\n\u001b[1;32m      4\u001b[0m     \u001b[38;5;28;01melse\u001b[39;00m:\n",
      "\u001b[0;31mAttributeError\u001b[0m: 'tuple' object has no attribute 'keys'"
     ]
    }
   ],
   "source": [
    "for lang in languages:#< ...for loop\n",
    "    if lang in lang_count.keys():  #< ...if statement\n",
    "        lang_count[lang] += 1\n",
    "    else:\n",
    "        lang_count[lang] = 1"
   ]
  },
  {
   "cell_type": "code",
   "execution_count": 16,
   "id": "870937af",
   "metadata": {},
   "outputs": [],
   "source": [
    "lang_count ={} #... as we created an empty dictionary\n",
    "languages  = df[\"lang\"]#< select the language column from ourv data set"
   ]
  },
  {
   "cell_type": "code",
   "execution_count": 18,
   "id": "89c11a72",
   "metadata": {},
   "outputs": [],
   "source": [
    "for language in languages: #< for loop\n",
    "    if language in lang_count.keys():  #<... if statement\n",
    "        \n",
    "        lang_count[language] +=1\n",
    "    else:\n",
    "        lang_count[language]=1\n",
    "    \n",
    "        "
   ]
  },
  {
   "cell_type": "code",
   "execution_count": 20,
   "id": "85be3813",
   "metadata": {},
   "outputs": [
    {
     "name": "stdout",
     "output_type": "stream",
     "text": [
      "{'en': 97, 'et': 1, 'und': 2}\n"
     ]
    }
   ],
   "source": [
    "print(lang_count)"
   ]
  },
  {
   "cell_type": "markdown",
   "id": "386d0720",
   "metadata": {},
   "source": [
    "The above code was used to build a dictionary with keys being the names of the languages, and values , the number of tweets in a given language"
   ]
  },
  {
   "cell_type": "markdown",
   "id": "27c8ab0a",
   "metadata": {},
   "source": [
    "#example 4\n",
    "we didnt define a function in our example3 .so lets now create a function with a with the functionality of our example 3"
   ]
  },
  {
   "cell_type": "code",
   "execution_count": 31,
   "id": "b34c6387",
   "metadata": {},
   "outputs": [],
   "source": [
    "def count_entries (df, col_name):\n",
    "    '''\n",
    "    return a dictionary with count of occurrences as a value of each key\n",
    "    '''\n",
    "    lang_count = {}                              #<...create an empty dictionary\n",
    "    lang_col = df[col_name]                     #<...extract the language column\n",
    "    for language in lang_col:                #<...iterate iver language column in dataframe\n",
    "        if language in lang_count.keys():    #<...if language is in lang_count add 1\n",
    "            lang_count[language] += 1\n",
    "            \n",
    "        else:\n",
    "                lang_count[language] = 1      #...else set the value 1\n",
    "                \n",
    "    return lang_count"
   ]
  },
  {
   "cell_type": "code",
   "execution_count": 32,
   "id": "59e0d627",
   "metadata": {},
   "outputs": [],
   "source": [
    "result = count_entries(df,'lang')"
   ]
  },
  {
   "cell_type": "code",
   "execution_count": 33,
   "id": "4ae8ff1d",
   "metadata": {},
   "outputs": [
    {
     "name": "stdout",
     "output_type": "stream",
     "text": [
      "{'en': 97, 'et': 1, 'und': 2}\n"
     ]
    }
   ],
   "source": [
    "print(result)"
   ]
  },
  {
   "cell_type": "markdown",
   "id": "bb390458",
   "metadata": {},
   "source": [
    "## exercise\n",
    "use what youve learned so far to modify the shout() function below.function below .here, you will modify shout() to accept two arguments."
   ]
  },
  {
   "cell_type": "code",
   "execution_count": 49,
   "id": "e1963ece",
   "metadata": {},
   "outputs": [],
   "source": [
    " #yell = shout\n",
    "# define shout with parameters word1 and word2\n",
    "\n",
    "def shout1(word1,word2):\n",
    "    \n",
    "    '''\n",
    "    return a dictionary with count of occurrences as a value key\n",
    "    '''\n",
    "    shout1 = word1 +\"!!!\"\n",
    "    shout2 = word2 +\"!!!\"\n",
    "    \n",
    "    new_shout=shout1 + shout2\n",
    "    \n",
    "    return new_shout\n",
    "\n",
    "yell= (\"congratulations\",\"you\")\n",
    "    "
   ]
  },
  {
   "cell_type": "markdown",
   "id": "9a737bc9",
   "metadata": {},
   "source": [
    "# scope and user defined functions"
   ]
  },
  {
   "cell_type": "markdown",
   "id": "280da115",
   "metadata": {},
   "source": [
    "scope in functions \n",
    "\n",
    "not all objects are accessible everywhere in the script\n",
    "scope-part of the program is where an object or name may be accessible\n"
   ]
  },
  {
   "cell_type": "markdown",
   "id": "c44b284d",
   "metadata": {},
   "source": [
    "types of scope \n",
    "a) global scope: this is defined in the main body of a script\n",
    "b)local scope: this is defined inside a fgunction\n",
    "c)built in scope : these are names in the predefined built in module example sum(). \n",
    "print()etc\n",
    "    "
   ]
  },
  {
   "cell_type": "markdown",
   "id": "d981770e",
   "metadata": {},
   "source": [
    "###Global scope vs local scope"
   ]
  },
  {
   "cell_type": "code",
   "execution_count": 56,
   "id": "5cdcb31c",
   "metadata": {},
   "outputs": [],
   "source": [
    "def square(value):\n",
    "    new_value = value ** 2\n",
    "    return new_value"
   ]
  },
  {
   "cell_type": "code",
   "execution_count": 57,
   "id": "fdd6f46f",
   "metadata": {},
   "outputs": [
    {
     "data": {
      "text/plain": [
       "49"
      ]
     },
     "execution_count": 57,
     "metadata": {},
     "output_type": "execute_result"
    }
   ],
   "source": [
    "square(7)"
   ]
  },
  {
   "cell_type": "markdown",
   "id": "cf52f78d",
   "metadata": {},
   "source": [
    "if we try to call the variable name new_value now,it will throw an error. this is because new_value can only be accessed inside the function we created. Therefore ,its a local scope"
   ]
  },
  {
   "cell_type": "code",
   "execution_count": 60,
   "id": "defa63c3",
   "metadata": {},
   "outputs": [
    {
     "ename": "NameError",
     "evalue": "name 'new_value' is not defined",
     "output_type": "error",
     "traceback": [
      "\u001b[0;31m---------------------------------------------------------------------------\u001b[0m",
      "\u001b[0;31mNameError\u001b[0m                                 Traceback (most recent call last)",
      "Input \u001b[0;32mIn [60]\u001b[0m, in \u001b[0;36m<cell line: 1>\u001b[0;34m()\u001b[0m\n\u001b[0;32m----> 1\u001b[0m \u001b[43mnew_value\u001b[49m\n",
      "\u001b[0;31mNameError\u001b[0m: name 'new_value' is not defined"
     ]
    }
   ],
   "source": [
    "new_value"
   ]
  },
  {
   "cell_type": "markdown",
   "id": "63e89e82",
   "metadata": {},
   "source": [
    "##lets now make it a global scope "
   ]
  },
  {
   "cell_type": "code",
   "execution_count": 61,
   "id": "022af3f5",
   "metadata": {},
   "outputs": [],
   "source": [
    "new_value = 10"
   ]
  },
  {
   "cell_type": "code",
   "execution_count": 63,
   "id": "0562335f",
   "metadata": {},
   "outputs": [
    {
     "data": {
      "text/plain": [
       "9"
      ]
     },
     "execution_count": 63,
     "metadata": {},
     "output_type": "execute_result"
    }
   ],
   "source": [
    "def square(value):\n",
    "    new_value = value ** 2\n",
    "    return new_value\n",
    "\n",
    "square(3)"
   ]
  },
  {
   "cell_type": "markdown",
   "id": "fc1d6712",
   "metadata": {},
   "source": [
    "##lets now call the new_value again"
   ]
  },
  {
   "cell_type": "code",
   "execution_count": 64,
   "id": "83828b2e",
   "metadata": {},
   "outputs": [
    {
     "data": {
      "text/plain": [
       "10"
      ]
     },
     "execution_count": 64,
     "metadata": {},
     "output_type": "execute_result"
    }
   ],
   "source": [
    "new_value"
   ]
  },
  {
   "cell_type": "markdown",
   "id": "3b89651f",
   "metadata": {},
   "source": [
    "##note"
   ]
  },
  {
   "cell_type": "markdown",
   "id": "6051d464",
   "metadata": {},
   "source": [
    ". Anytime we call the name new_value in the global scope ,\n",
    "  it will access the name in the global scope.\n",
    "    \n",
    ". Anytime we call the name new_value in the local scope,it will first look for it in the local scoope .\n",
    "    \n",
    "    thats why calling the function \"square(3)\" returned 9 and not 100(10 raise to power \n",
    "        of 10)\n",
    "        \n",
    "  .however if python couldnt find \n"
   ]
  },
  {
   "cell_type": "markdown",
   "id": "806f07c0",
   "metadata": {},
   "source": [
    "example1"
   ]
  },
  {
   "cell_type": "code",
   "execution_count": 66,
   "id": "3606a124",
   "metadata": {},
   "outputs": [],
   "source": [
    "new_value =10"
   ]
  },
  {
   "cell_type": "code",
   "execution_count": 67,
   "id": "8d1ad3f4",
   "metadata": {},
   "outputs": [],
   "source": [
    "def square(value):\n",
    "    new_value2 = new_value ** 2\n",
    "    return new_value2\n"
   ]
  },
  {
   "cell_type": "code",
   "execution_count": 68,
   "id": "fcca587c",
   "metadata": {},
   "outputs": [
    {
     "data": {
      "text/plain": [
       "100"
      ]
     },
     "execution_count": 68,
     "metadata": {},
     "output_type": "execute_result"
    }
   ],
   "source": [
    "square(3)"
   ]
  },
  {
   "cell_type": "markdown",
   "id": "01baace5",
   "metadata": {},
   "source": [
    "## TO ALTER THE  VALUE OF A GLOBAL VARIABLE WITHIN A FUNCTION CALL"
   ]
  },
  {
   "cell_type": "code",
   "execution_count": 69,
   "id": "234c38c0",
   "metadata": {},
   "outputs": [],
   "source": [
    "new_value = 10"
   ]
  },
  {
   "cell_type": "code",
   "execution_count": 2,
   "id": "786f91fc",
   "metadata": {},
   "outputs": [],
   "source": [
    "def square(value):\n",
    "    global new_value #< adding the keyword \"global\" will change \n",
    "                    \n",
    "    new_value = new_value ** 2\n",
    "    return new_value"
   ]
  },
  {
   "cell_type": "markdown",
   "id": "90e5d93d",
   "metadata": {},
   "source": [
    "### ASSIGNMENT"
   ]
  },
  {
   "cell_type": "markdown",
   "id": "272af2dc",
   "metadata": {},
   "source": [
    "1.Define a function that will run the names in the fellowship with more than 6 letter\n",
    "words\n",
    "\n",
    "2.use filter+ lambda to perform the same task\n",
    "\n",
    "fellowship = [\"freddo\",\"samwise\",\"mercy\",\"pippin\",\"Aragon\",\"Boronni\",\"legolas\",\"Gandal\"]\n"
   ]
  },
  {
   "cell_type": "markdown",
   "id": "86f87499",
   "metadata": {},
   "source": [
    "3)use list comprehension to perform the same task"
   ]
  },
  {
   "cell_type": "markdown",
   "id": "a845b4ee",
   "metadata": {},
   "source": [
    "## home work"
   ]
  },
  {
   "cell_type": "markdown",
   "id": "c2f89276",
   "metadata": {},
   "source": [
    "1) define a function that will run the names in the fellowship with more than six letter words"
   ]
  },
  {
   "cell_type": "code",
   "execution_count": 25,
   "id": "c6e7fd12",
   "metadata": {},
   "outputs": [],
   "source": [
    "fellowship = [\"freddo\",\"samwise\",\"mercy\",\"pippin\",\"Aragon\",\n",
    "              \"Boronni\",\"legolas\",\"Gandal\"]\n",
    "\n",
    "def names(x):\n",
    "    for x in fellowship:\n",
    "        \n",
    "        if len(x)>6:\n",
    "            \n",
    "            print(x)\n",
    "\n"
   ]
  },
  {
   "cell_type": "code",
   "execution_count": 27,
   "id": "9e7b2770",
   "metadata": {
    "scrolled": true
   },
   "outputs": [
    {
     "name": "stdout",
     "output_type": "stream",
     "text": [
      "samwise\n",
      "Boronni\n",
      "legolas\n",
      "None\n"
     ]
    }
   ],
   "source": [
    "fellowship = [\"freddo\",\"samwise\",\"mercy\",\"pippin\",\"Aragon\",\n",
    "              \"Boronni\",\"legolas\",\"Gandal\"]\n",
    "\n",
    "print(names(x))"
   ]
  },
  {
   "cell_type": "markdown",
   "id": "60886d00",
   "metadata": {},
   "source": [
    "2) using lambda and filter for the same question"
   ]
  },
  {
   "cell_type": "code",
   "execution_count": 57,
   "id": "4df89ea3",
   "metadata": {},
   "outputs": [
    {
     "data": {
      "text/plain": [
       "['samwise', 'Boronni', 'legolas']"
      ]
     },
     "execution_count": 57,
     "metadata": {},
     "output_type": "execute_result"
    }
   ],
   "source": [
    "fellowship = [\"freddo\",\"samwise\",\"mercy\",\"pippin\",\"Aragon\",\n",
    "              \"Boronni\",\"legolas\",\"Gandal\"]\n",
    "\n",
    "list(filter(lambda x: len(x)>6,fellowship))"
   ]
  },
  {
   "cell_type": "markdown",
   "id": "2b5d0e82",
   "metadata": {},
   "source": [
    "#3) use comprehension list to get this"
   ]
  },
  {
   "cell_type": "code",
   "execution_count": 73,
   "id": "3a18ab58",
   "metadata": {},
   "outputs": [],
   "source": [
    "fellowship = [\"freddo\",\"samwise\",\"mercy\",\"pippin\",\"Aragon\",\n",
    "              \"Boronni\",\"legolas\",\"Gandal\"]\n",
    "\n",
    "\n",
    "\n",
    "names = (x for x in fellowship if len(x)>6)"
   ]
  },
  {
   "cell_type": "code",
   "execution_count": 76,
   "id": "5a20b437",
   "metadata": {},
   "outputs": [
    {
     "name": "stdout",
     "output_type": "stream",
     "text": [
      "['samwise', 'Boronni', 'legolas']\n"
     ]
    }
   ],
   "source": [
    "print(list(names))"
   ]
  },
  {
   "cell_type": "markdown",
   "id": "b7539da8",
   "metadata": {},
   "source": [
    "4)write a program in python for the school library in which a fine is placed on every book returned late. for the first3 days the fine is N100, for the 4-10 days fine is N200 and above 10 days fine is N500. if the user reurns the book after 30 days,his/her membership will be canceelled. write a programto accept the number of days the member is late to return the book and display the fine of the appropriate message."
   ]
  },
  {
   "cell_type": "code",
   "execution_count": 26,
   "id": "902014d8",
   "metadata": {},
   "outputs": [
    {
     "ename": "TypeError",
     "evalue": "'<=' not supported between instances of 'tuple' and 'int'",
     "output_type": "error",
     "traceback": [
      "\u001b[0;31m---------------------------------------------------------------------------\u001b[0m",
      "\u001b[0;31mTypeError\u001b[0m                                 Traceback (most recent call last)",
      "Input \u001b[0;32mIn [26]\u001b[0m, in \u001b[0;36m<cell line: 4>\u001b[0;34m()\u001b[0m\n\u001b[1;32m      1\u001b[0m fine \u001b[38;5;241m=\u001b[39m [\u001b[38;5;124m'\u001b[39m\u001b[38;5;124mN100\u001b[39m\u001b[38;5;124m'\u001b[39m,\u001b[38;5;124m\"\u001b[39m\u001b[38;5;124mN200\u001b[39m\u001b[38;5;124m\"\u001b[39m,\u001b[38;5;124m\"\u001b[39m\u001b[38;5;124m500\u001b[39m\u001b[38;5;124m\"\u001b[39m]\n\u001b[1;32m      2\u001b[0m i\u001b[38;5;241m=\u001b[39m [\u001b[38;5;241m1\u001b[39m,\u001b[38;5;241m4\u001b[39m],[\u001b[38;5;241m4\u001b[39m,\u001b[38;5;241m11\u001b[39m],[\u001b[38;5;241m11\u001b[39m,\u001b[38;5;241m29\u001b[39m],[\u001b[38;5;241m30\u001b[39m]\n\u001b[0;32m----> 4\u001b[0m \u001b[38;5;28;01mif\u001b[39;00m \u001b[43mi\u001b[49m\u001b[43m \u001b[49m\u001b[38;5;241;43m<\u001b[39;49m\u001b[38;5;241;43m=\u001b[39;49m\u001b[38;5;241;43m4\u001b[39;49m:\n\u001b[1;32m      5\u001b[0m         \u001b[38;5;28mprint\u001b[39m(\u001b[38;5;124m\"\u001b[39m\u001b[38;5;124mreturned late\u001b[39m\u001b[38;5;124m\"\u001b[39m)\n\u001b[1;32m      7\u001b[0m \u001b[38;5;28;01melif\u001b[39;00m i\u001b[38;5;241m<\u001b[39m\u001b[38;5;241m=\u001b[39m\u001b[38;5;241m10\u001b[39m:\n",
      "\u001b[0;31mTypeError\u001b[0m: '<=' not supported between instances of 'tuple' and 'int'"
     ]
    }
   ],
   "source": [
    "fine = ['N100',\"N200\",\"500\"]\n",
    "days= [1,4],[4,11],[11,29],[30]\n",
    "\n",
    "for i in days:\n",
    "    if i <=4:\n",
    "        print(\"returned late\")\n",
    "        \n",
    "elif i<=10:\n",
    "    print(\"returned late\")\n",
    "    \n",
    "elif i<=29:\n",
    "    print(\"returned late\")\n",
    "        \n",
    "else:\n",
    "    if i >=30:\n",
    "        print(\"membership cancelled\")\n",
    "        \n",
    "\n",
    "            \n",
    "            \n",
    "        \n",
    "\n"
   ]
  },
  {
   "cell_type": "code",
   "execution_count": null,
   "id": "c3bc26b4",
   "metadata": {},
   "outputs": [],
   "source": []
  }
 ],
 "metadata": {
  "kernelspec": {
   "display_name": "Python 3 (ipykernel)",
   "language": "python",
   "name": "python3"
  },
  "language_info": {
   "codemirror_mode": {
    "name": "ipython",
    "version": 3
   },
   "file_extension": ".py",
   "mimetype": "text/x-python",
   "name": "python",
   "nbconvert_exporter": "python",
   "pygments_lexer": "ipython3",
   "version": "3.9.12"
  }
 },
 "nbformat": 4,
 "nbformat_minor": 5
}
