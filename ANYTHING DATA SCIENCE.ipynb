{
 "cells": [
  {
   "cell_type": "code",
   "execution_count": 1,
   "id": "39fe0e2d",
   "metadata": {},
   "outputs": [],
   "source": [
    "abc = 1"
   ]
  },
  {
   "cell_type": "code",
   "execution_count": 2,
   "id": "7d350802",
   "metadata": {},
   "outputs": [],
   "source": [
    "abc,m,k =[1,2,3]"
   ]
  },
  {
   "cell_type": "code",
   "execution_count": 3,
   "id": "80779e52",
   "metadata": {},
   "outputs": [],
   "source": [
    "nums=[1,2,3,4]"
   ]
  },
  {
   "cell_type": "code",
   "execution_count": 4,
   "id": "d9d59945",
   "metadata": {},
   "outputs": [
    {
     "data": {
      "text/plain": [
       "[1, 4, 7, 12]"
      ]
     },
     "execution_count": 4,
     "metadata": {},
     "output_type": "execute_result"
    }
   ],
   "source": [
    "nums = [1,2,3,6]\n",
    "nums_new = []\n",
    "\n",
    "for i in range (len(nums)):\n",
    "    num = nums[i]+ i * 2\n",
    "    nums_new.append(num)\n",
    "    \n",
    "nums_new"
   ]
  },
  {
   "cell_type": "code",
   "execution_count": 5,
   "id": "f1e57200",
   "metadata": {},
   "outputs": [],
   "source": [
    "my_tuple = (\"python\",\"cobra\")\n"
   ]
  },
  {
   "cell_type": "code",
   "execution_count": 6,
   "id": "c9d35d4c",
   "metadata": {},
   "outputs": [],
   "source": [
    "my_name=(\"boa\",\"anaconda\")\n",
    "\n"
   ]
  },
  {
   "cell_type": "code",
   "execution_count": 7,
   "id": "96ab1601",
   "metadata": {},
   "outputs": [
    {
     "name": "stdout",
     "output_type": "stream",
     "text": [
      "('python', 'cobra', 'boa', 'anaconda')\n"
     ]
    }
   ],
   "source": [
    "names=my_tuple+my_name\n",
    "print(names)"
   ]
  },
  {
   "cell_type": "code",
   "execution_count": null,
   "id": "0cafa2f3",
   "metadata": {},
   "outputs": [],
   "source": []
  }
 ],
 "metadata": {
  "kernelspec": {
   "display_name": "Python 3 (ipykernel)",
   "language": "python",
   "name": "python3"
  },
  "language_info": {
   "codemirror_mode": {
    "name": "ipython",
    "version": 3
   },
   "file_extension": ".py",
   "mimetype": "text/x-python",
   "name": "python",
   "nbconvert_exporter": "python",
   "pygments_lexer": "ipython3",
   "version": "3.9.12"
  }
 },
 "nbformat": 4,
 "nbformat_minor": 5
}
