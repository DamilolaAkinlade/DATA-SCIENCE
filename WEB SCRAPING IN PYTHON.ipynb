{
 "cells": [
  {
   "cell_type": "markdown",
   "id": "06f776e7",
   "metadata": {},
   "source": [
    "The web scrapping will be done from [New York Best Sellers](https://www.mytimes.com/best.sellers) website"
   ]
  },
  {
   "cell_type": "code",
   "execution_count": 4,
   "id": "db318edc",
   "metadata": {},
   "outputs": [],
   "source": [
    "from bs4 import BeautifulSoup"
   ]
  },
  {
   "cell_type": "code",
   "execution_count": null,
   "id": "0d41cad0",
   "metadata": {},
   "outputs": [
    {
     "ename": "",
     "evalue": "",
     "output_type": "error",
     "traceback": [
      "\u001b[1;31mJupyter cannot be started. Error attempting to locate jupyter: Running cells with 'Python 3.10.6 64-bit' requires notebook and jupyter package.\n",
      "Run the following command to install 'jupyter and notebook' into the Python environment. \n",
      "Command: 'python -m pip install jupyter notebook -U\n",
      "or\n",
      "conda install jupyter notebook -U'\n",
      "Click <a href='https://aka.ms/installJupyterForVSCode'>here</a> for more info."
     ]
    }
   ],
   "source": [
    "with open('manual2.html','r',encoding='utf-8') as file:\n",
    "    page = file.read()"
   ]
  },
  {
   "cell_type": "code",
   "execution_count": 3,
   "id": "852f85d8",
   "metadata": {},
   "outputs": [],
   "source": [
    "soup = BeautifulSoup(page,'lxml')"
   ]
  },
  {
   "cell_type": "code",
   "execution_count": 19,
   "id": "57a93289",
   "metadata": {},
   "outputs": [],
   "source": [
    "articles = soup.select('article')#<....select individual tags with css selector.\n",
    "#selecting each\n",
    "#article tags in html"
   ]
  },
  {
   "cell_type": "code",
   "execution_count": 20,
   "id": "0b4c7715",
   "metadata": {},
   "outputs": [
    {
     "data": {
      "text/plain": [
       "<article class=\"css-1u6k25n\" itemprop=\"itemListElement\" itemscope=\"\" itemtype=\"https://schema.org/Book\"><div class=\"css-xe4cfy\"><a><p class=\"css-1o26r9v\">15<!-- --> weeks on the list</p><h3 class=\"css-5pe77f\" itemprop=\"name\">FINDING ME</h3><p class=\"css-hjukut\" itemprop=\"author\">by Viola Davis</p><p class=\"css-heg334\" itemprop=\"publisher\">HarperOne</p><p class=\"css-14lubdp\" itemprop=\"description\">The multiple award-winning actress describes the difficulties she encountered before claiming her sense of self and achieving professional success.</p></a><div class=\"css-1cpfh5o\"><div class=\"css-fugswm\"><div class=\"css-79elbk\"><button aria-expanded=\"false\" aria-haspopup=\"true\" class=\"css-80zux2\" type=\"button\">Buy<span aria-hidden=\"true\"> ▾</span></button><ul aria-label=\"Links to Book Retailers\" class=\"css-8dud8s\" hidden=\"\"><li><a class=\"css-114t425\" href=\"https://www.amazon.com/dp/0063037327?tag=NYTBSREV-20\" rel=\"noopener noreferrer\" target=\"_blank\">Amazon</a></li><li><a class=\"css-114t425\" href=\"https://goto.applebooks.apple/9780063037328?at=10lIEQ\" rel=\"noopener noreferrer\" target=\"_blank\">Apple Books</a></li><li><a class=\"css-114t425\" href=\"https://www.anrdoezrs.net/click-7990613-11819508?url=https%3A%2F%2Fwww.barnesandnoble.com%2Fw%2F%3Fean%3D9780063037328\" rel=\"noopener noreferrer\" target=\"_blank\">Barnes and Noble</a></li><li><a class=\"css-114t425\" href=\"https://du-gae-books-dot-nyt-du-prd.appspot.com/redirect?url1=https%3A%2F%2Fwww.anrdoezrs.net%2Fclick-7990613-35140%3Furl%3Dhttps%253A%252F%252Fwww.booksamillion.com%252Fp%252FFINDING%252BME%252FViola%252BDavis%252F9780063037328&amp;url2=https%3A%2F%2Fwww.anrdoezrs.net%2Fclick-7990613-35140%3Furl%3Dhttps%253A%252F%252Fwww.booksamillion.com%252Fsearch%253Fquery%253DFINDING%252BME%252BViola%252BDavis\" rel=\"noopener noreferrer\" target=\"_blank\">Books-A-Million</a></li><li><a class=\"css-114t425\" href=\"https://du-gae-books-dot-nyt-du-prd.appspot.com/redirect?url1=https%3A%2F%2Fbookshop.org%2Fa%2F3546%2F9780063037328&amp;url2=https%3A%2F%2Fbookshop.org%2Fbooks%3Faffiliate%3D3546%26keywords%3DFINDING%2BME\" rel=\"noopener noreferrer\" target=\"_blank\">Bookshop</a></li><li><a class=\"css-114t425\" href=\"https://du-gae-books-dot-nyt-du-prd.appspot.com/redirect?url1=https%3A%2F%2Fwww.indiebound.org%2Fbook%2F9780063037328%3Faff%3DNYT&amp;url2=https%3A%2F%2Fwww.indiebound.org%2Fsearch%2Fbook%3Fkeys%3DFINDING%2BME%2BViola%2BDavis%26aff%3DNYT\" rel=\"noopener noreferrer\" target=\"_blank\">IndieBound</a></li></ul></div></div></div></div><footer class=\"css-1d36f7m\"><div class=\"css-szqx50\"><a><img alt=\"FINDING ME by Viola Davis\" itemprop=\"image\" role=\"presentation\" src=\"https://storage.googleapis.com/du-prd/books/images/9780063037328.jpg\"/></a></div></footer><meta content=\"0063037327\" itemprop=\"isbn\"/><meta content=\"9780063037328\" itemprop=\"isbn\"/><meta content=\"1\" itemprop=\"position\"/><meta content=\"https://www.nytimes.com/books/best-sellers/2022/08/21/hardcover-nonfiction#QmVzdFNlbGxlckJvb2s6MDA2MzAzNzMyNy05NzgwMDYzMDM3MzI4\" itemprop=\"url\"/></article>"
      ]
     },
     "execution_count": 20,
     "metadata": {},
     "output_type": "execute_result"
    }
   ],
   "source": [
    "articles[0]#<...select first article tag from the available 15 article tags"
   ]
  },
  {
   "cell_type": "code",
   "execution_count": 25,
   "id": "0df31adb",
   "metadata": {},
   "outputs": [
    {
     "data": {
      "text/plain": [
       "[<h3 class=\"css-5pe77f\" itemprop=\"name\">FINDING ME</h3>,\n",
       " <h3 class=\"css-5pe77f\" itemprop=\"name\">CRYING IN H MART</h3>,\n",
       " <h3 class=\"css-5pe77f\" itemprop=\"name\">GREENLIGHTS</h3>,\n",
       " <h3 class=\"css-5pe77f\" itemprop=\"name\">WHAT HAPPENED TO YOU?</h3>,\n",
       " <h3 class=\"css-5pe77f\" itemprop=\"name\">THE BIG LIE</h3>,\n",
       " <h3 class=\"css-5pe77f\" itemprop=\"name\">BATTLE FOR THE AMERICAN MIND</h3>,\n",
       " <h3 class=\"css-5pe77f\" itemprop=\"name\">THINK AGAIN</h3>,\n",
       " <h3 class=\"css-5pe77f\" itemprop=\"name\">UNTAMED</h3>,\n",
       " <h3 class=\"css-5pe77f\" itemprop=\"name\">KILLING THE KILLERS</h3>,\n",
       " <h3 class=\"css-5pe77f\" itemprop=\"name\">HAPPY-GO-LUCKY</h3>,\n",
       " <h3 class=\"css-5pe77f\" itemprop=\"name\">FROM STRENGTH TO STRENGTH</h3>,\n",
       " <h3 class=\"css-5pe77f\" itemprop=\"name\">THE STORYTELLER</h3>,\n",
       " <h3 class=\"css-5pe77f\" itemprop=\"name\">LEADERSHIP</h3>,\n",
       " <h3 class=\"css-5pe77f\" itemprop=\"name\">RIVER OF THE GODS</h3>,\n",
       " <h3 class=\"css-5pe77f\" itemprop=\"name\">AN IMMENSE WORLD</h3>]"
      ]
     },
     "execution_count": 25,
     "metadata": {},
     "output_type": "execute_result"
    }
   ],
   "source": [
    "soup.select('article h3')#<...select only the h3 tags inside the article tag\n"
   ]
  },
  {
   "cell_type": "code",
   "execution_count": 30,
   "id": "9ff3231f",
   "metadata": {},
   "outputs": [
    {
     "data": {
      "text/plain": [
       "[<h3 class=\"css-5pe77f\" itemprop=\"name\">FINDING ME</h3>,\n",
       " <h3 class=\"css-5pe77f\" itemprop=\"name\">CRYING IN H MART</h3>,\n",
       " <h3 class=\"css-5pe77f\" itemprop=\"name\">GREENLIGHTS</h3>,\n",
       " <h3 class=\"css-5pe77f\" itemprop=\"name\">WHAT HAPPENED TO YOU?</h3>,\n",
       " <h3 class=\"css-5pe77f\" itemprop=\"name\">THE BIG LIE</h3>,\n",
       " <h3 class=\"css-5pe77f\" itemprop=\"name\">BATTLE FOR THE AMERICAN MIND</h3>,\n",
       " <h3 class=\"css-5pe77f\" itemprop=\"name\">THINK AGAIN</h3>,\n",
       " <h3 class=\"css-5pe77f\" itemprop=\"name\">UNTAMED</h3>,\n",
       " <h3 class=\"css-5pe77f\" itemprop=\"name\">KILLING THE KILLERS</h3>,\n",
       " <h3 class=\"css-5pe77f\" itemprop=\"name\">HAPPY-GO-LUCKY</h3>,\n",
       " <h3 class=\"css-5pe77f\" itemprop=\"name\">FROM STRENGTH TO STRENGTH</h3>,\n",
       " <h3 class=\"css-5pe77f\" itemprop=\"name\">THE STORYTELLER</h3>,\n",
       " <h3 class=\"css-5pe77f\" itemprop=\"name\">LEADERSHIP</h3>,\n",
       " <h3 class=\"css-5pe77f\" itemprop=\"name\">RIVER OF THE GODS</h3>,\n",
       " <h3 class=\"css-5pe77f\" itemprop=\"name\">AN IMMENSE WORLD</h3>]"
      ]
     },
     "execution_count": 30,
     "metadata": {},
     "output_type": "execute_result"
    }
   ],
   "source": [
    "soup.select('article h3[itemprop =\"name\"]')"
   ]
  },
  {
   "cell_type": "code",
   "execution_count": 31,
   "id": "82cc9cf9",
   "metadata": {},
   "outputs": [
    {
     "data": {
      "text/plain": [
       "bs4.element.ResultSet"
      ]
     },
     "execution_count": 31,
     "metadata": {},
     "output_type": "execute_result"
    }
   ],
   "source": [
    "result = soup.select('article h3[itemprop = \"name\"]')\n",
    "type(result)"
   ]
  },
  {
   "cell_type": "code",
   "execution_count": 32,
   "id": "9a57a417",
   "metadata": {},
   "outputs": [
    {
     "data": {
      "text/plain": [
       "<h3 class=\"css-5pe77f\" itemprop=\"name\">FINDING ME</h3>"
      ]
     },
     "execution_count": 32,
     "metadata": {},
     "output_type": "execute_result"
    }
   ],
   "source": [
    "result[0]#<.. this returns the html and the book tiltle; but we are only interested in the book\n",
    "#< title"
   ]
  },
  {
   "cell_type": "code",
   "execution_count": 33,
   "id": "a75b14e9",
   "metadata": {},
   "outputs": [
    {
     "data": {
      "text/plain": [
       "'FINDING ME'"
      ]
     },
     "execution_count": 33,
     "metadata": {},
     "output_type": "execute_result"
    }
   ],
   "source": [
    "result[0].text #<... get the the book title of the first book in the list"
   ]
  },
  {
   "cell_type": "code",
   "execution_count": 34,
   "id": "0c350f13",
   "metadata": {},
   "outputs": [
    {
     "data": {
      "text/plain": [
       "['FINDING ME',\n",
       " 'CRYING IN H MART',\n",
       " 'GREENLIGHTS',\n",
       " 'WHAT HAPPENED TO YOU?',\n",
       " 'THE BIG LIE',\n",
       " 'BATTLE FOR THE AMERICAN MIND',\n",
       " 'THINK AGAIN',\n",
       " 'UNTAMED',\n",
       " 'KILLING THE KILLERS',\n",
       " 'HAPPY-GO-LUCKY',\n",
       " 'FROM STRENGTH TO STRENGTH',\n",
       " 'THE STORYTELLER',\n",
       " 'LEADERSHIP',\n",
       " 'RIVER OF THE GODS',\n",
       " 'AN IMMENSE WORLD']"
      ]
     },
     "execution_count": 34,
     "metadata": {},
     "output_type": "execute_result"
    }
   ],
   "source": [
    "titles = [r .text for r in result]#<... the book titles in the list\n",
    "titles"
   ]
  },
  {
   "cell_type": "code",
   "execution_count": 74,
   "id": "719fe219",
   "metadata": {},
   "outputs": [
    {
     "data": {
      "text/plain": [
       "[<p class=\"css-hjukut\" itemprop=\"author\">by Viola Davis</p>,\n",
       " <p class=\"css-hjukut\" itemprop=\"author\">by Michelle Zauner</p>,\n",
       " <p class=\"css-hjukut\" itemprop=\"author\">by Matthew McConaughey</p>,\n",
       " <p class=\"css-hjukut\" itemprop=\"author\">by Bruce D. Perry and Oprah Winfrey</p>,\n",
       " <p class=\"css-hjukut\" itemprop=\"author\">by Jonathan Lemire</p>,\n",
       " <p class=\"css-hjukut\" itemprop=\"author\">by Pete Hegseth with David Goodwin</p>,\n",
       " <p class=\"css-hjukut\" itemprop=\"author\">by Adam Grant</p>,\n",
       " <p class=\"css-hjukut\" itemprop=\"author\">by Glennon Doyle</p>,\n",
       " <p class=\"css-hjukut\" itemprop=\"author\">by Bill O'Reilly and Martin Dugard</p>,\n",
       " <p class=\"css-hjukut\" itemprop=\"author\">by David Sedaris</p>,\n",
       " <p class=\"css-hjukut\" itemprop=\"author\">by Arthur C. Brooks</p>,\n",
       " <p class=\"css-hjukut\" itemprop=\"author\">by Dave Grohl</p>,\n",
       " <p class=\"css-hjukut\" itemprop=\"author\">by Henry Kissinger</p>,\n",
       " <p class=\"css-hjukut\" itemprop=\"author\">by Candice Millard</p>,\n",
       " <p class=\"css-hjukut\" itemprop=\"author\">by Ed Yong</p>]"
      ]
     },
     "execution_count": 74,
     "metadata": {},
     "output_type": "execute_result"
    }
   ],
   "source": [
    "soup.select('article p[itemprop = \"author\"]')\n"
   ]
  },
  {
   "cell_type": "code",
   "execution_count": 75,
   "id": "05ae0111",
   "metadata": {},
   "outputs": [],
   "source": [
    "result = soup.select('article p[itemprop = \"author\"]')\n"
   ]
  },
  {
   "cell_type": "code",
   "execution_count": 76,
   "id": "c7eaf668",
   "metadata": {},
   "outputs": [
    {
     "data": {
      "text/plain": [
       "['by Viola Davis',\n",
       " 'by Michelle Zauner',\n",
       " 'by Matthew McConaughey',\n",
       " 'by Bruce D. Perry and Oprah Winfrey',\n",
       " 'by Jonathan Lemire',\n",
       " 'by Pete Hegseth with David Goodwin',\n",
       " 'by Adam Grant',\n",
       " 'by Glennon Doyle',\n",
       " \"by Bill O'Reilly and Martin Dugard\",\n",
       " 'by David Sedaris',\n",
       " 'by Arthur C. Brooks',\n",
       " 'by Dave Grohl',\n",
       " 'by Henry Kissinger',\n",
       " 'by Candice Millard',\n",
       " 'by Ed Yong']"
      ]
     },
     "execution_count": 76,
     "metadata": {},
     "output_type": "execute_result"
    }
   ],
   "source": [
    "author =[r.text for r in result ]\n",
    "author"
   ]
  },
  {
   "cell_type": "code",
   "execution_count": 77,
   "id": "61bb5b53",
   "metadata": {},
   "outputs": [
    {
     "data": {
      "text/plain": [
       "[' Viola Davis',\n",
       " ' Michelle Zauner',\n",
       " ' Matthew McConaughe',\n",
       " ' Bruce D. Perry and Oprah Winfre',\n",
       " ' Jonathan Lemire',\n",
       " ' Pete Hegseth with David Goodwin',\n",
       " ' Adam Grant',\n",
       " ' Glennon Doyle',\n",
       " \" Bill O'Reilly and Martin Dugard\",\n",
       " ' David Sedaris',\n",
       " ' Arthur C. Brooks',\n",
       " ' Dave Grohl',\n",
       " ' Henry Kissinger',\n",
       " ' Candice Millard',\n",
       " ' Ed Yong']"
      ]
     },
     "execution_count": 77,
     "metadata": {},
     "output_type": "execute_result"
    }
   ],
   "source": [
    "author =[r.text.strip('by')for r in result]\n",
    "author"
   ]
  },
  {
   "cell_type": "code",
   "execution_count": 62,
   "id": "40e4cdf8",
   "metadata": {},
   "outputs": [
    {
     "data": {
      "text/plain": [
       "[<img alt=\"FINDING ME by Viola Davis\" itemprop=\"image\" role=\"presentation\" src=\"https://storage.googleapis.com/du-prd/books/images/9780063037328.jpg\"/>,\n",
       " <img alt=\"CRYING IN H MART by Michelle Zauner\" itemprop=\"image\" role=\"presentation\" src=\"https://storage.googleapis.com/du-prd/books/images/9780525657743.jpg\"/>,\n",
       " <img alt=\"GREENLIGHTS by Matthew McConaughey\" itemprop=\"image\" role=\"presentation\" src=\"https://storage.googleapis.com/du-prd/books/images/9780593139134.jpg\"/>,\n",
       " <img alt=\"WHAT HAPPENED TO YOU? by Bruce D. Perry and Oprah Winfrey\" itemprop=\"image\" role=\"presentation\" src=\"https://storage.googleapis.com/du-prd/books/images/9781250223180.jpg\"/>,\n",
       " <img alt=\"THE BIG LIE by Jonathan Lemire\" itemprop=\"image\" role=\"presentation\" src=\"https://storage.googleapis.com/du-prd/books/images/9781250819628.jpg\"/>,\n",
       " <img alt=\"BATTLE FOR THE AMERICAN MIND by Pete Hegseth with David Goodwin\" itemprop=\"image\" role=\"presentation\" src=\"https://storage.googleapis.com/du-prd/books/images/9780063215047.jpg\"/>,\n",
       " <img alt=\"THINK AGAIN by Adam Grant\" itemprop=\"image\" role=\"presentation\" src=\"https://storage.googleapis.com/du-prd/books/images/9781984878106.jpg\"/>,\n",
       " <img alt=\"UNTAMED by Glennon Doyle\" itemprop=\"image\" role=\"presentation\" src=\"https://storage.googleapis.com/du-prd/books/images/9781984801258.jpg\"/>,\n",
       " <img alt=\"KILLING THE KILLERS by Bill O'Reilly and Martin Dugard\" itemprop=\"image\" role=\"presentation\" src=\"https://storage.googleapis.com/du-prd/books/images/9781250279255.jpg\"/>,\n",
       " <img alt=\"HAPPY-GO-LUCKY by David Sedaris\" itemprop=\"image\" role=\"presentation\" src=\"https://storage.googleapis.com/du-prd/books/images/9780316392457.jpg\"/>,\n",
       " <img alt=\"FROM STRENGTH TO STRENGTH by Arthur C. Brooks\" itemprop=\"image\" role=\"presentation\" src=\"https://storage.googleapis.com/du-prd/books/images/9780593191484.jpg\"/>,\n",
       " <img alt=\"THE STORYTELLER by Dave Grohl\" itemprop=\"image\" role=\"presentation\" src=\"https://storage.googleapis.com/du-prd/books/images/9780063076099.jpg\"/>,\n",
       " <img alt=\"LEADERSHIP by Henry Kissinger\" itemprop=\"image\" role=\"presentation\" src=\"https://storage.googleapis.com/du-prd/books/images/9780593489444.jpg\"/>,\n",
       " <img alt=\"RIVER OF THE GODS by Candice Millard\" itemprop=\"image\" role=\"presentation\" src=\"https://storage.googleapis.com/du-prd/books/images/9780385543101.jpg\"/>,\n",
       " <img alt=\"AN IMMENSE WORLD by Ed Yong\" itemprop=\"image\" role=\"presentation\" src=\"https://storage.googleapis.com/du-prd/books/images/9780593133231.jpg\"/>]"
      ]
     },
     "execution_count": 62,
     "metadata": {},
     "output_type": "execute_result"
    }
   ],
   "source": [
    "soup.select('article img[itemprop = \"image\"]') #< selecting the book covers"
   ]
  },
  {
   "cell_type": "code",
   "execution_count": 78,
   "id": "3d382350",
   "metadata": {},
   "outputs": [
    {
     "data": {
      "text/plain": [
       "<img alt=\"FINDING ME by Viola Davis\" itemprop=\"image\" role=\"presentation\" src=\"https://storage.googleapis.com/du-prd/books/images/9780063037328.jpg\"/>"
      ]
     },
     "execution_count": 78,
     "metadata": {},
     "output_type": "execute_result"
    }
   ],
   "source": [
    "result = soup.select('article img[itemprop= \"image\"]')\n",
    "result[0]"
   ]
  },
  {
   "cell_type": "code",
   "execution_count": 79,
   "id": "4edd76e8",
   "metadata": {},
   "outputs": [
    {
     "data": {
      "text/plain": [
       "['https://storage.googleapis.com/du-prd/books/images/9780063037328.jpg',\n",
       " 'https://storage.googleapis.com/du-prd/books/images/9780525657743.jpg',\n",
       " 'https://storage.googleapis.com/du-prd/books/images/9780593139134.jpg',\n",
       " 'https://storage.googleapis.com/du-prd/books/images/9781250223180.jpg',\n",
       " 'https://storage.googleapis.com/du-prd/books/images/9781250819628.jpg',\n",
       " 'https://storage.googleapis.com/du-prd/books/images/9780063215047.jpg',\n",
       " 'https://storage.googleapis.com/du-prd/books/images/9781984878106.jpg',\n",
       " 'https://storage.googleapis.com/du-prd/books/images/9781984801258.jpg',\n",
       " 'https://storage.googleapis.com/du-prd/books/images/9781250279255.jpg',\n",
       " 'https://storage.googleapis.com/du-prd/books/images/9780316392457.jpg',\n",
       " 'https://storage.googleapis.com/du-prd/books/images/9780593191484.jpg',\n",
       " 'https://storage.googleapis.com/du-prd/books/images/9780063076099.jpg',\n",
       " 'https://storage.googleapis.com/du-prd/books/images/9780593489444.jpg',\n",
       " 'https://storage.googleapis.com/du-prd/books/images/9780385543101.jpg',\n",
       " 'https://storage.googleapis.com/du-prd/books/images/9780593133231.jpg']"
      ]
     },
     "execution_count": 79,
     "metadata": {},
     "output_type": "execute_result"
    }
   ],
   "source": [
    "result = soup.select('article img[itemprop = \"image\"]')\n",
    "images = [r[\"src\"] for r in result]\n",
    "images"
   ]
  },
  {
   "cell_type": "code",
   "execution_count": 80,
   "id": "2aa376be",
   "metadata": {},
   "outputs": [
    {
     "data": {
      "text/plain": [
       "['https://storage.googleapis.com/du-prd/books/images/9780063037328.jpg',\n",
       " 'https://storage.googleapis.com/du-prd/books/images/9780525657743.jpg',\n",
       " 'https://storage.googleapis.com/du-prd/books/images/9780593139134.jpg',\n",
       " 'https://storage.googleapis.com/du-prd/books/images/9781250223180.jpg',\n",
       " 'https://storage.googleapis.com/du-prd/books/images/9781250819628.jpg',\n",
       " 'https://storage.googleapis.com/du-prd/books/images/9780063215047.jpg',\n",
       " 'https://storage.googleapis.com/du-prd/books/images/9781984878106.jpg',\n",
       " 'https://storage.googleapis.com/du-prd/books/images/9781984801258.jpg',\n",
       " 'https://storage.googleapis.com/du-prd/books/images/9781250279255.jpg',\n",
       " 'https://storage.googleapis.com/du-prd/books/images/9780316392457.jpg',\n",
       " 'https://storage.googleapis.com/du-prd/books/images/9780593191484.jpg',\n",
       " 'https://storage.googleapis.com/du-prd/books/images/9780063076099.jpg',\n",
       " 'https://storage.googleapis.com/du-prd/books/images/9780593489444.jpg',\n",
       " 'https://storage.googleapis.com/du-prd/books/images/9780385543101.jpg',\n",
       " 'https://storage.googleapis.com/du-prd/books/images/9780593133231.jpg']"
      ]
     },
     "execution_count": 80,
     "metadata": {},
     "output_type": "execute_result"
    }
   ],
   "source": [
    "result = soup.select('article img[itemprop = \"image\"]')\n",
    "images = [r.get(\"src\") for r in result]\n",
    "images"
   ]
  },
  {
   "cell_type": "markdown",
   "id": "c743159e",
   "metadata": {},
   "source": [
    "## combining the three lists together"
   ]
  },
  {
   "cell_type": "code",
   "execution_count": 68,
   "id": "40cde4e3",
   "metadata": {},
   "outputs": [],
   "source": [
    "book_info = list (zip(titles,author,images))#< combining the three list together(Book,Titles\n",
    "#Authors,Images)"
   ]
  },
  {
   "cell_type": "code",
   "execution_count": 81,
   "id": "fd8e501b",
   "metadata": {},
   "outputs": [
    {
     "data": {
      "text/plain": [
       "[('FINDING ME',\n",
       "  ' Viola Davis',\n",
       "  'https://storage.googleapis.com/du-prd/books/images/9780063037328.jpg'),\n",
       " ('CRYING IN H MART',\n",
       "  ' Michelle Zauner',\n",
       "  'https://storage.googleapis.com/du-prd/books/images/9780525657743.jpg'),\n",
       " ('GREENLIGHTS',\n",
       "  ' Matthew McConaughe',\n",
       "  'https://storage.googleapis.com/du-prd/books/images/9780593139134.jpg'),\n",
       " ('WHAT HAPPENED TO YOU?',\n",
       "  ' Bruce D. Perry and Oprah Winfre',\n",
       "  'https://storage.googleapis.com/du-prd/books/images/9781250223180.jpg'),\n",
       " ('THE BIG LIE',\n",
       "  ' Jonathan Lemire',\n",
       "  'https://storage.googleapis.com/du-prd/books/images/9781250819628.jpg'),\n",
       " ('BATTLE FOR THE AMERICAN MIND',\n",
       "  ' Pete Hegseth with David Goodwin',\n",
       "  'https://storage.googleapis.com/du-prd/books/images/9780063215047.jpg'),\n",
       " ('THINK AGAIN',\n",
       "  ' Adam Grant',\n",
       "  'https://storage.googleapis.com/du-prd/books/images/9781984878106.jpg'),\n",
       " ('UNTAMED',\n",
       "  ' Glennon Doyle',\n",
       "  'https://storage.googleapis.com/du-prd/books/images/9781984801258.jpg'),\n",
       " ('KILLING THE KILLERS',\n",
       "  \" Bill O'Reilly and Martin Dugard\",\n",
       "  'https://storage.googleapis.com/du-prd/books/images/9781250279255.jpg'),\n",
       " ('HAPPY-GO-LUCKY',\n",
       "  ' David Sedaris',\n",
       "  'https://storage.googleapis.com/du-prd/books/images/9780316392457.jpg'),\n",
       " ('FROM STRENGTH TO STRENGTH',\n",
       "  ' Arthur C. Brooks',\n",
       "  'https://storage.googleapis.com/du-prd/books/images/9780593191484.jpg'),\n",
       " ('THE STORYTELLER',\n",
       "  ' Dave Grohl',\n",
       "  'https://storage.googleapis.com/du-prd/books/images/9780063076099.jpg'),\n",
       " ('LEADERSHIP',\n",
       "  ' Henry Kissinger',\n",
       "  'https://storage.googleapis.com/du-prd/books/images/9780593489444.jpg'),\n",
       " ('RIVER OF THE GODS',\n",
       "  ' Candice Millard',\n",
       "  'https://storage.googleapis.com/du-prd/books/images/9780385543101.jpg'),\n",
       " ('AN IMMENSE WORLD',\n",
       "  ' Ed Yong',\n",
       "  'https://storage.googleapis.com/du-prd/books/images/9780593133231.jpg')]"
      ]
     },
     "execution_count": 81,
     "metadata": {},
     "output_type": "execute_result"
    }
   ],
   "source": [
    "book_info"
   ]
  },
  {
   "cell_type": "markdown",
   "id": "d64e6b03",
   "metadata": {},
   "source": [
    "## using playwright to scrape a single web page\n",
    "\n",
    "- Scraping a single page with Playwright\n",
    "- Automating & Scrapping Multiple pages"
   ]
  },
  {
   "cell_type": "markdown",
   "id": "fe2dfc04",
   "metadata": {},
   "source": [
    "import sys\n",
    "!{sys.executable} -m pip install playwright"
   ]
  },
  {
   "cell_type": "markdown",
   "id": "8fd20c25",
   "metadata": {},
   "source": [
    "this part was executed in vscode"
   ]
  },
  {
   "cell_type": "markdown",
   "id": "7372d55e",
   "metadata": {},
   "source": [
    "# loading data from web scrapping into pandas"
   ]
  },
  {
   "cell_type": "code",
   "execution_count": null,
   "id": "531b1eb5",
   "metadata": {},
   "outputs": [],
   "source": []
  }
 ],
 "metadata": {
  "kernelspec": {
   "display_name": "Python 3.10.6 64-bit",
   "language": "python",
   "name": "python3"
  },
  "language_info": {
   "codemirror_mode": {
    "name": "ipython",
    "version": 3
   },
   "file_extension": ".py",
   "mimetype": "text/x-python",
   "name": "python",
   "nbconvert_exporter": "python",
   "pygments_lexer": "ipython3",
   "version": "3.10.6"
  },
  "vscode": {
   "interpreter": {
    "hash": "aee8b7b246df8f9039afb4144a1f6fd8d2ca17a180786b69acc140d282b71a49"
   }
  }
 },
 "nbformat": 4,
 "nbformat_minor": 5
}
