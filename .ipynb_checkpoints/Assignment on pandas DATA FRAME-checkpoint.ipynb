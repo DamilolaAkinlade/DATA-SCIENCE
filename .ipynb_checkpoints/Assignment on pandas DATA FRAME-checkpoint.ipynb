{
 "cells": [
  {
   "cell_type": "raw",
   "id": "14112e74",
   "metadata": {},
   "source": [
    "Consider below Univelcity Bootcamp's information about different batches:\n",
    "Total_Candidates = {'absolute_beginners': 785, 'beginners': 825, 'intermediat_advanced': 602} \n",
    "Active_Candidates = {'absolute_beginners': 500, 'beginners': 425, 'intermediat_advanced': 300}\n",
    "Create a Pandas DataFrame using the above information (name your Dataframe as univelcity)\n",
    "Get all the columns in Univelcity.\n",
    "Get the information of total candidates present in each batch using dictionary-style indexing.\n",
    "Find the number of candidates for each batch who are not active and add this information to the dataframe univelcity.\n",
    "Also, find the percent of candidates that are active in each batch and add this information to the univelcity dataframe (hint: 𝑝𝑒𝑟𝑐𝑒𝑛𝑡=(𝑎𝑐𝑡𝑖𝑣𝑒/𝑡𝑜𝑡𝑎𝑙)∗100)\n",
    "Get all the batches where the percentage of active candidates is greater than 60%\n"
   ]
  },
  {
   "cell_type": "code",
   "execution_count": 1,
   "id": "34744575",
   "metadata": {},
   "outputs": [],
   "source": [
    "import numpy as np\n",
    "import pandas as pd"
   ]
  },
  {
   "cell_type": "code",
   "execution_count": 39,
   "id": "d8604d2f",
   "metadata": {},
   "outputs": [
    {
     "data": {
      "text/html": [
       "<div>\n",
       "<style scoped>\n",
       "    .dataframe tbody tr th:only-of-type {\n",
       "        vertical-align: middle;\n",
       "    }\n",
       "\n",
       "    .dataframe tbody tr th {\n",
       "        vertical-align: top;\n",
       "    }\n",
       "\n",
       "    .dataframe thead th {\n",
       "        text-align: right;\n",
       "    }\n",
       "</style>\n",
       "<table border=\"1\" class=\"dataframe\">\n",
       "  <thead>\n",
       "    <tr style=\"text-align: right;\">\n",
       "      <th></th>\n",
       "      <th>Total_Candidates</th>\n",
       "      <th>Active_Candidates</th>\n",
       "      <th>total_num</th>\n",
       "      <th>total_active</th>\n",
       "    </tr>\n",
       "  </thead>\n",
       "  <tbody>\n",
       "    <tr>\n",
       "      <th>0</th>\n",
       "      <td>absolute_beginners</td>\n",
       "      <td>absolute_beginners</td>\n",
       "      <td>785</td>\n",
       "      <td>500</td>\n",
       "    </tr>\n",
       "    <tr>\n",
       "      <th>1</th>\n",
       "      <td>beginners</td>\n",
       "      <td>beginners</td>\n",
       "      <td>825</td>\n",
       "      <td>425</td>\n",
       "    </tr>\n",
       "    <tr>\n",
       "      <th>2</th>\n",
       "      <td>intermediat_advanced</td>\n",
       "      <td>intermediat_advanced</td>\n",
       "      <td>602</td>\n",
       "      <td>300</td>\n",
       "    </tr>\n",
       "  </tbody>\n",
       "</table>\n",
       "</div>"
      ],
      "text/plain": [
       "       Total_Candidates     Active_Candidates  total_num  total_active\n",
       "0    absolute_beginners    absolute_beginners        785           500\n",
       "1             beginners             beginners        825           425\n",
       "2  intermediat_advanced  intermediat_advanced        602           300"
      ]
     },
     "execution_count": 39,
     "metadata": {},
     "output_type": "execute_result"
    }
   ],
   "source": [
    "univelcity = {'Total_Candidates':['absolute_beginners','beginners','intermediat_advanced'],\n",
    "              'Active_Candidates':['absolute_beginners','beginners','intermediat_advanced'],\n",
    "              'total_num': [785,825, 602],\n",
    "              'total_active':[ 500,425,300]}\n",
    "               \n",
    "df=pd.DataFrame(univelcity)\n",
    "df"
   ]
  },
  {
   "cell_type": "code",
   "execution_count": 1,
   "id": "5c141f54",
   "metadata": {},
   "outputs": [
    {
     "ename": "NameError",
     "evalue": "name 'pd' is not defined",
     "output_type": "error",
     "traceback": [
      "\u001b[0;31m---------------------------------------------------------------------------\u001b[0m",
      "\u001b[0;31mNameError\u001b[0m                                 Traceback (most recent call last)",
      "Input \u001b[0;32mIn [1]\u001b[0m, in \u001b[0;36m<cell line: 3>\u001b[0;34m()\u001b[0m\n\u001b[1;32m      1\u001b[0m \u001b[38;5;66;03m#get all columns in univelcity\u001b[39;00m\n\u001b[1;32m      2\u001b[0m univelcity \u001b[38;5;241m=\u001b[39m[[\u001b[38;5;124m'\u001b[39m\u001b[38;5;124mTotal_Candidates\u001b[39m\u001b[38;5;124m'\u001b[39m,\u001b[38;5;124m'\u001b[39m\u001b[38;5;124mActive_Candidates\u001b[39m\u001b[38;5;124m'\u001b[39m,\u001b[38;5;124m'\u001b[39m\u001b[38;5;124mtotal_num\u001b[39m\u001b[38;5;124m'\u001b[39m,\u001b[38;5;124m'\u001b[39m\u001b[38;5;124mtotal_active\u001b[39m\u001b[38;5;124m'\u001b[39m]]\n\u001b[0;32m----> 3\u001b[0m df\u001b[38;5;241m=\u001b[39m\u001b[43mpd\u001b[49m\u001b[38;5;241m.\u001b[39mDataFrame(univelcity)\n\u001b[1;32m      4\u001b[0m df\n\u001b[1;32m      6\u001b[0m univelcity\u001b[38;5;241m.\u001b[39mcolumns\n",
      "\u001b[0;31mNameError\u001b[0m: name 'pd' is not defined"
     ]
    }
   ],
   "source": [
    "#get all columns in univelcity\n",
    "univelcity =[['Total_Candidates','Active_Candidates','total_num','total_active']]\n",
    "df=pd.DataFrame(univelcity)\n",
    "df\n",
    "\n",
    "univelcity.columns"
   ]
  },
  {
   "cell_type": "code",
   "execution_count": 40,
   "id": "da1477fc",
   "metadata": {},
   "outputs": [
    {
     "data": {
      "text/html": [
       "<div>\n",
       "<style scoped>\n",
       "    .dataframe tbody tr th:only-of-type {\n",
       "        vertical-align: middle;\n",
       "    }\n",
       "\n",
       "    .dataframe tbody tr th {\n",
       "        vertical-align: top;\n",
       "    }\n",
       "\n",
       "    .dataframe thead th {\n",
       "        text-align: right;\n",
       "    }\n",
       "</style>\n",
       "<table border=\"1\" class=\"dataframe\">\n",
       "  <thead>\n",
       "    <tr style=\"text-align: right;\">\n",
       "      <th></th>\n",
       "      <th>Active_Candidates</th>\n",
       "      <th>total_num</th>\n",
       "      <th>total_active</th>\n",
       "    </tr>\n",
       "    <tr>\n",
       "      <th>Total_Candidates</th>\n",
       "      <th></th>\n",
       "      <th></th>\n",
       "      <th></th>\n",
       "    </tr>\n",
       "  </thead>\n",
       "  <tbody>\n",
       "    <tr>\n",
       "      <th>absolute_beginners</th>\n",
       "      <td>absolute_beginners</td>\n",
       "      <td>785</td>\n",
       "      <td>500</td>\n",
       "    </tr>\n",
       "    <tr>\n",
       "      <th>beginners</th>\n",
       "      <td>beginners</td>\n",
       "      <td>825</td>\n",
       "      <td>425</td>\n",
       "    </tr>\n",
       "    <tr>\n",
       "      <th>intermediat_advanced</th>\n",
       "      <td>intermediat_advanced</td>\n",
       "      <td>602</td>\n",
       "      <td>300</td>\n",
       "    </tr>\n",
       "  </tbody>\n",
       "</table>\n",
       "</div>"
      ],
      "text/plain": [
       "                         Active_Candidates  total_num  total_active\n",
       "Total_Candidates                                                   \n",
       "absolute_beginners      absolute_beginners        785           500\n",
       "beginners                        beginners        825           425\n",
       "intermediat_advanced  intermediat_advanced        602           300"
      ]
     },
     "execution_count": 40,
     "metadata": {},
     "output_type": "execute_result"
    }
   ],
   "source": [
    "# Get the information of total candidates present in each batch using dictionary-style indexing.\n",
    "df.set_index('Total_Candidates')"
   ]
  },
  {
   "cell_type": "code",
   "execution_count": 41,
   "id": "60c752ec",
   "metadata": {},
   "outputs": [],
   "source": [
    "univelcity ={'total_num': [785,825, 602],\n",
    "              'total_active':[ 500,425,300]}\n",
    "               "
   ]
  },
  {
   "cell_type": "code",
   "execution_count": 42,
   "id": "102b823b",
   "metadata": {},
   "outputs": [
    {
     "data": {
      "text/html": [
       "<div>\n",
       "<style scoped>\n",
       "    .dataframe tbody tr th:only-of-type {\n",
       "        vertical-align: middle;\n",
       "    }\n",
       "\n",
       "    .dataframe tbody tr th {\n",
       "        vertical-align: top;\n",
       "    }\n",
       "\n",
       "    .dataframe thead th {\n",
       "        text-align: right;\n",
       "    }\n",
       "</style>\n",
       "<table border=\"1\" class=\"dataframe\">\n",
       "  <thead>\n",
       "    <tr style=\"text-align: right;\">\n",
       "      <th></th>\n",
       "      <th>total_num</th>\n",
       "      <th>total_active</th>\n",
       "    </tr>\n",
       "  </thead>\n",
       "  <tbody>\n",
       "    <tr>\n",
       "      <th>0</th>\n",
       "      <td>785</td>\n",
       "      <td>500</td>\n",
       "    </tr>\n",
       "    <tr>\n",
       "      <th>1</th>\n",
       "      <td>825</td>\n",
       "      <td>425</td>\n",
       "    </tr>\n",
       "    <tr>\n",
       "      <th>2</th>\n",
       "      <td>602</td>\n",
       "      <td>300</td>\n",
       "    </tr>\n",
       "  </tbody>\n",
       "</table>\n",
       "</div>"
      ],
      "text/plain": [
       "   total_num  total_active\n",
       "0        785           500\n",
       "1        825           425\n",
       "2        602           300"
      ]
     },
     "execution_count": 42,
     "metadata": {},
     "output_type": "execute_result"
    }
   ],
   "source": [
    "df = pd.DataFrame(univelcity)\n",
    "df"
   ]
  },
  {
   "cell_type": "code",
   "execution_count": 43,
   "id": "3f6d1dcd",
   "metadata": {},
   "outputs": [
    {
     "data": {
      "text/html": [
       "<div>\n",
       "<style scoped>\n",
       "    .dataframe tbody tr th:only-of-type {\n",
       "        vertical-align: middle;\n",
       "    }\n",
       "\n",
       "    .dataframe tbody tr th {\n",
       "        vertical-align: top;\n",
       "    }\n",
       "\n",
       "    .dataframe thead th {\n",
       "        text-align: right;\n",
       "    }\n",
       "</style>\n",
       "<table border=\"1\" class=\"dataframe\">\n",
       "  <thead>\n",
       "    <tr style=\"text-align: right;\">\n",
       "      <th></th>\n",
       "      <th>total_num</th>\n",
       "      <th>total_active</th>\n",
       "      <th>total_non active</th>\n",
       "    </tr>\n",
       "  </thead>\n",
       "  <tbody>\n",
       "    <tr>\n",
       "      <th>0</th>\n",
       "      <td>785</td>\n",
       "      <td>500</td>\n",
       "      <td>285</td>\n",
       "    </tr>\n",
       "    <tr>\n",
       "      <th>1</th>\n",
       "      <td>825</td>\n",
       "      <td>425</td>\n",
       "      <td>400</td>\n",
       "    </tr>\n",
       "    <tr>\n",
       "      <th>2</th>\n",
       "      <td>602</td>\n",
       "      <td>300</td>\n",
       "      <td>302</td>\n",
       "    </tr>\n",
       "  </tbody>\n",
       "</table>\n",
       "</div>"
      ],
      "text/plain": [
       "   total_num  total_active  total_non active\n",
       "0        785           500               285\n",
       "1        825           425               400\n",
       "2        602           300               302"
      ]
     },
     "execution_count": 43,
     "metadata": {},
     "output_type": "execute_result"
    }
   ],
   "source": [
    "df['total_non active'] = df['total_num']-df['total_active']\n",
    "df"
   ]
  },
  {
   "cell_type": "code",
   "execution_count": 44,
   "id": "c593c680",
   "metadata": {},
   "outputs": [
    {
     "data": {
      "text/html": [
       "<div>\n",
       "<style scoped>\n",
       "    .dataframe tbody tr th:only-of-type {\n",
       "        vertical-align: middle;\n",
       "    }\n",
       "\n",
       "    .dataframe tbody tr th {\n",
       "        vertical-align: top;\n",
       "    }\n",
       "\n",
       "    .dataframe thead th {\n",
       "        text-align: right;\n",
       "    }\n",
       "</style>\n",
       "<table border=\"1\" class=\"dataframe\">\n",
       "  <thead>\n",
       "    <tr style=\"text-align: right;\">\n",
       "      <th></th>\n",
       "      <th>Total_Candidates</th>\n",
       "      <th>Active_Candidates</th>\n",
       "      <th>total_num</th>\n",
       "      <th>total_active</th>\n",
       "      <th>total_non active</th>\n",
       "    </tr>\n",
       "  </thead>\n",
       "  <tbody>\n",
       "    <tr>\n",
       "      <th>0</th>\n",
       "      <td>absolute_beginners</td>\n",
       "      <td>absolute_beginners</td>\n",
       "      <td>785</td>\n",
       "      <td>500</td>\n",
       "      <td>285</td>\n",
       "    </tr>\n",
       "    <tr>\n",
       "      <th>1</th>\n",
       "      <td>beginners</td>\n",
       "      <td>beginners</td>\n",
       "      <td>825</td>\n",
       "      <td>425</td>\n",
       "      <td>400</td>\n",
       "    </tr>\n",
       "    <tr>\n",
       "      <th>2</th>\n",
       "      <td>intermediat_advanced</td>\n",
       "      <td>intermediat_advanced</td>\n",
       "      <td>602</td>\n",
       "      <td>300</td>\n",
       "      <td>302</td>\n",
       "    </tr>\n",
       "  </tbody>\n",
       "</table>\n",
       "</div>"
      ],
      "text/plain": [
       "       Total_Candidates     Active_Candidates  total_num  total_active  \\\n",
       "0    absolute_beginners    absolute_beginners        785           500   \n",
       "1             beginners             beginners        825           425   \n",
       "2  intermediat_advanced  intermediat_advanced        602           300   \n",
       "\n",
       "   total_non active  \n",
       "0               285  \n",
       "1               400  \n",
       "2               302  "
      ]
     },
     "execution_count": 44,
     "metadata": {},
     "output_type": "execute_result"
    }
   ],
   "source": [
    "univelcity = {'Total_Candidates':['absolute_beginners','beginners','intermediat_advanced'],\n",
    "              'Active_Candidates':['absolute_beginners','beginners','intermediat_advanced'],\n",
    "              'total_num': [785,825, 602],\n",
    "              'total_active':[ 500,425,300],\n",
    "              'total_non active':[285,400,302]}\n",
    "\n",
    "df=pd.DataFrame(univelcity)\n",
    "df"
   ]
  },
  {
   "cell_type": "code",
   "execution_count": 45,
   "id": "0adc7af2",
   "metadata": {},
   "outputs": [
    {
     "data": {
      "text/html": [
       "<div>\n",
       "<style scoped>\n",
       "    .dataframe tbody tr th:only-of-type {\n",
       "        vertical-align: middle;\n",
       "    }\n",
       "\n",
       "    .dataframe tbody tr th {\n",
       "        vertical-align: top;\n",
       "    }\n",
       "\n",
       "    .dataframe thead th {\n",
       "        text-align: right;\n",
       "    }\n",
       "</style>\n",
       "<table border=\"1\" class=\"dataframe\">\n",
       "  <thead>\n",
       "    <tr style=\"text-align: right;\">\n",
       "      <th></th>\n",
       "      <th>Total_Candidates</th>\n",
       "      <th>Active_Candidates</th>\n",
       "      <th>total_num</th>\n",
       "      <th>total_active</th>\n",
       "      <th>total_non active</th>\n",
       "      <th>% active</th>\n",
       "    </tr>\n",
       "  </thead>\n",
       "  <tbody>\n",
       "    <tr>\n",
       "      <th>0</th>\n",
       "      <td>absolute_beginners</td>\n",
       "      <td>absolute_beginners</td>\n",
       "      <td>785</td>\n",
       "      <td>500</td>\n",
       "      <td>285</td>\n",
       "      <td>63.694268</td>\n",
       "    </tr>\n",
       "    <tr>\n",
       "      <th>1</th>\n",
       "      <td>beginners</td>\n",
       "      <td>beginners</td>\n",
       "      <td>825</td>\n",
       "      <td>425</td>\n",
       "      <td>400</td>\n",
       "      <td>51.515152</td>\n",
       "    </tr>\n",
       "    <tr>\n",
       "      <th>2</th>\n",
       "      <td>intermediat_advanced</td>\n",
       "      <td>intermediat_advanced</td>\n",
       "      <td>602</td>\n",
       "      <td>300</td>\n",
       "      <td>302</td>\n",
       "      <td>49.833887</td>\n",
       "    </tr>\n",
       "  </tbody>\n",
       "</table>\n",
       "</div>"
      ],
      "text/plain": [
       "       Total_Candidates     Active_Candidates  total_num  total_active  \\\n",
       "0    absolute_beginners    absolute_beginners        785           500   \n",
       "1             beginners             beginners        825           425   \n",
       "2  intermediat_advanced  intermediat_advanced        602           300   \n",
       "\n",
       "   total_non active   % active  \n",
       "0               285  63.694268  \n",
       "1               400  51.515152  \n",
       "2               302  49.833887  "
      ]
     },
     "execution_count": 45,
     "metadata": {},
     "output_type": "execute_result"
    }
   ],
   "source": [
    "df['% active'] = df['total_active']/df['total_num']*100\n",
    "df"
   ]
  },
  {
   "cell_type": "code",
   "execution_count": 52,
   "id": "1cc130f2",
   "metadata": {},
   "outputs": [
    {
     "data": {
      "text/plain": [
       "0     True\n",
       "1    False\n",
       "2    False\n",
       "Name: % active, dtype: bool"
      ]
     },
     "execution_count": 52,
     "metadata": {},
     "output_type": "execute_result"
    }
   ],
   "source": [
    "df['% active'] > 60\n",
    "\n"
   ]
  },
  {
   "cell_type": "code",
   "execution_count": null,
   "id": "2de215ef",
   "metadata": {},
   "outputs": [],
   "source": []
  }
 ],
 "metadata": {
  "kernelspec": {
   "display_name": "Python 3 (ipykernel)",
   "language": "python",
   "name": "python3"
  },
  "language_info": {
   "codemirror_mode": {
    "name": "ipython",
    "version": 3
   },
   "file_extension": ".py",
   "mimetype": "text/x-python",
   "name": "python",
   "nbconvert_exporter": "python",
   "pygments_lexer": "ipython3",
   "version": "3.9.12"
  }
 },
 "nbformat": 4,
 "nbformat_minor": 5
}
