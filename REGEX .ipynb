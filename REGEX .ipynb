{
 "cells": [
  {
   "cell_type": "markdown",
   "id": "d085314b",
   "metadata": {},
   "source": [
    "REGEX EXPRESSION (REGEX) IN PYTHON"
   ]
  },
  {
   "cell_type": "markdown",
   "id": "4ee3d87c",
   "metadata": {},
   "source": [
    "### using the re Module"
   ]
  },
  {
   "cell_type": "markdown",
   "id": "8bf26fc3",
   "metadata": {},
   "source": [
    "The functionality for using regular expressions in python is included in the \"re\" package\n",
    ",which you should be able to import\n"
   ]
  },
  {
   "cell_type": "code",
   "execution_count": 1,
   "id": "34fc2600",
   "metadata": {},
   "outputs": [],
   "source": [
    "import re"
   ]
  },
  {
   "cell_type": "markdown",
   "id": "00728838",
   "metadata": {},
   "source": [
    "lets do a quick example of using the search method in the remoduleto find some text:"
   ]
  },
  {
   "cell_type": "code",
   "execution_count": 2,
   "id": "787550dd",
   "metadata": {},
   "outputs": [],
   "source": [
    "s = \"In principio erat verbum,et verbum erat apud Deum.\""
   ]
  },
  {
   "cell_type": "markdown",
   "id": "da698cbf",
   "metadata": {},
   "source": [
    "the next thing we define is the actual expression which we will use, or the string that we will use to search the sentence we defined  above. we pass this string to the 'compile'() function in the `re` package,"
   ]
  },
  {
   "cell_type": "code",
   "execution_count": 3,
   "id": "be8606f5",
   "metadata": {},
   "outputs": [],
   "source": [
    "pattern = re.compile(r\"verbum\")"
   ]
  },
  {
   "cell_type": "markdown",
   "id": "bc317ea0",
   "metadata": {},
   "source": [
    "next, we call the sub() function from the re package on this pattern,\n",
    "inorder to replace(or \"substitute\") our pattern. with another word,like this:"
   ]
  },
  {
   "cell_type": "code",
   "execution_count": 4,
   "id": "8af22f98",
   "metadata": {},
   "outputs": [
    {
     "name": "stdout",
     "output_type": "stream",
     "text": [
      "In principio erat XXX,et XXX erat apud Deum.\n"
     ]
    }
   ],
   "source": [
    "text = pattern.sub(\"XXX\",s)\n",
    "print(text)"
   ]
  },
  {
   "cell_type": "markdown",
   "id": "59f93975",
   "metadata": {},
   "source": [
    "in principio erat XXX, et XXX erat apud Deum."
   ]
  },
  {
   "cell_type": "markdown",
   "id": "1678feae",
   "metadata": {},
   "source": [
    "note the order of the arguements passed to sub():first,\n",
    "    the word we would like to replace(or \"substitute\") our pattern with,and secxondly our original string.we can just as easily get back to our original string:"
   ]
  },
  {
   "cell_type": "code",
   "execution_count": 5,
   "id": "8e489765",
   "metadata": {},
   "outputs": [
    {
     "name": "stdout",
     "output_type": "stream",
     "text": [
      "In principio erat verbum,et verbum erat apud Deum.\n"
     ]
    }
   ],
   "source": [
    "pattern2 = re.compile(r\"XXX\")\n",
    "text = pattern2.sub(\"verbum\",s)\n",
    "print(text)"
   ]
  },
  {
   "cell_type": "markdown",
   "id": "f32345c3",
   "metadata": {},
   "source": [
    "### example 2\n",
    "replace all vowels in a string with regular expressions:"
   ]
  },
  {
   "cell_type": "code",
   "execution_count": 6,
   "id": "b0ccee32",
   "metadata": {},
   "outputs": [
    {
     "name": "stdout",
     "output_type": "stream",
     "text": [
      "In prXncXpXX XrXt vXrbXm,Xt vXrbXm XrXt XpXd DXXm.\n"
     ]
    }
   ],
   "source": [
    "vowel_pattern= re.compile(r\"a|e|o|u|i\")\n",
    "without_vowels = vowel_pattern.sub(\"X\",s)\n",
    "print(without_vowels)"
   ]
  },
  {
   "cell_type": "markdown",
   "id": "bd79cc66",
   "metadata": {},
   "source": [
    "note how our pattern allows for a special syntax:the pipe `|` symbol which we used to express\n",
    "that one character OR another one is fine for the regular expression to match."
   ]
  },
  {
   "cell_type": "markdown",
   "id": "a4d68e86",
   "metadata": {},
   "source": [
    "### example3\n",
    "from the answer we got in example2, we can notice that the capital letter\"I\" at the beginning of the sentence hasnt been replaced because we only included lowercase vowels in our pattern definition. lets add the uppercase vowels to the regex:\n",
    "\n"
   ]
  },
  {
   "cell_type": "code",
   "execution_count": 8,
   "id": "c1ac3200",
   "metadata": {},
   "outputs": [
    {
     "name": "stdout",
     "output_type": "stream",
     "text": [
      "Xn prXncXpXX XrXt vXrbXm,Xt vXrbXm XrXt XpXd DXXm.\n"
     ]
    }
   ],
   "source": [
    "vowel_pattern = re.compile(r\"a|A|e|E|o|O|u|U|i|I\")\n",
    "without_vowels = vowel_pattern.sub(\"X\",s)\n",
    "print(without_vowels)"
   ]
  },
  {
   "cell_type": "markdown",
   "id": "44c25404",
   "metadata": {},
   "source": [
    "there is a better way to match all lower case and uppercase characters in a string ,\n",
    "like this"
   ]
  },
  {
   "cell_type": "code",
   "execution_count": 10,
   "id": "e2f08b83",
   "metadata": {},
   "outputs": [
    {
     "name": "stdout",
     "output_type": "stream",
     "text": [
      "Xn principio erat verbum,et verbum erat apud Xeum.\n",
      "IX XXXXXXXXX XXXX XXXXXX,XX XXXXXX XXXX XXXX DXXX.\n"
     ]
    }
   ],
   "source": [
    "ups = re.compile(r\"[A-Z]\")\n",
    "lows= re.compile(r\"[a-z]\")\n",
    "\n",
    "without_ups = ups.sub(\"X\",s)\n",
    "print(without_ups)\n",
    "\n",
    "without_lows = lows.sub(\"X\",s)\n",
    "print(without_lows)"
   ]
  },
  {
   "cell_type": "markdown",
   "id": "a7294acf",
   "metadata": {},
   "source": [
    "these specific patterns are called \"ranges\". they will match any lowercase or upper case letter. infact ,you can use such a range syntax using squared brackets, to replace the pipe syntax we used earlier"
   ]
  },
  {
   "cell_type": "code",
   "execution_count": 11,
   "id": "ae9e48ca",
   "metadata": {},
   "outputs": [
    {
     "name": "stdout",
     "output_type": "stream",
     "text": [
      "In prXncXpXX XrXt vXrbXm,Xt vXrbXm XrXt XpXd DXXm.\n"
     ]
    }
   ],
   "source": [
    "vowel_pattern = re.compile(r\"[aeoui]\")\n",
    "without_vowels = vowel_pattern.sub(\"X\",s)\n",
    "print(without_vowels)"
   ]
  },
  {
   "cell_type": "markdown",
   "id": "fabf5e63",
   "metadata": {},
   "source": [
    "you can also look for more specific ,as well as longer letter groups by arranging them\n",
    "with round brackets:"
   ]
  },
  {
   "cell_type": "code",
   "execution_count": 12,
   "id": "0d95e68c",
   "metadata": {},
   "outputs": [
    {
     "name": "stdout",
     "output_type": "stream",
     "text": [
      "In prXncXpXX XrXt vXrbXm,Xt vXrbXm XrXt XpXd DXXm.\n"
     ]
    }
   ],
   "source": [
    "p = re.compile(r\"(ri)|(um)|(Th)\")\n",
    "print(vowel_pattern.sub(\"X\",s))"
   ]
  },
  {
   "cell_type": "markdown",
   "id": "37859db6",
   "metadata": {},
   "source": [
    "there is also a syntax to match any character (except the newline):"
   ]
  },
  {
   "cell_type": "code",
   "execution_count": 13,
   "id": "e0a00ca8",
   "metadata": {},
   "outputs": [
    {
     "name": "stdout",
     "output_type": "stream",
     "text": [
      "XXXXXXXXXXXXXXXXXXXXXXXXXXXXXXXXXXXXXXXXXXXXXXXXXX\n"
     ]
    }
   ],
   "source": [
    "any_char = re.compile(r\".\")\n",
    "print(any_char.sub(\"X\",s))"
   ]
  },
  {
   "cell_type": "markdown",
   "id": "bf967269",
   "metadata": {},
   "source": [
    "if you would like your expression to match the actual dot, youbhave to escape it using\n",
    "a backslash:"
   ]
  },
  {
   "cell_type": "code",
   "execution_count": 14,
   "id": "58e9e854",
   "metadata": {},
   "outputs": [
    {
     "name": "stdout",
     "output_type": "stream",
     "text": [
      "In principio erat verbum,et verbum erat apud DeumX\n"
     ]
    }
   ],
   "source": [
    "dot = re.compile(r\"\\.\")\n",
    "print(dot.sub(\"X\",s))"
   ]
  },
  {
   "cell_type": "code",
   "execution_count": 16,
   "id": "7487587e",
   "metadata": {},
   "outputs": [
    {
     "name": "stdout",
     "output_type": "stream",
     "text": [
      "In principio [erat] verbum,et verbum erat apud Deum.\n",
      "In principio XeratX verbum,et verbum erat apud Deum.\n"
     ]
    }
   ],
   "source": [
    "s= \"In principio [erat] verbum,et verbum erat apud Deum.\"\n",
    "\n",
    "brackets_wrong = re.compile(r\"[|]\")\n",
    "print(brackets_wrong.sub(\"X\",s))\n",
    "\n",
    "brackets_right = re.compile(r\"(\\[)|(\\])\")\n",
    "print(brackets_right.sub(\"X\",s))"
   ]
  },
  {
   "cell_type": "markdown",
   "id": "f7eade22",
   "metadata": {},
   "source": [
    "the syntax for regular expression includes a whole range of possiblities which we simply cannot all deal with here,because of that we will stick to a number of helpful examples.an \n",
    "interesting featureis that you can specify whether or not a character really has to occur \n",
    "you can check whether the pattern occurs ina string using the match() function which will return none if it  doesnt find the pattern in the string searched"
   ]
  },
  {
   "cell_type": "code",
   "execution_count": 19,
   "id": "4d3f17dc",
   "metadata": {},
   "outputs": [
    {
     "name": "stdout",
     "output_type": "stream",
     "text": [
      "None\n",
      "None\n",
      "<re.Match object; span=(0, 2), match='mm'>\n",
      "<re.Match object; span=(0, 3), match='mmm'>\n",
      "<re.Match object; span=(0, 4), match='mmmm'>\n",
      "<re.Match object; span=(0, 4), match='mmmm'>\n",
      "<re.Match object; span=(0, 4), match='mmmm'>\n",
      "<re.Match object; span=(0, 4), match='mmmm'>\n"
     ]
    }
   ],
   "source": [
    "pattern =re.compile(r\"m{2,4}\")\n",
    "print(pattern.match(\"\"))\n",
    "print(pattern.match(\"m\"))\n",
    "print(pattern.match(\"mm\"))  \n",
    "print(pattern.match(\"mmm\"))  \n",
    "print(pattern.match(\"mmmm\"))  \n",
    "print(pattern.match(\"mmmmm\"))  \n",
    "print(pattern.match(\"mmmmmm\"))  \n",
    "print(pattern.match(\"mmmmammm\"))  \n",
    "                                                                                                                                                                          "
   ]
  },
  {
   "cell_type": "code",
   "execution_count": 22,
   "id": "d22df0bd",
   "metadata": {},
   "outputs": [
    {
     "name": "stdout",
     "output_type": "stream",
     "text": [
      "searching for term1 in:\n",
      "\" this is a string with term1, but it does not have the other term.\"\n",
      "\n",
      "\n",
      "match was found. \n",
      "\n",
      "searching for term2 in:\n",
      "\" this is a string with term1, but it does not have the other term.\"\n",
      "\n",
      "\n",
      "No Match was found.\n",
      "\n"
     ]
    }
   ],
   "source": [
    "#list of patterns to search for\n",
    "patterns = ['term1','term2']\n",
    "#text to parse\n",
    "text= \" this is a string with term1, but it does not have the other term.\"\n",
    "\n",
    "for pattern in patterns:\n",
    "    print(f'searching for {pattern} in:\\n\"{text}\"'),\n",
    "    \n",
    "    #check for match\n",
    "    if re.search(pattern,text):\n",
    "        print('\\n')\n",
    "        print(\"match was found. \\n\")\n",
    "        \n",
    "    else:\n",
    "        print('\\n')\n",
    "        print(\"No Match was found.\\n\")\n",
    "    "
   ]
  },
  {
   "cell_type": "markdown",
   "id": "ec70ca0c",
   "metadata": {},
   "source": [
    "now we have seen that re.search() will take the pattern ,scan the text , and then returns \n",
    "a MATCH object. if no pattern is found, a None is returned. \n",
    "To give a clearer picture of this match object,check out the cell below\n"
   ]
  },
  {
   "cell_type": "code",
   "execution_count": 23,
   "id": "976d821c",
   "metadata": {},
   "outputs": [
    {
     "data": {
      "text/plain": [
       "re.Match"
      ]
     },
     "execution_count": 23,
     "metadata": {},
     "output_type": "execute_result"
    }
   ],
   "source": [
    "#list of patterns to search for\n",
    "pattern = \"term1\"\n",
    "#text to parse\n",
    "text = \"this is a string with term1, but it does not have the other term.\"\n",
    "match = re.search(pattern,text)\n",
    "type(match)"
   ]
  },
  {
   "cell_type": "markdown",
   "id": "8519411a",
   "metadata": {},
   "source": [
    "this match object returned by the search() method is more than just a boolean or none, it contains information about the match ,including the original input string,the regular expression that was used  and the location of the match . lets see the methoid we can use on the match object:"
   ]
  },
  {
   "cell_type": "code",
   "execution_count": 24,
   "id": "b6734529",
   "metadata": {},
   "outputs": [
    {
     "data": {
      "text/plain": [
       "<re.Match object; span=(22, 27), match='term1'>"
      ]
     },
     "execution_count": 24,
     "metadata": {},
     "output_type": "execute_result"
    }
   ],
   "source": [
    "match"
   ]
  },
  {
   "cell_type": "code",
   "execution_count": 25,
   "id": "00a6f8c6",
   "metadata": {},
   "outputs": [
    {
     "data": {
      "text/plain": [
       "22"
      ]
     },
     "execution_count": 25,
     "metadata": {},
     "output_type": "execute_result"
    }
   ],
   "source": [
    "#show start of match \n",
    "match.start()"
   ]
  },
  {
   "cell_type": "code",
   "execution_count": 26,
   "id": "005bb737",
   "metadata": {},
   "outputs": [
    {
     "data": {
      "text/plain": [
       "27"
      ]
     },
     "execution_count": 26,
     "metadata": {},
     "output_type": "execute_result"
    }
   ],
   "source": [
    "#show end \n",
    "match.end()"
   ]
  },
  {
   "cell_type": "markdown",
   "id": "a0f9dbc2",
   "metadata": {},
   "source": [
    "### spliting with regular expressions\n",
    "\n",
    "let's see how we can split with the re syntax . this should look similar to how you used the \n",
    "split method with strings."
   ]
  },
  {
   "cell_type": "code",
   "execution_count": 27,
   "id": "faae49de",
   "metadata": {},
   "outputs": [
    {
     "data": {
      "text/plain": [
       "[' what is the domain name of someone with the email: hello', 'gmail.com']"
      ]
     },
     "execution_count": 27,
     "metadata": {},
     "output_type": "execute_result"
    }
   ],
   "source": [
    "# term to split on \n",
    "split_term = \"@\"\n",
    "\n",
    "phrase = \" what is the domain name of someone with the email: hello@gmail.com\"\n",
    "\n",
    "#split the phrase\n",
    "re.split(split_term,phrase)"
   ]
  },
  {
   "cell_type": "markdown",
   "id": "5c38b500",
   "metadata": {},
   "source": [
    "# finding all instances of a pattern \n",
    "you can use re.findall() to find all instances of a pattern in a string.for example:"
   ]
  },
  {
   "cell_type": "code",
   "execution_count": 28,
   "id": "67dddfd5",
   "metadata": {},
   "outputs": [
    {
     "data": {
      "text/plain": [
       "['match', 'match']"
      ]
     },
     "execution_count": 28,
     "metadata": {},
     "output_type": "execute_result"
    }
   ],
   "source": [
    "#returns a list of all matches\n",
    "re.findall(\"match\",\"test phrase match is in middle match\")"
   ]
  },
  {
   "cell_type": "markdown",
   "id": "8d89b61a",
   "metadata": {},
   "source": [
    "## pattern re syntax\n",
    "\n",
    "regular expressions support a huge variety of patterns than just simply finding where a single string occured.we can also use meta characters along with re to find specific types of patterns.\n",
    "since we will be testing multiple re syntax forms, lets create a function that will print out results given a list of various regular expressions and a phrae to parse"
   ]
  },
  {
   "cell_type": "code",
   "execution_count": 33,
   "id": "8ee59d37",
   "metadata": {},
   "outputs": [],
   "source": [
    "def multi_re_find(patterns,phrase):\n",
    "    \"\"\"\n",
    "    \n",
    "    takes in a list of regex patterns\n",
    "    prints a list of all matches\n",
    "    \"\"\"\n",
    "    for pattern in patterns:\n",
    "        print('searching the phrase using the re check: %r' %pattern)\n",
    "        print(re.findall(pattern,phrase))\n",
    "        print('\\n')"
   ]
  },
  {
   "cell_type": "markdown",
   "id": "0f76f217",
   "metadata": {},
   "source": [
    "## now we will see an example of each of these using our multi_re_find function"
   ]
  },
  {
   "cell_type": "code",
   "execution_count": 35,
   "id": "7e6ecf07",
   "metadata": {},
   "outputs": [
    {
     "name": "stdout",
     "output_type": "stream",
     "text": [
      "searching the phrase using the re check: 'sd*'\n",
      "['sd', 'sd', 's', 's', 'sddd', 'sddd', 'sddd', 'sd', 's', 's', 's', 's', 's', 's', 'sdddd']\n",
      "\n",
      "\n",
      "searching the phrase using the re check: 'sd+'\n",
      "['sd', 'sd', 'sddd', 'sddd', 'sddd', 'sd', 'sdddd']\n",
      "\n",
      "\n",
      "searching the phrase using the re check: 'sd?'\n",
      "['sd', 'sd', 's', 's', 'sd', 'sd', 'sd', 'sd', 's', 's', 's', 's', 's', 's', 'sd']\n",
      "\n",
      "\n",
      "searching the phrase using the re check: 'sd{3}'\n",
      "['sddd', 'sddd', 'sddd', 'sddd']\n",
      "\n",
      "\n",
      "searching the phrase using the re check: 'sd{2,3}'\n",
      "['sddd', 'sddd', 'sddd', 'sddd']\n",
      "\n",
      "\n"
     ]
    }
   ],
   "source": [
    "test_phrase = \"sdsd..sssddd...sdddsddd...dsds...dsssss...sdddd\"\n",
    "\n",
    "test_patterns = [ \"sd*\",   #s ffd by zero or more ds\n",
    "                 \"sd+\",   #s ffd by one or more ds\n",
    "                 \"sd?\",    \n",
    "                 \"sd{3}\",\n",
    "                 \"sd{2,3}\",\n",
    "                ]\n",
    "multi_re_find(test_patterns,test_phrase)"
   ]
  },
  {
   "cell_type": "markdown",
   "id": "66b85328",
   "metadata": {},
   "source": [
    "## character sets\n",
    "they are used when u want to match any one of a group of characters at a point in the input .brackets are used to construct set inputs.eg the input [ab] searches for occurrences of either a or b. lets see some e.gs"
   ]
  },
  {
   "cell_type": "code",
   "execution_count": 36,
   "id": "b478495b",
   "metadata": {},
   "outputs": [
    {
     "name": "stdout",
     "output_type": "stream",
     "text": [
      "searching the phrase using the re check: '[sd]'\n",
      "['s', 'd', 's', 'd', 's', 's', 's', 'd', 'd', 'd', 's', 'd', 'd', 'd', 's', 'd', 'd', 'd', 'd', 's', 'd', 's', 'd', 's', 's', 's', 's', 's', 's', 'd', 'd', 'd', 'd']\n",
      "\n",
      "\n",
      "searching the phrase using the re check: 's[sd]+'\n",
      "['sdsd', 'sssddd', 'sdddsddd', 'sds', 'sssss', 'sdddd']\n",
      "\n",
      "\n"
     ]
    }
   ],
   "source": [
    "test_phrase = 'sdsd..sssddd...sdddsddd...dsds...dsssss...sdddd'\n",
    "\n",
    "test_patterns = [ '[sd]', #either s or d\n",
    "              's[sd]+'] #s followed by one or more s or d\n",
    "\n",
    "multi_re_find(test_patterns,test_phrase)\n",
    "    "
   ]
  },
  {
   "cell_type": "markdown",
   "id": "72c45f9e",
   "metadata": {},
   "source": [
    "`it makes sense that the first[sd] returns every instance .also the second input will just return anything starting with an sin this particular case of the test phrase input`"
   ]
  },
  {
   "cell_type": "markdown",
   "id": "5ec8abc3",
   "metadata": {},
   "source": [
    "## EXCLUSION\n",
    "\n",
    "WE can use ^ to exclude terms by incorporating it into the bracket syntax notation. for example:[^...] will match any single character not in d brackets.e.g"
   ]
  },
  {
   "cell_type": "code",
   "execution_count": 37,
   "id": "3d626cbf",
   "metadata": {},
   "outputs": [],
   "source": [
    "test_phrase = \"this is a string! but it has punctuation. how do i remove it?\""
   ]
  },
  {
   "cell_type": "markdown",
   "id": "71382f4b",
   "metadata": {},
   "source": [
    "use[^!.?] to check for matches that are not a!.,.,?, or space. add the + to check\n",
    " that the match appears at least once , this basically translates into finding the words\n"
   ]
  },
  {
   "cell_type": "code",
   "execution_count": 40,
   "id": "e3f8057d",
   "metadata": {},
   "outputs": [
    {
     "data": {
      "text/plain": [
       "['this',\n",
       " 'is',\n",
       " 'a',\n",
       " 'string',\n",
       " 'but',\n",
       " 'it',\n",
       " 'has',\n",
       " 'punctuation',\n",
       " 'how',\n",
       " 'do',\n",
       " 'i',\n",
       " 'remove',\n",
       " 'it']"
      ]
     },
     "execution_count": 40,
     "metadata": {},
     "output_type": "execute_result"
    }
   ],
   "source": [
    "re.findall('[^!.? ]+' , test_phrase)"
   ]
  },
  {
   "cell_type": "code",
   "execution_count": 41,
   "id": "0e992806",
   "metadata": {},
   "outputs": [
    {
     "name": "stdout",
     "output_type": "stream",
     "text": [
      "searching the phrase using the re check: '[a-z]+'\n",
      "['this', 'is', 'an', 'example', 'sentence', 'lets', 'see', 'if', 'we', 'can', 'find', 'some', 'letters']\n",
      "\n",
      "\n",
      "searching the phrase using the re check: '[A-Z]+'\n",
      "[]\n",
      "\n",
      "\n",
      "searching the phrase using the re check: '[a-zA-Z]+'\n",
      "['this', 'is', 'an', 'example', 'sentence', 'lets', 'see', 'if', 'we', 'can', 'find', 'some', 'letters']\n",
      "\n",
      "\n",
      "searching the phrase using the re check: '[A-Z][a-z]+'\n",
      "[]\n",
      "\n",
      "\n"
     ]
    }
   ],
   "source": [
    "test_phrase = 'this is an example sentence. lets see if we can find some letters'\n",
    "\n",
    "test_patterns = [ '[a-z]+', #sequences of lower case letters\n",
    "                  '[A-Z]+',  #sequences of upper case letters\n",
    "                  '[a-zA-Z]+',   #sequences of lower or upper case letters\n",
    "                  '[A-Z][a-z]+'] #one upper case letter followed by lower case letters\n",
    "\n",
    "multi_re_find(test_patterns,test_phrase)"
   ]
  },
  {
   "cell_type": "code",
   "execution_count": 44,
   "id": "e12a3770",
   "metadata": {},
   "outputs": [
    {
     "name": "stdout",
     "output_type": "stream",
     "text": [
      "searching the phrase using the re check: '\\\\d+'\n",
      "['1233']\n",
      "\n",
      "\n",
      "searching the phrase using the re check: '\\\\D+'\n",
      "['this is a string with some numbers ', ' and a symbol #hashtag']\n",
      "\n",
      "\n",
      "searching the phrase using the re check: '\\\\s+'\n",
      "[' ', ' ', ' ', ' ', ' ', ' ', ' ', ' ', ' ', ' ', ' ']\n",
      "\n",
      "\n",
      "searching the phrase using the re check: '\\\\S+'\n",
      "['this', 'is', 'a', 'string', 'with', 'some', 'numbers', '1233', 'and', 'a', 'symbol', '#hashtag']\n",
      "\n",
      "\n",
      "searching the phrase using the re check: '\\\\w+'\n",
      "['this', 'is', 'a', 'string', 'with', 'some', 'numbers', '1233', 'and', 'a', 'symbol', 'hashtag']\n",
      "\n",
      "\n",
      "searching the phrase using the re check: '\\\\W+'\n",
      "[' ', ' ', ' ', ' ', ' ', ' ', ' ', ' ', ' ', ' ', ' #']\n",
      "\n",
      "\n"
     ]
    }
   ],
   "source": [
    "test_phrase = 'this is a string with some numbers 1233 and a symbol #hashtag'\n",
    "\n",
    "test_patterns = [r'\\d+', #sequence of digits\n",
    "                 r'\\D+', #sequence of non digits\n",
    "                 r'\\s+', #sequence of white space\n",
    "                 r'\\S+', #sequence of non white space\n",
    "                 r'\\w+', #alphanumeric characters\n",
    "                 r'\\W+', #non_alphanumeric\n",
    "                 ]\n",
    "multi_re_find(test_patterns,test_phrase)"
   ]
  },
  {
   "cell_type": "markdown",
   "id": "42776d02",
   "metadata": {},
   "source": [
    "you should learn how to use `Regex module` .learn moretake a look at the full documentation .go to python website to get the documentation"
   ]
  },
  {
   "cell_type": "code",
   "execution_count": null,
   "id": "a06c86e7",
   "metadata": {},
   "outputs": [],
   "source": []
  }
 ],
 "metadata": {
  "kernelspec": {
   "display_name": "Python 3 (ipykernel)",
   "language": "python",
   "name": "python3"
  },
  "language_info": {
   "codemirror_mode": {
    "name": "ipython",
    "version": 3
   },
   "file_extension": ".py",
   "mimetype": "text/x-python",
   "name": "python",
   "nbconvert_exporter": "python",
   "pygments_lexer": "ipython3",
   "version": "3.9.12"
  }
 },
 "nbformat": 4,
 "nbformat_minor": 5
}
